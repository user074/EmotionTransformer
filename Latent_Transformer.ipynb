{
  "cells": [
    {
      "attachments": {},
      "cell_type": "markdown",
      "metadata": {},
      "source": [
        "<a href=\"https://colab.research.google.com/github/user074/EmotionTransformer/blob/main/Latent_Transformer.ipynb\">\n",
        "  <img src=\"https://colab.research.google.com/assets/colab-badge.svg\" alt=\"Open In Colab\"/>\n",
        "</a>"
      ]
    },
    {
      "cell_type": "code",
      "execution_count": null,
      "metadata": {
        "id": "j1NXDvX8Ctco"
      },
      "outputs": [],
      "source": [
        "# # First, authenticate your Google Drive account\n",
        "# from google.colab import drive\n",
        "# drive.mount('/content/drive')"
      ]
    },
    {
      "cell_type": "code",
      "execution_count": null,
      "metadata": {},
      "outputs": [],
      "source": [
        "import matplotlib.pyplot as plt\n",
        "from PIL import Image\n",
        "import numpy as np\n",
        "import sys\n",
        "import torch"
      ]
    },
    {
      "attachments": {},
      "cell_type": "markdown",
      "metadata": {
        "id": "yrIM0yVvAMeh"
      },
      "source": [
        "# Clone the Repo and load the model checkpoiont"
      ]
    },
    {
      "cell_type": "code",
      "execution_count": null,
      "metadata": {
        "colab": {
          "base_uri": "https://localhost:8080/"
        },
        "id": "2MfXvniLALvo",
        "outputId": "ce318a74-f81b-433b-d5fe-e61eab95c429"
      },
      "outputs": [
        {
          "name": "stdout",
          "output_type": "stream",
          "text": [
            "Cloning into 'taming-transformers'...\n",
            "remote: Enumerating objects: 1339, done.\u001b[K\n",
            "remote: Total 1339 (delta 0), reused 0 (delta 0), pack-reused 1339\u001b[K\n",
            "Receiving objects: 100% (1339/1339), 409.77 MiB | 71.67 MiB/s, done.\n",
            "Resolving deltas: 100% (281/281), done.\n",
            "/content/taming-transformers\n"
          ]
        }
      ],
      "source": [
        "!git clone https://github.com/CompVis/taming-transformers\n",
        "%cd taming-transformers"
      ]
    },
    {
      "cell_type": "code",
      "execution_count": null,
      "metadata": {
        "id": "glxFpW6VIafU"
      },
      "outputs": [],
      "source": [
        "!mkdir logs"
      ]
    },
    {
      "cell_type": "code",
      "execution_count": null,
      "metadata": {
        "id": "uWHPL0NjXsWi"
      },
      "outputs": [],
      "source": [
        "# !cp '/content/drive/MyDrive/Colab Notebooks/LatentTransformer/2020-11-13T21-41-45_faceshq_transformer.zip' /content/taming-transformers/logs\n",
        "# !unzip /content/taming-transformers/logs/2020-11-13T21-41-45_faceshq_transformer.zip -d /content/taming-transformers/logs/"
      ]
    },
    {
      "cell_type": "code",
      "execution_count": null,
      "metadata": {
        "colab": {
          "base_uri": "https://localhost:8080/"
        },
        "id": "HyOPUOVYhX58",
        "outputId": "fdc5bf4d-61af-4b92-8445-8fadc8fc6c2b"
      },
      "outputs": [
        {
          "name": "stdout",
          "output_type": "stream",
          "text": [
            "Archive:  /content/taming-transformers/logs/2020-11-09T13-33-36_faceshq_vqgan.zip\n",
            "   creating: /content/taming-transformers/logs/2020-11-09T13-33-36_faceshq_vqgan/\n",
            "   creating: /content/taming-transformers/logs/2020-11-09T13-33-36_faceshq_vqgan/checkpoints/\n",
            " extracting: /content/taming-transformers/logs/2020-11-09T13-33-36_faceshq_vqgan/checkpoints/last.ckpt  \n",
            "   creating: /content/taming-transformers/logs/2020-11-09T13-33-36_faceshq_vqgan/configs/\n",
            " extracting: /content/taming-transformers/logs/2020-11-09T13-33-36_faceshq_vqgan/configs/2020-11-09T13-33-36-lightning.yaml  \n",
            " extracting: /content/taming-transformers/logs/2020-11-09T13-33-36_faceshq_vqgan/configs/2020-11-09T13-33-36-project.yaml  \n"
          ]
        }
      ],
      "source": [
        "!cp '/content/drive/MyDrive/Colab Notebooks/LatentTransformer/2020-11-09T13-33-36_faceshq_vqgan.zip' /content/taming-transformers/logs\n",
        "!unzip /content/taming-transformers/logs/2020-11-09T13-33-36_faceshq_vqgan.zip -d /content/taming-transformers/logs/"
      ]
    },
    {
      "cell_type": "code",
      "execution_count": null,
      "metadata": {
        "id": "qE4yA7oUfRVB"
      },
      "outputs": [],
      "source": [
        "# !mkdir -p logs/2020-11-09T13-31-51_sflckr/checkpoints\n",
        "# !wget 'https://heibox.uni-heidelberg.de/d/73487ab6e5314cb5adba/files/?p=%2Fcheckpoints%2Flast.ckpt&dl=1' -O 'logs/2020-11-09T13-31-51_sflckr/checkpoints/last.ckpt'\n",
        "# !mkdir logs/2020-11-09T13-31-51_sflckr/configs\n",
        "# !wget 'https://heibox.uni-heidelberg.de/d/73487ab6e5314cb5adba/files/?p=%2Fconfigs%2F2020-11-09T13-31-51-project.yaml&dl=1' -O 'logs/2020-11-09T13-31-51_sflckr/configs/2020-11-09T13-31-51-project.yaml'"
      ]
    },
    {
      "cell_type": "code",
      "execution_count": null,
      "metadata": {
        "id": "jqdOcXC_IY6J"
      },
      "outputs": [],
      "source": [
        "%%capture\n",
        "%pip install omegaconf>=2.0.0 pytorch-lightning>=1.0.8 einops>=0.3.0\n",
        "sys.path.append(\".\")\n",
        "\n",
        "# also disable grad to save memory\n",
        "torch.set_grad_enabled(False)\n",
        "\n",
        "DEVICE = torch.device(\"cuda:0\" if torch.cuda.is_available() else \"cpu\")"
      ]
    },
    {
      "cell_type": "code",
      "execution_count": null,
      "metadata": {
        "id": "enUZI2pwCqoq"
      },
      "outputs": [],
      "source": [
        "!mkdir output"
      ]
    },
    {
      "cell_type": "code",
      "execution_count": null,
      "metadata": {
        "id": "E1YchRqXHWKn"
      },
      "outputs": [],
      "source": [
        "# !python scripts/make_samples.py --outdir output -r logs/2020-11-13T21-41-45_faceshq_transformer/\n"
      ]
    },
    {
      "cell_type": "code",
      "execution_count": null,
      "metadata": {
        "colab": {
          "base_uri": "https://localhost:8080/"
        },
        "id": "a7LGfSN-oSPG",
        "outputId": "34a40e2d-a2c9-4feb-ba2e-8b1e2a4fa5a8"
      },
      "outputs": [
        {
          "name": "stdout",
          "output_type": "stream",
          "text": [
            "--2023-03-03 17:03:27--  https://heibox.uni-heidelberg.de/f/140747ba53464f49b476/?dl=1\n",
            "Resolving heibox.uni-heidelberg.de (heibox.uni-heidelberg.de)... 129.206.7.113\n",
            "Connecting to heibox.uni-heidelberg.de (heibox.uni-heidelberg.de)|129.206.7.113|:443... connected.\n",
            "HTTP request sent, awaiting response... 302 Found\n",
            "Location: https://heibox.uni-heidelberg.de/seafhttp/files/c3c82e95-0b97-4706-a1df-7a9e3ea2635e/last.ckpt [following]\n",
            "--2023-03-03 17:03:27--  https://heibox.uni-heidelberg.de/seafhttp/files/c3c82e95-0b97-4706-a1df-7a9e3ea2635e/last.ckpt\n",
            "Reusing existing connection to heibox.uni-heidelberg.de:443.\n",
            "HTTP request sent, awaiting response... 200 OK\n",
            "Length: 957954257 (914M) [application/octet-stream]\n",
            "Saving to: ‘logs/vqgan_imagenet_f16_1024/checkpoints/last.ckpt’\n",
            "\n",
            "logs/vqgan_imagenet 100%[===================>] 913.58M  10.1MB/s    in 93s     \n",
            "\n",
            "2023-03-03 17:05:01 (9.78 MB/s) - ‘logs/vqgan_imagenet_f16_1024/checkpoints/last.ckpt’ saved [957954257/957954257]\n",
            "\n",
            "--2023-03-03 17:05:01--  https://heibox.uni-heidelberg.de/f/6ecf2af6c658432c8298/?dl=1\n",
            "Resolving heibox.uni-heidelberg.de (heibox.uni-heidelberg.de)... 129.206.7.113\n",
            "Connecting to heibox.uni-heidelberg.de (heibox.uni-heidelberg.de)|129.206.7.113|:443... connected.\n",
            "HTTP request sent, awaiting response... 302 Found\n",
            "Location: https://heibox.uni-heidelberg.de/seafhttp/files/77cccd65-4a95-42ec-9fe3-0af505a4f2f1/model.yaml [following]\n",
            "--2023-03-03 17:05:02--  https://heibox.uni-heidelberg.de/seafhttp/files/77cccd65-4a95-42ec-9fe3-0af505a4f2f1/model.yaml\n",
            "Reusing existing connection to heibox.uni-heidelberg.de:443.\n",
            "HTTP request sent, awaiting response... 200 OK\n",
            "Length: 645 [application/octet-stream]\n",
            "Saving to: ‘logs/vqgan_imagenet_f16_1024/configs/model.yaml’\n",
            "\n",
            "logs/vqgan_imagenet 100%[===================>]     645  --.-KB/s    in 0.03s   \n",
            "\n",
            "2023-03-03 17:05:02 (23.4 KB/s) - ‘logs/vqgan_imagenet_f16_1024/configs/model.yaml’ saved [645/645]\n",
            "\n"
          ]
        }
      ],
      "source": [
        "# # download a VQGAN with f=16 (16x compression per spatial dimension) and with a codebook with 1024 entries\n",
        "!mkdir -p logs/vqgan_imagenet_f16_1024/checkpoints\n",
        "!mkdir -p logs/vqgan_imagenet_f16_1024/configs\n",
        "!wget 'https://heibox.uni-heidelberg.de/f/140747ba53464f49b476/?dl=1' -O 'logs/vqgan_imagenet_f16_1024/checkpoints/last.ckpt' \n",
        "!wget 'https://heibox.uni-heidelberg.de/f/6ecf2af6c658432c8298/?dl=1' -O 'logs/vqgan_imagenet_f16_1024/configs/model.yaml' \n",
        "\n",
        "# # download a VQGAN with f=16 (16x compression per spatial dimension) and with a larger codebook (16384 entries)\n",
        "# !mkdir -p logs/vqgan_imagenet_f16_16384/checkpoints\n",
        "# !mkdir -p logs/vqgan_imagenet_f16_16384/configs\n",
        "# !wget 'https://heibox.uni-heidelberg.de/f/867b05fc8c4841768640/?dl=1' -O 'logs/vqgan_imagenet_f16_16384/checkpoints/last.ckpt' \n",
        "# !wget 'https://heibox.uni-heidelberg.de/f/274fb24ed38341bfa753/?dl=1' -O 'logs/vqgan_imagenet_f16_16384/configs/model.yaml' \n",
        "\n",
        "# download a VQGAN with f=8 (8x compression per spatial dimension) and a larger codebook-size with 8192 entries\n",
        "# !mkdir -p logs/vqgan_gumbel_f8/checkpoints\n",
        "# !mkdir -p logs/vqgan_gumbel_f8/configs\n",
        "# !wget 'https://heibox.uni-heidelberg.de/f/34a747d5765840b5a99d/?dl=1' -O 'logs/vqgan_gumbel_f8/checkpoints/last.ckpt' \n",
        "# !wget 'https://heibox.uni-heidelberg.de/f/b24d14998a8d4f19a34f/?dl=1' -O 'logs/vqgan_gumbel_f8/configs/model.yaml' "
      ]
    },
    {
      "attachments": {},
      "cell_type": "markdown",
      "metadata": {
        "id": "OWFn8FumiqyM"
      },
      "source": [
        "# Utility Functions from VQGAN"
      ]
    },
    {
      "cell_type": "code",
      "execution_count": null,
      "metadata": {
        "id": "Mw3nem4Xit9i"
      },
      "outputs": [],
      "source": [
        "import yaml\n",
        "import torch\n",
        "from omegaconf import OmegaConf\n",
        "from taming.models.vqgan import VQModel, GumbelVQ\n",
        "\n",
        "def load_config(config_path, display=False):\n",
        "  config = OmegaConf.load(config_path)\n",
        "  if display:\n",
        "    print(yaml.dump(OmegaConf.to_container(config)))\n",
        "  return config\n",
        "\n",
        "def load_vqgan(config, ckpt_path=None, is_gumbel=False):\n",
        "  if is_gumbel:\n",
        "    model = GumbelVQ(**config.model.params)\n",
        "  else:\n",
        "    model = VQModel(**config.model.params)\n",
        "  if ckpt_path is not None:\n",
        "    sd = torch.load(ckpt_path, map_location=\"cpu\")[\"state_dict\"]\n",
        "    missing, unexpected = model.load_state_dict(sd, strict=False)\n",
        "  return model.eval()\n",
        "\n",
        "def preprocess_vqgan(x):\n",
        "  x = 2.*x - 1.\n",
        "  return x\n",
        "\n",
        "def custom_to_pil(x):\n",
        "  x = x.detach().cpu()\n",
        "  x = torch.clamp(x, -1., 1.)\n",
        "  x = (x + 1.)/2.\n",
        "  x = x.permute(1,2,0).numpy()\n",
        "  x = (255*x).astype(np.uint8)\n",
        "  x = Image.fromarray(x)\n",
        "  if not x.mode == \"RGB\":\n",
        "    x = x.convert(\"RGB\")\n",
        "  return x\n",
        "\n",
        "def reconstruct_with_vqgan(x, model):\n",
        "  # could also use model(x) for reconstruction but use explicit encoding and decoding here\n",
        "  z, _, [_, _, indices] = model.encode(x)\n",
        "  print(f\"VQGAN --- {model.__class__.__name__}: latent shape: {z.shape[2:]}\")\n",
        "  xrec = model.decode(z)\n",
        "  return xrec"
      ]
    },
    {
      "cell_type": "code",
      "execution_count": null,
      "metadata": {
        "id": "tVuqVlytAHL0"
      },
      "outputs": [],
      "source": []
    },
    {
      "attachments": {},
      "cell_type": "markdown",
      "metadata": {
        "id": "NVYoccehnZtf"
      },
      "source": [
        "# Load VQGAN"
      ]
    },
    {
      "cell_type": "code",
      "execution_count": null,
      "metadata": {
        "colab": {
          "base_uri": "https://localhost:8080/"
        },
        "id": "W2oY9Wudnbhf",
        "outputId": "16981af0-d948-443a-d7d4-6057c18ed9a5"
      },
      "outputs": [
        {
          "name": "stdout",
          "output_type": "stream",
          "text": [
            "Working with z of shape (1, 256, 16, 16) = 65536 dimensions.\n"
          ]
        },
        {
          "name": "stderr",
          "output_type": "stream",
          "text": [
            "/usr/local/lib/python3.8/dist-packages/torchvision/models/_utils.py:208: UserWarning: The parameter 'pretrained' is deprecated since 0.13 and may be removed in the future, please use 'weights' instead.\n",
            "  warnings.warn(\n",
            "/usr/local/lib/python3.8/dist-packages/torchvision/models/_utils.py:223: UserWarning: Arguments other than a weight enum or `None` for 'weights' are deprecated since 0.13 and may be removed in the future. The current behavior is equivalent to passing `weights=VGG16_Weights.IMAGENET1K_V1`. You can also use `weights=VGG16_Weights.DEFAULT` to get the most up-to-date weights.\n",
            "  warnings.warn(msg)\n"
          ]
        },
        {
          "name": "stdout",
          "output_type": "stream",
          "text": [
            "loaded pretrained LPIPS loss from taming/modules/autoencoder/lpips/vgg.pth\n",
            "VQLPIPSWithDiscriminator running with hinge loss.\n"
          ]
        }
      ],
      "source": [
        "config1024 = load_config(\"logs/vqgan_imagenet_f16_1024/configs/model.yaml\", display=False)\n",
        "# config16384 = load_config(\"logs/vqgan_imagenet_f16_16384/configs/model.yaml\", display=False)\n",
        "\n",
        "model1024 = load_vqgan(config1024, ckpt_path=\"logs/vqgan_imagenet_f16_1024/checkpoints/last.ckpt\").to(DEVICE)\n",
        "# model16384 = load_vqgan(config16384, ckpt_path=\"logs/vqgan_imagenet_f16_16384/checkpoints/last.ckpt\").to(DEVICE)"
      ]
    },
    {
      "cell_type": "markdown",
      "metadata": {
        "id": "N1AEUK7RnefN"
      },
      "source": [
        "Reduce Image size with this"
      ]
    },
    {
      "cell_type": "code",
      "execution_count": null,
      "metadata": {
        "colab": {
          "base_uri": "https://localhost:8080/"
        },
        "id": "7OpUCZvRngNP",
        "outputId": "d15f3aac-a00c-4f74-92ba-61e3f3fd91e2"
      },
      "outputs": [
        {
          "name": "stdout",
          "output_type": "stream",
          "text": [
            "Working with z of shape (1, 256, 32, 32) = 262144 dimensions.\n"
          ]
        }
      ],
      "source": [
        "# config32x32 = load_config(\"logs/vqgan_gumbel_f8/configs/model.yaml\", display=False)\n",
        "# model32x32 = load_vqgan(config32x32, ckpt_path=\"logs/vqgan_gumbel_f8/checkpoints/last.ckpt\", is_gumbel=True).to(DEVICE)"
      ]
    },
    {
      "attachments": {},
      "cell_type": "markdown",
      "metadata": {
        "id": "eSirCOPbvREu"
      },
      "source": [
        "# Code showing image from the code book"
      ]
    },
    {
      "cell_type": "code",
      "execution_count": null,
      "metadata": {
        "colab": {
          "base_uri": "https://localhost:8080/",
          "height": 1000,
          "referenced_widgets": [
            "25e612f4a8554bdbaf1432e90bd18ba3",
            "304da304c0e2449c88382b0de763a0e4",
            "0b79d9111f044c3b9a36b838bd02e841",
            "8e86debf0867440aa6eafdbc49425f32",
            "ed7ba62327124592904cd8b0a67a695c",
            "f68c5a1ad9054ea7802fde6b48be19fb",
            "cc138e5047ff41f18e5d24968d11c161",
            "0d8e5d3b79ac456084b30ab7f47df150",
            "4d6fde7c47874a80a5b3e7f8dcaee8d2",
            "45cffba306784c05b9d8b946902239cf",
            "227a8779bfd64558a07932224fb605a2"
          ]
        },
        "id": "AWg6YEXJ_P2i",
        "outputId": "858d0e4b-be43-45c3-b3c5-80a9352079a3"
      },
      "outputs": [
        {
          "name": "stdout",
          "output_type": "stream",
          "text": [
            "data:\n",
            "  params:\n",
            "    batch_size: 3\n",
            "    num_workers: 8\n",
            "    train:\n",
            "      params:\n",
            "        crop_size: 256\n",
            "        size: 256\n",
            "      target: taming.data.faceshq.FacesHQTrain\n",
            "    validation:\n",
            "      params:\n",
            "        crop_size: 256\n",
            "        size: 256\n",
            "      target: taming.data.faceshq.FacesHQValidation\n",
            "  target: main.DataModuleFromConfig\n",
            "model:\n",
            "  base_learning_rate: 4.5e-06\n",
            "  params:\n",
            "    ddconfig:\n",
            "      attn_resolutions:\n",
            "      - 16\n",
            "      ch: 128\n",
            "      ch_mult:\n",
            "      - 1\n",
            "      - 1\n",
            "      - 2\n",
            "      - 2\n",
            "      - 4\n",
            "      double_z: false\n",
            "      dropout: 0.0\n",
            "      in_channels: 3\n",
            "      num_res_blocks: 2\n",
            "      out_ch: 3\n",
            "      resolution: 256\n",
            "      z_channels: 256\n",
            "    embed_dim: 256\n",
            "    lossconfig:\n",
            "      params:\n",
            "        codebook_weight: 1.0\n",
            "        disc_conditional: false\n",
            "        disc_in_channels: 3\n",
            "        disc_start: 30001\n",
            "        disc_weight: 0.8\n",
            "      target: taming.modules.losses.vqperceptual.VQLPIPSWithDiscriminator\n",
            "    n_embed: 1024\n",
            "  target: taming.models.vqgan.VQModel\n",
            "\n",
            "Working with z of shape (1, 256, 16, 16) = 65536 dimensions.\n"
          ]
        },
        {
          "name": "stderr",
          "output_type": "stream",
          "text": [
            "/usr/local/lib/python3.8/dist-packages/torchvision/models/_utils.py:208: UserWarning: The parameter 'pretrained' is deprecated since 0.13 and may be removed in the future, please use 'weights' instead.\n",
            "  warnings.warn(\n",
            "/usr/local/lib/python3.8/dist-packages/torchvision/models/_utils.py:223: UserWarning: Arguments other than a weight enum or `None` for 'weights' are deprecated since 0.13 and may be removed in the future. The current behavior is equivalent to passing `weights=VGG16_Weights.IMAGENET1K_V1`. You can also use `weights=VGG16_Weights.DEFAULT` to get the most up-to-date weights.\n",
            "  warnings.warn(msg)\n",
            "Downloading: \"https://download.pytorch.org/models/vgg16-397923af.pth\" to /root/.cache/torch/hub/checkpoints/vgg16-397923af.pth\n"
          ]
        },
        {
          "data": {
            "application/vnd.jupyter.widget-view+json": {
              "model_id": "25e612f4a8554bdbaf1432e90bd18ba3",
              "version_major": 2,
              "version_minor": 0
            },
            "text/plain": [
              "  0%|          | 0.00/528M [00:00<?, ?B/s]"
            ]
          },
          "metadata": {},
          "output_type": "display_data"
        },
        {
          "name": "stdout",
          "output_type": "stream",
          "text": [
            "Downloading vgg_lpips model from https://heibox.uni-heidelberg.de/f/607503859c864bc1b30b/?dl=1 to taming/modules/autoencoder/lpips/vgg.pth\n"
          ]
        },
        {
          "name": "stderr",
          "output_type": "stream",
          "text": [
            "8.19kB [00:00, 494kB/s]                    \n"
          ]
        },
        {
          "name": "stdout",
          "output_type": "stream",
          "text": [
            "loaded pretrained LPIPS loss from taming/modules/autoencoder/lpips/vgg.pth\n",
            "VQLPIPSWithDiscriminator running with hinge loss.\n"
          ]
        }
      ],
      "source": [
        "configFace = load_config(\"logs/2020-11-09T13-33-36_faceshq_vqgan/configs/2020-11-09T13-33-36-project.yaml\", display=True)\n",
        "modelFace = load_vqgan(configFace, ckpt_path=\"logs/2020-11-09T13-33-36_faceshq_vqgan/checkpoints/last.ckpt\").to(DEVICE)"
      ]
    },
    {
      "cell_type": "code",
      "execution_count": null,
      "metadata": {
        "id": "41H9JA-Pvjtx"
      },
      "outputs": [],
      "source": [
        "# vqgan_model = VQModel()\n",
        "# vqgan_model.load_state_dict(torch.load(\"logs/vqgan_gumbel_f8/checkpoints/last.ckpt\"))\n",
        "# vqgan_model.to(DEVICE)"
      ]
    },
    {
      "cell_type": "markdown",
      "metadata": {},
      "source": []
    },
    {
      "cell_type": "code",
      "execution_count": null,
      "metadata": {
        "id": "b-luy81MYgjZ"
      },
      "outputs": [],
      "source": [
        "!cp '/content/drive/MyDrive/Colab Notebooks/LatentTransformer/00019.jpg' /content"
      ]
    },
    {
      "cell_type": "code",
      "execution_count": null,
      "metadata": {
        "colab": {
          "base_uri": "https://localhost:8080/",
          "height": 304
        },
        "id": "eVJcYH4uvXwN",
        "outputId": "ea53c7f5-3496-4b8f-92fa-52841c8065a4"
      },
      "outputs": [
        {
          "name": "stderr",
          "output_type": "stream",
          "text": [
            "WARNING:matplotlib.image:Clipping input data to the valid range for imshow with RGB data ([0..1] for floats or [0..255] for integers).\n"
          ]
        },
        {
          "data": {
            "text/plain": [
              "<matplotlib.image.AxesImage at 0x7f0a31150040>"
            ]
          },
          "execution_count": 18,
          "metadata": {},
          "output_type": "execute_result"
        },
        {
          "data": {
            "image/png": "[encoded data removed]",
            "text/plain": [
              "<Figure size 432x288 with 1 Axes>"
            ]
          },
          "metadata": {
            "needs_background": "light"
          },
          "output_type": "display_data"
        }
      ],
      "source": [
        "im = Image.open('/content/00019.jpg').convert('RGB').resize((256, 256))\n",
        "im_tensor = torch.tensor(np.array(im)).permute(2, 0, 1) / 255\n",
        "z, a, b = modelFace.encode(im_tensor.to(DEVICE).unsqueeze(0) * 2 - 1) \n",
        "idx = b[-1] # The codebook entries (16x16 tokens so shape is [256])\n",
        "z_q = modelFace.quantize.embedding(idx).reshape(1, 16, 16, 256).permute(0,3,1,2) #quantize:quant, emb_loss, info \n",
        "plt.imshow(modelFace.decode(z_q).add(1).div(2).cpu().squeeze().permute(1, 2, 0))"
      ]
    },
    {
      "cell_type": "code",
      "execution_count": null,
      "metadata": {
        "id": "H-6h50C0aUf4"
      },
      "outputs": [],
      "source": []
    },
    {
      "cell_type": "code",
      "execution_count": null,
      "metadata": {
        "colab": {
          "base_uri": "https://localhost:8080/"
        },
        "id": "KUFOQPL9aUwm",
        "outputId": "3e7dce5e-c93f-44c4-9f00-2c00c37e8fc4"
      },
      "outputs": [
        {
          "data": {
            "text/plain": [
              "(None,\n",
              " None,\n",
              " tensor([ 513,  230,  805,  988,  785,  370,  988,  370,   88,  831,   63,   90,\n",
              "          977,  805,  548,   14,   90,  138,   88,  875,  453,   88,   88,  453,\n",
              "          869, 1003,  801,  469,  230,  805,  573,  651,  911,  172,   39,  453,\n",
              "          169,  172,  584,  805,  651,  431,  108,  431,  566,   63,  105,  815,\n",
              "          977,  431,   88,  651,  873,  527,  875,  301,   57,  311,  806,  117,\n",
              "           37,  805,   37,  849,  573,  801,   54,  747,  551, 1003,  371,  597,\n",
              "          739,  634,  680,  453,  273,  230,  604,  604,  502,   39,  334,  172,\n",
              "          168,  873,  371,  812,  206,  312,  995,   88,  806,  527,   90,   90,\n",
              "          584,  431,  295,  206,  818,   53,  608,  818,  818,  453,  589,  875,\n",
              "          584,  359,  609,  609,  551,  371,  901,  168,  379,  501,  455,  831,\n",
              "          455,  747,  608,  625,   14, 1023, 1023,  517,   54,  818,  379,  700,\n",
              "          371,  597,  812,  168,  501,  891,   63,  651,  680,  609,  469,  609,\n",
              "          169,  604,  789,  818,  168,  379,  625,  168,  732,  117,   14,   39,\n",
              "          609, 1023,  566,  593,   63, 1023,   88,  371,  379,   88,  371,   71,\n",
              "          849,  117,  661, 1003,  873,  625,  609,  206,   63, 1023,  169,  593,\n",
              "          206,   88,  551,  962,  502,  370,   88, 1003,  739,  206,  379,  206,\n",
              "          700,  634,  469,  566,  818,  379,  873,  527,  875,   90,  584,  168,\n",
              "          379,  593,  169,  625,  379,  651, 1003,  604,  818,  818,  371,  206,\n",
              "          550,  431,  625,  455,  513,  355,  355,  355,  504, 1003,  379,   88,\n",
              "          361,  911,  805,  901,  370,  110,   37,  355,   90,  355,  273,  651,\n",
              "          573,   54,  593,  379,  455,  875,  873,  379,  469,   88,  455,  553,\n",
              "          813,  453,  988,   14], device='cuda:0'))"
            ]
          },
          "execution_count": 23,
          "metadata": {},
          "output_type": "execute_result"
        }
      ],
      "source": [
        "b"
      ]
    },
    {
      "cell_type": "code",
      "execution_count": null,
      "metadata": {
        "colab": {
          "base_uri": "https://localhost:8080/"
        },
        "id": "a2AMpgXHBGBo",
        "outputId": "37c9e053-7b70-4449-8532-47c7f6dd12f3"
      },
      "outputs": [
        {
          "data": {
            "text/plain": [
              "torch.Size([256])"
            ]
          },
          "execution_count": 20,
          "metadata": {},
          "output_type": "execute_result"
        }
      ],
      "source": [
        "idx.shape"
      ]
    },
    {
      "cell_type": "code",
      "execution_count": null,
      "metadata": {
        "colab": {
          "base_uri": "https://localhost:8080/"
        },
        "id": "B3fSazeKZJMO",
        "outputId": "15007149-7f3a-409f-d4b4-fed07016fce7"
      },
      "outputs": [
        {
          "data": {
            "text/plain": [
              "torch.Size([1, 256, 16, 16])"
            ]
          },
          "execution_count": 21,
          "metadata": {},
          "output_type": "execute_result"
        }
      ],
      "source": [
        "z_q.shape"
      ]
    },
    {
      "cell_type": "code",
      "execution_count": null,
      "metadata": {
        "colab": {
          "base_uri": "https://localhost:8080/",
          "height": 304
        },
        "id": "Uy8-hWXmbJnS",
        "outputId": "c2f8d535-0624-4ea6-bd6c-4abd98411e08"
      },
      "outputs": [
        {
          "name": "stderr",
          "output_type": "stream",
          "text": [
            "WARNING:matplotlib.image:Clipping input data to the valid range for imshow with RGB data ([0..1] for floats or [0..255] for integers).\n"
          ]
        },
        {
          "data": {
            "text/plain": [
              "<matplotlib.image.AxesImage at 0x7f0a532387f0>"
            ]
          },
          "execution_count": 29,
          "metadata": {},
          "output_type": "execute_result"
        },
        {
          "data": {
            "image/png": "[encoded data removed]",
            "text/plain": [
              "<Figure size 432x288 with 1 Axes>"
            ]
          },
          "metadata": {
            "needs_background": "light"
          },
          "output_type": "display_data"
        }
      ],
      "source": [
        "im = Image.open('/content/00019.jpg').convert('RGB').resize((256, 256))\n",
        "im_tensor = torch.tensor(np.array(im)).permute(2, 0, 1) / 255\n",
        "z, a, b = model1024.encode(im_tensor.to(DEVICE).unsqueeze(0) * 2 - 1) \n",
        "idx = b[-1] # The codebook entries (16x16 tokens so shape is [256])\n",
        "z_q = model1024.quantize.embedding(idx).reshape(1, 16, 16, 256).permute(0,3,1,2) #quantize:quant, emb_loss, info \n",
        "plt.imshow(model1024.decode(z_q).add(1).div(2).cpu().squeeze().permute(1, 2, 0))"
      ]
    },
    {
      "cell_type": "code",
      "execution_count": null,
      "metadata": {},
      "outputs": [],
      "source": []
    },
    {
      "attachments": {},
      "cell_type": "markdown",
      "metadata": {},
      "source": [
        "# Copy and clean the data"
      ]
    },
    {
      "cell_type": "code",
      "execution_count": null,
      "metadata": {},
      "outputs": [],
      "source": [
        "!cp '/content/drive/MyDrive/Colab Notebooks/LatentTransformer/fertest.jpg' /content\n",
        "!cp '/content/drive/MyDrive/CUNY-Phd/data/fer2013/fer2013.csv' /content/"
      ]
    },
    {
      "cell_type": "code",
      "execution_count": null,
      "metadata": {},
      "outputs": [],
      "source": [
        "!pip install -q git+https://github.com/huggingface/transformers datasets"
      ]
    },
    {
      "cell_type": "code",
      "execution_count": null,
      "metadata": {},
      "outputs": [],
      "source": [
        "from datasets import *\n",
        "from transformers import ViTFeatureExtractor\n",
        "from transformers import ViTModel\n",
        "from transformers import TrainingArguments, Trainer\n",
        "from transformers.modeling_outputs import SequenceClassifierOutput\n",
        "import numpy as np\n",
        "import pandas as pd \n",
        "import torch.nn as nn\n",
        "import pickle\n",
        "from matplotlib import pyplot as plt\n",
        "%matplotlib inline \n",
        "import seaborn as sns\n",
        "from sklearn.metrics import confusion_matrix"
      ]
    },
    {
      "cell_type": "code",
      "execution_count": null,
      "metadata": {},
      "outputs": [],
      "source": [
        "string_labels = ['Anger', 'Disgust', 'Fear', 'Happiness', 'Sadness', 'Surprise', 'Neutral']"
      ]
    },
    {
      "cell_type": "code",
      "execution_count": null,
      "metadata": {},
      "outputs": [],
      "source": [
        "# feature_extractor = ViTFeatureExtractor.from_pretrained('google/vit-base-patch16-224-in21k')"
      ]
    },
    {
      "cell_type": "code",
      "execution_count": null,
      "metadata": {},
      "outputs": [],
      "source": [
        "fer_df = pd.read_csv(\"/content/fer2013.csv\")  # available on kaggle"
      ]
    },
    {
      "cell_type": "code",
      "execution_count": null,
      "metadata": {},
      "outputs": [],
      "source": [
        "fer_df.head()"
      ]
    },
    {
      "cell_type": "code",
      "execution_count": null,
      "metadata": {},
      "outputs": [],
      "source": [
        "def prepare_fer_data(data):\n",
        "    \"\"\" Prepare fer data for vision transformer \n",
        "        input: fer df loaded from csv\n",
        "        output: df that can be load into a huggingface dataset \"\"\"\n",
        "\n",
        "    # outputs\n",
        "    image_list = []\n",
        "    image_labels = list(map(int, data['emotion']))\n",
        "    \n",
        "    # go over all images\n",
        "    for i, row in enumerate(data.index):\n",
        "        image = np.fromstring(data.loc[row, 'pixels'], dtype=int, sep=' ')\n",
        "        image = np.reshape(image, (48, 48))\n",
        "        # adapt grayscale to rgb format (change single values to triplets of the same value)\n",
        "        image = image[..., np.newaxis]\n",
        "        image = np.repeat(image, 3, axis=2)\n",
        "        # convert to list format used by the later functions\n",
        "        image = image.astype(int).tolist()\n",
        "        # save to output\n",
        "        image_list.append(image)\n",
        "\n",
        "    output_df = pd.DataFrame(list(zip(image_list, image_labels)),\n",
        "               columns =['img', 'label'])\n",
        "        \n",
        "    return output_df"
      ]
    },
    {
      "cell_type": "code",
      "execution_count": null,
      "metadata": {},
      "outputs": [],
      "source": [
        "fer_train_df = prepare_fer_data(fer_df[fer_df['Usage']=='Training'])\n",
        "fer_test_df = prepare_fer_data(fer_df[fer_df['Usage']=='PrivateTest'])\n",
        "fer_val_df = prepare_fer_data(fer_df[fer_df['Usage']=='PublicTest'])"
      ]
    },
    {
      "cell_type": "code",
      "execution_count": null,
      "metadata": {},
      "outputs": [],
      "source": [
        "fer_train_df.head()"
      ]
    },
    {
      "cell_type": "code",
      "execution_count": null,
      "metadata": {},
      "outputs": [],
      "source": [
        "print(len(fer_train_df))\n",
        "print(len(fer_test_df))\n",
        "print(len(fer_val_df))"
      ]
    },
    {
      "cell_type": "code",
      "execution_count": null,
      "metadata": {},
      "outputs": [],
      "source": [
        "train_ds = Dataset.from_pandas(fer_train_df)\n",
        "#undersample train due to memory issues on google colab\n",
        "# splits = train_ds.train_test_split(test_size=0.15)\n",
        "# train_ds = splits[\"train\"]\n",
        "\n",
        "val_ds = Dataset.from_pandas(fer_val_df)\n",
        "test_ds = Dataset.from_pandas(fer_test_df)\n",
        "\n",
        "train_ds"
      ]
    },
    {
      "cell_type": "code",
      "execution_count": null,
      "metadata": {},
      "outputs": [],
      "source": [
        "# image size \n",
        "np.array(train_ds[0][\"img\"]).shape"
      ]
    },
    {
      "attachments": {},
      "cell_type": "markdown",
      "metadata": {},
      "source": [
        "#Some code are referenced from here: https://github.com/lwachowiak/Emotion-Recognition-with-ViT/blob/main/Emotion_Recognition_using_the_Vision_Transformer.ipynb"
      ]
    },
    {
      "cell_type": "code",
      "execution_count": null,
      "metadata": {},
      "outputs": [],
      "source": [
        "def preprocess_images(examples):\n",
        "    \"\"\" Prepare datasets for vision transformer \n",
        "    input: dataset with images in their orignal size \n",
        "    output: dataset with pixelvalues computed by the feature extractor added \"\"\"\n",
        "    # get batch of images\n",
        "    images = examples['img']\n",
        "    # convert to list of NumPy arrays of shape (C, H, W)\n",
        "    # print('convert')\n",
        "    # images = [np.array(image, dtype=np.uint8) for image in images]\n",
        "    # # images = [np.moveaxis(image, source=-1, destination=0) for image in images]\n",
        "    # # preprocess and add pixel_values\n",
        "    # ims = [Image.fromarray(image).convert('RGB').resize((256, 256)) for image in images]\n",
        "    # print(ims[0].shape)\n",
        "    # im_tensors = [torch.tensor(np.array(im)).permute(2, 0, 1) / 255 for im in ims]\n",
        "    # print('tensor finish')\n",
        "    result = list(map(model_quantizer, images))\n",
        "    # inputs = feature_extractor(images=images)\n",
        "    df = pd.DataFrame(result, columns=['quantize_values', 'index'])\n",
        "    examples['quantize_values'] = df['quantize_values']\n",
        "    examples['index'] = df['index']\n",
        "\n",
        "    return examples\n",
        "\n",
        "\n",
        "def model_quantizer(image):\n",
        "    im = Image.fromarray(np.array(image, dtype=np.uint8)).convert('RGB').resize((256, 256))\n",
        "    im_tensor = torch.tensor(np.array(im)).permute(2, 0, 1) / 255\n",
        "    z, a, b = model1024.encode(im_tensor.to(DEVICE).unsqueeze(0) * 2 - 1) \n",
        "    idx = b[-1] # The codebook entries (16x16 tokens so shape is [256])\n",
        "    z_q = model1024.quantize.embedding(idx).reshape(1, 16, 16, 256).permute(0,3,1,2) #quantize:quant, emb_loss, info \n",
        "    return (z_q, idx)\n"
      ]
    },
    {
      "attachments": {},
      "cell_type": "markdown",
      "metadata": {},
      "source": [
        "might need to do it to cpu in order to save it?"
      ]
    },
    {
      "cell_type": "code",
      "execution_count": null,
      "metadata": {},
      "outputs": [],
      "source": [
        "example1 = preprocess_images(train_ds[0:2])"
      ]
    },
    {
      "cell_type": "code",
      "execution_count": null,
      "metadata": {},
      "outputs": [],
      "source": [
        "plt.imshow(np.array(train_ds[0][\"img\"]))"
      ]
    },
    {
      "cell_type": "code",
      "execution_count": null,
      "metadata": {},
      "outputs": [],
      "source": [
        "plt.imshow(model1024.decode(example1['quantize_values'][0]).add(1).div(2).cpu().squeeze().permute(1, 2, 0))"
      ]
    },
    {
      "cell_type": "code",
      "execution_count": null,
      "metadata": {},
      "outputs": [],
      "source": [
        "#example1['quantize_values'][0].shape\n",
        "#torch.Size([1, 256, 16, 16])\n",
        "\n",
        "#model1024.decode(example1['quantize_values'][0]).shape\n",
        "#torch.Size([1, 3, 256, 256])"
      ]
    },
    {
      "attachments": {},
      "cell_type": "markdown",
      "metadata": {},
      "source": [
        "train_ds columns: 'img', 'label', 'quantize_values', 'index'\n",
        "quantize_values are the quantized value results. \n",
        "index are the indexes in the codebook"
      ]
    },
    {
      "cell_type": "code",
      "execution_count": null,
      "metadata": {},
      "outputs": [],
      "source": [
        "# features of the new dataset with an additional column for the preprocess 224x224x3 images \n",
        "features = Features({\n",
        "    'label': ClassLabel(names=['Angry', 'Disgust', 'Fear', 'Happy', 'Sad', 'Surprise', 'Neutral']),\n",
        "    'img': Array3D(dtype=\"int64\", shape=(3,48,48)),\n",
        "    'quantize_values': Array4D(dtype=\"float32\", shape=(1, 256, 16, 16)),\n",
        "    'index': Array1D(dtype=\"int64\", shape=(16, 16))\n",
        "})\n",
        "\n",
        "preprocessed_train_ds = train_ds.map(preprocess_images, batched=True, batch_size=1, features=features)\n",
        "with open('preprocessed_train_ds.pickle', 'wb') as handle:\n",
        "    pickle.dump(preprocessed_train_ds, handle, protocol=pickle.HIGHEST_PROTOCOL)\n",
        "preprocessed_val_ds = val_ds.map(preprocess_images, batched=True, features=features)\n",
        "with open('preprocessed_val_ds.pickle', 'wb') as handle:\n",
        "   pickle.dump(preprocessed_val_ds, handle, protocol=pickle.HIGHEST_PROTOCOL)\n",
        "preprocessed_test_ds = test_ds.map(preprocess_images, batched=True, features=features)\n",
        "with open('preprocessed_test_ds.pickle', 'wb') as handle:\n",
        "   pickle.dump(preprocessed_test_ds, handle, protocol=pickle.HIGHEST_PROTOCOL)\n",
        "\n",
        "preprocessed_train_ds"
      ]
    },
    {
      "cell_type": "code",
      "execution_count": null,
      "metadata": {},
      "outputs": [],
      "source": [
        "# final image size\n",
        "print(len(preprocessed_train_ds[0][\"pixel_values\"]))       \n",
        "print(len(preprocessed_train_ds[0][\"pixel_values\"][0]))     \n",
        "print(len(preprocessed_train_ds[0][\"pixel_values\"][0][0]))  "
      ]
    },
    {
      "attachments": {},
      "cell_type": "markdown",
      "metadata": {},
      "source": []
    },
    {
      "attachments": {},
      "cell_type": "markdown",
      "metadata": {},
      "source": [
        "# Build a Transformer model based on the codebook entries"
      ]
    },
    {
      "attachments": {},
      "cell_type": "markdown",
      "metadata": {},
      "source": [
        "## Import a pre-trained 1024 vqgan transformer model\n",
        "\n",
        "Import the Model\n",
        "\n",
        "Get the transformer layers\n",
        "\n",
        "Add the classification header for the transformer output"
      ]
    },
    {
      "cell_type": "code",
      "execution_count": null,
      "metadata": {},
      "outputs": [],
      "source": [
        "import torch.nn as nn\n",
        "import torch\n",
        "\n",
        "model1024"
      ]
    },
    {
      "attachments": {},
      "cell_type": "markdown",
      "metadata": {},
      "source": [
        "model_transformer = model1024.transformer\n",
        "model_transformer.head = None\n",
        "model_transformer.ln_f = None\n",
        "\n",
        "\n",
        "class modelTransformer(nn.Module):\n",
        "    def __init__(self, model_transformer, num_classes):\n",
        "        super(modelTransformer, self).__init__()\n",
        "        self.transformer = model_transformer\n",
        "        self.hidden_units = model_transformer.transformer.config.vocab_size\n",
        "        self.new_head = nn.Sequential(\n",
        "            nn.Linear(self.hidden_units, 128),\n",
        "            nn.ReLU(),\n",
        "            nn.Dropout(0.1),\n",
        "            nn.Linear(128, num_classes),\n",
        "            nn.LogSoftmax(dim=1),\n",
        "        )\n",
        "\n",
        "    def forward(self, input_ids, attention_mask):\n",
        "        outputs = self.transformer(input_ids, attention_mask=attention_mask)\n",
        "        pooled_output = outputs[1]  # Get the [CLS] token representation\n",
        "        logits = self.new_head(pooled_output)  # Pass through the new head\n",
        "        return logits"
      ]
    },
    {
      "cell_type": "code",
      "execution_count": null,
      "metadata": {},
      "outputs": [],
      "source": [
        "num_classes = 5\n",
        "custom_model = modelTransformer(model_transformer, num_classes)\n",
        "print(custom_model)"
      ]
    },
    {
      "attachments": {},
      "cell_type": "markdown",
      "metadata": {},
      "source": [
        "## Train the model"
      ]
    },
    {
      "cell_type": "code",
      "execution_count": null,
      "metadata": {},
      "outputs": [],
      "source": [
        "from torch.utils.data import DataLoader\n"
      ]
    },
    {
      "attachments": {},
      "cell_type": "markdown",
      "metadata": {},
      "source": [
        "GPT-2 based transformer classification"
      ]
    },
    {
      "cell_type": "code",
      "execution_count": null,
      "metadata": {},
      "outputs": [],
      "source": [
        "import torch\n",
        "import torch.nn as nn\n",
        "import torch.optim as optim\n",
        "import torch.nn.functional as F\n",
        "from torch.utils.data import DataLoader\n",
        "\n",
        "from transformers import GPT2Tokenizer, GPT2Model\n",
        "\n",
        "class GPTClassifier(nn.Module):\n",
        "    def __init__(self, num_classes):\n",
        "        super(GPTClassifier, self).__init__()\n",
        "        \n",
        "        self.num_classes = num_classes\n",
        "        self.tokenizer = GPT2Tokenizer.from_pretrained('gpt2')\n",
        "        self.gpt = GPT2Model.from_pretrained('gpt2')\n",
        "        self.fc = nn.Linear(768, num_classes)\n",
        "        \n",
        "    def forward(self, x):\n",
        "        input_ids = self.tokenizer.encode(x, return_tensors='pt')\n",
        "        outputs = self.gpt(input_ids=input_ids)\n",
        "        last_hidden_state = outputs.last_hidden_state[:, 0, :]\n",
        "        logits = self.fc(last_hidden_state)\n",
        "        return logits\n",
        "\n",
        "# Example usage:\n",
        "\n",
        "# Create dataset and dataloader\n",
        "texts = [\"This is a positive sentence\", \"This is a negative sentence\"]\n",
        "labels = [1, 0]\n",
        "dataset = list(zip(texts, labels))\n",
        "dataloader = DataLoader(dataset, batch_size=2, shuffle=True)\n",
        "\n",
        "# Initialize model and optimizer\n",
        "model = GPTClassifier(num_classes=2)\n",
        "optimizer = optim.Adam(model.parameters(), lr=1e-4)\n",
        "\n",
        "# Train loop\n",
        "for epoch in range(10):\n",
        "    for batch in dataloader:\n",
        "        optimizer.zero_grad()\n",
        "        texts, labels = batch\n",
        "        logits = model(texts)\n",
        "        loss = F.cross_entropy(logits, labels)\n",
        "        loss.backward()\n",
        "        optimizer.step()"
      ]
    },
    {
      "attachments": {},
      "cell_type": "markdown",
      "metadata": {
        "id": "WHz4CBq5OCTP"
      },
      "source": [
        "# Copied from make_samples"
      ]
    },
    {
      "cell_type": "code",
      "execution_count": null,
      "metadata": {
        "id": "IqguZNyENGJ-"
      },
      "outputs": [],
      "source": [
        "import argparse, os, sys, glob, math, time\n",
        "import torch\n",
        "import numpy as np\n",
        "from omegaconf import OmegaConf\n",
        "from PIL import Image\n",
        "from main import instantiate_from_config, DataModuleFromConfig\n",
        "from torch.utils.data import DataLoader\n",
        "from torch.utils.data.dataloader import default_collate\n",
        "from tqdm import trange\n",
        "\n",
        "\n",
        "def save_image(x, path):\n",
        "    c,h,w = x.shape\n",
        "    assert c==3\n",
        "    x = ((x.detach().cpu().numpy().transpose(1,2,0)+1.0)*127.5).clip(0,255).astype(np.uint8)\n",
        "    Image.fromarray(x).save(path)\n",
        "\n",
        "\n",
        "@torch.no_grad()\n",
        "def run_conditional(model, dsets, outdir, top_k, temperature, batch_size=1):\n",
        "    if len(dsets.datasets) > 1:\n",
        "        split = sorted(dsets.datasets.keys())[0]\n",
        "        dset = dsets.datasets[split]\n",
        "    else:\n",
        "        dset = next(iter(dsets.datasets.values()))\n",
        "    print(\"Dataset: \", dset.__class__.__name__)\n",
        "    for start_idx in trange(0,len(dset)-batch_size+1,batch_size):\n",
        "        indices = list(range(start_idx, start_idx+batch_size))\n",
        "        example = default_collate([dset[i] for i in indices])\n",
        "\n",
        "        x = model.get_input(\"image\", example).to(model.device)\n",
        "        for i in range(x.shape[0]):\n",
        "            save_image(x[i], os.path.join(outdir, \"originals\",\n",
        "                                          \"{:06}.png\".format(indices[i])))\n",
        "\n",
        "        cond_key = model.cond_stage_key\n",
        "        c = model.get_input(cond_key, example).to(model.device)\n",
        "\n",
        "        scale_factor = 1.0\n",
        "        quant_z, z_indices = model.encode_to_z(x)\n",
        "        quant_c, c_indices = model.encode_to_c(c)\n",
        "\n",
        "        cshape = quant_z.shape\n",
        "\n",
        "        xrec = model.first_stage_model.decode(quant_z)\n",
        "        for i in range(xrec.shape[0]):\n",
        "            save_image(xrec[i], os.path.join(outdir, \"reconstructions\",\n",
        "                                             \"{:06}.png\".format(indices[i])))\n",
        "\n",
        "        if cond_key == \"segmentation\":\n",
        "            # get image from segmentation mask\n",
        "            num_classes = c.shape[1]\n",
        "            c = torch.argmax(c, dim=1, keepdim=True)\n",
        "            c = torch.nn.functional.one_hot(c, num_classes=num_classes)\n",
        "            c = c.squeeze(1).permute(0, 3, 1, 2).float()\n",
        "            c = model.cond_stage_model.to_rgb(c)\n",
        "\n",
        "        idx = z_indices\n",
        "\n",
        "        half_sample = False\n",
        "        if half_sample:\n",
        "            start = idx.shape[1]//2\n",
        "        else:\n",
        "            start = 0\n",
        "\n",
        "        idx[:,start:] = 0\n",
        "        idx = idx.reshape(cshape[0],cshape[2],cshape[3])\n",
        "        start_i = start//cshape[3]\n",
        "        start_j = start %cshape[3]\n",
        "\n",
        "        cidx = c_indices\n",
        "        cidx = cidx.reshape(quant_c.shape[0],quant_c.shape[2],quant_c.shape[3])\n",
        "\n",
        "        sample = True\n",
        "\n",
        "        for i in range(start_i,cshape[2]-0):\n",
        "            if i <= 8:\n",
        "                local_i = i\n",
        "            elif cshape[2]-i < 8:\n",
        "                local_i = 16-(cshape[2]-i)\n",
        "            else:\n",
        "                local_i = 8\n",
        "            for j in range(start_j,cshape[3]-0):\n",
        "                if j <= 8:\n",
        "                    local_j = j\n",
        "                elif cshape[3]-j < 8:\n",
        "                    local_j = 16-(cshape[3]-j)\n",
        "                else:\n",
        "                    local_j = 8\n",
        "\n",
        "                i_start = i-local_i\n",
        "                i_end = i_start+16\n",
        "                j_start = j-local_j\n",
        "                j_end = j_start+16\n",
        "                patch = idx[:,i_start:i_end,j_start:j_end]\n",
        "                patch = patch.reshape(patch.shape[0],-1)\n",
        "                cpatch = cidx[:, i_start:i_end, j_start:j_end]\n",
        "                cpatch = cpatch.reshape(cpatch.shape[0], -1)\n",
        "                patch = torch.cat((cpatch, patch), dim=1)\n",
        "                logits,_ = model.transformer(patch[:,:-1])\n",
        "                logits = logits[:, -256:, :]\n",
        "                logits = logits.reshape(cshape[0],16,16,-1)\n",
        "                logits = logits[:,local_i,local_j,:]\n",
        "\n",
        "                logits = logits/temperature\n",
        "\n",
        "                if top_k is not None:\n",
        "                    logits = model.top_k_logits(logits, top_k)\n",
        "                # apply softmax to convert to probabilities\n",
        "                probs = torch.nn.functional.softmax(logits, dim=-1)\n",
        "                # sample from the distribution or take the most likely\n",
        "                if sample:\n",
        "                    ix = torch.multinomial(probs, num_samples=1)\n",
        "                else:\n",
        "                    _, ix = torch.topk(probs, k=1, dim=-1)\n",
        "                idx[:,i,j] = ix\n",
        "\n",
        "        xsample = model.decode_to_img(idx[:,:cshape[2],:cshape[3]], cshape)\n",
        "        for i in range(xsample.shape[0]):\n",
        "            save_image(xsample[i], os.path.join(outdir, \"samples\",\n",
        "                                                \"{:06}.png\".format(indices[i])))\n",
        "\n",
        "\n",
        "def get_parser():\n",
        "    parser = argparse.ArgumentParser()\n",
        "    parser.add_argument(\n",
        "        \"-r\",\n",
        "        \"--resume\",\n",
        "        type=str,\n",
        "        nargs=\"?\",\n",
        "        help=\"load from logdir or checkpoint in logdir\",\n",
        "    )\n",
        "    parser.add_argument(\n",
        "        \"-b\",\n",
        "        \"--base\",\n",
        "        nargs=\"*\",\n",
        "        metavar=\"base_config.yaml\",\n",
        "        help=\"paths to base configs. Loaded from left-to-right. \"\n",
        "        \"Parameters can be overwritten or added with command-line options of the form `--key value`.\",\n",
        "        default=list(),\n",
        "    )\n",
        "    parser.add_argument(\n",
        "        \"-c\",\n",
        "        \"--config\",\n",
        "        nargs=\"?\",\n",
        "        metavar=\"single_config.yaml\",\n",
        "        help=\"path to single config. If specified, base configs will be ignored \"\n",
        "        \"(except for the last one if left unspecified).\",\n",
        "        const=True,\n",
        "        default=\"\",\n",
        "    )\n",
        "    parser.add_argument(\n",
        "        \"--ignore_base_data\",\n",
        "        action=\"store_true\",\n",
        "        help=\"Ignore data specification from base configs. Useful if you want \"\n",
        "        \"to specify a custom datasets on the command line.\",\n",
        "    )\n",
        "    parser.add_argument(\n",
        "        \"--outdir\",\n",
        "        required=True,\n",
        "        type=str,\n",
        "        help=\"Where to write outputs to.\",\n",
        "    )\n",
        "    parser.add_argument(\n",
        "        \"--top_k\",\n",
        "        type=int,\n",
        "        default=100,\n",
        "        help=\"Sample from among top-k predictions.\",\n",
        "    )\n",
        "    parser.add_argument(\n",
        "        \"--temperature\",\n",
        "        type=float,\n",
        "        default=1.0,\n",
        "        help=\"Sampling temperature.\",\n",
        "    )\n",
        "    return parser\n",
        "\n",
        "\n",
        "def load_model_from_config(config, sd, gpu=True, eval_mode=True):\n",
        "    if \"ckpt_path\" in config.params:\n",
        "        print(\"Deleting the restore-ckpt path from the config...\")\n",
        "        config.params.ckpt_path = None\n",
        "    if \"downsample_cond_size\" in config.params:\n",
        "        print(\"Deleting downsample-cond-size from the config and setting factor=0.5 instead...\")\n",
        "        config.params.downsample_cond_size = -1\n",
        "        config.params[\"downsample_cond_factor\"] = 0.5\n",
        "    try:\n",
        "        if \"ckpt_path\" in config.params.first_stage_config.params:\n",
        "            config.params.first_stage_config.params.ckpt_path = None\n",
        "            print(\"Deleting the first-stage restore-ckpt path from the config...\")\n",
        "        if \"ckpt_path\" in config.params.cond_stage_config.params:\n",
        "            config.params.cond_stage_config.params.ckpt_path = None\n",
        "            print(\"Deleting the cond-stage restore-ckpt path from the config...\")\n",
        "    except:\n",
        "        pass\n",
        "\n",
        "    model = instantiate_from_config(config)\n",
        "    if sd is not None:\n",
        "        missing, unexpected = model.load_state_dict(sd, strict=False)\n",
        "        print(f\"Missing Keys in State Dict: {missing}\")\n",
        "        print(f\"Unexpected Keys in State Dict: {unexpected}\")\n",
        "    if gpu:\n",
        "        model.cuda()\n",
        "    if eval_mode:\n",
        "        model.eval()\n",
        "    return {\"model\": model}\n",
        "\n",
        "\n",
        "def get_data(config):\n",
        "    # get data\n",
        "    data = instantiate_from_config(config.data)\n",
        "    data.prepare_data()\n",
        "    data.setup()\n",
        "    return data\n",
        "\n",
        "\n",
        "def load_model_and_dset(config, ckpt, gpu, eval_mode):\n",
        "    # get data\n",
        "    dsets = get_data(config)   # calls data.config ...\n",
        "\n",
        "    # now load the specified checkpoint\n",
        "    if ckpt:\n",
        "        pl_sd = torch.load(ckpt, map_location=\"cpu\")\n",
        "        global_step = pl_sd[\"global_step\"]\n",
        "    else:\n",
        "        pl_sd = {\"state_dict\": None}\n",
        "        global_step = None\n",
        "    model = load_model_from_config(config.model,\n",
        "                                   pl_sd[\"state_dict\"],\n",
        "                                   gpu=gpu,\n",
        "                                   eval_mode=eval_mode)[\"model\"]\n",
        "    return dsets, model, global_step\n"
      ]
    },
    {
      "cell_type": "code",
      "execution_count": null,
      "metadata": {
        "id": "anKsdIQWWsm6"
      },
      "outputs": [],
      "source": [
        "for ele in '--outdir output -r logs/2020-11-13T21-41-45_faceshq_transformer/'.split():\n",
        "  sys.argv.append(ele)"
      ]
    },
    {
      "cell_type": "code",
      "execution_count": null,
      "metadata": {
        "id": "XPXicwshN6cp"
      },
      "outputs": [],
      "source": [
        "# sys.argv.append('--outdir output -r logs/2020-11-13T21-41-45_faceshq_transformer/'.split())\n",
        "\n",
        "sys.path.append(os.getcwd())\n",
        "\n",
        "parser = get_parser()\n",
        "\n",
        "opt, unknown = parser.parse_known_args()\n",
        "\n",
        "ckpt = None\n",
        "if opt.resume:\n",
        "    if not os.path.exists(opt.resume):\n",
        "        raise ValueError(\"Cannot find {}\".format(opt.resume))\n",
        "    if os.path.isfile(opt.resume):\n",
        "        paths = opt.resume.split(\"/\")\n",
        "        try:\n",
        "            idx = len(paths)-paths[::-1].index(\"logs\")+1\n",
        "        except ValueError:\n",
        "            idx = -2 # take a guess: path/to/logdir/checkpoints/model.ckpt\n",
        "        logdir = \"/\".join(paths[:idx])\n",
        "        ckpt = opt.resume\n",
        "    else:\n",
        "        assert os.path.isdir(opt.resume), opt.resume\n",
        "        logdir = opt.resume.rstrip(\"/\")\n",
        "        ckpt = os.path.join(logdir, \"checkpoints\", \"last.ckpt\")\n",
        "    print(f\"logdir:{logdir}\")\n",
        "    base_configs = sorted(glob.glob(os.path.join(logdir, \"configs/*-project.yaml\")))\n",
        "    opt.base = base_configs+opt.base\n",
        "\n",
        "if opt.config:\n",
        "    if type(opt.config) == str:\n",
        "        opt.base = [opt.config]\n",
        "    else:\n",
        "        opt.base = [opt.base[-1]]\n",
        "\n",
        "configs = [OmegaConf.load(cfg) for cfg in opt.base]\n",
        "cli = OmegaConf.from_dotlist(unknown)\n",
        "if opt.ignore_base_data:\n",
        "    for config in configs:\n",
        "        if hasattr(config, \"data\"): del config[\"data\"]\n",
        "config = OmegaConf.merge(*configs, cli)\n",
        "\n",
        "print(ckpt)\n",
        "gpu = True\n",
        "eval_mode = True\n",
        "show_config = False\n",
        "if show_config:\n",
        "    print(OmegaConf.to_container(config))\n",
        "\n",
        "dsets, model, global_step = load_model_and_dset(config, ckpt, gpu, eval_mode)\n",
        "print(f\"Global step: {global_step}\")\n",
        "\n",
        "outdir = os.path.join(opt.outdir, \"{:06}_{}_{}\".format(global_step,\n",
        "                                                        opt.top_k,\n",
        "                                                        opt.temperature))\n",
        "os.makedirs(outdir, exist_ok=True)\n",
        "print(\"Writing samples to \", outdir)\n",
        "for k in [\"originals\", \"reconstructions\", \"samples\"]:\n",
        "    os.makedirs(os.path.join(outdir, k), exist_ok=True)\n",
        "run_conditional(model, dsets, outdir, opt.top_k, opt.temperature)\n"
      ]
    },
    {
      "cell_type": "code",
      "execution_count": null,
      "metadata": {
        "id": "liWaS2cfWJ1X"
      },
      "outputs": [],
      "source": [
        "!python scripts/sample_fast.py -r logs/2020-11-13T21-41-45_faceshq_transformer/"
      ]
    },
    {
      "cell_type": "markdown",
      "metadata": {
        "id": "yDGjSF_beO2Y"
      },
      "source": [
        "SampelFast"
      ]
    },
    {
      "cell_type": "code",
      "execution_count": null,
      "metadata": {
        "id": "b3p6E2WdeCqk"
      },
      "outputs": [],
      "source": [
        "import argparse, os, sys, glob\n",
        "import torch\n",
        "import time\n",
        "import numpy as np\n",
        "from omegaconf import OmegaConf\n",
        "from PIL import Image\n",
        "from tqdm import tqdm, trange\n",
        "from einops import repeat\n",
        "\n",
        "from main import instantiate_from_config\n",
        "from taming.modules.transformer.mingpt import sample_with_past\n",
        "\n",
        "\n",
        "rescale = lambda x: (x + 1.) / 2.\n",
        "\n",
        "\n",
        "def chw_to_pillow(x):\n",
        "    return Image.fromarray((255*rescale(x.detach().cpu().numpy().transpose(1,2,0))).clip(0,255).astype(np.uint8))\n",
        "\n",
        "\n",
        "@torch.no_grad()\n",
        "def sample_classconditional(model, batch_size, class_label, steps=256, temperature=None, top_k=None, callback=None,\n",
        "                            dim_z=256, h=16, w=16, verbose_time=False, top_p=None):\n",
        "    log = dict()\n",
        "    assert type(class_label) == int, f'expecting type int but type is {type(class_label)}'\n",
        "    qzshape = [batch_size, dim_z, h, w]\n",
        "    assert not model.be_unconditional, 'Expecting a class-conditional Net2NetTransformer.'\n",
        "    c_indices = repeat(torch.tensor([class_label]), '1 -> b 1', b=batch_size).to(model.device)  # class token\n",
        "    t1 = time.time()\n",
        "    index_sample = sample_with_past(c_indices, model.transformer, steps=steps,\n",
        "                                    sample_logits=True, top_k=top_k, callback=callback,\n",
        "                                    temperature=temperature, top_p=top_p)\n",
        "    if verbose_time:\n",
        "        sampling_time = time.time() - t1\n",
        "        print(f\"Full sampling takes about {sampling_time:.2f} seconds.\")\n",
        "    x_sample = model.decode_to_img(index_sample, qzshape)\n",
        "    log[\"samples\"] = x_sample\n",
        "    log[\"class_label\"] = c_indices\n",
        "    return log\n",
        "\n",
        "\n",
        "@torch.no_grad()\n",
        "def sample_unconditional(model, batch_size, steps=256, temperature=None, top_k=None, top_p=None, callback=None,\n",
        "                         dim_z=256, h=16, w=16, verbose_time=False):\n",
        "    log = dict()\n",
        "    qzshape = [batch_size, dim_z, h, w]\n",
        "    assert model.be_unconditional, 'Expecting an unconditional model.'\n",
        "    c_indices = repeat(torch.tensor([model.sos_token]), '1 -> b 1', b=batch_size).to(model.device)  # sos token\n",
        "    t1 = time.time()\n",
        "    index_sample = sample_with_past(c_indices, model.transformer, steps=steps,\n",
        "                                    sample_logits=True, top_k=top_k, callback=callback,\n",
        "                                    temperature=temperature, top_p=top_p)\n",
        "    if verbose_time:\n",
        "        sampling_time = time.time() - t1\n",
        "        print(f\"Full sampling takes about {sampling_time:.2f} seconds.\")\n",
        "    x_sample = model.decode_to_img(index_sample, qzshape)\n",
        "    log[\"samples\"] = x_sample\n",
        "    return log\n",
        "\n",
        "\n",
        "@torch.no_grad()\n",
        "def run(logdir, model, batch_size, temperature, top_k, unconditional=True, num_samples=50000,\n",
        "        given_classes=None, top_p=None):\n",
        "    batches = [batch_size for _ in range(num_samples//batch_size)] + [num_samples % batch_size]\n",
        "    if not unconditional:\n",
        "        assert given_classes is not None\n",
        "        print(\"Running in pure class-conditional sampling mode. I will produce \"\n",
        "              f\"{num_samples} samples for each of the {len(given_classes)} classes, \"\n",
        "              f\"i.e. {num_samples*len(given_classes)} in total.\")\n",
        "        for class_label in tqdm(given_classes, desc=\"Classes\"):\n",
        "            for n, bs in tqdm(enumerate(batches), desc=\"Sampling Class\"):\n",
        "                if bs == 0: break\n",
        "                logs = sample_classconditional(model, batch_size=bs, class_label=class_label,\n",
        "                                               temperature=temperature, top_k=top_k, top_p=top_p)\n",
        "                save_from_logs(logs, logdir, base_count=n * batch_size, cond_key=logs[\"class_label\"])\n",
        "    else:\n",
        "        print(f\"Running in unconditional sampling mode, producing {num_samples} samples.\")\n",
        "        for n, bs in tqdm(enumerate(batches), desc=\"Sampling\"):\n",
        "            if bs == 0: break\n",
        "            logs = sample_unconditional(model, batch_size=bs, temperature=temperature, top_k=top_k, top_p=top_p)\n",
        "            save_from_logs(logs, logdir, base_count=n * batch_size)\n",
        "\n",
        "\n",
        "def save_from_logs(logs, logdir, base_count, key=\"samples\", cond_key=None):\n",
        "    xx = logs[key]\n",
        "    for i, x in enumerate(xx):\n",
        "        x = chw_to_pillow(x)\n",
        "        count = base_count + i\n",
        "        if cond_key is None:\n",
        "            x.save(os.path.join(logdir, f\"{count:06}.png\"))\n",
        "        else:\n",
        "            condlabel = cond_key[i]\n",
        "            if type(condlabel) == torch.Tensor: condlabel = condlabel.item()\n",
        "            os.makedirs(os.path.join(logdir, str(condlabel)), exist_ok=True)\n",
        "            x.save(os.path.join(logdir, str(condlabel), f\"{count:06}.png\"))\n",
        "\n",
        "\n",
        "def get_parser():\n",
        "    def str2bool(v):\n",
        "        if isinstance(v, bool):\n",
        "            return v\n",
        "        if v.lower() in (\"yes\", \"true\", \"t\", \"y\", \"1\"):\n",
        "            return True\n",
        "        elif v.lower() in (\"no\", \"false\", \"f\", \"n\", \"0\"):\n",
        "            return False\n",
        "        else:\n",
        "            raise argparse.ArgumentTypeError(\"Boolean value expected.\")\n",
        "\n",
        "    parser = argparse.ArgumentParser()\n",
        "    parser.add_argument(\n",
        "        \"-r\",\n",
        "        \"--resume\",\n",
        "        type=str,\n",
        "        nargs=\"?\",\n",
        "        help=\"load from logdir or checkpoint in logdir\",\n",
        "    )\n",
        "    parser.add_argument(\n",
        "        \"-o\",\n",
        "        \"--outdir\",\n",
        "        type=str,\n",
        "        nargs=\"?\",\n",
        "        help=\"path where the samples will be logged to.\",\n",
        "        default=\"\"\n",
        "    )\n",
        "    parser.add_argument(\n",
        "        \"-b\",\n",
        "        \"--base\",\n",
        "        nargs=\"*\",\n",
        "        metavar=\"base_config.yaml\",\n",
        "        help=\"paths to base configs. Loaded from left-to-right. \"\n",
        "        \"Parameters can be overwritten or added with command-line options of the form `--key value`.\",\n",
        "        default=list(),\n",
        "    )\n",
        "    parser.add_argument(\n",
        "        \"-n\",\n",
        "        \"--num_samples\",\n",
        "        type=int,\n",
        "        nargs=\"?\",\n",
        "        help=\"num_samples to draw\",\n",
        "        default=50000\n",
        "    )\n",
        "    parser.add_argument(\n",
        "        \"--batch_size\",\n",
        "        type=int,\n",
        "        nargs=\"?\",\n",
        "        help=\"the batch size\",\n",
        "        default=25\n",
        "    )\n",
        "    parser.add_argument(\n",
        "        \"-k\",\n",
        "        \"--top_k\",\n",
        "        type=int,\n",
        "        nargs=\"?\",\n",
        "        help=\"top-k value to sample with\",\n",
        "        default=250,\n",
        "    )\n",
        "    parser.add_argument(\n",
        "        \"-t\",\n",
        "        \"--temperature\",\n",
        "        type=float,\n",
        "        nargs=\"?\",\n",
        "        help=\"temperature value to sample with\",\n",
        "        default=1.0\n",
        "    )\n",
        "    parser.add_argument(\n",
        "        \"-p\",\n",
        "        \"--top_p\",\n",
        "        type=float,\n",
        "        nargs=\"?\",\n",
        "        help=\"top-p value to sample with\",\n",
        "        default=1.0\n",
        "    )\n",
        "    parser.add_argument(\n",
        "        \"--classes\",\n",
        "        type=str,\n",
        "        nargs=\"?\",\n",
        "        help=\"specify comma-separated classes to sample from. Uses 1000 classes per default.\",\n",
        "        default=\"imagenet\"\n",
        "    )\n",
        "    return parser\n",
        "\n",
        "\n",
        "def load_model_from_config(config, sd, gpu=True, eval_mode=True):\n",
        "    model = instantiate_from_config(config)\n",
        "    if sd is not None:\n",
        "        model.load_state_dict(sd)\n",
        "    if gpu:\n",
        "        model.cuda()\n",
        "    if eval_mode:\n",
        "        model.eval()\n",
        "    return {\"model\": model}\n",
        "\n",
        "\n",
        "def load_model(config, ckpt, gpu, eval_mode):\n",
        "    # load the specified checkpoint\n",
        "    if ckpt:\n",
        "        pl_sd = torch.load(ckpt, map_location=\"cpu\")\n",
        "        global_step = pl_sd[\"global_step\"]\n",
        "        print(f\"loaded model from global step {global_step}.\")\n",
        "    else:\n",
        "        pl_sd = {\"state_dict\": None}\n",
        "        global_step = None\n",
        "    model = load_model_from_config(config.model, pl_sd[\"state_dict\"], gpu=gpu, eval_mode=eval_mode)[\"model\"]\n",
        "    return model, global_step\n",
        "\n",
        "\n",
        "if __name__ == \"__main__\":\n",
        "    sys.path.append(os.getcwd())\n",
        "    parser = get_parser()\n",
        "\n",
        "    opt, unknown = parser.parse_known_args()\n",
        "    assert opt.resume\n",
        "\n",
        "    ckpt = None\n",
        "\n",
        "    if not os.path.exists(opt.resume):\n",
        "        raise ValueError(\"Cannot find {}\".format(opt.resume))\n",
        "    if os.path.isfile(opt.resume):\n",
        "        paths = opt.resume.split(\"/\")\n",
        "        try:\n",
        "            idx = len(paths)-paths[::-1].index(\"logs\")+1\n",
        "        except ValueError:\n",
        "            idx = -2 # take a guess: path/to/logdir/checkpoints/model.ckpt\n",
        "        logdir = \"/\".join(paths[:idx])\n",
        "        ckpt = opt.resume\n",
        "    else:\n",
        "        assert os.path.isdir(opt.resume), opt.resume\n",
        "        logdir = opt.resume.rstrip(\"/\")\n",
        "        ckpt = os.path.join(logdir, \"checkpoints\", \"last.ckpt\")\n",
        "\n",
        "    base_configs = sorted(glob.glob(os.path.join(logdir, \"configs/*-project.yaml\")))\n",
        "    opt.base = base_configs+opt.base\n",
        "\n",
        "    configs = [OmegaConf.load(cfg) for cfg in opt.base]\n",
        "    cli = OmegaConf.from_dotlist(unknown)\n",
        "    config = OmegaConf.merge(*configs, cli)\n",
        "\n",
        "    model, global_step = load_model(config, ckpt, gpu=True, eval_mode=True)\n",
        "\n",
        "    if opt.outdir:\n",
        "        print(f\"Switching logdir from '{logdir}' to '{opt.outdir}'\")\n",
        "        logdir = opt.outdir\n",
        "\n",
        "    if opt.classes == \"imagenet\":\n",
        "        given_classes = [i for i in range(1000)]\n",
        "    else:\n",
        "        cls_str = opt.classes\n",
        "        assert not cls_str.endswith(\",\"), 'class string should not end with a \",\"'\n",
        "        given_classes = [int(c) for c in cls_str.split(\",\")]\n",
        "\n",
        "    logdir = os.path.join(logdir, \"samples\", f\"top_k_{opt.top_k}_temp_{opt.temperature:.2f}_top_p_{opt.top_p}\",\n",
        "                          f\"{global_step}\")\n",
        "\n",
        "    print(f\"Logging to {logdir}\")\n",
        "    os.makedirs(logdir, exist_ok=True)\n",
        "\n",
        "    run(logdir, model, opt.batch_size, opt.temperature, opt.top_k, unconditional=model.be_unconditional,\n",
        "        given_classes=given_classes, num_samples=opt.num_samples, top_p=opt.top_p)\n",
        "\n",
        "    print(\"done.\")\n"
      ]
    },
    {
      "cell_type": "code",
      "execution_count": null,
      "metadata": {
        "id": "wTSZx4UWeQTY"
      },
      "outputs": [],
      "source": []
    }
  ],
  "metadata": {
    "accelerator": "GPU",
    "colab": {
      "provenance": []
    },
    "gpuClass": "premium",
    "kernelspec": {
      "display_name": "Python 3",
      "name": "python3"
    },
    "language_info": {
      "name": "python"
    },
    "widgets": {
      "application/vnd.jupyter.widget-state+json": {
        "0b79d9111f044c3b9a36b838bd02e841": {
          "model_module": "@jupyter-widgets/controls",
          "model_module_version": "1.5.0",
          "model_name": "FloatProgressModel",
          "state": {
            "_dom_classes": [],
            "_model_module": "@jupyter-widgets/controls",
            "_model_module_version": "1.5.0",
            "_model_name": "FloatProgressModel",
            "_view_count": null,
            "_view_module": "@jupyter-widgets/controls",
            "_view_module_version": "1.5.0",
            "_view_name": "ProgressView",
            "bar_style": "success",
            "description": "",
            "description_tooltip": null,
            "layout": "IPY_MODEL_0d8e5d3b79ac456084b30ab7f47df150",
            "max": 553433881,
            "min": 0,
            "orientation": "horizontal",
            "style": "IPY_MODEL_4d6fde7c47874a80a5b3e7f8dcaee8d2",
            "value": 553433881
          }
        },
        "0d8e5d3b79ac456084b30ab7f47df150": {
          "model_module": "@jupyter-widgets/base",
          "model_module_version": "1.2.0",
          "model_name": "LayoutModel",
          "state": {
            "_model_module": "@jupyter-widgets/base",
            "_model_module_version": "1.2.0",
            "_model_name": "LayoutModel",
            "_view_count": null,
            "_view_module": "@jupyter-widgets/base",
            "_view_module_version": "1.2.0",
            "_view_name": "LayoutView",
            "align_content": null,
            "align_items": null,
            "align_self": null,
            "border": null,
            "bottom": null,
            "display": null,
            "flex": null,
            "flex_flow": null,
            "grid_area": null,
            "grid_auto_columns": null,
            "grid_auto_flow": null,
            "grid_auto_rows": null,
            "grid_column": null,
            "grid_gap": null,
            "grid_row": null,
            "grid_template_areas": null,
            "grid_template_columns": null,
            "grid_template_rows": null,
            "height": null,
            "justify_content": null,
            "justify_items": null,
            "left": null,
            "margin": null,
            "max_height": null,
            "max_width": null,
            "min_height": null,
            "min_width": null,
            "object_fit": null,
            "object_position": null,
            "order": null,
            "overflow": null,
            "overflow_x": null,
            "overflow_y": null,
            "padding": null,
            "right": null,
            "top": null,
            "visibility": null,
            "width": null
          }
        },
        "227a8779bfd64558a07932224fb605a2": {
          "model_module": "@jupyter-widgets/controls",
          "model_module_version": "1.5.0",
          "model_name": "DescriptionStyleModel",
          "state": {
            "_model_module": "@jupyter-widgets/controls",
            "_model_module_version": "1.5.0",
            "_model_name": "DescriptionStyleModel",
            "_view_count": null,
            "_view_module": "@jupyter-widgets/base",
            "_view_module_version": "1.2.0",
            "_view_name": "StyleView",
            "description_width": ""
          }
        },
        "25e612f4a8554bdbaf1432e90bd18ba3": {
          "model_module": "@jupyter-widgets/controls",
          "model_module_version": "1.5.0",
          "model_name": "HBoxModel",
          "state": {
            "_dom_classes": [],
            "_model_module": "@jupyter-widgets/controls",
            "_model_module_version": "1.5.0",
            "_model_name": "HBoxModel",
            "_view_count": null,
            "_view_module": "@jupyter-widgets/controls",
            "_view_module_version": "1.5.0",
            "_view_name": "HBoxView",
            "box_style": "",
            "children": [
              "IPY_MODEL_304da304c0e2449c88382b0de763a0e4",
              "IPY_MODEL_0b79d9111f044c3b9a36b838bd02e841",
              "IPY_MODEL_8e86debf0867440aa6eafdbc49425f32"
            ],
            "layout": "IPY_MODEL_ed7ba62327124592904cd8b0a67a695c"
          }
        },
        "304da304c0e2449c88382b0de763a0e4": {
          "model_module": "@jupyter-widgets/controls",
          "model_module_version": "1.5.0",
          "model_name": "HTMLModel",
          "state": {
            "_dom_classes": [],
            "_model_module": "@jupyter-widgets/controls",
            "_model_module_version": "1.5.0",
            "_model_name": "HTMLModel",
            "_view_count": null,
            "_view_module": "@jupyter-widgets/controls",
            "_view_module_version": "1.5.0",
            "_view_name": "HTMLView",
            "description": "",
            "description_tooltip": null,
            "layout": "IPY_MODEL_f68c5a1ad9054ea7802fde6b48be19fb",
            "placeholder": "​",
            "style": "IPY_MODEL_cc138e5047ff41f18e5d24968d11c161",
            "value": "100%"
          }
        },
        "45cffba306784c05b9d8b946902239cf": {
          "model_module": "@jupyter-widgets/base",
          "model_module_version": "1.2.0",
          "model_name": "LayoutModel",
          "state": {
            "_model_module": "@jupyter-widgets/base",
            "_model_module_version": "1.2.0",
            "_model_name": "LayoutModel",
            "_view_count": null,
            "_view_module": "@jupyter-widgets/base",
            "_view_module_version": "1.2.0",
            "_view_name": "LayoutView",
            "align_content": null,
            "align_items": null,
            "align_self": null,
            "border": null,
            "bottom": null,
            "display": null,
            "flex": null,
            "flex_flow": null,
            "grid_area": null,
            "grid_auto_columns": null,
            "grid_auto_flow": null,
            "grid_auto_rows": null,
            "grid_column": null,
            "grid_gap": null,
            "grid_row": null,
            "grid_template_areas": null,
            "grid_template_columns": null,
            "grid_template_rows": null,
            "height": null,
            "justify_content": null,
            "justify_items": null,
            "left": null,
            "margin": null,
            "max_height": null,
            "max_width": null,
            "min_height": null,
            "min_width": null,
            "object_fit": null,
            "object_position": null,
            "order": null,
            "overflow": null,
            "overflow_x": null,
            "overflow_y": null,
            "padding": null,
            "right": null,
            "top": null,
            "visibility": null,
            "width": null
          }
        },
        "4d6fde7c47874a80a5b3e7f8dcaee8d2": {
          "model_module": "@jupyter-widgets/controls",
          "model_module_version": "1.5.0",
          "model_name": "ProgressStyleModel",
          "state": {
            "_model_module": "@jupyter-widgets/controls",
            "_model_module_version": "1.5.0",
            "_model_name": "ProgressStyleModel",
            "_view_count": null,
            "_view_module": "@jupyter-widgets/base",
            "_view_module_version": "1.2.0",
            "_view_name": "StyleView",
            "bar_color": null,
            "description_width": ""
          }
        },
        "8e86debf0867440aa6eafdbc49425f32": {
          "model_module": "@jupyter-widgets/controls",
          "model_module_version": "1.5.0",
          "model_name": "HTMLModel",
          "state": {
            "_dom_classes": [],
            "_model_module": "@jupyter-widgets/controls",
            "_model_module_version": "1.5.0",
            "_model_name": "HTMLModel",
            "_view_count": null,
            "_view_module": "@jupyter-widgets/controls",
            "_view_module_version": "1.5.0",
            "_view_name": "HTMLView",
            "description": "",
            "description_tooltip": null,
            "layout": "IPY_MODEL_45cffba306784c05b9d8b946902239cf",
            "placeholder": "​",
            "style": "IPY_MODEL_227a8779bfd64558a07932224fb605a2",
            "value": " 528M/528M [00:02&lt;00:00, 244MB/s]"
          }
        },
        "cc138e5047ff41f18e5d24968d11c161": {
          "model_module": "@jupyter-widgets/controls",
          "model_module_version": "1.5.0",
          "model_name": "DescriptionStyleModel",
          "state": {
            "_model_module": "@jupyter-widgets/controls",
            "_model_module_version": "1.5.0",
            "_model_name": "DescriptionStyleModel",
            "_view_count": null,
            "_view_module": "@jupyter-widgets/base",
            "_view_module_version": "1.2.0",
            "_view_name": "StyleView",
            "description_width": ""
          }
        },
        "ed7ba62327124592904cd8b0a67a695c": {
          "model_module": "@jupyter-widgets/base",
          "model_module_version": "1.2.0",
          "model_name": "LayoutModel",
          "state": {
            "_model_module": "@jupyter-widgets/base",
            "_model_module_version": "1.2.0",
            "_model_name": "LayoutModel",
            "_view_count": null,
            "_view_module": "@jupyter-widgets/base",
            "_view_module_version": "1.2.0",
            "_view_name": "LayoutView",
            "align_content": null,
            "align_items": null,
            "align_self": null,
            "border": null,
            "bottom": null,
            "display": null,
            "flex": null,
            "flex_flow": null,
            "grid_area": null,
            "grid_auto_columns": null,
            "grid_auto_flow": null,
            "grid_auto_rows": null,
            "grid_column": null,
            "grid_gap": null,
            "grid_row": null,
            "grid_template_areas": null,
            "grid_template_columns": null,
            "grid_template_rows": null,
            "height": null,
            "justify_content": null,
            "justify_items": null,
            "left": null,
            "margin": null,
            "max_height": null,
            "max_width": null,
            "min_height": null,
            "min_width": null,
            "object_fit": null,
            "object_position": null,
            "order": null,
            "overflow": null,
            "overflow_x": null,
            "overflow_y": null,
            "padding": null,
            "right": null,
            "top": null,
            "visibility": null,
            "width": null
          }
        },
        "f68c5a1ad9054ea7802fde6b48be19fb": {
          "model_module": "@jupyter-widgets/base",
          "model_module_version": "1.2.0",
          "model_name": "LayoutModel",
          "state": {
            "_model_module": "@jupyter-widgets/base",
            "_model_module_version": "1.2.0",
            "_model_name": "LayoutModel",
            "_view_count": null,
            "_view_module": "@jupyter-widgets/base",
            "_view_module_version": "1.2.0",
            "_view_name": "LayoutView",
            "align_content": null,
            "align_items": null,
            "align_self": null,
            "border": null,
            "bottom": null,
            "display": null,
            "flex": null,
            "flex_flow": null,
            "grid_area": null,
            "grid_auto_columns": null,
            "grid_auto_flow": null,
            "grid_auto_rows": null,
            "grid_column": null,
            "grid_gap": null,
            "grid_row": null,
            "grid_template_areas": null,
            "grid_template_columns": null,
            "grid_template_rows": null,
            "height": null,
            "justify_content": null,
            "justify_items": null,
            "left": null,
            "margin": null,
            "max_height": null,
            "max_width": null,
            "min_height": null,
            "min_width": null,
            "object_fit": null,
            "object_position": null,
            "order": null,
            "overflow": null,
            "overflow_x": null,
            "overflow_y": null,
            "padding": null,
            "right": null,
            "top": null,
            "visibility": null,
            "width": null
          }
        }
      }
    }
  },
  "nbformat": 4,
  "nbformat_minor": 0
}
