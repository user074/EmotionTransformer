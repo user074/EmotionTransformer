{
  "cells": [
    {
      "cell_type": "markdown",
      "metadata": {
        "id": "wkpTbf-oFHeC"
      },
      "source": [
        "<a href=\"https://colab.research.google.com/github/user074/EmotionTransformer/blob/main/Latent_Transformer.ipynb\">\n",
        "  <img src=\"https://colab.research.google.com/assets/colab-badge.svg\" alt=\"Open In Colab\"/>\n",
        "</a>"
      ]
    },
    {
      "cell_type": "markdown",
      "source": [
        "# Install Modules"
      ],
      "metadata": {
        "id": "5e7xLIMAGM0Y"
      }
    },
    {
      "cell_type": "code",
      "execution_count": 1,
      "metadata": {
        "colab": {
          "base_uri": "https://localhost:8080/"
        },
        "id": "j1NXDvX8Ctco",
        "outputId": "780622b6-7e24-4011-e4ca-9b37c5ea9c8b"
      },
      "outputs": [
        {
          "output_type": "stream",
          "name": "stdout",
          "text": [
            "Mounted at /content/drive\n"
          ]
        }
      ],
      "source": [
        "# First, authenticate your Google Drive account\n",
        "from google.colab import drive\n",
        "drive.mount('/content/drive')"
      ]
    },
    {
      "cell_type": "code",
      "execution_count": 2,
      "metadata": {
        "id": "ER50Do5PFHeH"
      },
      "outputs": [],
      "source": [
        "# !curl -L -o imagenet_cin.yaml -C - 'https://app.koofr.net/links/90cbd5aa-ef70-4f5e-99bc-f12e5a89380e?path=%2F2021-04-03T19-39-50_cin_transformer%2Fconfigs%2F2021-04-03T19-39-50-project.yaml' #ImageNet (cIN)\n",
        "# !curl -L -o imagenet_cin.ckpt -C - 'https://app.koofr.net/content/links/90cbd5aa-ef70-4f5e-99bc-f12e5a89380e/files/get/last.ckpt?path=%2F2021-04-03T19-39-50_cin_transformer%2Fcheckpoints%2Flast.ckpt' #ImageNet (cIN)"
      ]
    },
    {
      "cell_type": "code",
      "execution_count": 3,
      "metadata": {
        "colab": {
          "base_uri": "https://localhost:8080/"
        },
        "id": "ZVn4A0QFFHeI",
        "outputId": "47fcd6a4-32ed-416a-e60b-140d9f595033"
      },
      "outputs": [
        {
          "output_type": "stream",
          "name": "stdout",
          "text": [
            "  Installing build dependencies ... \u001b[?25l\u001b[?25hdone\n",
            "  Getting requirements to build wheel ... \u001b[?25l\u001b[?25hdone\n",
            "  Preparing metadata (pyproject.toml) ... \u001b[?25l\u001b[?25hdone\n",
            "\u001b[2K     \u001b[90m━━━━━━━━━━━━━━━━━━━━━━━━━━━━━━━━━━━━━━━\u001b[0m \u001b[32m110.5/110.5 kB\u001b[0m \u001b[31m8.4 MB/s\u001b[0m eta \u001b[36m0:00:00\u001b[0m\n",
            "\u001b[2K     \u001b[90m━━━━━━━━━━━━━━━━━━━━━━━━━━━━━━━━━━━━━━━━\u001b[0m \u001b[32m1.0/1.0 MB\u001b[0m \u001b[31m34.5 MB/s\u001b[0m eta \u001b[36m0:00:00\u001b[0m\n",
            "\u001b[2K     \u001b[90m━━━━━━━━━━━━━━━━━━━━━━━━━━━━━━━━━━━━━━\u001b[0m \u001b[32m132.9/132.9 kB\u001b[0m \u001b[31m14.5 MB/s\u001b[0m eta \u001b[36m0:00:00\u001b[0m\n",
            "\u001b[2K     \u001b[90m━━━━━━━━━━━━━━━━━━━━━━━━━━━━━━━━━━━━━━\u001b[0m \u001b[32m212.2/212.2 kB\u001b[0m \u001b[31m23.2 MB/s\u001b[0m eta \u001b[36m0:00:00\u001b[0m\n",
            "\u001b[2K     \u001b[90m━━━━━━━━━━━━━━━━━━━━━━━━━━━━━━━━━━━━━━\u001b[0m \u001b[32m200.1/200.1 kB\u001b[0m \u001b[31m23.8 MB/s\u001b[0m eta \u001b[36m0:00:00\u001b[0m\n",
            "\u001b[2K     \u001b[90m━━━━━━━━━━━━━━━━━━━━━━━━━━━━━━━━━━━━━━\u001b[0m \u001b[32m114.2/114.2 kB\u001b[0m \u001b[31m11.6 MB/s\u001b[0m eta \u001b[36m0:00:00\u001b[0m\n",
            "\u001b[2K     \u001b[90m━━━━━━━━━━━━━━━━━━━━━━━━━━━━━━━━━━━━━━\u001b[0m \u001b[32m158.8/158.8 kB\u001b[0m \u001b[31m14.6 MB/s\u001b[0m eta \u001b[36m0:00:00\u001b[0m\n",
            "\u001b[2K     \u001b[90m━━━━━━━━━━━━━━━━━━━━━━━━━━━━━━━━━━━━━━\u001b[0m \u001b[32m264.6/264.6 kB\u001b[0m \u001b[31m22.1 MB/s\u001b[0m eta \u001b[36m0:00:00\u001b[0m\n",
            "\u001b[?25h  Building wheel for datasets (pyproject.toml) ... \u001b[?25l\u001b[?25hdone\n",
            "  Installing build dependencies ... \u001b[?25l\u001b[?25hdone\n",
            "  Getting requirements to build wheel ... \u001b[?25l\u001b[?25hdone\n",
            "  Preparing metadata (pyproject.toml) ... \u001b[?25l\u001b[?25hdone\n",
            "\u001b[2K     \u001b[90m━━━━━━━━━━━━━━━━━━━━━━━━━━━━━━━━━━━━━━━━\u001b[0m \u001b[32m7.8/7.8 MB\u001b[0m \u001b[31m44.1 MB/s\u001b[0m eta \u001b[36m0:00:00\u001b[0m\n",
            "\u001b[?25h  Building wheel for transformers (pyproject.toml) ... \u001b[?25l\u001b[?25hdone\n"
          ]
        }
      ],
      "source": [
        "!pip install -q git+https://github.com/huggingface/datasets\n",
        "!pip install -q git+https://github.com/huggingface/transformers\n",
        "\n",
        "import matplotlib.pyplot as plt\n",
        "from PIL import Image\n",
        "import numpy as np\n",
        "import sys\n",
        "import torch\n",
        "\n",
        "from datasets import *\n",
        "# from transformers import ViTFeatureExtractor\n",
        "# from transformers import ViTModel\n",
        "# from transformers import TrainingArguments, Trainer\n",
        "# from transformers.modeling_outputs import SequenceClassifierOutput\n",
        "import numpy as np\n",
        "import pandas as pd \n",
        "import torch.nn as nn\n",
        "import pickle\n",
        "from matplotlib import pyplot as plt\n",
        "%matplotlib inline \n",
        "import seaborn as sns\n",
        "from sklearn.metrics import confusion_matrix"
      ]
    },
    {
      "cell_type": "markdown",
      "metadata": {
        "id": "yrIM0yVvAMeh"
      },
      "source": [
        "# Clone the Repo and load the model checkpoiont"
      ]
    },
    {
      "cell_type": "code",
      "execution_count": 4,
      "metadata": {
        "colab": {
          "base_uri": "https://localhost:8080/"
        },
        "id": "2MfXvniLALvo",
        "outputId": "0c76c6e3-438c-4a0d-ea20-481c2148ec69"
      },
      "outputs": [
        {
          "output_type": "stream",
          "name": "stdout",
          "text": [
            "Cloning into 'taming-transformers'...\n",
            "remote: Enumerating objects: 1339, done.\u001b[K\n",
            "remote: Total 1339 (delta 0), reused 0 (delta 0), pack-reused 1339\u001b[K\n",
            "Receiving objects: 100% (1339/1339), 409.77 MiB | 6.63 MiB/s, done.\n",
            "Resolving deltas: 100% (281/281), done.\n",
            "/content/taming-transformers\n"
          ]
        }
      ],
      "source": [
        "!git clone https://github.com/CompVis/taming-transformers\n",
        "%cd taming-transformers"
      ]
    },
    {
      "cell_type": "code",
      "execution_count": 5,
      "metadata": {
        "id": "glxFpW6VIafU"
      },
      "outputs": [],
      "source": [
        "!mkdir logs"
      ]
    },
    {
      "cell_type": "code",
      "execution_count": 6,
      "metadata": {
        "id": "uWHPL0NjXsWi"
      },
      "outputs": [],
      "source": [
        "# !cp '/content/drive/MyDrive/Colab Notebooks/LatentTransformer/2020-11-13T21-41-45_faceshq_transformer.zip' /content/taming-transformers/logs\n",
        "# !unzip /content/taming-transformers/logs/2020-11-13T21-41-45_faceshq_transformer.zip -d /content/taming-transformers/logs/"
      ]
    },
    {
      "cell_type": "code",
      "execution_count": 7,
      "metadata": {
        "colab": {
          "base_uri": "https://localhost:8080/"
        },
        "id": "HyOPUOVYhX58",
        "outputId": "9643fde7-8fc5-4b49-fb88-4910a728bf4d"
      },
      "outputs": [
        {
          "output_type": "stream",
          "name": "stdout",
          "text": [
            "Archive:  /content/taming-transformers/logs/2020-11-09T13-33-36_faceshq_vqgan.zip\n",
            "   creating: /content/taming-transformers/logs/2020-11-09T13-33-36_faceshq_vqgan/\n",
            "   creating: /content/taming-transformers/logs/2020-11-09T13-33-36_faceshq_vqgan/checkpoints/\n",
            " extracting: /content/taming-transformers/logs/2020-11-09T13-33-36_faceshq_vqgan/checkpoints/last.ckpt  \n",
            "   creating: /content/taming-transformers/logs/2020-11-09T13-33-36_faceshq_vqgan/configs/\n",
            " extracting: /content/taming-transformers/logs/2020-11-09T13-33-36_faceshq_vqgan/configs/2020-11-09T13-33-36-lightning.yaml  \n",
            " extracting: /content/taming-transformers/logs/2020-11-09T13-33-36_faceshq_vqgan/configs/2020-11-09T13-33-36-project.yaml  \n"
          ]
        }
      ],
      "source": [
        "!cp '/content/drive/MyDrive/Colab Notebooks/LatentTransformer/2020-11-09T13-33-36_faceshq_vqgan.zip' /content/taming-transformers/logs\n",
        "!unzip /content/taming-transformers/logs/2020-11-09T13-33-36_faceshq_vqgan.zip -d /content/taming-transformers/logs/"
      ]
    },
    {
      "cell_type": "code",
      "execution_count": 8,
      "metadata": {
        "id": "qE4yA7oUfRVB"
      },
      "outputs": [],
      "source": [
        "# !mkdir -p logs/2020-11-09T13-31-51_sflckr/checkpoints\n",
        "# !wget 'https://heibox.uni-heidelberg.de/d/73487ab6e5314cb5adba/files/?p=%2Fcheckpoints%2Flast.ckpt&dl=1' -O 'logs/2020-11-09T13-31-51_sflckr/checkpoints/last.ckpt'\n",
        "# !mkdir logs/2020-11-09T13-31-51_sflckr/configs\n",
        "# !wget 'https://heibox.uni-heidelberg.de/d/73487ab6e5314cb5adba/files/?p=%2Fconfigs%2F2020-11-09T13-31-51-project.yaml&dl=1' -O 'logs/2020-11-09T13-31-51_sflckr/configs/2020-11-09T13-31-51-project.yaml'"
      ]
    },
    {
      "cell_type": "code",
      "execution_count": 9,
      "metadata": {
        "id": "jqdOcXC_IY6J"
      },
      "outputs": [],
      "source": [
        "%%capture\n",
        "%pip install omegaconf>=2.0.0 pytorch-lightning>=1.0.8 einops>=0.3.0\n",
        "sys.path.append(\".\")\n",
        "\n",
        "# also disable grad to save memory\n",
        "torch.set_grad_enabled(False)\n",
        "\n",
        "DEVICE = torch.device(\"cuda:0\" if torch.cuda.is_available() else \"cpu\")"
      ]
    },
    {
      "cell_type": "code",
      "execution_count": 10,
      "metadata": {
        "id": "enUZI2pwCqoq"
      },
      "outputs": [],
      "source": [
        "!mkdir output"
      ]
    },
    {
      "cell_type": "code",
      "execution_count": 11,
      "metadata": {
        "id": "E1YchRqXHWKn"
      },
      "outputs": [],
      "source": [
        "# !python scripts/make_samples.py --outdir output -r logs/2020-11-13T21-41-45_faceshq_transformer/\n"
      ]
    },
    {
      "cell_type": "code",
      "execution_count": 12,
      "metadata": {
        "colab": {
          "base_uri": "https://localhost:8080/"
        },
        "id": "a7LGfSN-oSPG",
        "outputId": "55b1ec4a-90dc-4ef5-d25a-2e2e0a4a206a"
      },
      "outputs": [
        {
          "output_type": "stream",
          "name": "stdout",
          "text": [
            "--2023-04-14 16:42:53--  https://heibox.uni-heidelberg.de/f/140747ba53464f49b476/?dl=1\n",
            "Resolving heibox.uni-heidelberg.de (heibox.uni-heidelberg.de)... 129.206.7.113\n",
            "Connecting to heibox.uni-heidelberg.de (heibox.uni-heidelberg.de)|129.206.7.113|:443... connected.\n",
            "HTTP request sent, awaiting response... 302 Found\n",
            "Location: https://heibox.uni-heidelberg.de/seafhttp/files/4ad67271-74bd-47fb-bed4-a19f238e4a02/last.ckpt [following]\n",
            "--2023-04-14 16:42:53--  https://heibox.uni-heidelberg.de/seafhttp/files/4ad67271-74bd-47fb-bed4-a19f238e4a02/last.ckpt\n",
            "Reusing existing connection to heibox.uni-heidelberg.de:443.\n",
            "HTTP request sent, awaiting response... 200 OK\n",
            "Length: 957954257 (914M) [application/octet-stream]\n",
            "Saving to: ‘logs/vqgan_imagenet_f16_1024/checkpoints/last.ckpt’\n",
            "\n",
            "logs/vqgan_imagenet 100%[===================>] 913.58M  14.9MB/s    in 63s     \n",
            "\n",
            "2023-04-14 16:43:56 (14.5 MB/s) - ‘logs/vqgan_imagenet_f16_1024/checkpoints/last.ckpt’ saved [957954257/957954257]\n",
            "\n",
            "--2023-04-14 16:43:56--  https://heibox.uni-heidelberg.de/f/6ecf2af6c658432c8298/?dl=1\n",
            "Resolving heibox.uni-heidelberg.de (heibox.uni-heidelberg.de)... 129.206.7.113\n",
            "Connecting to heibox.uni-heidelberg.de (heibox.uni-heidelberg.de)|129.206.7.113|:443... connected.\n",
            "HTTP request sent, awaiting response... 302 Found\n",
            "Location: https://heibox.uni-heidelberg.de/seafhttp/files/88397284-cf03-432e-833b-7c0aa4124fc8/model.yaml [following]\n",
            "--2023-04-14 16:43:56--  https://heibox.uni-heidelberg.de/seafhttp/files/88397284-cf03-432e-833b-7c0aa4124fc8/model.yaml\n",
            "Reusing existing connection to heibox.uni-heidelberg.de:443.\n",
            "HTTP request sent, awaiting response... 200 OK\n",
            "Length: 645 [application/octet-stream]\n",
            "Saving to: ‘logs/vqgan_imagenet_f16_1024/configs/model.yaml’\n",
            "\n",
            "logs/vqgan_imagenet 100%[===================>]     645  --.-KB/s    in 0.02s   \n",
            "\n",
            "2023-04-14 16:43:56 (29.5 KB/s) - ‘logs/vqgan_imagenet_f16_1024/configs/model.yaml’ saved [645/645]\n",
            "\n"
          ]
        }
      ],
      "source": [
        "# # download a VQGAN with f=16 (16x compression per spatial dimension) and with a codebook with 1024 entries\n",
        "!mkdir -p logs/vqgan_imagenet_f16_1024/checkpoints\n",
        "!mkdir -p logs/vqgan_imagenet_f16_1024/configs\n",
        "!wget 'https://heibox.uni-heidelberg.de/f/140747ba53464f49b476/?dl=1' -O 'logs/vqgan_imagenet_f16_1024/checkpoints/last.ckpt' \n",
        "!wget 'https://heibox.uni-heidelberg.de/f/6ecf2af6c658432c8298/?dl=1' -O 'logs/vqgan_imagenet_f16_1024/configs/model.yaml' \n",
        "\n",
        "# # download a VQGAN with f=16 (16x compression per spatial dimension) and with a larger codebook (16384 entries)\n",
        "# !mkdir -p logs/vqgan_imagenet_f16_16384/checkpoints\n",
        "# !mkdir -p logs/vqgan_imagenet_f16_16384/configs\n",
        "# !wget 'https://heibox.uni-heidelberg.de/f/867b05fc8c4841768640/?dl=1' -O 'logs/vqgan_imagenet_f16_16384/checkpoints/last.ckpt' \n",
        "# !wget 'https://heibox.uni-heidelberg.de/f/274fb24ed38341bfa753/?dl=1' -O 'logs/vqgan_imagenet_f16_16384/configs/model.yaml' \n",
        "\n",
        "# download a VQGAN with f=8 (8x compression per spatial dimension) and a larger codebook-size with 8192 entries\n",
        "# !mkdir -p logs/vqgan_gumbel_f8/checkpoints\n",
        "# !mkdir -p logs/vqgan_gumbel_f8/configs\n",
        "# !wget 'https://heibox.uni-heidelberg.de/f/34a747d5765840b5a99d/?dl=1' -O 'logs/vqgan_gumbel_f8/checkpoints/last.ckpt' \n",
        "# !wget 'https://heibox.uni-heidelberg.de/f/b24d14998a8d4f19a34f/?dl=1' -O 'logs/vqgan_gumbel_f8/configs/model.yaml' "
      ]
    },
    {
      "cell_type": "code",
      "execution_count": 13,
      "metadata": {
        "id": "pxHYGnN1SxNa"
      },
      "outputs": [],
      "source": [
        "!cp '/content/drive/MyDrive/Colab Notebooks/LatentTransformer/utils.py' '/content/taming-transformers/taming/data'"
      ]
    },
    {
      "cell_type": "markdown",
      "metadata": {
        "id": "OWFn8FumiqyM"
      },
      "source": [
        "# Utility Functions from VQGAN"
      ]
    },
    {
      "cell_type": "code",
      "execution_count": 14,
      "metadata": {
        "id": "Mw3nem4Xit9i"
      },
      "outputs": [],
      "source": [
        "import yaml\n",
        "import torch\n",
        "from omegaconf import OmegaConf\n",
        "from taming.models.vqgan import VQModel, GumbelVQ\n",
        "\n",
        "def load_config(config_path, display=False):\n",
        "  config = OmegaConf.load(config_path)\n",
        "  if display:\n",
        "    print(yaml.dump(OmegaConf.to_container(config)))\n",
        "  return config\n",
        "\n",
        "def load_vqgan(config, ckpt_path=None, is_gumbel=False):\n",
        "  if is_gumbel:\n",
        "    model = GumbelVQ(**config.model.params)\n",
        "  else:\n",
        "    model = VQModel(**config.model.params)\n",
        "  if ckpt_path is not None:\n",
        "    sd = torch.load(ckpt_path, map_location=\"cpu\")[\"state_dict\"]\n",
        "    missing, unexpected = model.load_state_dict(sd, strict=False)\n",
        "  return model.eval()\n",
        "\n",
        "def preprocess_vqgan(x):\n",
        "  x = 2.*x - 1.\n",
        "  return x\n",
        "\n",
        "def custom_to_pil(x):\n",
        "  x = x.detach().cpu()\n",
        "  x = torch.clamp(x, -1., 1.)\n",
        "  x = (x + 1.)/2.\n",
        "  x = x.permute(1,2,0).numpy()\n",
        "  x = (255*x).astype(np.uint8)\n",
        "  x = Image.fromarray(x)\n",
        "  if not x.mode == \"RGB\":\n",
        "    x = x.convert(\"RGB\")\n",
        "  return x\n",
        "\n",
        "def reconstruct_with_vqgan(x, model):\n",
        "  # could also use model(x) for reconstruction but use explicit encoding and decoding here\n",
        "  z, _, [_, _, indices] = model.encode(x)\n",
        "  print(f\"VQGAN --- {model.__class__.__name__}: latent shape: {z.shape[2:]}\")\n",
        "  xrec = model.decode(z)\n",
        "  return xrec"
      ]
    },
    {
      "cell_type": "code",
      "execution_count": 14,
      "metadata": {
        "id": "tVuqVlytAHL0"
      },
      "outputs": [],
      "source": []
    },
    {
      "cell_type": "markdown",
      "metadata": {
        "id": "NVYoccehnZtf"
      },
      "source": [
        "# Load VQGAN 1024 model"
      ]
    },
    {
      "cell_type": "code",
      "execution_count": null,
      "metadata": {
        "colab": {
          "base_uri": "https://localhost:8080/"
        },
        "id": "W2oY9Wudnbhf",
        "outputId": "e56f7baa-9e59-4f0d-deb5-de5dfb54bf31"
      },
      "outputs": [
        {
          "output_type": "stream",
          "name": "stdout",
          "text": [
            "Working with z of shape (1, 256, 16, 16) = 65536 dimensions.\n"
          ]
        },
        {
          "output_type": "stream",
          "name": "stderr",
          "text": [
            "/usr/local/lib/python3.9/dist-packages/torchvision/models/_utils.py:208: UserWarning: The parameter 'pretrained' is deprecated since 0.13 and may be removed in the future, please use 'weights' instead.\n",
            "  warnings.warn(\n",
            "/usr/local/lib/python3.9/dist-packages/torchvision/models/_utils.py:223: UserWarning: Arguments other than a weight enum or `None` for 'weights' are deprecated since 0.13 and may be removed in the future. The current behavior is equivalent to passing `weights=VGG16_Weights.IMAGENET1K_V1`. You can also use `weights=VGG16_Weights.DEFAULT` to get the most up-to-date weights.\n",
            "  warnings.warn(msg)\n",
            "Downloading: \"https://download.pytorch.org/models/vgg16-397923af.pth\" to /root/.cache/torch/hub/checkpoints/vgg16-397923af.pth\n",
            "100%|██████████| 528M/528M [00:02<00:00, 221MB/s]\n"
          ]
        },
        {
          "output_type": "stream",
          "name": "stdout",
          "text": [
            "Downloading vgg_lpips model from https://heibox.uni-heidelberg.de/f/607503859c864bc1b30b/?dl=1 to taming/modules/autoencoder/lpips/vgg.pth\n"
          ]
        },
        {
          "output_type": "stream",
          "name": "stderr",
          "text": [
            "8.19kB [00:00, 182kB/s]                    "
          ]
        },
        {
          "output_type": "stream",
          "name": "stdout",
          "text": [
            "loaded pretrained LPIPS loss from taming/modules/autoencoder/lpips/vgg.pth\n"
          ]
        },
        {
          "output_type": "stream",
          "name": "stderr",
          "text": [
            "\n"
          ]
        },
        {
          "output_type": "stream",
          "name": "stdout",
          "text": [
            "VQLPIPSWithDiscriminator running with hinge loss.\n"
          ]
        }
      ],
      "source": [
        "config1024 = load_config(\"logs/vqgan_imagenet_f16_1024/configs/model.yaml\", display=False)\n",
        "# config16384 = load_config(\"logs/vqgan_imagenet_f16_16384/configs/model.yaml\", display=False)\n",
        "\n",
        "model1024 = load_vqgan(config1024, ckpt_path=\"logs/vqgan_imagenet_f16_1024/checkpoints/last.ckpt\").to(DEVICE)\n",
        "# model16384 = load_vqgan(config16384, ckpt_path=\"logs/vqgan_imagenet_f16_16384/checkpoints/last.ckpt\").to(DEVICE)"
      ]
    },
    {
      "cell_type": "markdown",
      "metadata": {
        "id": "N1AEUK7RnefN"
      },
      "source": [
        "Reduce Image size with this"
      ]
    },
    {
      "cell_type": "code",
      "execution_count": null,
      "metadata": {
        "id": "7OpUCZvRngNP"
      },
      "outputs": [],
      "source": [
        "# config32x32 = load_config(\"logs/vqgan_gumbel_f8/configs/model.yaml\", display=False)\n",
        "# model32x32 = load_vqgan(config32x32, ckpt_path=\"logs/vqgan_gumbel_f8/checkpoints/last.ckpt\", is_gumbel=True).to(DEVICE)"
      ]
    },
    {
      "cell_type": "markdown",
      "metadata": {
        "id": "eSirCOPbvREu"
      },
      "source": [
        "# Load FaceHQ model and show image from the code book"
      ]
    },
    {
      "cell_type": "code",
      "execution_count": 15,
      "metadata": {
        "colab": {
          "base_uri": "https://localhost:8080/"
        },
        "id": "AWg6YEXJ_P2i",
        "outputId": "387fa0d0-ea6f-449a-dafd-408a28e05353"
      },
      "outputs": [
        {
          "output_type": "stream",
          "name": "stdout",
          "text": [
            "data:\n",
            "  params:\n",
            "    batch_size: 3\n",
            "    num_workers: 8\n",
            "    train:\n",
            "      params:\n",
            "        crop_size: 256\n",
            "        size: 256\n",
            "      target: taming.data.faceshq.FacesHQTrain\n",
            "    validation:\n",
            "      params:\n",
            "        crop_size: 256\n",
            "        size: 256\n",
            "      target: taming.data.faceshq.FacesHQValidation\n",
            "  target: main.DataModuleFromConfig\n",
            "model:\n",
            "  base_learning_rate: 4.5e-06\n",
            "  params:\n",
            "    ddconfig:\n",
            "      attn_resolutions:\n",
            "      - 16\n",
            "      ch: 128\n",
            "      ch_mult:\n",
            "      - 1\n",
            "      - 1\n",
            "      - 2\n",
            "      - 2\n",
            "      - 4\n",
            "      double_z: false\n",
            "      dropout: 0.0\n",
            "      in_channels: 3\n",
            "      num_res_blocks: 2\n",
            "      out_ch: 3\n",
            "      resolution: 256\n",
            "      z_channels: 256\n",
            "    embed_dim: 256\n",
            "    lossconfig:\n",
            "      params:\n",
            "        codebook_weight: 1.0\n",
            "        disc_conditional: false\n",
            "        disc_in_channels: 3\n",
            "        disc_start: 30001\n",
            "        disc_weight: 0.8\n",
            "      target: taming.modules.losses.vqperceptual.VQLPIPSWithDiscriminator\n",
            "    n_embed: 1024\n",
            "  target: taming.models.vqgan.VQModel\n",
            "\n",
            "Working with z of shape (1, 256, 16, 16) = 65536 dimensions.\n"
          ]
        },
        {
          "output_type": "stream",
          "name": "stderr",
          "text": [
            "/usr/local/lib/python3.9/dist-packages/torchvision/models/_utils.py:208: UserWarning: The parameter 'pretrained' is deprecated since 0.13 and may be removed in the future, please use 'weights' instead.\n",
            "  warnings.warn(\n",
            "/usr/local/lib/python3.9/dist-packages/torchvision/models/_utils.py:223: UserWarning: Arguments other than a weight enum or `None` for 'weights' are deprecated since 0.13 and may be removed in the future. The current behavior is equivalent to passing `weights=VGG16_Weights.IMAGENET1K_V1`. You can also use `weights=VGG16_Weights.DEFAULT` to get the most up-to-date weights.\n",
            "  warnings.warn(msg)\n",
            "Downloading: \"https://download.pytorch.org/models/vgg16-397923af.pth\" to /root/.cache/torch/hub/checkpoints/vgg16-397923af.pth\n",
            "100%|██████████| 528M/528M [00:12<00:00, 43.0MB/s]\n"
          ]
        },
        {
          "output_type": "stream",
          "name": "stdout",
          "text": [
            "Downloading vgg_lpips model from https://heibox.uni-heidelberg.de/f/607503859c864bc1b30b/?dl=1 to taming/modules/autoencoder/lpips/vgg.pth\n"
          ]
        },
        {
          "output_type": "stream",
          "name": "stderr",
          "text": [
            "8.19kB [00:00, 1.03MB/s]                   "
          ]
        },
        {
          "output_type": "stream",
          "name": "stdout",
          "text": [
            "loaded pretrained LPIPS loss from taming/modules/autoencoder/lpips/vgg.pth\n"
          ]
        },
        {
          "output_type": "stream",
          "name": "stderr",
          "text": [
            "\n"
          ]
        },
        {
          "output_type": "stream",
          "name": "stdout",
          "text": [
            "VQLPIPSWithDiscriminator running with hinge loss.\n"
          ]
        }
      ],
      "source": [
        "configFace = load_config(\"logs/2020-11-09T13-33-36_faceshq_vqgan/configs/2020-11-09T13-33-36-project.yaml\", display=True)\n",
        "modelFace = load_vqgan(configFace, ckpt_path=\"logs/2020-11-09T13-33-36_faceshq_vqgan/checkpoints/last.ckpt\").to(DEVICE)"
      ]
    },
    {
      "cell_type": "code",
      "execution_count": 16,
      "metadata": {
        "id": "41H9JA-Pvjtx"
      },
      "outputs": [],
      "source": [
        "# vqgan_model = VQModel()\n",
        "# vqgan_model.load_state_dict(torch.load(\"logs/vqgan_gumbel_f8/checkpoints/last.ckpt\"))\n",
        "# vqgan_model.to(DEVICE)"
      ]
    },
    {
      "cell_type": "markdown",
      "metadata": {
        "id": "g1hDHsQ7FHeQ"
      },
      "source": [
        "## Showing the decoded face"
      ]
    },
    {
      "cell_type": "markdown",
      "metadata": {
        "id": "OTi8EB9dFHeQ"
      },
      "source": [
        "The decoded face with the faceHQ model"
      ]
    },
    {
      "cell_type": "code",
      "execution_count": 17,
      "metadata": {
        "id": "b-luy81MYgjZ"
      },
      "outputs": [],
      "source": [
        "!cp '/content/drive/MyDrive/Colab Notebooks/LatentTransformer/00019.jpg' /content"
      ]
    },
    {
      "cell_type": "code",
      "execution_count": 18,
      "metadata": {
        "colab": {
          "base_uri": "https://localhost:8080/",
          "height": 0
        },
        "id": "eVJcYH4uvXwN",
        "outputId": "75698bde-e41e-4dd3-bb10-d53d35c8f9cb"
      },
      "outputs": [
        {
          "output_type": "stream",
          "name": "stderr",
          "text": [
            "WARNING:matplotlib.image:Clipping input data to the valid range for imshow with RGB data ([0..1] for floats or [0..255] for integers).\n"
          ]
        },
        {
          "output_type": "execute_result",
          "data": {
            "text/plain": [
              "<matplotlib.image.AxesImage at 0x7f9a0aa72ee0>"
            ]
          },
          "metadata": {},
          "execution_count": 18
        },
        {
          "output_type": "display_data",
          "data": {
            "text/plain": [
              "<Figure size 640x480 with 1 Axes>"
            ],
            "image/png": "[encoded data removed]"
          },
          "metadata": {}
        }
      ],
      "source": [
        "from PIL import Image\n",
        "\n",
        "im = Image.open('/content/00019.jpg').convert('RGB').resize((256, 256))\n",
        "im_tensor = torch.tensor(np.array(im)).permute(2, 0, 1) / 255\n",
        "z, a, b = modelFace.encode(im_tensor.to(DEVICE).unsqueeze(0) * 2 - 1) \n",
        "idx = b[-1] # The codebook entries (16x16 tokens so shape is [256])\n",
        "z_q = modelFace.quantize.embedding(idx).reshape(1, 16, 16, 256).permute(0,3,1,2) #quantize:quant, emb_loss, info \n",
        "plt.imshow(modelFace.decode(z_q).add(1).div(2).cpu().squeeze().permute(1, 2, 0))"
      ]
    },
    {
      "cell_type": "markdown",
      "metadata": {
        "id": "vd-uGdpkFHeQ"
      },
      "source": [
        "The decoded face witht he imageNet 1024 codebook"
      ]
    },
    {
      "cell_type": "code",
      "execution_count": 19,
      "metadata": {
        "id": "Uy8-hWXmbJnS"
      },
      "outputs": [],
      "source": [
        "# im = Image.open('/content/00019.jpg').convert('RGB').resize((256, 256))\n",
        "# im_tensor = torch.tensor(np.array(im)).permute(2, 0, 1) / 255\n",
        "# z, a, b = model1024.encode(im_tensor.to(DEVICE).unsqueeze(0) * 2 - 1) \n",
        "# idx = b[-1] # The codebook entries (16x16 tokens so shape is [256])\n",
        "# z_q = model1024.quantize.embedding(idx).reshape(1, 16, 16, 256).permute(0,3,1,2) #quantize:quant, emb_loss, info \n",
        "# plt.imshow(model1024.decode(z_q).add(1).div(2).cpu().squeeze().permute(1, 2, 0))"
      ]
    },
    {
      "cell_type": "markdown",
      "metadata": {
        "id": "6LYgtWEWFHeR"
      },
      "source": [
        "# Copy and clean the FER data then turn them into Quantized indexes"
      ]
    },
    {
      "cell_type": "markdown",
      "metadata": {
        "id": "lcdR3itTFHeR"
      },
      "source": [
        "Some code are referenced from here: https://github.com/lwachowiak/Emotion-Recognition-with-ViT/blob/main/Emotion_Recognition_using_the_Vision_Transformer.ipynb"
      ]
    },
    {
      "cell_type": "code",
      "execution_count": null,
      "metadata": {
        "id": "Lsok---DFHeR"
      },
      "outputs": [],
      "source": [
        "!cp '/content/drive/MyDrive/Colab Notebooks/LatentTransformer/fertest.jpg' /content\n",
        "!cp '/content/drive/MyDrive/CUNY-Phd/data/fer2013/fer2013.csv' /content/"
      ]
    },
    {
      "cell_type": "code",
      "execution_count": null,
      "metadata": {
        "id": "avYTWsh_FHeR"
      },
      "outputs": [],
      "source": [
        "string_labels = ['Anger', 'Disgust', 'Fear', 'Happiness', 'Sadness', 'Surprise', 'Neutral']"
      ]
    },
    {
      "cell_type": "code",
      "execution_count": null,
      "metadata": {
        "id": "4IH7Y9B6FHeR"
      },
      "outputs": [],
      "source": [
        "fer_df = pd.read_csv(\"/content/fer2013.csv\")  # available on kaggle\n",
        "fer_df.head()"
      ]
    },
    {
      "cell_type": "markdown",
      "metadata": {
        "id": "zKklWgEWFHeS"
      },
      "source": [
        "### Get the FER data prepration into the pandas dataframe"
      ]
    },
    {
      "cell_type": "code",
      "execution_count": null,
      "metadata": {
        "id": "Jyo0qY_aFHeS"
      },
      "outputs": [],
      "source": [
        "def prepare_fer_data(data):\n",
        "    \"\"\" Prepare fer data for vision transformer \n",
        "        input: fer df loaded from csv\n",
        "        output: df that can be load into a huggingface dataset \"\"\"\n",
        "\n",
        "    # outputs\n",
        "    image_list = []\n",
        "    image_labels = list(map(int, data['emotion']))\n",
        "    \n",
        "    # go over all images\n",
        "    for i, row in enumerate(data.index):\n",
        "        image = np.fromstring(data.loc[row, 'pixels'], dtype=int, sep=' ')\n",
        "        image = np.reshape(image, (48, 48))\n",
        "        # adapt grayscale to rgb format (change single values to triplets of the same value)\n",
        "        image = image[..., np.newaxis]\n",
        "        image = np.repeat(image, 3, axis=2)\n",
        "        # convert to list format used by the later functions\n",
        "        image = image.astype(int).tolist()\n",
        "        # save to output\n",
        "        image_list.append(image)\n",
        "\n",
        "    output_df = pd.DataFrame(list(zip(image_list, image_labels)),\n",
        "               columns =['img', 'label'])\n",
        "        \n",
        "    return output_df"
      ]
    },
    {
      "cell_type": "code",
      "execution_count": null,
      "metadata": {
        "id": "F-RD9ehOFHeS"
      },
      "outputs": [],
      "source": [
        "fer_train_df = prepare_fer_data(fer_df[fer_df['Usage']=='Training'])\n",
        "fer_test_df = prepare_fer_data(fer_df[fer_df['Usage']=='PrivateTest'])\n",
        "fer_val_df = prepare_fer_data(fer_df[fer_df['Usage']=='PublicTest'])"
      ]
    },
    {
      "cell_type": "code",
      "execution_count": null,
      "metadata": {
        "id": "dHvjkRIBFHeS"
      },
      "outputs": [],
      "source": [
        "fer_train_df.head()"
      ]
    },
    {
      "cell_type": "code",
      "execution_count": null,
      "metadata": {
        "id": "K_WFs4YGFHeS"
      },
      "outputs": [],
      "source": [
        "print(len(fer_train_df))\n",
        "print(len(fer_test_df))\n",
        "print(len(fer_val_df))"
      ]
    },
    {
      "cell_type": "code",
      "execution_count": null,
      "metadata": {
        "id": "22z60JRQFHeT"
      },
      "outputs": [],
      "source": [
        "train_ds = Dataset.from_pandas(fer_train_df)\n",
        "#undersample train due to memory issues on google colab\n",
        "# splits = train_ds.train_test_split(test_size=0.15)\n",
        "# train_ds = splits[\"train\"]\n",
        "\n",
        "val_ds = Dataset.from_pandas(fer_val_df)\n",
        "test_ds = Dataset.from_pandas(fer_test_df)\n",
        "\n",
        "train_ds"
      ]
    },
    {
      "cell_type": "code",
      "execution_count": null,
      "metadata": {
        "id": "vIQ9wYTSFHeT"
      },
      "outputs": [],
      "source": [
        "# image size \n",
        "np.array(train_ds[0][\"img\"]).shape"
      ]
    },
    {
      "cell_type": "markdown",
      "metadata": {
        "id": "dlkylihTFHeT"
      },
      "source": [
        "### Preprocess with 1024 model to save to pickle file\n",
        "- Convert the quantized value of the model1024\n",
        "- Provide index of the quantized value in the codebook"
      ]
    },
    {
      "cell_type": "code",
      "execution_count": null,
      "metadata": {
        "id": "u9JsV05sFHeT"
      },
      "outputs": [],
      "source": [
        "from PIL import Image\n",
        "\n",
        "# Function to convert a value to a Python list, handling integers and empty tensors\n",
        "def mixed_to_list(value):\n",
        "    if isinstance(value, torch.Tensor):\n",
        "        if value.nelement() == 0:  # Check if the tensor is empty\n",
        "            return []\n",
        "        else:\n",
        "            return value.numpy().tolist()\n",
        "    elif isinstance(value, int):\n",
        "        return [value]\n",
        "    else:\n",
        "        raise ValueError(f\"Unsupported data type: {type(value)}\")\n",
        "\n",
        "def preprocess_images(examples):\n",
        "    \"\"\" Prepare datasets for vision transformer \n",
        "    input: dataset with images in their orignal size \n",
        "    output: dataset with pixelvalues computed by the feature extractor added \"\"\"\n",
        "    # get batch of images\n",
        "    images = examples['img']\n",
        "    # convert to list of NumPy arrays of shape (C, H, W)\n",
        "    # print('convert')\n",
        "    # images = [np.array(image, dtype=np.uint8) for image in images]\n",
        "    # # images = [np.moveaxis(image, source=-1, destination=0) for image in images]\n",
        "    # # preprocess and add pixel_values\n",
        "    # ims = [Image.fromarray(image).convert('RGB').resize((256, 256)) for image in images]\n",
        "    # print(ims[0].shape)\n",
        "    # im_tensors = [torch.tensor(np.array(im)).permute(2, 0, 1) / 255 for im in ims]\n",
        "    # print('tensor finish')\n",
        "    result = list(map(model_quantizer, images))\n",
        "    # inputs = feature_extractor(images=images)\n",
        "    df = pd.DataFrame(result, columns=['quantize_values', 'index'])\n",
        "    examples['quantize_values'] = df['quantize_values'].apply(mixed_to_list)\n",
        "    examples['index'] = df['index'].apply(mixed_to_list)\n",
        "\n",
        "    return examples\n",
        "\n",
        "\n",
        "def model_quantizer(image):\n",
        "    im = Image.fromarray(np.array(image, dtype=np.uint8)).convert('RGB').resize((256, 256))\n",
        "    im_tensor = torch.tensor(np.array(im)).permute(2, 0, 1) / 255\n",
        "    z, a, b = model1024.encode(im_tensor.to(DEVICE).unsqueeze(0) * 2 - 1) \n",
        "    idx = b[-1] # The codebook entries (16x16 tokens so shape is [256])\n",
        "    z_q = model1024.quantize.embedding(idx).reshape(1, 16, 16, 256).permute(0,3,1,2) #quantize:quant, emb_loss, info \n",
        "    return (z_q.cpu(), idx.cpu())\n"
      ]
    },
    {
      "cell_type": "code",
      "execution_count": null,
      "metadata": {
        "id": "rTidgPUhFHeU"
      },
      "outputs": [],
      "source": [
        "# #It is outdated since the returned value is on CPU not GPU\n",
        "# def decode_image(image):\n",
        "#     return model1024.decode(image).add(1).div(2).cpu().squeeze().permute(1, 2, 0)\n",
        "\n",
        "#Take the data on GPU before decode it\n",
        "def decode_list_image(image):\n",
        "    torch_image = torch.tensor(image).to(DEVICE)\n",
        "    return model1024.decode(torch_image).add(1).div(2).cpu().squeeze().permute(1, 2, 0)\n"
      ]
    },
    {
      "cell_type": "code",
      "execution_count": null,
      "metadata": {
        "id": "FK1G4jUoFHeU"
      },
      "outputs": [],
      "source": [
        "example1 = preprocess_images(train_ds[0:2])"
      ]
    },
    {
      "cell_type": "code",
      "execution_count": null,
      "metadata": {
        "id": "xi0zxID-FHeU"
      },
      "outputs": [],
      "source": [
        "plt.figure(figsize=(20, 10))\n",
        "#show one original image\n",
        "plt.subplot(1, 2, 1)\n",
        "plt.imshow(np.array(train_ds[0][\"img\"]))\n",
        "plt.title('Original Image')\n",
        "plt.subplot(1, 2, 2)\n",
        "#show one decoded quantized image\n",
        "plt.imshow(decode_list_image(example1['quantize_values'][0]))\n",
        "plt.title('Quantized Image')\n",
        "plt.show()\n",
        "\n"
      ]
    },
    {
      "cell_type": "code",
      "execution_count": null,
      "metadata": {
        "id": "hJbea4TNFHeU"
      },
      "outputs": [],
      "source": [
        "#example1['quantize_values'][0].shape\n",
        "#torch.Size([1, 256, 16, 16])\n",
        "\n",
        "#model1024.decode(example1['quantize_values'][0]).shape\n",
        "#torch.Size([1, 3, 256, 256])"
      ]
    },
    {
      "cell_type": "markdown",
      "metadata": {
        "id": "pbtYMfw_FHeU"
      },
      "source": [
        "train_ds columns: 'img', 'label', 'quantize_values', 'index'\n",
        "quantize_values are the quantized value results. \n",
        "index are the indexes in the codebook"
      ]
    },
    {
      "cell_type": "markdown",
      "metadata": {
        "id": "yRBRG6-oFHeU"
      },
      "source": [
        "Save the data to the google drive as pickle file. The data are off from the GPU and torch and are saved in lists and arrays. If we need to re-import the data we need to be aware and use "
      ]
    },
    {
      "cell_type": "code",
      "execution_count": null,
      "metadata": {
        "id": "XLkcTvFSFHeU"
      },
      "outputs": [],
      "source": [
        "# features of the new dataset with an additional column for the preprocess 224x224x3 images \n",
        "features = Features({\n",
        "    'label': ClassLabel(names=['Angry', 'Disgust', 'Fear', 'Happy', 'Sad', 'Surprise', 'Neutral']),\n",
        "    'img': Array3D(dtype=\"int64\", shape=(48,48,3)),\n",
        "    'quantize_values': Array4D(dtype=\"float32\", shape=(1, 256, 16, 16)),\n",
        "    'index': Sequence(feature=Value(\"int64\"))\n",
        "    # 'index': Array2D(dtype=\"int64\", shape=(256, 1))\n",
        "})"
      ]
    },
    {
      "cell_type": "code",
      "execution_count": null,
      "metadata": {
        "id": "auY5gJsrFHeV"
      },
      "outputs": [],
      "source": [
        "preprocessed_test_ds = test_ds.map(preprocess_images, batched=True, features=features)\n",
        "with open('preprocessed_test_ds_1024.pickle', 'wb') as handle:\n",
        "   pickle.dump(preprocessed_test_ds, handle, protocol=pickle.HIGHEST_PROTOCOL)"
      ]
    },
    {
      "cell_type": "code",
      "execution_count": null,
      "metadata": {
        "id": "CVESmd29FHeV"
      },
      "outputs": [],
      "source": [
        "!cp 'preprocessed_test_ds_1024.pickle' '/content/drive/MyDrive/Colab Notebooks/LatentTransformer'"
      ]
    },
    {
      "cell_type": "code",
      "execution_count": null,
      "metadata": {
        "id": "FFis6B-OFHeV"
      },
      "outputs": [],
      "source": [
        "preprocessed_val_ds = val_ds.map(preprocess_images, batched=True, features=features)\n",
        "with open('preprocessed_val_ds_1024.pickle', 'wb') as handle:\n",
        "   pickle.dump(preprocessed_val_ds, handle, protocol=pickle.HIGHEST_PROTOCOL)"
      ]
    },
    {
      "cell_type": "code",
      "execution_count": null,
      "metadata": {
        "id": "7_gFGFCbFHeV"
      },
      "outputs": [],
      "source": [
        "!cp 'preprocessed_val_ds_1024.pickle' '/content/drive/MyDrive/Colab Notebooks/LatentTransformer'"
      ]
    },
    {
      "cell_type": "code",
      "execution_count": null,
      "metadata": {
        "id": "mUxnsb4NFHeV"
      },
      "outputs": [],
      "source": [
        "# batch_size=1 probably to avoid local pointer. So we can save the entire data to disk: Not working\n",
        "# Might be memory issue\n",
        "preprocessed_train_ds = train_ds.map(preprocess_images, batched=True, batch_size=1, features=features)\n",
        "with open('preprocessed_train_ds_1024.pickle', 'wb') as handle:\n",
        "    pickle.dump(preprocessed_train_ds, handle, protocol=pickle.HIGHEST_PROTOCOL)\n"
      ]
    },
    {
      "cell_type": "code",
      "execution_count": null,
      "metadata": {
        "id": "OiqzJW-9FHeV"
      },
      "outputs": [],
      "source": [
        "!cp 'preprocessed_train_ds_1024.pickle' '/content/drive/MyDrive/Colab Notebooks/LatentTransformer'"
      ]
    },
    {
      "cell_type": "code",
      "execution_count": null,
      "metadata": {
        "id": "zQGXDsPXFHeV"
      },
      "outputs": [],
      "source": [
        "preprocessed_train_ds"
      ]
    },
    {
      "cell_type": "code",
      "execution_count": null,
      "metadata": {
        "id": "K7smzmgZFHeW"
      },
      "outputs": [],
      "source": [
        "# show 100 images from the dataset\n",
        "fig, axes = plt.subplots(10,10, figsize=(11,11))\n",
        "for i,ax in enumerate(axes.flat):\n",
        "  data_for_image = np.array(preprocessed_train_ds[i][\"pixel_values\"])\n",
        "  data_for_image[data_for_image < 0] = 0 \n",
        "  ax.imshow(np.transpose(data_for_image, (0, 1,2)), interpolation='nearest')\n",
        "  ax.set_axis_off()\n"
      ]
    },
    {
      "cell_type": "code",
      "execution_count": null,
      "metadata": {
        "id": "0diJDDrCFHeW"
      },
      "outputs": [],
      "source": [
        "# show 100 decoded images from the dataset\n",
        "fig, axes = plt.subplots(10,10, figsize=(11,11))\n",
        "for i,ax in enumerate(axes.flat):\n",
        "  data_for_image = np.array(decode_list_image(preprocessed_train_ds[i][\"quantize_values\"]))\n",
        "  data_for_image[data_for_image < 0] = 0 \n",
        "  ax.imshow(np.transpose(data_for_image, (0,1,2)), interpolation='nearest')\n",
        "  ax.set_axis_off()\n"
      ]
    },
    {
      "cell_type": "markdown",
      "metadata": {
        "id": "1n4j1bMGFHeW"
      },
      "source": [
        "### Process the index of quantized values for the facesHQ model"
      ]
    },
    {
      "cell_type": "code",
      "execution_count": null,
      "metadata": {
        "id": "CFTVn6PdFHeW"
      },
      "outputs": [],
      "source": [
        "from PIL import Image\n",
        "\n",
        "\n",
        "#index only\n",
        "def preprocess_images(examples):\n",
        "    \"\"\" Prepare datasets for vision transformer \n",
        "    input: dataset with images in their orignal size \n",
        "    output: dataset with pixelvalues computed by the feature extractor added \"\"\"\n",
        "    # get batch of images\n",
        "    images = examples['img']\n",
        "    result = list(map(model_quantizer, images))\n",
        "    df = pd.DataFrame(result, columns=['quantize_values', 'index'])\n",
        "    examples['quantize_values'] = df['quantize_values'].apply(mixed_to_list)\n",
        "    examples['index'] = df['index'].apply(mixed_to_list)\n",
        "\n",
        "    return examples\n",
        "\n",
        "#change the model used. Although I probably can optimize it a bit\n",
        "def model_quantizer(image):\n",
        "    im = Image.fromarray(np.array(image, dtype=np.uint8)).convert('RGB').resize((256, 256))\n",
        "    im_tensor = torch.tensor(np.array(im)).permute(2, 0, 1) / 255\n",
        "    z, a, b = modelFace.encode(im_tensor.to(DEVICE).unsqueeze(0) * 2 - 1) \n",
        "    idx = b[-1] # The codebook entries (16x16 tokens so shape is [256])\n",
        "    z_q = modelFace.quantize.embedding(idx).reshape(1, 16, 16, 256).permute(0,3,1,2) #quantize:quant, emb_loss, info \n",
        "    return (z_q.cpu(), idx.cpu())"
      ]
    },
    {
      "cell_type": "code",
      "execution_count": null,
      "metadata": {
        "id": "RLjnqz8RFHeW"
      },
      "outputs": [],
      "source": [
        "#Take the data on GPU before decode it\n",
        "def decode_list_image(image):\n",
        "    torch_image = torch.tensor(image).to(DEVICE)\n",
        "    return modelFace.decode(torch_image).add(1).div(2).cpu().squeeze().permute(1, 2, 0)"
      ]
    },
    {
      "cell_type": "code",
      "execution_count": null,
      "metadata": {
        "id": "_eiURGwaFHeW"
      },
      "outputs": [],
      "source": [
        "#sanity check\n",
        "example1 = preprocess_images(train_ds[0:10])\n",
        "\n",
        "i = 9\n",
        "\n",
        "plt.figure(figsize=(20, 10))\n",
        "#show one original image\n",
        "plt.subplot(1, 2, 1)\n",
        "plt.imshow(np.array(train_ds[i][\"img\"]))\n",
        "plt.title('Original Image')\n",
        "plt.subplot(1, 2, 2)\n",
        "#show one decoded quantized image\n",
        "plt.imshow(decode_list_image(example1['quantize_values'][i]))\n",
        "plt.title('Quantized Image')\n",
        "plt.show()"
      ]
    },
    {
      "cell_type": "code",
      "execution_count": null,
      "metadata": {
        "id": "nAKS6OtTFHeX"
      },
      "outputs": [],
      "source": [
        "# features of the new dataset with an additional column for the preprocess 224x224x3 images \n",
        "features = Features({\n",
        "    'label': ClassLabel(names=['Angry', 'Disgust', 'Fear', 'Happy', 'Sad', 'Surprise', 'Neutral']),\n",
        "    'img': Array3D(dtype=\"int64\", shape=(48,48,3)),\n",
        "    # 'quantize_values': Array4D(dtype=\"float32\", shape=(1, 256, 16, 16)),\n",
        "    'index': Sequence(feature=Value(\"int64\"))\n",
        "    # 'index': Array2D(dtype=\"int64\", shape=(256, 1))\n",
        "})"
      ]
    },
    {
      "cell_type": "code",
      "execution_count": null,
      "metadata": {
        "id": "immmiwYjFHeX"
      },
      "outputs": [],
      "source": [
        "preprocessed_test_ds = test_ds.map(preprocess_images, batched=True, features=features)\n",
        "with open('preprocessed_test_ds_facehq_index.pickle', 'wb') as handle:\n",
        "   pickle.dump(preprocessed_test_ds, handle, protocol=pickle.HIGHEST_PROTOCOL)\n",
        "\n",
        "!cp 'preprocessed_test_ds_facehq_index.pickle' '/content/drive/MyDrive/Colab Notebooks/LatentTransformer'\n",
        "\n",
        "preprocessed_val_ds = val_ds.map(preprocess_images, batched=True, features=features)\n",
        "with open('preprocessed_val_ds_facehq_index.pickle', 'wb') as handle:\n",
        "   pickle.dump(preprocessed_val_ds, handle, protocol=pickle.HIGHEST_PROTOCOL)\n",
        "\n",
        "!cp 'preprocessed_val_ds_facehq_index.pickle' '/content/drive/MyDrive/Colab Notebooks/LatentTransformer'\n",
        "\n",
        "# batch_size=1 probably to avoid local pointer. So we can save the entire data to disk: Not working\n",
        "# Might be memory issue\n",
        "preprocessed_train_ds = train_ds.map(preprocess_images, batched=True, batch_size=1, features=features)\n",
        "with open('preprocessed_train_ds_facehq_index.pickle', 'wb') as handle:\n",
        "    pickle.dump(preprocessed_train_ds, handle, protocol=pickle.HIGHEST_PROTOCOL)\n",
        "\n",
        "!cp 'preprocessed_train_ds_facehq_index.pickle' '/content/drive/MyDrive/Colab Notebooks/LatentTransformer'"
      ]
    },
    {
      "cell_type": "markdown",
      "metadata": {
        "id": "KAn67ii7FHeX"
      },
      "source": []
    },
    {
      "cell_type": "markdown",
      "metadata": {
        "id": "aHkKPNCcFHeX"
      },
      "source": [
        "# Copy Saved Pre-preocessed data to local file"
      ]
    },
    {
      "cell_type": "markdown",
      "metadata": {
        "id": "kb5OwIVyFHeX"
      },
      "source": [
        "## Copy the 1024 model data to local file and load them"
      ]
    },
    {
      "cell_type": "code",
      "execution_count": null,
      "metadata": {
        "id": "y3PnGyErFHeX"
      },
      "outputs": [],
      "source": [
        "!cp '/content/drive/MyDrive/Colab Notebooks/LatentTransformer/preprocessed_val_ds_1024.pickle'\n",
        "!cp '/content/drive/MyDrive/Colab Notebooks/LatentTransformer/preprocessed_test_ds_1024.pickle'\n",
        "!cp '/content/drive/MyDrive/Colab Notebooks/LatentTransformer/preprocessed_train_ds_1024.pickle'"
      ]
    },
    {
      "cell_type": "code",
      "execution_count": null,
      "metadata": {
        "id": "jC3FeJ_JFHeX"
      },
      "outputs": [],
      "source": [
        "with open('preprocessed_val_ds_1024.pickle', 'rb') as handle:\n",
        "    preprocessed_val = pickle.load(handle)\n",
        "\n",
        "with open('/content/preprocessed_test_ds_1024_index.pickle', 'rb') as handle:\n",
        "    preprocessed_test = pickle.load(handle)\n",
        "\n",
        "with open('/content/preprocessed_train_ds_1024_index.pickle', 'rb') as handle:\n",
        "    preprocessed_train = pickle.load(handle)"
      ]
    },
    {
      "cell_type": "markdown",
      "metadata": {
        "id": "TI5LWL2rFHeY"
      },
      "source": [
        "# Build a FaceHQ Transformer model based on the codebook entries"
      ]
    },
    {
      "cell_type": "markdown",
      "metadata": {
        "id": "4_Dqs7GuFHeY"
      },
      "source": [
        "## Import a pre-trained faceHQ transformer model unconditional\n",
        "\n",
        "Import the Model\n",
        "\n",
        "Get the transformer layers\n",
        "\n",
        "Add the classification header for the transformer output"
      ]
    },
    {
      "cell_type": "code",
      "execution_count": 20,
      "metadata": {
        "colab": {
          "base_uri": "https://localhost:8080/"
        },
        "id": "lnWP7ynAFHeY",
        "outputId": "8059eec1-c337-4a77-f041-568e6dc07ab8"
      },
      "outputs": [
        {
          "output_type": "stream",
          "name": "stdout",
          "text": [
            "Archive:  /content/taming-transformers/logs/2020-11-13T21-41-45_faceshq_transformer.zip\n",
            "   creating: /content/taming-transformers/logs/2020-11-13T21-41-45_faceshq_transformer/\n",
            "   creating: /content/taming-transformers/logs/2020-11-13T21-41-45_faceshq_transformer/checkpoints/\n",
            " extracting: /content/taming-transformers/logs/2020-11-13T21-41-45_faceshq_transformer/checkpoints/last.ckpt  \n",
            "   creating: /content/taming-transformers/logs/2020-11-13T21-41-45_faceshq_transformer/configs/\n",
            " extracting: /content/taming-transformers/logs/2020-11-13T21-41-45_faceshq_transformer/configs/2020-11-13T21-41-45-lightning.yaml  \n",
            " extracting: /content/taming-transformers/logs/2020-11-13T21-41-45_faceshq_transformer/configs/2020-11-13T21-41-45-project.yaml  \n"
          ]
        }
      ],
      "source": [
        "!cp '/content/drive/MyDrive/Colab Notebooks/LatentTransformer/2020-11-13T21-41-45_faceshq_transformer.zip' /content/taming-transformers/logs\n",
        "!unzip /content/taming-transformers/logs/2020-11-13T21-41-45_faceshq_transformer.zip -d /content/taming-transformers/logs/"
      ]
    },
    {
      "cell_type": "code",
      "execution_count": 21,
      "metadata": {
        "colab": {
          "base_uri": "https://localhost:8080/"
        },
        "id": "Me5gc13zFHeY",
        "outputId": "a162e4cf-b065-4a16-9643-f3be28a97188"
      },
      "outputs": [
        {
          "output_type": "stream",
          "name": "stdout",
          "text": [
            "data:\n",
            "  params:\n",
            "    batch_size: 2\n",
            "    num_workers: 8\n",
            "    train:\n",
            "      params:\n",
            "        coord: true\n",
            "        crop_size: 256\n",
            "        size: 256\n",
            "      target: taming.data.faceshq.FacesHQTrain\n",
            "    validation:\n",
            "      params:\n",
            "        coord: true\n",
            "        crop_size: 256\n",
            "        size: 256\n",
            "      target: taming.data.faceshq.FacesHQValidation\n",
            "  target: main.DataModuleFromConfig\n",
            "model:\n",
            "  base_learning_rate: 4.5e-06\n",
            "  params:\n",
            "    cond_stage_config:\n",
            "      params:\n",
            "        down_factor: 16\n",
            "        n_embed: 1024\n",
            "      target: taming.modules.misc.coord.CoordStage\n",
            "    cond_stage_key: coord\n",
            "    first_stage_config:\n",
            "      params:\n",
            "        ckpt_path: logs/2020-11-09T13-33-36_faceshq_vqgan/checkpoints/last.ckpt\n",
            "        ddconfig:\n",
            "          attn_resolutions:\n",
            "          - 16\n",
            "          ch: 128\n",
            "          ch_mult:\n",
            "          - 1\n",
            "          - 1\n",
            "          - 2\n",
            "          - 2\n",
            "          - 4\n",
            "          double_z: false\n",
            "          dropout: 0.0\n",
            "          in_channels: 3\n",
            "          num_res_blocks: 2\n",
            "          out_ch: 3\n",
            "          resolution: 256\n",
            "          z_channels: 256\n",
            "        embed_dim: 256\n",
            "        lossconfig:\n",
            "          target: taming.modules.losses.DummyLoss\n",
            "        n_embed: 1024\n",
            "      target: taming.models.vqgan.VQModel\n",
            "    transformer_config:\n",
            "      params:\n",
            "        block_size: 512\n",
            "        n_embd: 1024\n",
            "        n_head: 16\n",
            "        n_layer: 24\n",
            "        vocab_size: 1024\n",
            "      target: taming.modules.transformer.mingpt.GPT\n",
            "  target: taming.models.cond_transformer.Net2NetTransformer\n",
            "\n"
          ]
        }
      ],
      "source": [
        "import torch.nn as nn\n",
        "import torch\n",
        "from torch.autograd import Variable\n",
        "\n",
        "%pip install omegaconf>=2.0.0 pytorch-lightning>=1.0.8 einops transformers\n",
        "\n",
        "config_path = \"logs/2020-11-13T21-41-45_faceshq_transformer/configs/2020-11-13T21-41-45-project.yaml\"\n",
        "config = OmegaConf.load(config_path)\n",
        "print(yaml.dump(OmegaConf.to_container(config)))\n"
      ]
    },
    {
      "cell_type": "markdown",
      "metadata": {
        "id": "_DuHBcGhFHeZ"
      },
      "source": [
        "Initiate the model"
      ]
    },
    {
      "cell_type": "code",
      "execution_count": 22,
      "metadata": {
        "colab": {
          "base_uri": "https://localhost:8080/"
        },
        "id": "_Qb99zdwFHeZ",
        "outputId": "76de30a7-8821-43ca-e805-53c74afbc64f"
      },
      "outputs": [
        {
          "output_type": "stream",
          "name": "stdout",
          "text": [
            "Working with z of shape (1, 256, 16, 16) = 65536 dimensions.\n",
            "Restored from logs/2020-11-09T13-33-36_faceshq_vqgan/checkpoints/last.ckpt\n"
          ]
        }
      ],
      "source": [
        "from taming.models.cond_transformer import Net2NetTransformer\n",
        "modelFaceTransformer = Net2NetTransformer(**config.model.params)"
      ]
    },
    {
      "cell_type": "code",
      "execution_count": 46,
      "metadata": {
        "id": "V5OYE-KQFHeZ"
      },
      "outputs": [],
      "source": [
        "#Load checkpoints\n",
        "ckpt_path = \"logs/2020-11-13T21-41-45_faceshq_transformer/checkpoints/last.ckpt\"\n",
        "sd = torch.load(ckpt_path, map_location=\"cpu\")[\"state_dict\"]\n",
        "missing, unexpected = modelFaceTransformer.load_state_dict(sd, strict=False)"
      ]
    },
    {
      "cell_type": "code",
      "execution_count": 47,
      "metadata": {
        "id": "pxw_rx-MFHeZ"
      },
      "outputs": [],
      "source": [
        "modelFaceTransformer.cuda().eval()\n",
        "torch.set_grad_enabled(True)\n",
        "model_transformer = modelFaceTransformer.transformer\n"
      ]
    },
    {
      "cell_type": "markdown",
      "metadata": {
        "id": "dgmoCf52FHeY"
      },
      "source": [
        "## Copy the faceHQ model data to local file and load them"
      ]
    },
    {
      "cell_type": "code",
      "execution_count": 25,
      "metadata": {
        "id": "yi2Y1tUWIkVJ"
      },
      "outputs": [],
      "source": [
        "!cp '/content/drive/MyDrive/Colab Notebooks/LatentTransformer/preprocessed_val_ds_facehq_index.pickle' /content\n",
        "!cp '/content/drive/MyDrive/Colab Notebooks/LatentTransformer/preprocessed_test_ds_facehq_index.pickle' /content\n",
        "!cp '/content/drive/MyDrive/Colab Notebooks/LatentTransformer/preprocessed_train_ds_facehq_index.pickle' /content\n"
      ]
    },
    {
      "cell_type": "code",
      "execution_count": 26,
      "metadata": {
        "id": "1YsXio8QFHeY"
      },
      "outputs": [],
      "source": [
        "\n",
        "with open('/content/preprocessed_val_ds_facehq_index.pickle', 'rb') as handle:\n",
        "    preprocessed_val = pickle.load(handle)\n",
        "\n",
        "with open('/content/preprocessed_test_ds_facehq_index.pickle', 'rb') as handle:\n",
        "    preprocessed_test = pickle.load(handle)\n",
        "\n",
        "with open('/content/preprocessed_train_ds_facehq_index.pickle', 'rb') as handle:\n",
        "    preprocessed_train = pickle.load(handle)\n"
      ]
    },
    {
      "cell_type": "markdown",
      "metadata": {
        "id": "CRX9Zr_YoFJk"
      },
      "source": [
        "Probably need to cat the img to the idx since the coord in https://github.com/CompVis/taming-transformers/blob/3ba01b241669f5ade541ce990f7650a3b8f65318/taming/data/faceshq.py#L75\n",
        "\n",
        "    coord = np.arange(h*w).reshape(h,w,1)/(h*w)\n",
        "\n",
        "does this thing for the input of the transformer. The c index is the image\n",
        "\n",
        "the condition stage key used for c index is coord\n",
        "\n",
        "    c = model.get_input(cond_key, example).to(model.device)\n",
        "\n",
        "then it use \n",
        "\n",
        "    quant_c, c_indices = model.encode_to_c(c)\n",
        "\n",
        "The model just use\n",
        "\n",
        "    patch = torch.cat((cpatch, patch), dim=1)\n",
        "as the input\n",
        "\n",
        "So I will probbaly need to just encode he image to c then cat it to the index to resolve the conditional length issue"
      ]
    },
    {
      "cell_type": "code",
      "execution_count": 27,
      "metadata": {
        "id": "aQj--Iq1CK8j"
      },
      "outputs": [],
      "source": [
        "# def cat_c_code(dataset):\n",
        "#     \"Concate the image as c code to the index for the conditionl entry\"\n",
        "#     idx = torch.tensor(dataset['index']).to(DEVICE)\n",
        "#     dataset['index'] = torch.cat((idx, idx), dim=1)\n",
        "    \n",
        "#     return dataset\n",
        "\n",
        "# from PIL import Image\n",
        "\n",
        "# image = preprocessed_test[0]['img']\n",
        "# image = Image.fromarray(np.array(image, dtype=np.uint8)).convert('RGB').resize((256, 256))\n",
        "# image = torch.tensor(np.array(image))\n",
        "# image = torch.tensor(image).to(DEVICE)\n",
        "\n",
        "# # modelFaceTransformer.encode_to_c(torch.tensor(image).to(DEVICE))\n",
        "\n",
        "# image = image[..., None][:256].shape\n",
        "# h,w,_ = image.shape\n",
        "# coord = np.arange(h*w).reshape(h,w,1)/(h*w)"
      ]
    },
    {
      "cell_type": "code",
      "execution_count": 28,
      "metadata": {
        "id": "0y6MzOyEFHeY"
      },
      "outputs": [],
      "source": [
        "preprocessed_val=preprocessed_val.remove_columns('img')\n",
        "preprocessed_test=preprocessed_test.remove_columns('img')\n",
        "preprocessed_train=preprocessed_train.remove_columns('img')"
      ]
    },
    {
      "cell_type": "markdown",
      "source": [
        "## Customize the pretrained model"
      ],
      "metadata": {
        "id": "gPLriV_SFkyn"
      }
    },
    {
      "cell_type": "code",
      "source": [
        "# #test the transformer with grad\n",
        "# input = torch.tensor(preprocessed_val[0:2]['index']).to(DEVICE)\n",
        "# labels = torch.tensor(preprocessed_val[0:2]['label']).to(DEVICE)\n",
        "# model_transformer.to(DEVICE)\n",
        "\n",
        "# for param in model_transformer.parameters():\n",
        "#     param.requires_grad = True\n",
        "\n",
        "# logits, _ = model_transformer(input)\n",
        "# logits = logits[:, -1, :] \n",
        "# logits = nn.Linear(1024, 7).to(DEVICE)(logits)\n",
        "# loss_fct = nn.CrossEntropyLoss().to(DEVICE)\n",
        "# loss = loss_fct(logits.view(-1, 7), labels.view(-1))\n",
        "# # loss_fct = nn.CrossEntropyLoss()\n",
        "# # loss = loss_fct(logits.view(-1, 7), labels.view(-1))\n",
        "\n",
        "# print(logits.requires_grad)\n",
        "# print(loss.requires_grad)"
      ],
      "metadata": {
        "id": "fNHatB6Qn7iz",
        "outputId": "f6f661f8-cea8-4922-ccda-154e2a752a92",
        "colab": {
          "base_uri": "https://localhost:8080/"
        }
      },
      "execution_count": 48,
      "outputs": [
        {
          "output_type": "stream",
          "name": "stdout",
          "text": [
            "True\n",
            "True\n"
          ]
        }
      ]
    },
    {
      "cell_type": "code",
      "source": [
        "# for name, param in model_transformer.state_dict().items():\n",
        "#             print(name)\n",
        "#             print(\"requires_grad: \", param.requires_grad)"
      ],
      "metadata": {
        "id": "_V1bZ92htcTM"
      },
      "execution_count": null,
      "outputs": []
    },
    {
      "cell_type": "code",
      "source": [
        "# for p in model_transformer.named_parameters():\n",
        "#             print(\"requires_grad: \", p[1].requires_grad)"
      ],
      "metadata": {
        "id": "okCq7lsStp02"
      },
      "execution_count": null,
      "outputs": []
    },
    {
      "cell_type": "code",
      "execution_count": 49,
      "metadata": {
        "id": "BtxeboVPGiMi"
      },
      "outputs": [],
      "source": [
        "from transformers.models.squeezebert.modeling_squeezebert import SequenceClassifierOutput\n",
        "class modelTransformer(nn.Module):\n",
        "    def __init__(self, model_transformer):\n",
        "        super(modelTransformer, self).__init__()\n",
        "        self.transformer = model_transformer.train()\n",
        "        self.classifier1 = nn.Linear(1024, 256)\n",
        "        self.classifier2 = nn.Linear(256, 256)\n",
        "        self.classifier3 = nn.Linear(256, 7)\n",
        "        self.relu = nn.ReLU()\n",
        "        # self.softmax = nn.Softmax(dim=1)\n",
        "\n",
        "\n",
        "\n",
        "    def forward(self, index, labels):\n",
        "        # print(self.transformer.tok_emb(input).shape[1])\n",
        "        \n",
        "        logits, _  = self.transformer(idx =index)\n",
        "        # logits = torch.tensor(logitsOut, requires_grad = True)\n",
        "        # print(logits.requires_grad)\n",
        "        # print(logits.shape)\n",
        "        logits = logits[:, -1, :] \n",
        "        logits = self.classifier1(logits)\n",
        "        logits = self.relu(logits)\n",
        "        logits = self.classifier2(logits)\n",
        "        logits = self.relu(logits)\n",
        "        logits = self.classifier3(logits)\n",
        "        \n",
        "\n",
        "        # logits = self.softmax(logits)\n",
        "\n",
        "        loss = None\n",
        "        if labels is not None:\n",
        "            loss_fct = nn.CrossEntropyLoss()\n",
        "            loss = loss_fct(logits.view(-1, 7), labels.view(-1))\n",
        "            # print('Loss requires_grad')\n",
        "            # print(loss.requires_grad)\n",
        "            # loss = torch.tensor(out, requires_grad = True)\n",
        "        \n",
        "        return SequenceClassifierOutput(\n",
        "            loss = loss,\n",
        "            logits = logits,\n",
        "        )\n"
      ]
    },
    {
      "cell_type": "markdown",
      "metadata": {
        "id": "tFy9n5Fjpz-f"
      },
      "source": [
        "The issue here probably is the loss function. Clearly I am defining a new loss function based on the out put. But the transformer loss function is:\n",
        "\n",
        "            loss = F.cross_entropy(logits.view(-1, logits.size(-1)), targets.view(-1))\n",
        "\n",
        "\n",
        "https://github.com/CompVis/taming-transformers/blob/3ba01b241669f5ade541ce990f7650a3b8f65318/taming/modules/transformer/mingpt.py#L178\n",
        "\n",
        "\n",
        "From the issue here:\n",
        "https://github.com/CompVis/taming-transformers/issues/101\n",
        "\n",
        "Technically they are similar, unless my training loss is bad somehow. Need to check"
      ]
    },
    {
      "cell_type": "markdown",
      "metadata": {
        "id": "3sPpSNRHraLy"
      },
      "source": [
        "\n",
        "\n",
        "1.   Need to chnage the input - condition cat index. Pass one single input to verify\n",
        "2.   Need to verify the loss is working as intended\n",
        "\n"
      ]
    },
    {
      "cell_type": "code",
      "execution_count": 50,
      "metadata": {
        "colab": {
          "base_uri": "https://localhost:8080/"
        },
        "id": "MMBGQUitGqxy",
        "outputId": "dd26ba0d-9d81-4982-c29d-a78966a0f565"
      },
      "outputs": [
        {
          "output_type": "execute_result",
          "data": {
            "text/plain": [
              "modelTransformer(\n",
              "  (transformer): GPT(\n",
              "    (tok_emb): Embedding(1024, 1024)\n",
              "    (drop): Dropout(p=0.0, inplace=False)\n",
              "    (blocks): Sequential(\n",
              "      (0): Block(\n",
              "        (ln1): LayerNorm((1024,), eps=1e-05, elementwise_affine=True)\n",
              "        (ln2): LayerNorm((1024,), eps=1e-05, elementwise_affine=True)\n",
              "        (attn): CausalSelfAttention(\n",
              "          (key): Linear(in_features=1024, out_features=1024, bias=True)\n",
              "          (query): Linear(in_features=1024, out_features=1024, bias=True)\n",
              "          (value): Linear(in_features=1024, out_features=1024, bias=True)\n",
              "          (attn_drop): Dropout(p=0.0, inplace=False)\n",
              "          (resid_drop): Dropout(p=0.0, inplace=False)\n",
              "          (proj): Linear(in_features=1024, out_features=1024, bias=True)\n",
              "        )\n",
              "        (mlp): Sequential(\n",
              "          (0): Linear(in_features=1024, out_features=4096, bias=True)\n",
              "          (1): GELU(approximate='none')\n",
              "          (2): Linear(in_features=4096, out_features=1024, bias=True)\n",
              "          (3): Dropout(p=0.0, inplace=False)\n",
              "        )\n",
              "      )\n",
              "      (1): Block(\n",
              "        (ln1): LayerNorm((1024,), eps=1e-05, elementwise_affine=True)\n",
              "        (ln2): LayerNorm((1024,), eps=1e-05, elementwise_affine=True)\n",
              "        (attn): CausalSelfAttention(\n",
              "          (key): Linear(in_features=1024, out_features=1024, bias=True)\n",
              "          (query): Linear(in_features=1024, out_features=1024, bias=True)\n",
              "          (value): Linear(in_features=1024, out_features=1024, bias=True)\n",
              "          (attn_drop): Dropout(p=0.0, inplace=False)\n",
              "          (resid_drop): Dropout(p=0.0, inplace=False)\n",
              "          (proj): Linear(in_features=1024, out_features=1024, bias=True)\n",
              "        )\n",
              "        (mlp): Sequential(\n",
              "          (0): Linear(in_features=1024, out_features=4096, bias=True)\n",
              "          (1): GELU(approximate='none')\n",
              "          (2): Linear(in_features=4096, out_features=1024, bias=True)\n",
              "          (3): Dropout(p=0.0, inplace=False)\n",
              "        )\n",
              "      )\n",
              "      (2): Block(\n",
              "        (ln1): LayerNorm((1024,), eps=1e-05, elementwise_affine=True)\n",
              "        (ln2): LayerNorm((1024,), eps=1e-05, elementwise_affine=True)\n",
              "        (attn): CausalSelfAttention(\n",
              "          (key): Linear(in_features=1024, out_features=1024, bias=True)\n",
              "          (query): Linear(in_features=1024, out_features=1024, bias=True)\n",
              "          (value): Linear(in_features=1024, out_features=1024, bias=True)\n",
              "          (attn_drop): Dropout(p=0.0, inplace=False)\n",
              "          (resid_drop): Dropout(p=0.0, inplace=False)\n",
              "          (proj): Linear(in_features=1024, out_features=1024, bias=True)\n",
              "        )\n",
              "        (mlp): Sequential(\n",
              "          (0): Linear(in_features=1024, out_features=4096, bias=True)\n",
              "          (1): GELU(approximate='none')\n",
              "          (2): Linear(in_features=4096, out_features=1024, bias=True)\n",
              "          (3): Dropout(p=0.0, inplace=False)\n",
              "        )\n",
              "      )\n",
              "      (3): Block(\n",
              "        (ln1): LayerNorm((1024,), eps=1e-05, elementwise_affine=True)\n",
              "        (ln2): LayerNorm((1024,), eps=1e-05, elementwise_affine=True)\n",
              "        (attn): CausalSelfAttention(\n",
              "          (key): Linear(in_features=1024, out_features=1024, bias=True)\n",
              "          (query): Linear(in_features=1024, out_features=1024, bias=True)\n",
              "          (value): Linear(in_features=1024, out_features=1024, bias=True)\n",
              "          (attn_drop): Dropout(p=0.0, inplace=False)\n",
              "          (resid_drop): Dropout(p=0.0, inplace=False)\n",
              "          (proj): Linear(in_features=1024, out_features=1024, bias=True)\n",
              "        )\n",
              "        (mlp): Sequential(\n",
              "          (0): Linear(in_features=1024, out_features=4096, bias=True)\n",
              "          (1): GELU(approximate='none')\n",
              "          (2): Linear(in_features=4096, out_features=1024, bias=True)\n",
              "          (3): Dropout(p=0.0, inplace=False)\n",
              "        )\n",
              "      )\n",
              "      (4): Block(\n",
              "        (ln1): LayerNorm((1024,), eps=1e-05, elementwise_affine=True)\n",
              "        (ln2): LayerNorm((1024,), eps=1e-05, elementwise_affine=True)\n",
              "        (attn): CausalSelfAttention(\n",
              "          (key): Linear(in_features=1024, out_features=1024, bias=True)\n",
              "          (query): Linear(in_features=1024, out_features=1024, bias=True)\n",
              "          (value): Linear(in_features=1024, out_features=1024, bias=True)\n",
              "          (attn_drop): Dropout(p=0.0, inplace=False)\n",
              "          (resid_drop): Dropout(p=0.0, inplace=False)\n",
              "          (proj): Linear(in_features=1024, out_features=1024, bias=True)\n",
              "        )\n",
              "        (mlp): Sequential(\n",
              "          (0): Linear(in_features=1024, out_features=4096, bias=True)\n",
              "          (1): GELU(approximate='none')\n",
              "          (2): Linear(in_features=4096, out_features=1024, bias=True)\n",
              "          (3): Dropout(p=0.0, inplace=False)\n",
              "        )\n",
              "      )\n",
              "      (5): Block(\n",
              "        (ln1): LayerNorm((1024,), eps=1e-05, elementwise_affine=True)\n",
              "        (ln2): LayerNorm((1024,), eps=1e-05, elementwise_affine=True)\n",
              "        (attn): CausalSelfAttention(\n",
              "          (key): Linear(in_features=1024, out_features=1024, bias=True)\n",
              "          (query): Linear(in_features=1024, out_features=1024, bias=True)\n",
              "          (value): Linear(in_features=1024, out_features=1024, bias=True)\n",
              "          (attn_drop): Dropout(p=0.0, inplace=False)\n",
              "          (resid_drop): Dropout(p=0.0, inplace=False)\n",
              "          (proj): Linear(in_features=1024, out_features=1024, bias=True)\n",
              "        )\n",
              "        (mlp): Sequential(\n",
              "          (0): Linear(in_features=1024, out_features=4096, bias=True)\n",
              "          (1): GELU(approximate='none')\n",
              "          (2): Linear(in_features=4096, out_features=1024, bias=True)\n",
              "          (3): Dropout(p=0.0, inplace=False)\n",
              "        )\n",
              "      )\n",
              "      (6): Block(\n",
              "        (ln1): LayerNorm((1024,), eps=1e-05, elementwise_affine=True)\n",
              "        (ln2): LayerNorm((1024,), eps=1e-05, elementwise_affine=True)\n",
              "        (attn): CausalSelfAttention(\n",
              "          (key): Linear(in_features=1024, out_features=1024, bias=True)\n",
              "          (query): Linear(in_features=1024, out_features=1024, bias=True)\n",
              "          (value): Linear(in_features=1024, out_features=1024, bias=True)\n",
              "          (attn_drop): Dropout(p=0.0, inplace=False)\n",
              "          (resid_drop): Dropout(p=0.0, inplace=False)\n",
              "          (proj): Linear(in_features=1024, out_features=1024, bias=True)\n",
              "        )\n",
              "        (mlp): Sequential(\n",
              "          (0): Linear(in_features=1024, out_features=4096, bias=True)\n",
              "          (1): GELU(approximate='none')\n",
              "          (2): Linear(in_features=4096, out_features=1024, bias=True)\n",
              "          (3): Dropout(p=0.0, inplace=False)\n",
              "        )\n",
              "      )\n",
              "      (7): Block(\n",
              "        (ln1): LayerNorm((1024,), eps=1e-05, elementwise_affine=True)\n",
              "        (ln2): LayerNorm((1024,), eps=1e-05, elementwise_affine=True)\n",
              "        (attn): CausalSelfAttention(\n",
              "          (key): Linear(in_features=1024, out_features=1024, bias=True)\n",
              "          (query): Linear(in_features=1024, out_features=1024, bias=True)\n",
              "          (value): Linear(in_features=1024, out_features=1024, bias=True)\n",
              "          (attn_drop): Dropout(p=0.0, inplace=False)\n",
              "          (resid_drop): Dropout(p=0.0, inplace=False)\n",
              "          (proj): Linear(in_features=1024, out_features=1024, bias=True)\n",
              "        )\n",
              "        (mlp): Sequential(\n",
              "          (0): Linear(in_features=1024, out_features=4096, bias=True)\n",
              "          (1): GELU(approximate='none')\n",
              "          (2): Linear(in_features=4096, out_features=1024, bias=True)\n",
              "          (3): Dropout(p=0.0, inplace=False)\n",
              "        )\n",
              "      )\n",
              "      (8): Block(\n",
              "        (ln1): LayerNorm((1024,), eps=1e-05, elementwise_affine=True)\n",
              "        (ln2): LayerNorm((1024,), eps=1e-05, elementwise_affine=True)\n",
              "        (attn): CausalSelfAttention(\n",
              "          (key): Linear(in_features=1024, out_features=1024, bias=True)\n",
              "          (query): Linear(in_features=1024, out_features=1024, bias=True)\n",
              "          (value): Linear(in_features=1024, out_features=1024, bias=True)\n",
              "          (attn_drop): Dropout(p=0.0, inplace=False)\n",
              "          (resid_drop): Dropout(p=0.0, inplace=False)\n",
              "          (proj): Linear(in_features=1024, out_features=1024, bias=True)\n",
              "        )\n",
              "        (mlp): Sequential(\n",
              "          (0): Linear(in_features=1024, out_features=4096, bias=True)\n",
              "          (1): GELU(approximate='none')\n",
              "          (2): Linear(in_features=4096, out_features=1024, bias=True)\n",
              "          (3): Dropout(p=0.0, inplace=False)\n",
              "        )\n",
              "      )\n",
              "      (9): Block(\n",
              "        (ln1): LayerNorm((1024,), eps=1e-05, elementwise_affine=True)\n",
              "        (ln2): LayerNorm((1024,), eps=1e-05, elementwise_affine=True)\n",
              "        (attn): CausalSelfAttention(\n",
              "          (key): Linear(in_features=1024, out_features=1024, bias=True)\n",
              "          (query): Linear(in_features=1024, out_features=1024, bias=True)\n",
              "          (value): Linear(in_features=1024, out_features=1024, bias=True)\n",
              "          (attn_drop): Dropout(p=0.0, inplace=False)\n",
              "          (resid_drop): Dropout(p=0.0, inplace=False)\n",
              "          (proj): Linear(in_features=1024, out_features=1024, bias=True)\n",
              "        )\n",
              "        (mlp): Sequential(\n",
              "          (0): Linear(in_features=1024, out_features=4096, bias=True)\n",
              "          (1): GELU(approximate='none')\n",
              "          (2): Linear(in_features=4096, out_features=1024, bias=True)\n",
              "          (3): Dropout(p=0.0, inplace=False)\n",
              "        )\n",
              "      )\n",
              "      (10): Block(\n",
              "        (ln1): LayerNorm((1024,), eps=1e-05, elementwise_affine=True)\n",
              "        (ln2): LayerNorm((1024,), eps=1e-05, elementwise_affine=True)\n",
              "        (attn): CausalSelfAttention(\n",
              "          (key): Linear(in_features=1024, out_features=1024, bias=True)\n",
              "          (query): Linear(in_features=1024, out_features=1024, bias=True)\n",
              "          (value): Linear(in_features=1024, out_features=1024, bias=True)\n",
              "          (attn_drop): Dropout(p=0.0, inplace=False)\n",
              "          (resid_drop): Dropout(p=0.0, inplace=False)\n",
              "          (proj): Linear(in_features=1024, out_features=1024, bias=True)\n",
              "        )\n",
              "        (mlp): Sequential(\n",
              "          (0): Linear(in_features=1024, out_features=4096, bias=True)\n",
              "          (1): GELU(approximate='none')\n",
              "          (2): Linear(in_features=4096, out_features=1024, bias=True)\n",
              "          (3): Dropout(p=0.0, inplace=False)\n",
              "        )\n",
              "      )\n",
              "      (11): Block(\n",
              "        (ln1): LayerNorm((1024,), eps=1e-05, elementwise_affine=True)\n",
              "        (ln2): LayerNorm((1024,), eps=1e-05, elementwise_affine=True)\n",
              "        (attn): CausalSelfAttention(\n",
              "          (key): Linear(in_features=1024, out_features=1024, bias=True)\n",
              "          (query): Linear(in_features=1024, out_features=1024, bias=True)\n",
              "          (value): Linear(in_features=1024, out_features=1024, bias=True)\n",
              "          (attn_drop): Dropout(p=0.0, inplace=False)\n",
              "          (resid_drop): Dropout(p=0.0, inplace=False)\n",
              "          (proj): Linear(in_features=1024, out_features=1024, bias=True)\n",
              "        )\n",
              "        (mlp): Sequential(\n",
              "          (0): Linear(in_features=1024, out_features=4096, bias=True)\n",
              "          (1): GELU(approximate='none')\n",
              "          (2): Linear(in_features=4096, out_features=1024, bias=True)\n",
              "          (3): Dropout(p=0.0, inplace=False)\n",
              "        )\n",
              "      )\n",
              "      (12): Block(\n",
              "        (ln1): LayerNorm((1024,), eps=1e-05, elementwise_affine=True)\n",
              "        (ln2): LayerNorm((1024,), eps=1e-05, elementwise_affine=True)\n",
              "        (attn): CausalSelfAttention(\n",
              "          (key): Linear(in_features=1024, out_features=1024, bias=True)\n",
              "          (query): Linear(in_features=1024, out_features=1024, bias=True)\n",
              "          (value): Linear(in_features=1024, out_features=1024, bias=True)\n",
              "          (attn_drop): Dropout(p=0.0, inplace=False)\n",
              "          (resid_drop): Dropout(p=0.0, inplace=False)\n",
              "          (proj): Linear(in_features=1024, out_features=1024, bias=True)\n",
              "        )\n",
              "        (mlp): Sequential(\n",
              "          (0): Linear(in_features=1024, out_features=4096, bias=True)\n",
              "          (1): GELU(approximate='none')\n",
              "          (2): Linear(in_features=4096, out_features=1024, bias=True)\n",
              "          (3): Dropout(p=0.0, inplace=False)\n",
              "        )\n",
              "      )\n",
              "      (13): Block(\n",
              "        (ln1): LayerNorm((1024,), eps=1e-05, elementwise_affine=True)\n",
              "        (ln2): LayerNorm((1024,), eps=1e-05, elementwise_affine=True)\n",
              "        (attn): CausalSelfAttention(\n",
              "          (key): Linear(in_features=1024, out_features=1024, bias=True)\n",
              "          (query): Linear(in_features=1024, out_features=1024, bias=True)\n",
              "          (value): Linear(in_features=1024, out_features=1024, bias=True)\n",
              "          (attn_drop): Dropout(p=0.0, inplace=False)\n",
              "          (resid_drop): Dropout(p=0.0, inplace=False)\n",
              "          (proj): Linear(in_features=1024, out_features=1024, bias=True)\n",
              "        )\n",
              "        (mlp): Sequential(\n",
              "          (0): Linear(in_features=1024, out_features=4096, bias=True)\n",
              "          (1): GELU(approximate='none')\n",
              "          (2): Linear(in_features=4096, out_features=1024, bias=True)\n",
              "          (3): Dropout(p=0.0, inplace=False)\n",
              "        )\n",
              "      )\n",
              "      (14): Block(\n",
              "        (ln1): LayerNorm((1024,), eps=1e-05, elementwise_affine=True)\n",
              "        (ln2): LayerNorm((1024,), eps=1e-05, elementwise_affine=True)\n",
              "        (attn): CausalSelfAttention(\n",
              "          (key): Linear(in_features=1024, out_features=1024, bias=True)\n",
              "          (query): Linear(in_features=1024, out_features=1024, bias=True)\n",
              "          (value): Linear(in_features=1024, out_features=1024, bias=True)\n",
              "          (attn_drop): Dropout(p=0.0, inplace=False)\n",
              "          (resid_drop): Dropout(p=0.0, inplace=False)\n",
              "          (proj): Linear(in_features=1024, out_features=1024, bias=True)\n",
              "        )\n",
              "        (mlp): Sequential(\n",
              "          (0): Linear(in_features=1024, out_features=4096, bias=True)\n",
              "          (1): GELU(approximate='none')\n",
              "          (2): Linear(in_features=4096, out_features=1024, bias=True)\n",
              "          (3): Dropout(p=0.0, inplace=False)\n",
              "        )\n",
              "      )\n",
              "      (15): Block(\n",
              "        (ln1): LayerNorm((1024,), eps=1e-05, elementwise_affine=True)\n",
              "        (ln2): LayerNorm((1024,), eps=1e-05, elementwise_affine=True)\n",
              "        (attn): CausalSelfAttention(\n",
              "          (key): Linear(in_features=1024, out_features=1024, bias=True)\n",
              "          (query): Linear(in_features=1024, out_features=1024, bias=True)\n",
              "          (value): Linear(in_features=1024, out_features=1024, bias=True)\n",
              "          (attn_drop): Dropout(p=0.0, inplace=False)\n",
              "          (resid_drop): Dropout(p=0.0, inplace=False)\n",
              "          (proj): Linear(in_features=1024, out_features=1024, bias=True)\n",
              "        )\n",
              "        (mlp): Sequential(\n",
              "          (0): Linear(in_features=1024, out_features=4096, bias=True)\n",
              "          (1): GELU(approximate='none')\n",
              "          (2): Linear(in_features=4096, out_features=1024, bias=True)\n",
              "          (3): Dropout(p=0.0, inplace=False)\n",
              "        )\n",
              "      )\n",
              "      (16): Block(\n",
              "        (ln1): LayerNorm((1024,), eps=1e-05, elementwise_affine=True)\n",
              "        (ln2): LayerNorm((1024,), eps=1e-05, elementwise_affine=True)\n",
              "        (attn): CausalSelfAttention(\n",
              "          (key): Linear(in_features=1024, out_features=1024, bias=True)\n",
              "          (query): Linear(in_features=1024, out_features=1024, bias=True)\n",
              "          (value): Linear(in_features=1024, out_features=1024, bias=True)\n",
              "          (attn_drop): Dropout(p=0.0, inplace=False)\n",
              "          (resid_drop): Dropout(p=0.0, inplace=False)\n",
              "          (proj): Linear(in_features=1024, out_features=1024, bias=True)\n",
              "        )\n",
              "        (mlp): Sequential(\n",
              "          (0): Linear(in_features=1024, out_features=4096, bias=True)\n",
              "          (1): GELU(approximate='none')\n",
              "          (2): Linear(in_features=4096, out_features=1024, bias=True)\n",
              "          (3): Dropout(p=0.0, inplace=False)\n",
              "        )\n",
              "      )\n",
              "      (17): Block(\n",
              "        (ln1): LayerNorm((1024,), eps=1e-05, elementwise_affine=True)\n",
              "        (ln2): LayerNorm((1024,), eps=1e-05, elementwise_affine=True)\n",
              "        (attn): CausalSelfAttention(\n",
              "          (key): Linear(in_features=1024, out_features=1024, bias=True)\n",
              "          (query): Linear(in_features=1024, out_features=1024, bias=True)\n",
              "          (value): Linear(in_features=1024, out_features=1024, bias=True)\n",
              "          (attn_drop): Dropout(p=0.0, inplace=False)\n",
              "          (resid_drop): Dropout(p=0.0, inplace=False)\n",
              "          (proj): Linear(in_features=1024, out_features=1024, bias=True)\n",
              "        )\n",
              "        (mlp): Sequential(\n",
              "          (0): Linear(in_features=1024, out_features=4096, bias=True)\n",
              "          (1): GELU(approximate='none')\n",
              "          (2): Linear(in_features=4096, out_features=1024, bias=True)\n",
              "          (3): Dropout(p=0.0, inplace=False)\n",
              "        )\n",
              "      )\n",
              "      (18): Block(\n",
              "        (ln1): LayerNorm((1024,), eps=1e-05, elementwise_affine=True)\n",
              "        (ln2): LayerNorm((1024,), eps=1e-05, elementwise_affine=True)\n",
              "        (attn): CausalSelfAttention(\n",
              "          (key): Linear(in_features=1024, out_features=1024, bias=True)\n",
              "          (query): Linear(in_features=1024, out_features=1024, bias=True)\n",
              "          (value): Linear(in_features=1024, out_features=1024, bias=True)\n",
              "          (attn_drop): Dropout(p=0.0, inplace=False)\n",
              "          (resid_drop): Dropout(p=0.0, inplace=False)\n",
              "          (proj): Linear(in_features=1024, out_features=1024, bias=True)\n",
              "        )\n",
              "        (mlp): Sequential(\n",
              "          (0): Linear(in_features=1024, out_features=4096, bias=True)\n",
              "          (1): GELU(approximate='none')\n",
              "          (2): Linear(in_features=4096, out_features=1024, bias=True)\n",
              "          (3): Dropout(p=0.0, inplace=False)\n",
              "        )\n",
              "      )\n",
              "      (19): Block(\n",
              "        (ln1): LayerNorm((1024,), eps=1e-05, elementwise_affine=True)\n",
              "        (ln2): LayerNorm((1024,), eps=1e-05, elementwise_affine=True)\n",
              "        (attn): CausalSelfAttention(\n",
              "          (key): Linear(in_features=1024, out_features=1024, bias=True)\n",
              "          (query): Linear(in_features=1024, out_features=1024, bias=True)\n",
              "          (value): Linear(in_features=1024, out_features=1024, bias=True)\n",
              "          (attn_drop): Dropout(p=0.0, inplace=False)\n",
              "          (resid_drop): Dropout(p=0.0, inplace=False)\n",
              "          (proj): Linear(in_features=1024, out_features=1024, bias=True)\n",
              "        )\n",
              "        (mlp): Sequential(\n",
              "          (0): Linear(in_features=1024, out_features=4096, bias=True)\n",
              "          (1): GELU(approximate='none')\n",
              "          (2): Linear(in_features=4096, out_features=1024, bias=True)\n",
              "          (3): Dropout(p=0.0, inplace=False)\n",
              "        )\n",
              "      )\n",
              "      (20): Block(\n",
              "        (ln1): LayerNorm((1024,), eps=1e-05, elementwise_affine=True)\n",
              "        (ln2): LayerNorm((1024,), eps=1e-05, elementwise_affine=True)\n",
              "        (attn): CausalSelfAttention(\n",
              "          (key): Linear(in_features=1024, out_features=1024, bias=True)\n",
              "          (query): Linear(in_features=1024, out_features=1024, bias=True)\n",
              "          (value): Linear(in_features=1024, out_features=1024, bias=True)\n",
              "          (attn_drop): Dropout(p=0.0, inplace=False)\n",
              "          (resid_drop): Dropout(p=0.0, inplace=False)\n",
              "          (proj): Linear(in_features=1024, out_features=1024, bias=True)\n",
              "        )\n",
              "        (mlp): Sequential(\n",
              "          (0): Linear(in_features=1024, out_features=4096, bias=True)\n",
              "          (1): GELU(approximate='none')\n",
              "          (2): Linear(in_features=4096, out_features=1024, bias=True)\n",
              "          (3): Dropout(p=0.0, inplace=False)\n",
              "        )\n",
              "      )\n",
              "      (21): Block(\n",
              "        (ln1): LayerNorm((1024,), eps=1e-05, elementwise_affine=True)\n",
              "        (ln2): LayerNorm((1024,), eps=1e-05, elementwise_affine=True)\n",
              "        (attn): CausalSelfAttention(\n",
              "          (key): Linear(in_features=1024, out_features=1024, bias=True)\n",
              "          (query): Linear(in_features=1024, out_features=1024, bias=True)\n",
              "          (value): Linear(in_features=1024, out_features=1024, bias=True)\n",
              "          (attn_drop): Dropout(p=0.0, inplace=False)\n",
              "          (resid_drop): Dropout(p=0.0, inplace=False)\n",
              "          (proj): Linear(in_features=1024, out_features=1024, bias=True)\n",
              "        )\n",
              "        (mlp): Sequential(\n",
              "          (0): Linear(in_features=1024, out_features=4096, bias=True)\n",
              "          (1): GELU(approximate='none')\n",
              "          (2): Linear(in_features=4096, out_features=1024, bias=True)\n",
              "          (3): Dropout(p=0.0, inplace=False)\n",
              "        )\n",
              "      )\n",
              "      (22): Block(\n",
              "        (ln1): LayerNorm((1024,), eps=1e-05, elementwise_affine=True)\n",
              "        (ln2): LayerNorm((1024,), eps=1e-05, elementwise_affine=True)\n",
              "        (attn): CausalSelfAttention(\n",
              "          (key): Linear(in_features=1024, out_features=1024, bias=True)\n",
              "          (query): Linear(in_features=1024, out_features=1024, bias=True)\n",
              "          (value): Linear(in_features=1024, out_features=1024, bias=True)\n",
              "          (attn_drop): Dropout(p=0.0, inplace=False)\n",
              "          (resid_drop): Dropout(p=0.0, inplace=False)\n",
              "          (proj): Linear(in_features=1024, out_features=1024, bias=True)\n",
              "        )\n",
              "        (mlp): Sequential(\n",
              "          (0): Linear(in_features=1024, out_features=4096, bias=True)\n",
              "          (1): GELU(approximate='none')\n",
              "          (2): Linear(in_features=4096, out_features=1024, bias=True)\n",
              "          (3): Dropout(p=0.0, inplace=False)\n",
              "        )\n",
              "      )\n",
              "      (23): Block(\n",
              "        (ln1): LayerNorm((1024,), eps=1e-05, elementwise_affine=True)\n",
              "        (ln2): LayerNorm((1024,), eps=1e-05, elementwise_affine=True)\n",
              "        (attn): CausalSelfAttention(\n",
              "          (key): Linear(in_features=1024, out_features=1024, bias=True)\n",
              "          (query): Linear(in_features=1024, out_features=1024, bias=True)\n",
              "          (value): Linear(in_features=1024, out_features=1024, bias=True)\n",
              "          (attn_drop): Dropout(p=0.0, inplace=False)\n",
              "          (resid_drop): Dropout(p=0.0, inplace=False)\n",
              "          (proj): Linear(in_features=1024, out_features=1024, bias=True)\n",
              "        )\n",
              "        (mlp): Sequential(\n",
              "          (0): Linear(in_features=1024, out_features=4096, bias=True)\n",
              "          (1): GELU(approximate='none')\n",
              "          (2): Linear(in_features=4096, out_features=1024, bias=True)\n",
              "          (3): Dropout(p=0.0, inplace=False)\n",
              "        )\n",
              "      )\n",
              "    )\n",
              "    (ln_f): LayerNorm((1024,), eps=1e-05, elementwise_affine=True)\n",
              "    (head): Linear(in_features=1024, out_features=1024, bias=False)\n",
              "  )\n",
              "  (classifier1): Linear(in_features=1024, out_features=256, bias=True)\n",
              "  (classifier2): Linear(in_features=256, out_features=256, bias=True)\n",
              "  (classifier3): Linear(in_features=256, out_features=7, bias=True)\n",
              "  (relu): ReLU()\n",
              ")"
            ]
          },
          "metadata": {},
          "execution_count": 50
        }
      ],
      "source": [
        "face_model = modelTransformer(model_transformer)\n",
        "face_model.cuda().eval()\n",
        "# num_layers = len(list(face_model.modules()))\n",
        "# nameList = [name for name, module in face_model.named_modules()]\n",
        "# for i, param in enumerate(face_model.parameters()):\n",
        "#     if i >=  num_layers - 5:\n",
        "#         param.requires_grad = True\n",
        "#     else:\n",
        "#         param.requires_grad = False\n",
        "# Set the model to training mode\n",
        "face_model.train()\n",
        "\n",
        "# Ensure all model parameters have gradient tracking enabled\n",
        "for param in face_model.parameters():\n",
        "    param.requires_grad = True\n",
        "\n",
        "# for i, param in enumerate(face_model.parameters()):\n",
        "#   param.requires_grad = True\n",
        "face_model.to(DEVICE)"
      ]
    },
    {
      "cell_type": "code",
      "source": [
        "!pip install torchviz"
      ],
      "metadata": {
        "colab": {
          "base_uri": "https://localhost:8080/"
        },
        "id": "WbSEz-aQm8Rh",
        "outputId": "429dc9d7-7898-4cc8-8ba6-478aba1e5339"
      },
      "execution_count": 51,
      "outputs": [
        {
          "output_type": "stream",
          "name": "stdout",
          "text": [
            "Looking in indexes: https://pypi.org/simple, https://us-python.pkg.dev/colab-wheels/public/simple/\n",
            "Collecting torchviz\n",
            "  Downloading torchviz-0.0.2.tar.gz (4.9 kB)\n",
            "  Preparing metadata (setup.py) ... \u001b[?25l\u001b[?25hdone\n",
            "Requirement already satisfied: torch in /usr/local/lib/python3.9/dist-packages (from torchviz) (2.0.0+cu118)\n",
            "Requirement already satisfied: graphviz in /usr/local/lib/python3.9/dist-packages (from torchviz) (0.20.1)\n",
            "Requirement already satisfied: networkx in /usr/local/lib/python3.9/dist-packages (from torch->torchviz) (3.1)\n",
            "Requirement already satisfied: jinja2 in /usr/local/lib/python3.9/dist-packages (from torch->torchviz) (3.1.2)\n",
            "Requirement already satisfied: filelock in /usr/local/lib/python3.9/dist-packages (from torch->torchviz) (3.11.0)\n",
            "Requirement already satisfied: triton==2.0.0 in /usr/local/lib/python3.9/dist-packages (from torch->torchviz) (2.0.0)\n",
            "Requirement already satisfied: typing-extensions in /usr/local/lib/python3.9/dist-packages (from torch->torchviz) (4.5.0)\n",
            "Requirement already satisfied: sympy in /usr/local/lib/python3.9/dist-packages (from torch->torchviz) (1.11.1)\n",
            "Requirement already satisfied: lit in /usr/local/lib/python3.9/dist-packages (from triton==2.0.0->torch->torchviz) (16.0.1)\n",
            "Requirement already satisfied: cmake in /usr/local/lib/python3.9/dist-packages (from triton==2.0.0->torch->torchviz) (3.25.2)\n",
            "Requirement already satisfied: MarkupSafe>=2.0 in /usr/local/lib/python3.9/dist-packages (from jinja2->torch->torchviz) (2.1.2)\n",
            "Requirement already satisfied: mpmath>=0.19 in /usr/local/lib/python3.9/dist-packages (from sympy->torch->torchviz) (1.3.0)\n",
            "Building wheels for collected packages: torchviz\n",
            "  Building wheel for torchviz (setup.py) ... \u001b[?25l\u001b[?25hdone\n",
            "  Created wheel for torchviz: filename=torchviz-0.0.2-py3-none-any.whl size=4147 sha256=46a7d547599ff177cee76d72d49b10a1439402f25048f35de7e9b6e82a1d640a\n",
            "  Stored in directory: /root/.cache/pip/wheels/29/65/6e/db2515eb1dc760fecd36b40d54df65c1e18534013f1c037e2e\n",
            "Successfully built torchviz\n",
            "Installing collected packages: torchviz\n",
            "Successfully installed torchviz-0.0.2\n"
          ]
        }
      ]
    },
    {
      "cell_type": "code",
      "execution_count": 52,
      "metadata": {
        "id": "iViK-aTSZRyP",
        "outputId": "17ce515b-db30-4e8f-d951-49be0cb743b8",
        "colab": {
          "base_uri": "https://localhost:8080/",
          "height": 174
        }
      },
      "outputs": [
        {
          "output_type": "stream",
          "name": "stdout",
          "text": [
            "True\n",
            "Loss requires_grad\n",
            "True\n",
            "tensor(5.5375, device='cuda:0', grad_fn=<NllLossBackward0>)\n",
            "tensor([[-1.1914, -1.3142,  1.7333,  3.8382,  0.9769, -0.3934,  1.4284],\n",
            "        [-1.2491, -1.4383,  1.8446,  4.1291,  1.0788, -0.4683,  1.5654]],\n",
            "       device='cuda:0', grad_fn=<AddmmBackward0>)\n"
          ]
        },
        {
          "output_type": "stream",
          "name": "stderr",
          "text": [
            "dot: graph is too large for cairo-renderer bitmaps. Scaling by 0.51008 to fit\n"
          ]
        },
        {
          "output_type": "execute_result",
          "data": {
            "text/plain": [
              "'computation_graph.png'"
            ],
            "application/vnd.google.colaboratory.intrinsic+json": {
              "type": "string"
            }
          },
          "metadata": {},
          "execution_count": 52
        }
      ],
      "source": [
        "from torch.autograd import Variable\n",
        "from torchviz import make_dot\n",
        "\n",
        "#Pass one single input to verify the model\n",
        "input = torch.tensor(preprocessed_val[0:2]['index']).to(DEVICE)\n",
        "labels = torch.tensor(preprocessed_val[0:2]['label']).to(DEVICE)\n",
        "out = face_model(input, labels)\n",
        "\n",
        "# Perform backpropagation\n",
        "out[0].backward()\n",
        "\n",
        "print(out[0])\n",
        "print(out[1])\n",
        "\n",
        "make_dot(out[0], params=dict(face_model.named_parameters())).render(\"computation_graph\", format=\"png\")"
      ]
    },
    {
      "cell_type": "markdown",
      "source": [
        "**My Gradient logits is None**"
      ],
      "metadata": {
        "id": "n8c5exZjZTJg"
      }
    },
    {
      "cell_type": "code",
      "source": [
        "labels"
      ],
      "metadata": {
        "id": "lUV8VU8Hrem8",
        "outputId": "dcf21cce-8999-4830-cda2-f2fdd6c88e16",
        "colab": {
          "base_uri": "https://localhost:8080/"
        }
      },
      "execution_count": null,
      "outputs": [
        {
          "output_type": "execute_result",
          "data": {
            "text/plain": [
              "tensor([0, 1], device='cuda:0')"
            ]
          },
          "metadata": {},
          "execution_count": 128
        }
      ]
    },
    {
      "cell_type": "code",
      "execution_count": null,
      "metadata": {
        "id": "PBT6gZuSCK8m"
      },
      "outputs": [],
      "source": [
        "#pass the input as the prediction\n",
        "face_model(input, None)"
      ]
    },
    {
      "cell_type": "markdown",
      "metadata": {
        "id": "xDaGSWIKGZVu"
      },
      "source": [
        "### Old model"
      ]
    },
    {
      "cell_type": "code",
      "execution_count": null,
      "metadata": {
        "id": "HmkHjRWeZz15"
      },
      "outputs": [],
      "source": []
    },
    {
      "cell_type": "code",
      "execution_count": null,
      "metadata": {
        "colab": {
          "base_uri": "https://localhost:8080/"
        },
        "id": "qAj_d1AS6-VI",
        "outputId": "82ac7653-648d-4a7a-f46c-bf9b73c4eaa8"
      },
      "outputs": [
        {
          "data": {
            "text/plain": [
              "GPT(\n",
              "  (tok_emb): Embedding(1024, 1024)\n",
              "  (drop): Dropout(p=0.0, inplace=False)\n",
              "  (blocks): Sequential(\n",
              "    (0): Block(\n",
              "      (ln1): LayerNorm((1024,), eps=1e-05, elementwise_affine=True)\n",
              "      (ln2): LayerNorm((1024,), eps=1e-05, elementwise_affine=True)\n",
              "      (attn): CausalSelfAttention(\n",
              "        (key): Linear(in_features=1024, out_features=1024, bias=True)\n",
              "        (query): Linear(in_features=1024, out_features=1024, bias=True)\n",
              "        (value): Linear(in_features=1024, out_features=1024, bias=True)\n",
              "        (attn_drop): Dropout(p=0.0, inplace=False)\n",
              "        (resid_drop): Dropout(p=0.0, inplace=False)\n",
              "        (proj): Linear(in_features=1024, out_features=1024, bias=True)\n",
              "      )\n",
              "      (mlp): Sequential(\n",
              "        (0): Linear(in_features=1024, out_features=4096, bias=True)\n",
              "        (1): GELU(approximate='none')\n",
              "        (2): Linear(in_features=4096, out_features=1024, bias=True)\n",
              "        (3): Dropout(p=0.0, inplace=False)\n",
              "      )\n",
              "    )\n",
              "    (1): Block(\n",
              "      (ln1): LayerNorm((1024,), eps=1e-05, elementwise_affine=True)\n",
              "      (ln2): LayerNorm((1024,), eps=1e-05, elementwise_affine=True)\n",
              "      (attn): CausalSelfAttention(\n",
              "        (key): Linear(in_features=1024, out_features=1024, bias=True)\n",
              "        (query): Linear(in_features=1024, out_features=1024, bias=True)\n",
              "        (value): Linear(in_features=1024, out_features=1024, bias=True)\n",
              "        (attn_drop): Dropout(p=0.0, inplace=False)\n",
              "        (resid_drop): Dropout(p=0.0, inplace=False)\n",
              "        (proj): Linear(in_features=1024, out_features=1024, bias=True)\n",
              "      )\n",
              "      (mlp): Sequential(\n",
              "        (0): Linear(in_features=1024, out_features=4096, bias=True)\n",
              "        (1): GELU(approximate='none')\n",
              "        (2): Linear(in_features=4096, out_features=1024, bias=True)\n",
              "        (3): Dropout(p=0.0, inplace=False)\n",
              "      )\n",
              "    )\n",
              "    (2): Block(\n",
              "      (ln1): LayerNorm((1024,), eps=1e-05, elementwise_affine=True)\n",
              "      (ln2): LayerNorm((1024,), eps=1e-05, elementwise_affine=True)\n",
              "      (attn): CausalSelfAttention(\n",
              "        (key): Linear(in_features=1024, out_features=1024, bias=True)\n",
              "        (query): Linear(in_features=1024, out_features=1024, bias=True)\n",
              "        (value): Linear(in_features=1024, out_features=1024, bias=True)\n",
              "        (attn_drop): Dropout(p=0.0, inplace=False)\n",
              "        (resid_drop): Dropout(p=0.0, inplace=False)\n",
              "        (proj): Linear(in_features=1024, out_features=1024, bias=True)\n",
              "      )\n",
              "      (mlp): Sequential(\n",
              "        (0): Linear(in_features=1024, out_features=4096, bias=True)\n",
              "        (1): GELU(approximate='none')\n",
              "        (2): Linear(in_features=4096, out_features=1024, bias=True)\n",
              "        (3): Dropout(p=0.0, inplace=False)\n",
              "      )\n",
              "    )\n",
              "    (3): Block(\n",
              "      (ln1): LayerNorm((1024,), eps=1e-05, elementwise_affine=True)\n",
              "      (ln2): LayerNorm((1024,), eps=1e-05, elementwise_affine=True)\n",
              "      (attn): CausalSelfAttention(\n",
              "        (key): Linear(in_features=1024, out_features=1024, bias=True)\n",
              "        (query): Linear(in_features=1024, out_features=1024, bias=True)\n",
              "        (value): Linear(in_features=1024, out_features=1024, bias=True)\n",
              "        (attn_drop): Dropout(p=0.0, inplace=False)\n",
              "        (resid_drop): Dropout(p=0.0, inplace=False)\n",
              "        (proj): Linear(in_features=1024, out_features=1024, bias=True)\n",
              "      )\n",
              "      (mlp): Sequential(\n",
              "        (0): Linear(in_features=1024, out_features=4096, bias=True)\n",
              "        (1): GELU(approximate='none')\n",
              "        (2): Linear(in_features=4096, out_features=1024, bias=True)\n",
              "        (3): Dropout(p=0.0, inplace=False)\n",
              "      )\n",
              "    )\n",
              "    (4): Block(\n",
              "      (ln1): LayerNorm((1024,), eps=1e-05, elementwise_affine=True)\n",
              "      (ln2): LayerNorm((1024,), eps=1e-05, elementwise_affine=True)\n",
              "      (attn): CausalSelfAttention(\n",
              "        (key): Linear(in_features=1024, out_features=1024, bias=True)\n",
              "        (query): Linear(in_features=1024, out_features=1024, bias=True)\n",
              "        (value): Linear(in_features=1024, out_features=1024, bias=True)\n",
              "        (attn_drop): Dropout(p=0.0, inplace=False)\n",
              "        (resid_drop): Dropout(p=0.0, inplace=False)\n",
              "        (proj): Linear(in_features=1024, out_features=1024, bias=True)\n",
              "      )\n",
              "      (mlp): Sequential(\n",
              "        (0): Linear(in_features=1024, out_features=4096, bias=True)\n",
              "        (1): GELU(approximate='none')\n",
              "        (2): Linear(in_features=4096, out_features=1024, bias=True)\n",
              "        (3): Dropout(p=0.0, inplace=False)\n",
              "      )\n",
              "    )\n",
              "    (5): Block(\n",
              "      (ln1): LayerNorm((1024,), eps=1e-05, elementwise_affine=True)\n",
              "      (ln2): LayerNorm((1024,), eps=1e-05, elementwise_affine=True)\n",
              "      (attn): CausalSelfAttention(\n",
              "        (key): Linear(in_features=1024, out_features=1024, bias=True)\n",
              "        (query): Linear(in_features=1024, out_features=1024, bias=True)\n",
              "        (value): Linear(in_features=1024, out_features=1024, bias=True)\n",
              "        (attn_drop): Dropout(p=0.0, inplace=False)\n",
              "        (resid_drop): Dropout(p=0.0, inplace=False)\n",
              "        (proj): Linear(in_features=1024, out_features=1024, bias=True)\n",
              "      )\n",
              "      (mlp): Sequential(\n",
              "        (0): Linear(in_features=1024, out_features=4096, bias=True)\n",
              "        (1): GELU(approximate='none')\n",
              "        (2): Linear(in_features=4096, out_features=1024, bias=True)\n",
              "        (3): Dropout(p=0.0, inplace=False)\n",
              "      )\n",
              "    )\n",
              "    (6): Block(\n",
              "      (ln1): LayerNorm((1024,), eps=1e-05, elementwise_affine=True)\n",
              "      (ln2): LayerNorm((1024,), eps=1e-05, elementwise_affine=True)\n",
              "      (attn): CausalSelfAttention(\n",
              "        (key): Linear(in_features=1024, out_features=1024, bias=True)\n",
              "        (query): Linear(in_features=1024, out_features=1024, bias=True)\n",
              "        (value): Linear(in_features=1024, out_features=1024, bias=True)\n",
              "        (attn_drop): Dropout(p=0.0, inplace=False)\n",
              "        (resid_drop): Dropout(p=0.0, inplace=False)\n",
              "        (proj): Linear(in_features=1024, out_features=1024, bias=True)\n",
              "      )\n",
              "      (mlp): Sequential(\n",
              "        (0): Linear(in_features=1024, out_features=4096, bias=True)\n",
              "        (1): GELU(approximate='none')\n",
              "        (2): Linear(in_features=4096, out_features=1024, bias=True)\n",
              "        (3): Dropout(p=0.0, inplace=False)\n",
              "      )\n",
              "    )\n",
              "    (7): Block(\n",
              "      (ln1): LayerNorm((1024,), eps=1e-05, elementwise_affine=True)\n",
              "      (ln2): LayerNorm((1024,), eps=1e-05, elementwise_affine=True)\n",
              "      (attn): CausalSelfAttention(\n",
              "        (key): Linear(in_features=1024, out_features=1024, bias=True)\n",
              "        (query): Linear(in_features=1024, out_features=1024, bias=True)\n",
              "        (value): Linear(in_features=1024, out_features=1024, bias=True)\n",
              "        (attn_drop): Dropout(p=0.0, inplace=False)\n",
              "        (resid_drop): Dropout(p=0.0, inplace=False)\n",
              "        (proj): Linear(in_features=1024, out_features=1024, bias=True)\n",
              "      )\n",
              "      (mlp): Sequential(\n",
              "        (0): Linear(in_features=1024, out_features=4096, bias=True)\n",
              "        (1): GELU(approximate='none')\n",
              "        (2): Linear(in_features=4096, out_features=1024, bias=True)\n",
              "        (3): Dropout(p=0.0, inplace=False)\n",
              "      )\n",
              "    )\n",
              "    (8): Block(\n",
              "      (ln1): LayerNorm((1024,), eps=1e-05, elementwise_affine=True)\n",
              "      (ln2): LayerNorm((1024,), eps=1e-05, elementwise_affine=True)\n",
              "      (attn): CausalSelfAttention(\n",
              "        (key): Linear(in_features=1024, out_features=1024, bias=True)\n",
              "        (query): Linear(in_features=1024, out_features=1024, bias=True)\n",
              "        (value): Linear(in_features=1024, out_features=1024, bias=True)\n",
              "        (attn_drop): Dropout(p=0.0, inplace=False)\n",
              "        (resid_drop): Dropout(p=0.0, inplace=False)\n",
              "        (proj): Linear(in_features=1024, out_features=1024, bias=True)\n",
              "      )\n",
              "      (mlp): Sequential(\n",
              "        (0): Linear(in_features=1024, out_features=4096, bias=True)\n",
              "        (1): GELU(approximate='none')\n",
              "        (2): Linear(in_features=4096, out_features=1024, bias=True)\n",
              "        (3): Dropout(p=0.0, inplace=False)\n",
              "      )\n",
              "    )\n",
              "    (9): Block(\n",
              "      (ln1): LayerNorm((1024,), eps=1e-05, elementwise_affine=True)\n",
              "      (ln2): LayerNorm((1024,), eps=1e-05, elementwise_affine=True)\n",
              "      (attn): CausalSelfAttention(\n",
              "        (key): Linear(in_features=1024, out_features=1024, bias=True)\n",
              "        (query): Linear(in_features=1024, out_features=1024, bias=True)\n",
              "        (value): Linear(in_features=1024, out_features=1024, bias=True)\n",
              "        (attn_drop): Dropout(p=0.0, inplace=False)\n",
              "        (resid_drop): Dropout(p=0.0, inplace=False)\n",
              "        (proj): Linear(in_features=1024, out_features=1024, bias=True)\n",
              "      )\n",
              "      (mlp): Sequential(\n",
              "        (0): Linear(in_features=1024, out_features=4096, bias=True)\n",
              "        (1): GELU(approximate='none')\n",
              "        (2): Linear(in_features=4096, out_features=1024, bias=True)\n",
              "        (3): Dropout(p=0.0, inplace=False)\n",
              "      )\n",
              "    )\n",
              "    (10): Block(\n",
              "      (ln1): LayerNorm((1024,), eps=1e-05, elementwise_affine=True)\n",
              "      (ln2): LayerNorm((1024,), eps=1e-05, elementwise_affine=True)\n",
              "      (attn): CausalSelfAttention(\n",
              "        (key): Linear(in_features=1024, out_features=1024, bias=True)\n",
              "        (query): Linear(in_features=1024, out_features=1024, bias=True)\n",
              "        (value): Linear(in_features=1024, out_features=1024, bias=True)\n",
              "        (attn_drop): Dropout(p=0.0, inplace=False)\n",
              "        (resid_drop): Dropout(p=0.0, inplace=False)\n",
              "        (proj): Linear(in_features=1024, out_features=1024, bias=True)\n",
              "      )\n",
              "      (mlp): Sequential(\n",
              "        (0): Linear(in_features=1024, out_features=4096, bias=True)\n",
              "        (1): GELU(approximate='none')\n",
              "        (2): Linear(in_features=4096, out_features=1024, bias=True)\n",
              "        (3): Dropout(p=0.0, inplace=False)\n",
              "      )\n",
              "    )\n",
              "    (11): Block(\n",
              "      (ln1): LayerNorm((1024,), eps=1e-05, elementwise_affine=True)\n",
              "      (ln2): LayerNorm((1024,), eps=1e-05, elementwise_affine=True)\n",
              "      (attn): CausalSelfAttention(\n",
              "        (key): Linear(in_features=1024, out_features=1024, bias=True)\n",
              "        (query): Linear(in_features=1024, out_features=1024, bias=True)\n",
              "        (value): Linear(in_features=1024, out_features=1024, bias=True)\n",
              "        (attn_drop): Dropout(p=0.0, inplace=False)\n",
              "        (resid_drop): Dropout(p=0.0, inplace=False)\n",
              "        (proj): Linear(in_features=1024, out_features=1024, bias=True)\n",
              "      )\n",
              "      (mlp): Sequential(\n",
              "        (0): Linear(in_features=1024, out_features=4096, bias=True)\n",
              "        (1): GELU(approximate='none')\n",
              "        (2): Linear(in_features=4096, out_features=1024, bias=True)\n",
              "        (3): Dropout(p=0.0, inplace=False)\n",
              "      )\n",
              "    )\n",
              "    (12): Block(\n",
              "      (ln1): LayerNorm((1024,), eps=1e-05, elementwise_affine=True)\n",
              "      (ln2): LayerNorm((1024,), eps=1e-05, elementwise_affine=True)\n",
              "      (attn): CausalSelfAttention(\n",
              "        (key): Linear(in_features=1024, out_features=1024, bias=True)\n",
              "        (query): Linear(in_features=1024, out_features=1024, bias=True)\n",
              "        (value): Linear(in_features=1024, out_features=1024, bias=True)\n",
              "        (attn_drop): Dropout(p=0.0, inplace=False)\n",
              "        (resid_drop): Dropout(p=0.0, inplace=False)\n",
              "        (proj): Linear(in_features=1024, out_features=1024, bias=True)\n",
              "      )\n",
              "      (mlp): Sequential(\n",
              "        (0): Linear(in_features=1024, out_features=4096, bias=True)\n",
              "        (1): GELU(approximate='none')\n",
              "        (2): Linear(in_features=4096, out_features=1024, bias=True)\n",
              "        (3): Dropout(p=0.0, inplace=False)\n",
              "      )\n",
              "    )\n",
              "    (13): Block(\n",
              "      (ln1): LayerNorm((1024,), eps=1e-05, elementwise_affine=True)\n",
              "      (ln2): LayerNorm((1024,), eps=1e-05, elementwise_affine=True)\n",
              "      (attn): CausalSelfAttention(\n",
              "        (key): Linear(in_features=1024, out_features=1024, bias=True)\n",
              "        (query): Linear(in_features=1024, out_features=1024, bias=True)\n",
              "        (value): Linear(in_features=1024, out_features=1024, bias=True)\n",
              "        (attn_drop): Dropout(p=0.0, inplace=False)\n",
              "        (resid_drop): Dropout(p=0.0, inplace=False)\n",
              "        (proj): Linear(in_features=1024, out_features=1024, bias=True)\n",
              "      )\n",
              "      (mlp): Sequential(\n",
              "        (0): Linear(in_features=1024, out_features=4096, bias=True)\n",
              "        (1): GELU(approximate='none')\n",
              "        (2): Linear(in_features=4096, out_features=1024, bias=True)\n",
              "        (3): Dropout(p=0.0, inplace=False)\n",
              "      )\n",
              "    )\n",
              "    (14): Block(\n",
              "      (ln1): LayerNorm((1024,), eps=1e-05, elementwise_affine=True)\n",
              "      (ln2): LayerNorm((1024,), eps=1e-05, elementwise_affine=True)\n",
              "      (attn): CausalSelfAttention(\n",
              "        (key): Linear(in_features=1024, out_features=1024, bias=True)\n",
              "        (query): Linear(in_features=1024, out_features=1024, bias=True)\n",
              "        (value): Linear(in_features=1024, out_features=1024, bias=True)\n",
              "        (attn_drop): Dropout(p=0.0, inplace=False)\n",
              "        (resid_drop): Dropout(p=0.0, inplace=False)\n",
              "        (proj): Linear(in_features=1024, out_features=1024, bias=True)\n",
              "      )\n",
              "      (mlp): Sequential(\n",
              "        (0): Linear(in_features=1024, out_features=4096, bias=True)\n",
              "        (1): GELU(approximate='none')\n",
              "        (2): Linear(in_features=4096, out_features=1024, bias=True)\n",
              "        (3): Dropout(p=0.0, inplace=False)\n",
              "      )\n",
              "    )\n",
              "    (15): Block(\n",
              "      (ln1): LayerNorm((1024,), eps=1e-05, elementwise_affine=True)\n",
              "      (ln2): LayerNorm((1024,), eps=1e-05, elementwise_affine=True)\n",
              "      (attn): CausalSelfAttention(\n",
              "        (key): Linear(in_features=1024, out_features=1024, bias=True)\n",
              "        (query): Linear(in_features=1024, out_features=1024, bias=True)\n",
              "        (value): Linear(in_features=1024, out_features=1024, bias=True)\n",
              "        (attn_drop): Dropout(p=0.0, inplace=False)\n",
              "        (resid_drop): Dropout(p=0.0, inplace=False)\n",
              "        (proj): Linear(in_features=1024, out_features=1024, bias=True)\n",
              "      )\n",
              "      (mlp): Sequential(\n",
              "        (0): Linear(in_features=1024, out_features=4096, bias=True)\n",
              "        (1): GELU(approximate='none')\n",
              "        (2): Linear(in_features=4096, out_features=1024, bias=True)\n",
              "        (3): Dropout(p=0.0, inplace=False)\n",
              "      )\n",
              "    )\n",
              "    (16): Block(\n",
              "      (ln1): LayerNorm((1024,), eps=1e-05, elementwise_affine=True)\n",
              "      (ln2): LayerNorm((1024,), eps=1e-05, elementwise_affine=True)\n",
              "      (attn): CausalSelfAttention(\n",
              "        (key): Linear(in_features=1024, out_features=1024, bias=True)\n",
              "        (query): Linear(in_features=1024, out_features=1024, bias=True)\n",
              "        (value): Linear(in_features=1024, out_features=1024, bias=True)\n",
              "        (attn_drop): Dropout(p=0.0, inplace=False)\n",
              "        (resid_drop): Dropout(p=0.0, inplace=False)\n",
              "        (proj): Linear(in_features=1024, out_features=1024, bias=True)\n",
              "      )\n",
              "      (mlp): Sequential(\n",
              "        (0): Linear(in_features=1024, out_features=4096, bias=True)\n",
              "        (1): GELU(approximate='none')\n",
              "        (2): Linear(in_features=4096, out_features=1024, bias=True)\n",
              "        (3): Dropout(p=0.0, inplace=False)\n",
              "      )\n",
              "    )\n",
              "    (17): Block(\n",
              "      (ln1): LayerNorm((1024,), eps=1e-05, elementwise_affine=True)\n",
              "      (ln2): LayerNorm((1024,), eps=1e-05, elementwise_affine=True)\n",
              "      (attn): CausalSelfAttention(\n",
              "        (key): Linear(in_features=1024, out_features=1024, bias=True)\n",
              "        (query): Linear(in_features=1024, out_features=1024, bias=True)\n",
              "        (value): Linear(in_features=1024, out_features=1024, bias=True)\n",
              "        (attn_drop): Dropout(p=0.0, inplace=False)\n",
              "        (resid_drop): Dropout(p=0.0, inplace=False)\n",
              "        (proj): Linear(in_features=1024, out_features=1024, bias=True)\n",
              "      )\n",
              "      (mlp): Sequential(\n",
              "        (0): Linear(in_features=1024, out_features=4096, bias=True)\n",
              "        (1): GELU(approximate='none')\n",
              "        (2): Linear(in_features=4096, out_features=1024, bias=True)\n",
              "        (3): Dropout(p=0.0, inplace=False)\n",
              "      )\n",
              "    )\n",
              "    (18): Block(\n",
              "      (ln1): LayerNorm((1024,), eps=1e-05, elementwise_affine=True)\n",
              "      (ln2): LayerNorm((1024,), eps=1e-05, elementwise_affine=True)\n",
              "      (attn): CausalSelfAttention(\n",
              "        (key): Linear(in_features=1024, out_features=1024, bias=True)\n",
              "        (query): Linear(in_features=1024, out_features=1024, bias=True)\n",
              "        (value): Linear(in_features=1024, out_features=1024, bias=True)\n",
              "        (attn_drop): Dropout(p=0.0, inplace=False)\n",
              "        (resid_drop): Dropout(p=0.0, inplace=False)\n",
              "        (proj): Linear(in_features=1024, out_features=1024, bias=True)\n",
              "      )\n",
              "      (mlp): Sequential(\n",
              "        (0): Linear(in_features=1024, out_features=4096, bias=True)\n",
              "        (1): GELU(approximate='none')\n",
              "        (2): Linear(in_features=4096, out_features=1024, bias=True)\n",
              "        (3): Dropout(p=0.0, inplace=False)\n",
              "      )\n",
              "    )\n",
              "    (19): Block(\n",
              "      (ln1): LayerNorm((1024,), eps=1e-05, elementwise_affine=True)\n",
              "      (ln2): LayerNorm((1024,), eps=1e-05, elementwise_affine=True)\n",
              "      (attn): CausalSelfAttention(\n",
              "        (key): Linear(in_features=1024, out_features=1024, bias=True)\n",
              "        (query): Linear(in_features=1024, out_features=1024, bias=True)\n",
              "        (value): Linear(in_features=1024, out_features=1024, bias=True)\n",
              "        (attn_drop): Dropout(p=0.0, inplace=False)\n",
              "        (resid_drop): Dropout(p=0.0, inplace=False)\n",
              "        (proj): Linear(in_features=1024, out_features=1024, bias=True)\n",
              "      )\n",
              "      (mlp): Sequential(\n",
              "        (0): Linear(in_features=1024, out_features=4096, bias=True)\n",
              "        (1): GELU(approximate='none')\n",
              "        (2): Linear(in_features=4096, out_features=1024, bias=True)\n",
              "        (3): Dropout(p=0.0, inplace=False)\n",
              "      )\n",
              "    )\n",
              "    (20): Block(\n",
              "      (ln1): LayerNorm((1024,), eps=1e-05, elementwise_affine=True)\n",
              "      (ln2): LayerNorm((1024,), eps=1e-05, elementwise_affine=True)\n",
              "      (attn): CausalSelfAttention(\n",
              "        (key): Linear(in_features=1024, out_features=1024, bias=True)\n",
              "        (query): Linear(in_features=1024, out_features=1024, bias=True)\n",
              "        (value): Linear(in_features=1024, out_features=1024, bias=True)\n",
              "        (attn_drop): Dropout(p=0.0, inplace=False)\n",
              "        (resid_drop): Dropout(p=0.0, inplace=False)\n",
              "        (proj): Linear(in_features=1024, out_features=1024, bias=True)\n",
              "      )\n",
              "      (mlp): Sequential(\n",
              "        (0): Linear(in_features=1024, out_features=4096, bias=True)\n",
              "        (1): GELU(approximate='none')\n",
              "        (2): Linear(in_features=4096, out_features=1024, bias=True)\n",
              "        (3): Dropout(p=0.0, inplace=False)\n",
              "      )\n",
              "    )\n",
              "    (21): Block(\n",
              "      (ln1): LayerNorm((1024,), eps=1e-05, elementwise_affine=True)\n",
              "      (ln2): LayerNorm((1024,), eps=1e-05, elementwise_affine=True)\n",
              "      (attn): CausalSelfAttention(\n",
              "        (key): Linear(in_features=1024, out_features=1024, bias=True)\n",
              "        (query): Linear(in_features=1024, out_features=1024, bias=True)\n",
              "        (value): Linear(in_features=1024, out_features=1024, bias=True)\n",
              "        (attn_drop): Dropout(p=0.0, inplace=False)\n",
              "        (resid_drop): Dropout(p=0.0, inplace=False)\n",
              "        (proj): Linear(in_features=1024, out_features=1024, bias=True)\n",
              "      )\n",
              "      (mlp): Sequential(\n",
              "        (0): Linear(in_features=1024, out_features=4096, bias=True)\n",
              "        (1): GELU(approximate='none')\n",
              "        (2): Linear(in_features=4096, out_features=1024, bias=True)\n",
              "        (3): Dropout(p=0.0, inplace=False)\n",
              "      )\n",
              "    )\n",
              "    (22): Block(\n",
              "      (ln1): LayerNorm((1024,), eps=1e-05, elementwise_affine=True)\n",
              "      (ln2): LayerNorm((1024,), eps=1e-05, elementwise_affine=True)\n",
              "      (attn): CausalSelfAttention(\n",
              "        (key): Linear(in_features=1024, out_features=1024, bias=True)\n",
              "        (query): Linear(in_features=1024, out_features=1024, bias=True)\n",
              "        (value): Linear(in_features=1024, out_features=1024, bias=True)\n",
              "        (attn_drop): Dropout(p=0.0, inplace=False)\n",
              "        (resid_drop): Dropout(p=0.0, inplace=False)\n",
              "        (proj): Linear(in_features=1024, out_features=1024, bias=True)\n",
              "      )\n",
              "      (mlp): Sequential(\n",
              "        (0): Linear(in_features=1024, out_features=4096, bias=True)\n",
              "        (1): GELU(approximate='none')\n",
              "        (2): Linear(in_features=4096, out_features=1024, bias=True)\n",
              "        (3): Dropout(p=0.0, inplace=False)\n",
              "      )\n",
              "    )\n",
              "    (23): Block(\n",
              "      (ln1): LayerNorm((1024,), eps=1e-05, elementwise_affine=True)\n",
              "      (ln2): LayerNorm((1024,), eps=1e-05, elementwise_affine=True)\n",
              "      (attn): CausalSelfAttention(\n",
              "        (key): Linear(in_features=1024, out_features=1024, bias=True)\n",
              "        (query): Linear(in_features=1024, out_features=1024, bias=True)\n",
              "        (value): Linear(in_features=1024, out_features=1024, bias=True)\n",
              "        (attn_drop): Dropout(p=0.0, inplace=False)\n",
              "        (resid_drop): Dropout(p=0.0, inplace=False)\n",
              "        (proj): Linear(in_features=1024, out_features=1024, bias=True)\n",
              "      )\n",
              "      (mlp): Sequential(\n",
              "        (0): Linear(in_features=1024, out_features=4096, bias=True)\n",
              "        (1): GELU(approximate='none')\n",
              "        (2): Linear(in_features=4096, out_features=1024, bias=True)\n",
              "        (3): Dropout(p=0.0, inplace=False)\n",
              "      )\n",
              "    )\n",
              "  )\n",
              "  (ln_f): LayerNorm((1024,), eps=1e-05, elementwise_affine=True)\n",
              "  (head): Sequential(\n",
              "    (0): Flatten(start_dim=1, end_dim=-1)\n",
              "    (1): Linear(in_features=262144, out_features=256, bias=True)\n",
              "    (2): ReLU()\n",
              "    (3): Dropout(p=0.1, inplace=False)\n",
              "    (4): Linear(in_features=256, out_features=64, bias=True)\n",
              "    (5): ReLU()\n",
              "    (6): Linear(in_features=64, out_features=7, bias=True)\n",
              "    (7): Softmax(dim=1)\n",
              "  )\n",
              ")"
            ]
          },
          "execution_count": 109,
          "metadata": {},
          "output_type": "execute_result"
        }
      ],
      "source": [
        "new_head = nn.Sequential(\n",
        "    nn.Flatten(),\n",
        "    nn.Linear(1024*256, 256),\n",
        "    nn.ReLU(),\n",
        "    nn.Dropout(0.1),\n",
        "    nn.Linear(256, 64),\n",
        "    nn.ReLU(),\n",
        "    nn.Linear(64, 7),\n",
        "    nn.Softmax(dim=1)\n",
        ")\n",
        "model_transformer.head = new_head\n",
        "\n",
        "model_transformer.to(DEVICE)\n"
      ]
    },
    {
      "cell_type": "code",
      "execution_count": null,
      "metadata": {
        "colab": {
          "base_uri": "https://localhost:8080/"
        },
        "id": "iXWhiInn9ZOv",
        "outputId": "96ebf91e-aca5-4971-e1d5-bba37d3cc491"
      },
      "outputs": [
        {
          "name": "stdout",
          "output_type": "stream",
          "text": [
            "The model is trainable\n"
          ]
        }
      ],
      "source": [
        "# Check if the model is trainable\n",
        "trainable_params = any(param.requires_grad for param in model_transformer.parameters())\n",
        "\n",
        "if trainable_params:\n",
        "    print('The model is trainable')\n",
        "else:\n",
        "    print('The model is not trainable')"
      ]
    },
    {
      "cell_type": "code",
      "execution_count": null,
      "metadata": {
        "id": "e4JsuHccFHeZ"
      },
      "outputs": [],
      "source": [
        "# model_transformer.head = None\n",
        "# model_transformer.ln_f = None\n",
        "\n",
        "class modelTransformer(nn.Module):\n",
        "    def __init__(self, model_transformer):\n",
        "        super(modelTransformer, self).__init__()\n",
        "        self.transformer = model_transformer\n",
        "        # self.hidden_units = model_transformer.config.vocab_size\n",
        "        # self.new_head = nn.Sequential(\n",
        "        #     nn.Flatten(),\n",
        "        #     nn.Linear(self.hidden_units*256, 128),\n",
        "        #     nn.ReLU(),\n",
        "        #     nn.Dropout(0.1),\n",
        "        #     nn.Linear(128, 7),\n",
        "        #     nn.LogSoftmax(dim=1),\n",
        "        # )\n",
        "\n",
        "    def forward(self, index, labels):\n",
        "        logits,_  = self.transformer(index)\n",
        "        # outputs = self.transformer.ln_f(outputs)\n",
        "        # logits = self.new_head(outputs)  # Pass through the new head\n",
        "\n",
        "        loss = None\n",
        "        if labels is not None:\n",
        "            loss_fct = nn.CrossEntropyLoss()\n",
        "            loss = loss_fct(logits.view(-1, 7), labels.view(-1))\n",
        "            loss = Variable(loss, requires_grad = True)\n",
        "        \n",
        "        return loss, logits\n",
        "\n",
        "# class modelTransformer(Net2NetTransformer):\n",
        "#     def __init__(self, model_transformer, num_classes):\n",
        "#         super(modelTransformer, self).__init__()\n",
        "#         self.transformer = model_transformer\n",
        "#         self.hidden_units = model_transformer.config.vocab_size\n",
        "#         self.new_head = nn.Sequential(\n",
        "#             nn.Linear(self.hidden_units, 128),\n",
        "#             nn.ReLU(),\n",
        "#             nn.Dropout(0.1),\n",
        "#             nn.Linear(128, num_classes),\n",
        "#             nn.LogSoftmax(dim=1),\n",
        "#         )\n",
        "\n",
        "#     def forward(self, index, labels):\n",
        "#         outputs = self.transformer(index)\n",
        "#         logits = self.new_head(outputs)  # Pass through the new head\n",
        "\n",
        "#         loss = None\n",
        "#         if labels is not None:\n",
        "#             loss_fct = nn.CrossEntropyLoss()\n",
        "#             loss = loss_fct(logits.view(-1, self.num_classes), labels.view(-1))\n",
        "        \n",
        "#         return loss, logits\n",
        "        \n",
        "#         # return logits"
      ]
    },
    {
      "cell_type": "code",
      "execution_count": null,
      "metadata": {
        "colab": {
          "base_uri": "https://localhost:8080/"
        },
        "id": "F4B4MXNgFHea",
        "outputId": "757d4483-2bdd-429b-bdb5-5c98c66b0feb"
      },
      "outputs": [
        {
          "data": {
            "text/plain": [
              "modelTransformer(\n",
              "  (transformer): GPT(\n",
              "    (tok_emb): Embedding(1024, 1024)\n",
              "    (drop): Dropout(p=0.0, inplace=False)\n",
              "    (blocks): Sequential(\n",
              "      (0): Block(\n",
              "        (ln1): LayerNorm((1024,), eps=1e-05, elementwise_affine=True)\n",
              "        (ln2): LayerNorm((1024,), eps=1e-05, elementwise_affine=True)\n",
              "        (attn): CausalSelfAttention(\n",
              "          (key): Linear(in_features=1024, out_features=1024, bias=True)\n",
              "          (query): Linear(in_features=1024, out_features=1024, bias=True)\n",
              "          (value): Linear(in_features=1024, out_features=1024, bias=True)\n",
              "          (attn_drop): Dropout(p=0.0, inplace=False)\n",
              "          (resid_drop): Dropout(p=0.0, inplace=False)\n",
              "          (proj): Linear(in_features=1024, out_features=1024, bias=True)\n",
              "        )\n",
              "        (mlp): Sequential(\n",
              "          (0): Linear(in_features=1024, out_features=4096, bias=True)\n",
              "          (1): GELU(approximate='none')\n",
              "          (2): Linear(in_features=4096, out_features=1024, bias=True)\n",
              "          (3): Dropout(p=0.0, inplace=False)\n",
              "        )\n",
              "      )\n",
              "      (1): Block(\n",
              "        (ln1): LayerNorm((1024,), eps=1e-05, elementwise_affine=True)\n",
              "        (ln2): LayerNorm((1024,), eps=1e-05, elementwise_affine=True)\n",
              "        (attn): CausalSelfAttention(\n",
              "          (key): Linear(in_features=1024, out_features=1024, bias=True)\n",
              "          (query): Linear(in_features=1024, out_features=1024, bias=True)\n",
              "          (value): Linear(in_features=1024, out_features=1024, bias=True)\n",
              "          (attn_drop): Dropout(p=0.0, inplace=False)\n",
              "          (resid_drop): Dropout(p=0.0, inplace=False)\n",
              "          (proj): Linear(in_features=1024, out_features=1024, bias=True)\n",
              "        )\n",
              "        (mlp): Sequential(\n",
              "          (0): Linear(in_features=1024, out_features=4096, bias=True)\n",
              "          (1): GELU(approximate='none')\n",
              "          (2): Linear(in_features=4096, out_features=1024, bias=True)\n",
              "          (3): Dropout(p=0.0, inplace=False)\n",
              "        )\n",
              "      )\n",
              "      (2): Block(\n",
              "        (ln1): LayerNorm((1024,), eps=1e-05, elementwise_affine=True)\n",
              "        (ln2): LayerNorm((1024,), eps=1e-05, elementwise_affine=True)\n",
              "        (attn): CausalSelfAttention(\n",
              "          (key): Linear(in_features=1024, out_features=1024, bias=True)\n",
              "          (query): Linear(in_features=1024, out_features=1024, bias=True)\n",
              "          (value): Linear(in_features=1024, out_features=1024, bias=True)\n",
              "          (attn_drop): Dropout(p=0.0, inplace=False)\n",
              "          (resid_drop): Dropout(p=0.0, inplace=False)\n",
              "          (proj): Linear(in_features=1024, out_features=1024, bias=True)\n",
              "        )\n",
              "        (mlp): Sequential(\n",
              "          (0): Linear(in_features=1024, out_features=4096, bias=True)\n",
              "          (1): GELU(approximate='none')\n",
              "          (2): Linear(in_features=4096, out_features=1024, bias=True)\n",
              "          (3): Dropout(p=0.0, inplace=False)\n",
              "        )\n",
              "      )\n",
              "      (3): Block(\n",
              "        (ln1): LayerNorm((1024,), eps=1e-05, elementwise_affine=True)\n",
              "        (ln2): LayerNorm((1024,), eps=1e-05, elementwise_affine=True)\n",
              "        (attn): CausalSelfAttention(\n",
              "          (key): Linear(in_features=1024, out_features=1024, bias=True)\n",
              "          (query): Linear(in_features=1024, out_features=1024, bias=True)\n",
              "          (value): Linear(in_features=1024, out_features=1024, bias=True)\n",
              "          (attn_drop): Dropout(p=0.0, inplace=False)\n",
              "          (resid_drop): Dropout(p=0.0, inplace=False)\n",
              "          (proj): Linear(in_features=1024, out_features=1024, bias=True)\n",
              "        )\n",
              "        (mlp): Sequential(\n",
              "          (0): Linear(in_features=1024, out_features=4096, bias=True)\n",
              "          (1): GELU(approximate='none')\n",
              "          (2): Linear(in_features=4096, out_features=1024, bias=True)\n",
              "          (3): Dropout(p=0.0, inplace=False)\n",
              "        )\n",
              "      )\n",
              "      (4): Block(\n",
              "        (ln1): LayerNorm((1024,), eps=1e-05, elementwise_affine=True)\n",
              "        (ln2): LayerNorm((1024,), eps=1e-05, elementwise_affine=True)\n",
              "        (attn): CausalSelfAttention(\n",
              "          (key): Linear(in_features=1024, out_features=1024, bias=True)\n",
              "          (query): Linear(in_features=1024, out_features=1024, bias=True)\n",
              "          (value): Linear(in_features=1024, out_features=1024, bias=True)\n",
              "          (attn_drop): Dropout(p=0.0, inplace=False)\n",
              "          (resid_drop): Dropout(p=0.0, inplace=False)\n",
              "          (proj): Linear(in_features=1024, out_features=1024, bias=True)\n",
              "        )\n",
              "        (mlp): Sequential(\n",
              "          (0): Linear(in_features=1024, out_features=4096, bias=True)\n",
              "          (1): GELU(approximate='none')\n",
              "          (2): Linear(in_features=4096, out_features=1024, bias=True)\n",
              "          (3): Dropout(p=0.0, inplace=False)\n",
              "        )\n",
              "      )\n",
              "      (5): Block(\n",
              "        (ln1): LayerNorm((1024,), eps=1e-05, elementwise_affine=True)\n",
              "        (ln2): LayerNorm((1024,), eps=1e-05, elementwise_affine=True)\n",
              "        (attn): CausalSelfAttention(\n",
              "          (key): Linear(in_features=1024, out_features=1024, bias=True)\n",
              "          (query): Linear(in_features=1024, out_features=1024, bias=True)\n",
              "          (value): Linear(in_features=1024, out_features=1024, bias=True)\n",
              "          (attn_drop): Dropout(p=0.0, inplace=False)\n",
              "          (resid_drop): Dropout(p=0.0, inplace=False)\n",
              "          (proj): Linear(in_features=1024, out_features=1024, bias=True)\n",
              "        )\n",
              "        (mlp): Sequential(\n",
              "          (0): Linear(in_features=1024, out_features=4096, bias=True)\n",
              "          (1): GELU(approximate='none')\n",
              "          (2): Linear(in_features=4096, out_features=1024, bias=True)\n",
              "          (3): Dropout(p=0.0, inplace=False)\n",
              "        )\n",
              "      )\n",
              "      (6): Block(\n",
              "        (ln1): LayerNorm((1024,), eps=1e-05, elementwise_affine=True)\n",
              "        (ln2): LayerNorm((1024,), eps=1e-05, elementwise_affine=True)\n",
              "        (attn): CausalSelfAttention(\n",
              "          (key): Linear(in_features=1024, out_features=1024, bias=True)\n",
              "          (query): Linear(in_features=1024, out_features=1024, bias=True)\n",
              "          (value): Linear(in_features=1024, out_features=1024, bias=True)\n",
              "          (attn_drop): Dropout(p=0.0, inplace=False)\n",
              "          (resid_drop): Dropout(p=0.0, inplace=False)\n",
              "          (proj): Linear(in_features=1024, out_features=1024, bias=True)\n",
              "        )\n",
              "        (mlp): Sequential(\n",
              "          (0): Linear(in_features=1024, out_features=4096, bias=True)\n",
              "          (1): GELU(approximate='none')\n",
              "          (2): Linear(in_features=4096, out_features=1024, bias=True)\n",
              "          (3): Dropout(p=0.0, inplace=False)\n",
              "        )\n",
              "      )\n",
              "      (7): Block(\n",
              "        (ln1): LayerNorm((1024,), eps=1e-05, elementwise_affine=True)\n",
              "        (ln2): LayerNorm((1024,), eps=1e-05, elementwise_affine=True)\n",
              "        (attn): CausalSelfAttention(\n",
              "          (key): Linear(in_features=1024, out_features=1024, bias=True)\n",
              "          (query): Linear(in_features=1024, out_features=1024, bias=True)\n",
              "          (value): Linear(in_features=1024, out_features=1024, bias=True)\n",
              "          (attn_drop): Dropout(p=0.0, inplace=False)\n",
              "          (resid_drop): Dropout(p=0.0, inplace=False)\n",
              "          (proj): Linear(in_features=1024, out_features=1024, bias=True)\n",
              "        )\n",
              "        (mlp): Sequential(\n",
              "          (0): Linear(in_features=1024, out_features=4096, bias=True)\n",
              "          (1): GELU(approximate='none')\n",
              "          (2): Linear(in_features=4096, out_features=1024, bias=True)\n",
              "          (3): Dropout(p=0.0, inplace=False)\n",
              "        )\n",
              "      )\n",
              "      (8): Block(\n",
              "        (ln1): LayerNorm((1024,), eps=1e-05, elementwise_affine=True)\n",
              "        (ln2): LayerNorm((1024,), eps=1e-05, elementwise_affine=True)\n",
              "        (attn): CausalSelfAttention(\n",
              "          (key): Linear(in_features=1024, out_features=1024, bias=True)\n",
              "          (query): Linear(in_features=1024, out_features=1024, bias=True)\n",
              "          (value): Linear(in_features=1024, out_features=1024, bias=True)\n",
              "          (attn_drop): Dropout(p=0.0, inplace=False)\n",
              "          (resid_drop): Dropout(p=0.0, inplace=False)\n",
              "          (proj): Linear(in_features=1024, out_features=1024, bias=True)\n",
              "        )\n",
              "        (mlp): Sequential(\n",
              "          (0): Linear(in_features=1024, out_features=4096, bias=True)\n",
              "          (1): GELU(approximate='none')\n",
              "          (2): Linear(in_features=4096, out_features=1024, bias=True)\n",
              "          (3): Dropout(p=0.0, inplace=False)\n",
              "        )\n",
              "      )\n",
              "      (9): Block(\n",
              "        (ln1): LayerNorm((1024,), eps=1e-05, elementwise_affine=True)\n",
              "        (ln2): LayerNorm((1024,), eps=1e-05, elementwise_affine=True)\n",
              "        (attn): CausalSelfAttention(\n",
              "          (key): Linear(in_features=1024, out_features=1024, bias=True)\n",
              "          (query): Linear(in_features=1024, out_features=1024, bias=True)\n",
              "          (value): Linear(in_features=1024, out_features=1024, bias=True)\n",
              "          (attn_drop): Dropout(p=0.0, inplace=False)\n",
              "          (resid_drop): Dropout(p=0.0, inplace=False)\n",
              "          (proj): Linear(in_features=1024, out_features=1024, bias=True)\n",
              "        )\n",
              "        (mlp): Sequential(\n",
              "          (0): Linear(in_features=1024, out_features=4096, bias=True)\n",
              "          (1): GELU(approximate='none')\n",
              "          (2): Linear(in_features=4096, out_features=1024, bias=True)\n",
              "          (3): Dropout(p=0.0, inplace=False)\n",
              "        )\n",
              "      )\n",
              "      (10): Block(\n",
              "        (ln1): LayerNorm((1024,), eps=1e-05, elementwise_affine=True)\n",
              "        (ln2): LayerNorm((1024,), eps=1e-05, elementwise_affine=True)\n",
              "        (attn): CausalSelfAttention(\n",
              "          (key): Linear(in_features=1024, out_features=1024, bias=True)\n",
              "          (query): Linear(in_features=1024, out_features=1024, bias=True)\n",
              "          (value): Linear(in_features=1024, out_features=1024, bias=True)\n",
              "          (attn_drop): Dropout(p=0.0, inplace=False)\n",
              "          (resid_drop): Dropout(p=0.0, inplace=False)\n",
              "          (proj): Linear(in_features=1024, out_features=1024, bias=True)\n",
              "        )\n",
              "        (mlp): Sequential(\n",
              "          (0): Linear(in_features=1024, out_features=4096, bias=True)\n",
              "          (1): GELU(approximate='none')\n",
              "          (2): Linear(in_features=4096, out_features=1024, bias=True)\n",
              "          (3): Dropout(p=0.0, inplace=False)\n",
              "        )\n",
              "      )\n",
              "      (11): Block(\n",
              "        (ln1): LayerNorm((1024,), eps=1e-05, elementwise_affine=True)\n",
              "        (ln2): LayerNorm((1024,), eps=1e-05, elementwise_affine=True)\n",
              "        (attn): CausalSelfAttention(\n",
              "          (key): Linear(in_features=1024, out_features=1024, bias=True)\n",
              "          (query): Linear(in_features=1024, out_features=1024, bias=True)\n",
              "          (value): Linear(in_features=1024, out_features=1024, bias=True)\n",
              "          (attn_drop): Dropout(p=0.0, inplace=False)\n",
              "          (resid_drop): Dropout(p=0.0, inplace=False)\n",
              "          (proj): Linear(in_features=1024, out_features=1024, bias=True)\n",
              "        )\n",
              "        (mlp): Sequential(\n",
              "          (0): Linear(in_features=1024, out_features=4096, bias=True)\n",
              "          (1): GELU(approximate='none')\n",
              "          (2): Linear(in_features=4096, out_features=1024, bias=True)\n",
              "          (3): Dropout(p=0.0, inplace=False)\n",
              "        )\n",
              "      )\n",
              "      (12): Block(\n",
              "        (ln1): LayerNorm((1024,), eps=1e-05, elementwise_affine=True)\n",
              "        (ln2): LayerNorm((1024,), eps=1e-05, elementwise_affine=True)\n",
              "        (attn): CausalSelfAttention(\n",
              "          (key): Linear(in_features=1024, out_features=1024, bias=True)\n",
              "          (query): Linear(in_features=1024, out_features=1024, bias=True)\n",
              "          (value): Linear(in_features=1024, out_features=1024, bias=True)\n",
              "          (attn_drop): Dropout(p=0.0, inplace=False)\n",
              "          (resid_drop): Dropout(p=0.0, inplace=False)\n",
              "          (proj): Linear(in_features=1024, out_features=1024, bias=True)\n",
              "        )\n",
              "        (mlp): Sequential(\n",
              "          (0): Linear(in_features=1024, out_features=4096, bias=True)\n",
              "          (1): GELU(approximate='none')\n",
              "          (2): Linear(in_features=4096, out_features=1024, bias=True)\n",
              "          (3): Dropout(p=0.0, inplace=False)\n",
              "        )\n",
              "      )\n",
              "      (13): Block(\n",
              "        (ln1): LayerNorm((1024,), eps=1e-05, elementwise_affine=True)\n",
              "        (ln2): LayerNorm((1024,), eps=1e-05, elementwise_affine=True)\n",
              "        (attn): CausalSelfAttention(\n",
              "          (key): Linear(in_features=1024, out_features=1024, bias=True)\n",
              "          (query): Linear(in_features=1024, out_features=1024, bias=True)\n",
              "          (value): Linear(in_features=1024, out_features=1024, bias=True)\n",
              "          (attn_drop): Dropout(p=0.0, inplace=False)\n",
              "          (resid_drop): Dropout(p=0.0, inplace=False)\n",
              "          (proj): Linear(in_features=1024, out_features=1024, bias=True)\n",
              "        )\n",
              "        (mlp): Sequential(\n",
              "          (0): Linear(in_features=1024, out_features=4096, bias=True)\n",
              "          (1): GELU(approximate='none')\n",
              "          (2): Linear(in_features=4096, out_features=1024, bias=True)\n",
              "          (3): Dropout(p=0.0, inplace=False)\n",
              "        )\n",
              "      )\n",
              "      (14): Block(\n",
              "        (ln1): LayerNorm((1024,), eps=1e-05, elementwise_affine=True)\n",
              "        (ln2): LayerNorm((1024,), eps=1e-05, elementwise_affine=True)\n",
              "        (attn): CausalSelfAttention(\n",
              "          (key): Linear(in_features=1024, out_features=1024, bias=True)\n",
              "          (query): Linear(in_features=1024, out_features=1024, bias=True)\n",
              "          (value): Linear(in_features=1024, out_features=1024, bias=True)\n",
              "          (attn_drop): Dropout(p=0.0, inplace=False)\n",
              "          (resid_drop): Dropout(p=0.0, inplace=False)\n",
              "          (proj): Linear(in_features=1024, out_features=1024, bias=True)\n",
              "        )\n",
              "        (mlp): Sequential(\n",
              "          (0): Linear(in_features=1024, out_features=4096, bias=True)\n",
              "          (1): GELU(approximate='none')\n",
              "          (2): Linear(in_features=4096, out_features=1024, bias=True)\n",
              "          (3): Dropout(p=0.0, inplace=False)\n",
              "        )\n",
              "      )\n",
              "      (15): Block(\n",
              "        (ln1): LayerNorm((1024,), eps=1e-05, elementwise_affine=True)\n",
              "        (ln2): LayerNorm((1024,), eps=1e-05, elementwise_affine=True)\n",
              "        (attn): CausalSelfAttention(\n",
              "          (key): Linear(in_features=1024, out_features=1024, bias=True)\n",
              "          (query): Linear(in_features=1024, out_features=1024, bias=True)\n",
              "          (value): Linear(in_features=1024, out_features=1024, bias=True)\n",
              "          (attn_drop): Dropout(p=0.0, inplace=False)\n",
              "          (resid_drop): Dropout(p=0.0, inplace=False)\n",
              "          (proj): Linear(in_features=1024, out_features=1024, bias=True)\n",
              "        )\n",
              "        (mlp): Sequential(\n",
              "          (0): Linear(in_features=1024, out_features=4096, bias=True)\n",
              "          (1): GELU(approximate='none')\n",
              "          (2): Linear(in_features=4096, out_features=1024, bias=True)\n",
              "          (3): Dropout(p=0.0, inplace=False)\n",
              "        )\n",
              "      )\n",
              "      (16): Block(\n",
              "        (ln1): LayerNorm((1024,), eps=1e-05, elementwise_affine=True)\n",
              "        (ln2): LayerNorm((1024,), eps=1e-05, elementwise_affine=True)\n",
              "        (attn): CausalSelfAttention(\n",
              "          (key): Linear(in_features=1024, out_features=1024, bias=True)\n",
              "          (query): Linear(in_features=1024, out_features=1024, bias=True)\n",
              "          (value): Linear(in_features=1024, out_features=1024, bias=True)\n",
              "          (attn_drop): Dropout(p=0.0, inplace=False)\n",
              "          (resid_drop): Dropout(p=0.0, inplace=False)\n",
              "          (proj): Linear(in_features=1024, out_features=1024, bias=True)\n",
              "        )\n",
              "        (mlp): Sequential(\n",
              "          (0): Linear(in_features=1024, out_features=4096, bias=True)\n",
              "          (1): GELU(approximate='none')\n",
              "          (2): Linear(in_features=4096, out_features=1024, bias=True)\n",
              "          (3): Dropout(p=0.0, inplace=False)\n",
              "        )\n",
              "      )\n",
              "      (17): Block(\n",
              "        (ln1): LayerNorm((1024,), eps=1e-05, elementwise_affine=True)\n",
              "        (ln2): LayerNorm((1024,), eps=1e-05, elementwise_affine=True)\n",
              "        (attn): CausalSelfAttention(\n",
              "          (key): Linear(in_features=1024, out_features=1024, bias=True)\n",
              "          (query): Linear(in_features=1024, out_features=1024, bias=True)\n",
              "          (value): Linear(in_features=1024, out_features=1024, bias=True)\n",
              "          (attn_drop): Dropout(p=0.0, inplace=False)\n",
              "          (resid_drop): Dropout(p=0.0, inplace=False)\n",
              "          (proj): Linear(in_features=1024, out_features=1024, bias=True)\n",
              "        )\n",
              "        (mlp): Sequential(\n",
              "          (0): Linear(in_features=1024, out_features=4096, bias=True)\n",
              "          (1): GELU(approximate='none')\n",
              "          (2): Linear(in_features=4096, out_features=1024, bias=True)\n",
              "          (3): Dropout(p=0.0, inplace=False)\n",
              "        )\n",
              "      )\n",
              "      (18): Block(\n",
              "        (ln1): LayerNorm((1024,), eps=1e-05, elementwise_affine=True)\n",
              "        (ln2): LayerNorm((1024,), eps=1e-05, elementwise_affine=True)\n",
              "        (attn): CausalSelfAttention(\n",
              "          (key): Linear(in_features=1024, out_features=1024, bias=True)\n",
              "          (query): Linear(in_features=1024, out_features=1024, bias=True)\n",
              "          (value): Linear(in_features=1024, out_features=1024, bias=True)\n",
              "          (attn_drop): Dropout(p=0.0, inplace=False)\n",
              "          (resid_drop): Dropout(p=0.0, inplace=False)\n",
              "          (proj): Linear(in_features=1024, out_features=1024, bias=True)\n",
              "        )\n",
              "        (mlp): Sequential(\n",
              "          (0): Linear(in_features=1024, out_features=4096, bias=True)\n",
              "          (1): GELU(approximate='none')\n",
              "          (2): Linear(in_features=4096, out_features=1024, bias=True)\n",
              "          (3): Dropout(p=0.0, inplace=False)\n",
              "        )\n",
              "      )\n",
              "      (19): Block(\n",
              "        (ln1): LayerNorm((1024,), eps=1e-05, elementwise_affine=True)\n",
              "        (ln2): LayerNorm((1024,), eps=1e-05, elementwise_affine=True)\n",
              "        (attn): CausalSelfAttention(\n",
              "          (key): Linear(in_features=1024, out_features=1024, bias=True)\n",
              "          (query): Linear(in_features=1024, out_features=1024, bias=True)\n",
              "          (value): Linear(in_features=1024, out_features=1024, bias=True)\n",
              "          (attn_drop): Dropout(p=0.0, inplace=False)\n",
              "          (resid_drop): Dropout(p=0.0, inplace=False)\n",
              "          (proj): Linear(in_features=1024, out_features=1024, bias=True)\n",
              "        )\n",
              "        (mlp): Sequential(\n",
              "          (0): Linear(in_features=1024, out_features=4096, bias=True)\n",
              "          (1): GELU(approximate='none')\n",
              "          (2): Linear(in_features=4096, out_features=1024, bias=True)\n",
              "          (3): Dropout(p=0.0, inplace=False)\n",
              "        )\n",
              "      )\n",
              "      (20): Block(\n",
              "        (ln1): LayerNorm((1024,), eps=1e-05, elementwise_affine=True)\n",
              "        (ln2): LayerNorm((1024,), eps=1e-05, elementwise_affine=True)\n",
              "        (attn): CausalSelfAttention(\n",
              "          (key): Linear(in_features=1024, out_features=1024, bias=True)\n",
              "          (query): Linear(in_features=1024, out_features=1024, bias=True)\n",
              "          (value): Linear(in_features=1024, out_features=1024, bias=True)\n",
              "          (attn_drop): Dropout(p=0.0, inplace=False)\n",
              "          (resid_drop): Dropout(p=0.0, inplace=False)\n",
              "          (proj): Linear(in_features=1024, out_features=1024, bias=True)\n",
              "        )\n",
              "        (mlp): Sequential(\n",
              "          (0): Linear(in_features=1024, out_features=4096, bias=True)\n",
              "          (1): GELU(approximate='none')\n",
              "          (2): Linear(in_features=4096, out_features=1024, bias=True)\n",
              "          (3): Dropout(p=0.0, inplace=False)\n",
              "        )\n",
              "      )\n",
              "      (21): Block(\n",
              "        (ln1): LayerNorm((1024,), eps=1e-05, elementwise_affine=True)\n",
              "        (ln2): LayerNorm((1024,), eps=1e-05, elementwise_affine=True)\n",
              "        (attn): CausalSelfAttention(\n",
              "          (key): Linear(in_features=1024, out_features=1024, bias=True)\n",
              "          (query): Linear(in_features=1024, out_features=1024, bias=True)\n",
              "          (value): Linear(in_features=1024, out_features=1024, bias=True)\n",
              "          (attn_drop): Dropout(p=0.0, inplace=False)\n",
              "          (resid_drop): Dropout(p=0.0, inplace=False)\n",
              "          (proj): Linear(in_features=1024, out_features=1024, bias=True)\n",
              "        )\n",
              "        (mlp): Sequential(\n",
              "          (0): Linear(in_features=1024, out_features=4096, bias=True)\n",
              "          (1): GELU(approximate='none')\n",
              "          (2): Linear(in_features=4096, out_features=1024, bias=True)\n",
              "          (3): Dropout(p=0.0, inplace=False)\n",
              "        )\n",
              "      )\n",
              "      (22): Block(\n",
              "        (ln1): LayerNorm((1024,), eps=1e-05, elementwise_affine=True)\n",
              "        (ln2): LayerNorm((1024,), eps=1e-05, elementwise_affine=True)\n",
              "        (attn): CausalSelfAttention(\n",
              "          (key): Linear(in_features=1024, out_features=1024, bias=True)\n",
              "          (query): Linear(in_features=1024, out_features=1024, bias=True)\n",
              "          (value): Linear(in_features=1024, out_features=1024, bias=True)\n",
              "          (attn_drop): Dropout(p=0.0, inplace=False)\n",
              "          (resid_drop): Dropout(p=0.0, inplace=False)\n",
              "          (proj): Linear(in_features=1024, out_features=1024, bias=True)\n",
              "        )\n",
              "        (mlp): Sequential(\n",
              "          (0): Linear(in_features=1024, out_features=4096, bias=True)\n",
              "          (1): GELU(approximate='none')\n",
              "          (2): Linear(in_features=4096, out_features=1024, bias=True)\n",
              "          (3): Dropout(p=0.0, inplace=False)\n",
              "        )\n",
              "      )\n",
              "      (23): Block(\n",
              "        (ln1): LayerNorm((1024,), eps=1e-05, elementwise_affine=True)\n",
              "        (ln2): LayerNorm((1024,), eps=1e-05, elementwise_affine=True)\n",
              "        (attn): CausalSelfAttention(\n",
              "          (key): Linear(in_features=1024, out_features=1024, bias=True)\n",
              "          (query): Linear(in_features=1024, out_features=1024, bias=True)\n",
              "          (value): Linear(in_features=1024, out_features=1024, bias=True)\n",
              "          (attn_drop): Dropout(p=0.0, inplace=False)\n",
              "          (resid_drop): Dropout(p=0.0, inplace=False)\n",
              "          (proj): Linear(in_features=1024, out_features=1024, bias=True)\n",
              "        )\n",
              "        (mlp): Sequential(\n",
              "          (0): Linear(in_features=1024, out_features=4096, bias=True)\n",
              "          (1): GELU(approximate='none')\n",
              "          (2): Linear(in_features=4096, out_features=1024, bias=True)\n",
              "          (3): Dropout(p=0.0, inplace=False)\n",
              "        )\n",
              "      )\n",
              "    )\n",
              "    (ln_f): LayerNorm((1024,), eps=1e-05, elementwise_affine=True)\n",
              "    (head): Sequential(\n",
              "      (0): Flatten(start_dim=1, end_dim=-1)\n",
              "      (1): Linear(in_features=262144, out_features=256, bias=True)\n",
              "      (2): ReLU()\n",
              "      (3): Dropout(p=0.1, inplace=False)\n",
              "      (4): Linear(in_features=256, out_features=64, bias=True)\n",
              "      (5): ReLU()\n",
              "      (6): Linear(in_features=64, out_features=7, bias=True)\n",
              "      (7): Softmax(dim=1)\n",
              "    )\n",
              "  )\n",
              ")"
            ]
          },
          "execution_count": 112,
          "metadata": {},
          "output_type": "execute_result"
        }
      ],
      "source": [
        "# num_classes = 7\n",
        "face_model = modelTransformer(model_transformer)\n",
        "face_model.to(DEVICE)"
      ]
    },
    {
      "cell_type": "code",
      "execution_count": null,
      "metadata": {
        "colab": {
          "base_uri": "https://localhost:8080/"
        },
        "id": "xhiU34OE-8x2",
        "outputId": "2992a069-dc59-4d9d-ab49-d699be4e3f5e"
      },
      "outputs": [
        {
          "name": "stdout",
          "output_type": "stream",
          "text": [
            "The model is trainable\n"
          ]
        }
      ],
      "source": [
        "# Check if the model is trainable\n",
        "trainable_params = any(param.requires_grad for param in face_model.parameters())\n",
        "\n",
        "if trainable_params:\n",
        "    print('The model is trainable')\n",
        "else:\n",
        "    print('The model is not trainable')"
      ]
    },
    {
      "cell_type": "markdown",
      "metadata": {
        "id": "tektsHodFHea"
      },
      "source": [
        "All right, so the model is initiated, and added a classification header. Although it seems that I can just use the transformer model since it has two stages, and the first stage is the vqgan model, the second stage is the transformer unconditional model. But anyway, I will just train the already processed first stage data. The processed vqgan data is saved to the google drive. I can just copy it and load it back with the index values since I only need that. Then I can do a trainer"
      ]
    },
    {
      "cell_type": "markdown",
      "metadata": {
        "id": "AiyD98zMFHea"
      },
      "source": []
    },
    {
      "cell_type": "markdown",
      "metadata": {
        "id": "Wgdz69NUFHea"
      },
      "source": [
        "So it seems that the model is not able to train with few reasons:\n",
        "1. I try to just use the output of the transformer model, but it gives 'ValueError: Expected input batch_size (8192) to match target batch_size (32).' It seems that the trainer get train arguments is not right. Might need to modify the __getItem__ one. But I presume it will have more issues because of the forward method?\n",
        "\n",
        "2. I try to inherit the Net2NetTransformer directly, but then I probably need to specify the arguments and dig deeper on how it works and how to modify it. I will try to do it later.\n",
        "\n",
        "Some comments: when I check the model, and I try to hijack the layer but it doesnt work well. The possible examples might be super the transformer then modify the forward. Need to check. Also how does pytorch input, label, and output work? It's so different from tensorflow"
      ]
    },
    {
      "cell_type": "code",
      "execution_count": null,
      "metadata": {
        "id": "WfK3x4qhFHeb"
      },
      "outputs": [],
      "source": [
        "#Do a test pass of the model to ensure it works (pre batch)\n",
        "# test_index = torch.randint(0, 1000, (1, 512)).cuda().to(DEVICE)\n",
        "# test_labels = torch.randint(0, num_classes, (1, 512)).cuda().to(DEVICE)\n",
        "\n",
        "# test_loss, test_logits = face_model(test_index, test_labels)\n",
        "# print(test_loss, test_logits.shape)\n"
      ]
    },
    {
      "cell_type": "markdown",
      "metadata": {
        "id": "JagCzsKnFHeb"
      },
      "source": [
        "## Train the model"
      ]
    },
    {
      "cell_type": "code",
      "execution_count": 53,
      "metadata": {
        "id": "AMsHKMMeFHec"
      },
      "outputs": [],
      "source": [
        "from transformers import TrainingArguments, Trainer"
      ]
    },
    {
      "cell_type": "code",
      "execution_count": 54,
      "metadata": {
        "id": "jT_Vsng6FHec"
      },
      "outputs": [],
      "source": [
        "metric_name = \"accuracy\"\n",
        "\n",
        "args = TrainingArguments(\n",
        "    output_dir=\"logs/faceshq_transformer/checkpoints\",\n",
        "    num_train_epochs=1,\n",
        "    per_device_train_batch_size=32,\n",
        "    per_device_eval_batch_size=32,\n",
        "    warmup_steps=500,\n",
        "    weight_decay=0.01,\n",
        "    logging_dir=\"logs/faceshq_transformer/logs\",\n",
        "    logging_steps=100,\n",
        "    evaluation_strategy=\"steps\",\n",
        "    eval_steps=100,\n",
        "    save_steps=100,\n",
        "    load_best_model_at_end=True,\n",
        "    metric_for_best_model=metric_name,\n",
        "    greater_is_better=True,\n",
        "    report_to=\"none\",\n",
        ")     "
      ]
    },
    {
      "cell_type": "code",
      "execution_count": 55,
      "metadata": {
        "id": "cbmjdAgRFHec",
        "colab": {
          "base_uri": "https://localhost:8080/",
          "height": 104,
          "referenced_widgets": [
            "ccf8d9c4547f4568a22f944df86d7c6d",
            "c5aff078a4224627ade6f77115360f98",
            "396673d4838942a092765fd48fbb35a9",
            "9dc930a7cc444df895bf1c5a5bc87dae",
            "6c60cb25adf54584b26b556922419fcb",
            "6f3fe23fd23046f393a2620365e9573b",
            "d3f4e93f19744b26bde21235675971a1",
            "ad1eada06a75475fa628578410ca5e1a",
            "8c1754621ff2485b91b6db49ffaa8c31",
            "51ce50612e394e09b5eaa63be12efe5f",
            "2383f71aa877449880622eef2da0e476"
          ]
        },
        "outputId": "3799722f-adfe-4326-e5ef-ab77e974950a"
      },
      "outputs": [
        {
          "output_type": "stream",
          "name": "stderr",
          "text": [
            "<ipython-input-55-c203b637589b>:1: FutureWarning: load_metric is deprecated and will be removed in the next major version of datasets. Use 'evaluate.load' instead, from the new library 🤗 Evaluate: https://huggingface.co/docs/evaluate\n",
            "  metric = load_metric(\"accuracy\")\n"
          ]
        },
        {
          "output_type": "display_data",
          "data": {
            "text/plain": [
              "Downloading builder script:   0%|          | 0.00/1.65k [00:00<?, ?B/s]"
            ],
            "application/vnd.jupyter.widget-view+json": {
              "version_major": 2,
              "version_minor": 0,
              "model_id": "ccf8d9c4547f4568a22f944df86d7c6d"
            }
          },
          "metadata": {}
        }
      ],
      "source": [
        "metric = load_metric(\"accuracy\")\n",
        "\n",
        "def compute_metrics(eval_pred):\n",
        "    logits, labels = eval_pred\n",
        "    predictions = np.argmax(logits, axis=-1)\n",
        "    return metric.compute(predictions=predictions, references=labels)"
      ]
    },
    {
      "cell_type": "code",
      "execution_count": 56,
      "metadata": {
        "id": "2Y89LhjhFHec"
      },
      "outputs": [],
      "source": [
        "trainer = Trainer(\n",
        "    model=face_model,\n",
        "    args=args,\n",
        "    train_dataset=preprocessed_train,\n",
        "    eval_dataset=preprocessed_val,\n",
        "    compute_metrics=compute_metrics,\n",
        ")"
      ]
    },
    {
      "cell_type": "code",
      "execution_count": 57,
      "metadata": {
        "colab": {
          "base_uri": "https://localhost:8080/",
          "height": 401
        },
        "id": "j97WPU7NFHec",
        "outputId": "b24614a5-d34b-40b5-a736-e8018cc85044"
      },
      "outputs": [
        {
          "output_type": "stream",
          "name": "stderr",
          "text": [
            "/usr/local/lib/python3.9/dist-packages/transformers/optimization.py:391: FutureWarning: This implementation of AdamW is deprecated and will be removed in a future version. Use the PyTorch implementation torch.optim.AdamW instead, or set `no_deprecation_warning=True` to disable this warning\n",
            "  warnings.warn(\n"
          ]
        },
        {
          "output_type": "error",
          "ename": "OutOfMemoryError",
          "evalue": "ignored",
          "traceback": [
            "\u001b[0;31m---------------------------------------------------------------------------\u001b[0m",
            "\u001b[0;31mOutOfMemoryError\u001b[0m                          Traceback (most recent call last)",
            "\u001b[0;32m<ipython-input-57-3435b262f1ae>\u001b[0m in \u001b[0;36m<cell line: 1>\u001b[0;34m()\u001b[0m\n\u001b[0;32m----> 1\u001b[0;31m \u001b[0mtrainer\u001b[0m\u001b[0;34m.\u001b[0m\u001b[0mtrain\u001b[0m\u001b[0;34m(\u001b[0m\u001b[0;34m)\u001b[0m\u001b[0;34m\u001b[0m\u001b[0;34m\u001b[0m\u001b[0m\n\u001b[0m",
            "\u001b[0;32m/usr/local/lib/python3.9/dist-packages/transformers/trainer.py\u001b[0m in \u001b[0;36mtrain\u001b[0;34m(self, resume_from_checkpoint, trial, ignore_keys_for_eval, **kwargs)\u001b[0m\n\u001b[1;32m   1660\u001b[0m             \u001b[0mself\u001b[0m\u001b[0;34m.\u001b[0m\u001b[0m_inner_training_loop\u001b[0m\u001b[0;34m,\u001b[0m \u001b[0mself\u001b[0m\u001b[0;34m.\u001b[0m\u001b[0m_train_batch_size\u001b[0m\u001b[0;34m,\u001b[0m \u001b[0margs\u001b[0m\u001b[0;34m.\u001b[0m\u001b[0mauto_find_batch_size\u001b[0m\u001b[0;34m\u001b[0m\u001b[0;34m\u001b[0m\u001b[0m\n\u001b[1;32m   1661\u001b[0m         )\n\u001b[0;32m-> 1662\u001b[0;31m         return inner_training_loop(\n\u001b[0m\u001b[1;32m   1663\u001b[0m             \u001b[0margs\u001b[0m\u001b[0;34m=\u001b[0m\u001b[0margs\u001b[0m\u001b[0;34m,\u001b[0m\u001b[0;34m\u001b[0m\u001b[0;34m\u001b[0m\u001b[0m\n\u001b[1;32m   1664\u001b[0m             \u001b[0mresume_from_checkpoint\u001b[0m\u001b[0;34m=\u001b[0m\u001b[0mresume_from_checkpoint\u001b[0m\u001b[0;34m,\u001b[0m\u001b[0;34m\u001b[0m\u001b[0;34m\u001b[0m\u001b[0m\n",
            "\u001b[0;32m/usr/local/lib/python3.9/dist-packages/transformers/trainer.py\u001b[0m in \u001b[0;36m_inner_training_loop\u001b[0;34m(self, batch_size, args, resume_from_checkpoint, trial, ignore_keys_for_eval)\u001b[0m\n\u001b[1;32m   1927\u001b[0m                         \u001b[0mtr_loss_step\u001b[0m \u001b[0;34m=\u001b[0m \u001b[0mself\u001b[0m\u001b[0;34m.\u001b[0m\u001b[0mtraining_step\u001b[0m\u001b[0;34m(\u001b[0m\u001b[0mmodel\u001b[0m\u001b[0;34m,\u001b[0m \u001b[0minputs\u001b[0m\u001b[0;34m)\u001b[0m\u001b[0;34m\u001b[0m\u001b[0;34m\u001b[0m\u001b[0m\n\u001b[1;32m   1928\u001b[0m                 \u001b[0;32melse\u001b[0m\u001b[0;34m:\u001b[0m\u001b[0;34m\u001b[0m\u001b[0;34m\u001b[0m\u001b[0m\n\u001b[0;32m-> 1929\u001b[0;31m                     \u001b[0mtr_loss_step\u001b[0m \u001b[0;34m=\u001b[0m \u001b[0mself\u001b[0m\u001b[0;34m.\u001b[0m\u001b[0mtraining_step\u001b[0m\u001b[0;34m(\u001b[0m\u001b[0mmodel\u001b[0m\u001b[0;34m,\u001b[0m \u001b[0minputs\u001b[0m\u001b[0;34m)\u001b[0m\u001b[0;34m\u001b[0m\u001b[0;34m\u001b[0m\u001b[0m\n\u001b[0m\u001b[1;32m   1930\u001b[0m \u001b[0;34m\u001b[0m\u001b[0m\n\u001b[1;32m   1931\u001b[0m                 if (\n",
            "\u001b[0;32m/usr/local/lib/python3.9/dist-packages/transformers/trainer.py\u001b[0m in \u001b[0;36mtraining_step\u001b[0;34m(self, model, inputs)\u001b[0m\n\u001b[1;32m   2697\u001b[0m \u001b[0;34m\u001b[0m\u001b[0m\n\u001b[1;32m   2698\u001b[0m         \u001b[0;32mwith\u001b[0m \u001b[0mself\u001b[0m\u001b[0;34m.\u001b[0m\u001b[0mcompute_loss_context_manager\u001b[0m\u001b[0;34m(\u001b[0m\u001b[0;34m)\u001b[0m\u001b[0;34m:\u001b[0m\u001b[0;34m\u001b[0m\u001b[0;34m\u001b[0m\u001b[0m\n\u001b[0;32m-> 2699\u001b[0;31m             \u001b[0mloss\u001b[0m \u001b[0;34m=\u001b[0m \u001b[0mself\u001b[0m\u001b[0;34m.\u001b[0m\u001b[0mcompute_loss\u001b[0m\u001b[0;34m(\u001b[0m\u001b[0mmodel\u001b[0m\u001b[0;34m,\u001b[0m \u001b[0minputs\u001b[0m\u001b[0;34m)\u001b[0m\u001b[0;34m\u001b[0m\u001b[0;34m\u001b[0m\u001b[0m\n\u001b[0m\u001b[1;32m   2700\u001b[0m \u001b[0;34m\u001b[0m\u001b[0m\n\u001b[1;32m   2701\u001b[0m         \u001b[0;32mif\u001b[0m \u001b[0mself\u001b[0m\u001b[0;34m.\u001b[0m\u001b[0margs\u001b[0m\u001b[0;34m.\u001b[0m\u001b[0mn_gpu\u001b[0m \u001b[0;34m>\u001b[0m \u001b[0;36m1\u001b[0m\u001b[0;34m:\u001b[0m\u001b[0;34m\u001b[0m\u001b[0;34m\u001b[0m\u001b[0m\n",
            "\u001b[0;32m/usr/local/lib/python3.9/dist-packages/transformers/trainer.py\u001b[0m in \u001b[0;36mcompute_loss\u001b[0;34m(self, model, inputs, return_outputs)\u001b[0m\n\u001b[1;32m   2729\u001b[0m         \u001b[0;32melse\u001b[0m\u001b[0;34m:\u001b[0m\u001b[0;34m\u001b[0m\u001b[0;34m\u001b[0m\u001b[0m\n\u001b[1;32m   2730\u001b[0m             \u001b[0mlabels\u001b[0m \u001b[0;34m=\u001b[0m \u001b[0;32mNone\u001b[0m\u001b[0;34m\u001b[0m\u001b[0;34m\u001b[0m\u001b[0m\n\u001b[0;32m-> 2731\u001b[0;31m         \u001b[0moutputs\u001b[0m \u001b[0;34m=\u001b[0m \u001b[0mmodel\u001b[0m\u001b[0;34m(\u001b[0m\u001b[0;34m**\u001b[0m\u001b[0minputs\u001b[0m\u001b[0;34m)\u001b[0m\u001b[0;34m\u001b[0m\u001b[0;34m\u001b[0m\u001b[0m\n\u001b[0m\u001b[1;32m   2732\u001b[0m         \u001b[0;31m# Save past state if it exists\u001b[0m\u001b[0;34m\u001b[0m\u001b[0;34m\u001b[0m\u001b[0m\n\u001b[1;32m   2733\u001b[0m         \u001b[0;31m# TODO: this needs to be fixed and made cleaner later.\u001b[0m\u001b[0;34m\u001b[0m\u001b[0;34m\u001b[0m\u001b[0m\n",
            "\u001b[0;32m/usr/local/lib/python3.9/dist-packages/torch/nn/modules/module.py\u001b[0m in \u001b[0;36m_call_impl\u001b[0;34m(self, *args, **kwargs)\u001b[0m\n\u001b[1;32m   1499\u001b[0m                 \u001b[0;32mor\u001b[0m \u001b[0m_global_backward_pre_hooks\u001b[0m \u001b[0;32mor\u001b[0m \u001b[0m_global_backward_hooks\u001b[0m\u001b[0;34m\u001b[0m\u001b[0;34m\u001b[0m\u001b[0m\n\u001b[1;32m   1500\u001b[0m                 or _global_forward_hooks or _global_forward_pre_hooks):\n\u001b[0;32m-> 1501\u001b[0;31m             \u001b[0;32mreturn\u001b[0m \u001b[0mforward_call\u001b[0m\u001b[0;34m(\u001b[0m\u001b[0;34m*\u001b[0m\u001b[0margs\u001b[0m\u001b[0;34m,\u001b[0m \u001b[0;34m**\u001b[0m\u001b[0mkwargs\u001b[0m\u001b[0;34m)\u001b[0m\u001b[0;34m\u001b[0m\u001b[0;34m\u001b[0m\u001b[0m\n\u001b[0m\u001b[1;32m   1502\u001b[0m         \u001b[0;31m# Do not call functions when jit is used\u001b[0m\u001b[0;34m\u001b[0m\u001b[0;34m\u001b[0m\u001b[0m\n\u001b[1;32m   1503\u001b[0m         \u001b[0mfull_backward_hooks\u001b[0m\u001b[0;34m,\u001b[0m \u001b[0mnon_full_backward_hooks\u001b[0m \u001b[0;34m=\u001b[0m \u001b[0;34m[\u001b[0m\u001b[0;34m]\u001b[0m\u001b[0;34m,\u001b[0m \u001b[0;34m[\u001b[0m\u001b[0;34m]\u001b[0m\u001b[0;34m\u001b[0m\u001b[0;34m\u001b[0m\u001b[0m\n",
            "\u001b[0;32m<ipython-input-49-6acbdd0ffbae>\u001b[0m in \u001b[0;36mforward\u001b[0;34m(self, index, labels)\u001b[0m\n\u001b[1;32m     15\u001b[0m         \u001b[0;31m# print(self.transformer.tok_emb(input).shape[1])\u001b[0m\u001b[0;34m\u001b[0m\u001b[0;34m\u001b[0m\u001b[0m\n\u001b[1;32m     16\u001b[0m \u001b[0;34m\u001b[0m\u001b[0m\n\u001b[0;32m---> 17\u001b[0;31m         \u001b[0mlogits\u001b[0m\u001b[0;34m,\u001b[0m \u001b[0m_\u001b[0m  \u001b[0;34m=\u001b[0m \u001b[0mself\u001b[0m\u001b[0;34m.\u001b[0m\u001b[0mtransformer\u001b[0m\u001b[0;34m(\u001b[0m\u001b[0midx\u001b[0m \u001b[0;34m=\u001b[0m\u001b[0mindex\u001b[0m\u001b[0;34m)\u001b[0m\u001b[0;34m\u001b[0m\u001b[0;34m\u001b[0m\u001b[0m\n\u001b[0m\u001b[1;32m     18\u001b[0m         \u001b[0;31m# logits = torch.tensor(logitsOut, requires_grad = True)\u001b[0m\u001b[0;34m\u001b[0m\u001b[0;34m\u001b[0m\u001b[0m\n\u001b[1;32m     19\u001b[0m         \u001b[0mprint\u001b[0m\u001b[0;34m(\u001b[0m\u001b[0mlogits\u001b[0m\u001b[0;34m.\u001b[0m\u001b[0mrequires_grad\u001b[0m\u001b[0;34m)\u001b[0m\u001b[0;34m\u001b[0m\u001b[0;34m\u001b[0m\u001b[0m\n",
            "\u001b[0;32m/usr/local/lib/python3.9/dist-packages/torch/nn/modules/module.py\u001b[0m in \u001b[0;36m_call_impl\u001b[0;34m(self, *args, **kwargs)\u001b[0m\n\u001b[1;32m   1499\u001b[0m                 \u001b[0;32mor\u001b[0m \u001b[0m_global_backward_pre_hooks\u001b[0m \u001b[0;32mor\u001b[0m \u001b[0m_global_backward_hooks\u001b[0m\u001b[0;34m\u001b[0m\u001b[0;34m\u001b[0m\u001b[0m\n\u001b[1;32m   1500\u001b[0m                 or _global_forward_hooks or _global_forward_pre_hooks):\n\u001b[0;32m-> 1501\u001b[0;31m             \u001b[0;32mreturn\u001b[0m \u001b[0mforward_call\u001b[0m\u001b[0;34m(\u001b[0m\u001b[0;34m*\u001b[0m\u001b[0margs\u001b[0m\u001b[0;34m,\u001b[0m \u001b[0;34m**\u001b[0m\u001b[0mkwargs\u001b[0m\u001b[0;34m)\u001b[0m\u001b[0;34m\u001b[0m\u001b[0;34m\u001b[0m\u001b[0m\n\u001b[0m\u001b[1;32m   1502\u001b[0m         \u001b[0;31m# Do not call functions when jit is used\u001b[0m\u001b[0;34m\u001b[0m\u001b[0;34m\u001b[0m\u001b[0m\n\u001b[1;32m   1503\u001b[0m         \u001b[0mfull_backward_hooks\u001b[0m\u001b[0;34m,\u001b[0m \u001b[0mnon_full_backward_hooks\u001b[0m \u001b[0;34m=\u001b[0m \u001b[0;34m[\u001b[0m\u001b[0;34m]\u001b[0m\u001b[0;34m,\u001b[0m \u001b[0;34m[\u001b[0m\u001b[0;34m]\u001b[0m\u001b[0;34m\u001b[0m\u001b[0;34m\u001b[0m\u001b[0m\n",
            "\u001b[0;32m/content/taming-transformers/taming/modules/transformer/mingpt.py\u001b[0m in \u001b[0;36mforward\u001b[0;34m(self, idx, embeddings, targets)\u001b[0m\n\u001b[1;32m    169\u001b[0m         \u001b[0mposition_embeddings\u001b[0m \u001b[0;34m=\u001b[0m \u001b[0mself\u001b[0m\u001b[0;34m.\u001b[0m\u001b[0mpos_emb\u001b[0m\u001b[0;34m[\u001b[0m\u001b[0;34m:\u001b[0m\u001b[0;34m,\u001b[0m \u001b[0;34m:\u001b[0m\u001b[0mt\u001b[0m\u001b[0;34m,\u001b[0m \u001b[0;34m:\u001b[0m\u001b[0;34m]\u001b[0m \u001b[0;31m# each position maps to a (learnable) vector\u001b[0m\u001b[0;34m\u001b[0m\u001b[0;34m\u001b[0m\u001b[0m\n\u001b[1;32m    170\u001b[0m         \u001b[0mx\u001b[0m \u001b[0;34m=\u001b[0m \u001b[0mself\u001b[0m\u001b[0;34m.\u001b[0m\u001b[0mdrop\u001b[0m\u001b[0;34m(\u001b[0m\u001b[0mtoken_embeddings\u001b[0m \u001b[0;34m+\u001b[0m \u001b[0mposition_embeddings\u001b[0m\u001b[0;34m)\u001b[0m\u001b[0;34m\u001b[0m\u001b[0;34m\u001b[0m\u001b[0m\n\u001b[0;32m--> 171\u001b[0;31m         \u001b[0mx\u001b[0m \u001b[0;34m=\u001b[0m \u001b[0mself\u001b[0m\u001b[0;34m.\u001b[0m\u001b[0mblocks\u001b[0m\u001b[0;34m(\u001b[0m\u001b[0mx\u001b[0m\u001b[0;34m)\u001b[0m\u001b[0;34m\u001b[0m\u001b[0;34m\u001b[0m\u001b[0m\n\u001b[0m\u001b[1;32m    172\u001b[0m         \u001b[0mx\u001b[0m \u001b[0;34m=\u001b[0m \u001b[0mself\u001b[0m\u001b[0;34m.\u001b[0m\u001b[0mln_f\u001b[0m\u001b[0;34m(\u001b[0m\u001b[0mx\u001b[0m\u001b[0;34m)\u001b[0m\u001b[0;34m\u001b[0m\u001b[0;34m\u001b[0m\u001b[0m\n\u001b[1;32m    173\u001b[0m         \u001b[0mlogits\u001b[0m \u001b[0;34m=\u001b[0m \u001b[0mself\u001b[0m\u001b[0;34m.\u001b[0m\u001b[0mhead\u001b[0m\u001b[0;34m(\u001b[0m\u001b[0mx\u001b[0m\u001b[0;34m)\u001b[0m\u001b[0;34m\u001b[0m\u001b[0;34m\u001b[0m\u001b[0m\n",
            "\u001b[0;32m/usr/local/lib/python3.9/dist-packages/torch/nn/modules/module.py\u001b[0m in \u001b[0;36m_call_impl\u001b[0;34m(self, *args, **kwargs)\u001b[0m\n\u001b[1;32m   1499\u001b[0m                 \u001b[0;32mor\u001b[0m \u001b[0m_global_backward_pre_hooks\u001b[0m \u001b[0;32mor\u001b[0m \u001b[0m_global_backward_hooks\u001b[0m\u001b[0;34m\u001b[0m\u001b[0;34m\u001b[0m\u001b[0m\n\u001b[1;32m   1500\u001b[0m                 or _global_forward_hooks or _global_forward_pre_hooks):\n\u001b[0;32m-> 1501\u001b[0;31m             \u001b[0;32mreturn\u001b[0m \u001b[0mforward_call\u001b[0m\u001b[0;34m(\u001b[0m\u001b[0;34m*\u001b[0m\u001b[0margs\u001b[0m\u001b[0;34m,\u001b[0m \u001b[0;34m**\u001b[0m\u001b[0mkwargs\u001b[0m\u001b[0;34m)\u001b[0m\u001b[0;34m\u001b[0m\u001b[0;34m\u001b[0m\u001b[0m\n\u001b[0m\u001b[1;32m   1502\u001b[0m         \u001b[0;31m# Do not call functions when jit is used\u001b[0m\u001b[0;34m\u001b[0m\u001b[0;34m\u001b[0m\u001b[0m\n\u001b[1;32m   1503\u001b[0m         \u001b[0mfull_backward_hooks\u001b[0m\u001b[0;34m,\u001b[0m \u001b[0mnon_full_backward_hooks\u001b[0m \u001b[0;34m=\u001b[0m \u001b[0;34m[\u001b[0m\u001b[0;34m]\u001b[0m\u001b[0;34m,\u001b[0m \u001b[0;34m[\u001b[0m\u001b[0;34m]\u001b[0m\u001b[0;34m\u001b[0m\u001b[0;34m\u001b[0m\u001b[0m\n",
            "\u001b[0;32m/usr/local/lib/python3.9/dist-packages/torch/nn/modules/container.py\u001b[0m in \u001b[0;36mforward\u001b[0;34m(self, input)\u001b[0m\n\u001b[1;32m    215\u001b[0m     \u001b[0;32mdef\u001b[0m \u001b[0mforward\u001b[0m\u001b[0;34m(\u001b[0m\u001b[0mself\u001b[0m\u001b[0;34m,\u001b[0m \u001b[0minput\u001b[0m\u001b[0;34m)\u001b[0m\u001b[0;34m:\u001b[0m\u001b[0;34m\u001b[0m\u001b[0;34m\u001b[0m\u001b[0m\n\u001b[1;32m    216\u001b[0m         \u001b[0;32mfor\u001b[0m \u001b[0mmodule\u001b[0m \u001b[0;32min\u001b[0m \u001b[0mself\u001b[0m\u001b[0;34m:\u001b[0m\u001b[0;34m\u001b[0m\u001b[0;34m\u001b[0m\u001b[0m\n\u001b[0;32m--> 217\u001b[0;31m             \u001b[0minput\u001b[0m \u001b[0;34m=\u001b[0m \u001b[0mmodule\u001b[0m\u001b[0;34m(\u001b[0m\u001b[0minput\u001b[0m\u001b[0;34m)\u001b[0m\u001b[0;34m\u001b[0m\u001b[0;34m\u001b[0m\u001b[0m\n\u001b[0m\u001b[1;32m    218\u001b[0m         \u001b[0;32mreturn\u001b[0m \u001b[0minput\u001b[0m\u001b[0;34m\u001b[0m\u001b[0;34m\u001b[0m\u001b[0m\n\u001b[1;32m    219\u001b[0m \u001b[0;34m\u001b[0m\u001b[0m\n",
            "\u001b[0;32m/usr/local/lib/python3.9/dist-packages/torch/nn/modules/module.py\u001b[0m in \u001b[0;36m_call_impl\u001b[0;34m(self, *args, **kwargs)\u001b[0m\n\u001b[1;32m   1499\u001b[0m                 \u001b[0;32mor\u001b[0m \u001b[0m_global_backward_pre_hooks\u001b[0m \u001b[0;32mor\u001b[0m \u001b[0m_global_backward_hooks\u001b[0m\u001b[0;34m\u001b[0m\u001b[0;34m\u001b[0m\u001b[0m\n\u001b[1;32m   1500\u001b[0m                 or _global_forward_hooks or _global_forward_pre_hooks):\n\u001b[0;32m-> 1501\u001b[0;31m             \u001b[0;32mreturn\u001b[0m \u001b[0mforward_call\u001b[0m\u001b[0;34m(\u001b[0m\u001b[0;34m*\u001b[0m\u001b[0margs\u001b[0m\u001b[0;34m,\u001b[0m \u001b[0;34m**\u001b[0m\u001b[0mkwargs\u001b[0m\u001b[0;34m)\u001b[0m\u001b[0;34m\u001b[0m\u001b[0;34m\u001b[0m\u001b[0m\n\u001b[0m\u001b[1;32m   1502\u001b[0m         \u001b[0;31m# Do not call functions when jit is used\u001b[0m\u001b[0;34m\u001b[0m\u001b[0;34m\u001b[0m\u001b[0m\n\u001b[1;32m   1503\u001b[0m         \u001b[0mfull_backward_hooks\u001b[0m\u001b[0;34m,\u001b[0m \u001b[0mnon_full_backward_hooks\u001b[0m \u001b[0;34m=\u001b[0m \u001b[0;34m[\u001b[0m\u001b[0;34m]\u001b[0m\u001b[0;34m,\u001b[0m \u001b[0;34m[\u001b[0m\u001b[0;34m]\u001b[0m\u001b[0;34m\u001b[0m\u001b[0;34m\u001b[0m\u001b[0m\n",
            "\u001b[0;32m/content/taming-transformers/taming/modules/transformer/mingpt.py\u001b[0m in \u001b[0;36mforward\u001b[0;34m(self, x, layer_past, return_present)\u001b[0m\n\u001b[1;32m    117\u001b[0m \u001b[0;34m\u001b[0m\u001b[0m\n\u001b[1;32m    118\u001b[0m         \u001b[0mx\u001b[0m \u001b[0;34m=\u001b[0m \u001b[0mx\u001b[0m \u001b[0;34m+\u001b[0m \u001b[0mattn\u001b[0m\u001b[0;34m\u001b[0m\u001b[0;34m\u001b[0m\u001b[0m\n\u001b[0;32m--> 119\u001b[0;31m         \u001b[0mx\u001b[0m \u001b[0;34m=\u001b[0m \u001b[0mx\u001b[0m \u001b[0;34m+\u001b[0m \u001b[0mself\u001b[0m\u001b[0;34m.\u001b[0m\u001b[0mmlp\u001b[0m\u001b[0;34m(\u001b[0m\u001b[0mself\u001b[0m\u001b[0;34m.\u001b[0m\u001b[0mln2\u001b[0m\u001b[0;34m(\u001b[0m\u001b[0mx\u001b[0m\u001b[0;34m)\u001b[0m\u001b[0;34m)\u001b[0m\u001b[0;34m\u001b[0m\u001b[0;34m\u001b[0m\u001b[0m\n\u001b[0m\u001b[1;32m    120\u001b[0m         \u001b[0;32mif\u001b[0m \u001b[0mlayer_past\u001b[0m \u001b[0;32mis\u001b[0m \u001b[0;32mnot\u001b[0m \u001b[0;32mNone\u001b[0m \u001b[0;32mor\u001b[0m \u001b[0mreturn_present\u001b[0m\u001b[0;34m:\u001b[0m\u001b[0;34m\u001b[0m\u001b[0;34m\u001b[0m\u001b[0m\n\u001b[1;32m    121\u001b[0m             \u001b[0;32mreturn\u001b[0m \u001b[0mx\u001b[0m\u001b[0;34m,\u001b[0m \u001b[0mpresent\u001b[0m\u001b[0;34m\u001b[0m\u001b[0;34m\u001b[0m\u001b[0m\n",
            "\u001b[0;32m/usr/local/lib/python3.9/dist-packages/torch/nn/modules/module.py\u001b[0m in \u001b[0;36m_call_impl\u001b[0;34m(self, *args, **kwargs)\u001b[0m\n\u001b[1;32m   1499\u001b[0m                 \u001b[0;32mor\u001b[0m \u001b[0m_global_backward_pre_hooks\u001b[0m \u001b[0;32mor\u001b[0m \u001b[0m_global_backward_hooks\u001b[0m\u001b[0;34m\u001b[0m\u001b[0;34m\u001b[0m\u001b[0m\n\u001b[1;32m   1500\u001b[0m                 or _global_forward_hooks or _global_forward_pre_hooks):\n\u001b[0;32m-> 1501\u001b[0;31m             \u001b[0;32mreturn\u001b[0m \u001b[0mforward_call\u001b[0m\u001b[0;34m(\u001b[0m\u001b[0;34m*\u001b[0m\u001b[0margs\u001b[0m\u001b[0;34m,\u001b[0m \u001b[0;34m**\u001b[0m\u001b[0mkwargs\u001b[0m\u001b[0;34m)\u001b[0m\u001b[0;34m\u001b[0m\u001b[0;34m\u001b[0m\u001b[0m\n\u001b[0m\u001b[1;32m   1502\u001b[0m         \u001b[0;31m# Do not call functions when jit is used\u001b[0m\u001b[0;34m\u001b[0m\u001b[0;34m\u001b[0m\u001b[0m\n\u001b[1;32m   1503\u001b[0m         \u001b[0mfull_backward_hooks\u001b[0m\u001b[0;34m,\u001b[0m \u001b[0mnon_full_backward_hooks\u001b[0m \u001b[0;34m=\u001b[0m \u001b[0;34m[\u001b[0m\u001b[0;34m]\u001b[0m\u001b[0;34m,\u001b[0m \u001b[0;34m[\u001b[0m\u001b[0;34m]\u001b[0m\u001b[0;34m\u001b[0m\u001b[0;34m\u001b[0m\u001b[0m\n",
            "\u001b[0;32m/usr/local/lib/python3.9/dist-packages/torch/nn/modules/container.py\u001b[0m in \u001b[0;36mforward\u001b[0;34m(self, input)\u001b[0m\n\u001b[1;32m    215\u001b[0m     \u001b[0;32mdef\u001b[0m \u001b[0mforward\u001b[0m\u001b[0;34m(\u001b[0m\u001b[0mself\u001b[0m\u001b[0;34m,\u001b[0m \u001b[0minput\u001b[0m\u001b[0;34m)\u001b[0m\u001b[0;34m:\u001b[0m\u001b[0;34m\u001b[0m\u001b[0;34m\u001b[0m\u001b[0m\n\u001b[1;32m    216\u001b[0m         \u001b[0;32mfor\u001b[0m \u001b[0mmodule\u001b[0m \u001b[0;32min\u001b[0m \u001b[0mself\u001b[0m\u001b[0;34m:\u001b[0m\u001b[0;34m\u001b[0m\u001b[0;34m\u001b[0m\u001b[0m\n\u001b[0;32m--> 217\u001b[0;31m             \u001b[0minput\u001b[0m \u001b[0;34m=\u001b[0m \u001b[0mmodule\u001b[0m\u001b[0;34m(\u001b[0m\u001b[0minput\u001b[0m\u001b[0;34m)\u001b[0m\u001b[0;34m\u001b[0m\u001b[0;34m\u001b[0m\u001b[0m\n\u001b[0m\u001b[1;32m    218\u001b[0m         \u001b[0;32mreturn\u001b[0m \u001b[0minput\u001b[0m\u001b[0;34m\u001b[0m\u001b[0;34m\u001b[0m\u001b[0m\n\u001b[1;32m    219\u001b[0m \u001b[0;34m\u001b[0m\u001b[0m\n",
            "\u001b[0;32m/usr/local/lib/python3.9/dist-packages/torch/nn/modules/module.py\u001b[0m in \u001b[0;36m_call_impl\u001b[0;34m(self, *args, **kwargs)\u001b[0m\n\u001b[1;32m   1499\u001b[0m                 \u001b[0;32mor\u001b[0m \u001b[0m_global_backward_pre_hooks\u001b[0m \u001b[0;32mor\u001b[0m \u001b[0m_global_backward_hooks\u001b[0m\u001b[0;34m\u001b[0m\u001b[0;34m\u001b[0m\u001b[0m\n\u001b[1;32m   1500\u001b[0m                 or _global_forward_hooks or _global_forward_pre_hooks):\n\u001b[0;32m-> 1501\u001b[0;31m             \u001b[0;32mreturn\u001b[0m \u001b[0mforward_call\u001b[0m\u001b[0;34m(\u001b[0m\u001b[0;34m*\u001b[0m\u001b[0margs\u001b[0m\u001b[0;34m,\u001b[0m \u001b[0;34m**\u001b[0m\u001b[0mkwargs\u001b[0m\u001b[0;34m)\u001b[0m\u001b[0;34m\u001b[0m\u001b[0;34m\u001b[0m\u001b[0m\n\u001b[0m\u001b[1;32m   1502\u001b[0m         \u001b[0;31m# Do not call functions when jit is used\u001b[0m\u001b[0;34m\u001b[0m\u001b[0;34m\u001b[0m\u001b[0m\n\u001b[1;32m   1503\u001b[0m         \u001b[0mfull_backward_hooks\u001b[0m\u001b[0;34m,\u001b[0m \u001b[0mnon_full_backward_hooks\u001b[0m \u001b[0;34m=\u001b[0m \u001b[0;34m[\u001b[0m\u001b[0;34m]\u001b[0m\u001b[0;34m,\u001b[0m \u001b[0;34m[\u001b[0m\u001b[0;34m]\u001b[0m\u001b[0;34m\u001b[0m\u001b[0;34m\u001b[0m\u001b[0m\n",
            "\u001b[0;32m/usr/local/lib/python3.9/dist-packages/torch/nn/modules/activation.py\u001b[0m in \u001b[0;36mforward\u001b[0;34m(self, input)\u001b[0m\n\u001b[1;32m    683\u001b[0m \u001b[0;34m\u001b[0m\u001b[0m\n\u001b[1;32m    684\u001b[0m     \u001b[0;32mdef\u001b[0m \u001b[0mforward\u001b[0m\u001b[0;34m(\u001b[0m\u001b[0mself\u001b[0m\u001b[0;34m,\u001b[0m \u001b[0minput\u001b[0m\u001b[0;34m:\u001b[0m \u001b[0mTensor\u001b[0m\u001b[0;34m)\u001b[0m \u001b[0;34m->\u001b[0m \u001b[0mTensor\u001b[0m\u001b[0;34m:\u001b[0m\u001b[0;34m\u001b[0m\u001b[0;34m\u001b[0m\u001b[0m\n\u001b[0;32m--> 685\u001b[0;31m         \u001b[0;32mreturn\u001b[0m \u001b[0mF\u001b[0m\u001b[0;34m.\u001b[0m\u001b[0mgelu\u001b[0m\u001b[0;34m(\u001b[0m\u001b[0minput\u001b[0m\u001b[0;34m,\u001b[0m \u001b[0mapproximate\u001b[0m\u001b[0;34m=\u001b[0m\u001b[0mself\u001b[0m\u001b[0;34m.\u001b[0m\u001b[0mapproximate\u001b[0m\u001b[0;34m)\u001b[0m\u001b[0;34m\u001b[0m\u001b[0;34m\u001b[0m\u001b[0m\n\u001b[0m\u001b[1;32m    686\u001b[0m \u001b[0;34m\u001b[0m\u001b[0m\n\u001b[1;32m    687\u001b[0m     \u001b[0;32mdef\u001b[0m \u001b[0mextra_repr\u001b[0m\u001b[0;34m(\u001b[0m\u001b[0mself\u001b[0m\u001b[0;34m)\u001b[0m \u001b[0;34m->\u001b[0m \u001b[0mstr\u001b[0m\u001b[0;34m:\u001b[0m\u001b[0;34m\u001b[0m\u001b[0;34m\u001b[0m\u001b[0m\n",
            "\u001b[0;31mOutOfMemoryError\u001b[0m: CUDA out of memory. Tried to allocate 128.00 MiB (GPU 0; 14.75 GiB total capacity; 13.36 GiB already allocated; 78.81 MiB free; 13.39 GiB reserved in total by PyTorch) If reserved memory is >> allocated memory try setting max_split_size_mb to avoid fragmentation.  See documentation for Memory Management and PYTORCH_CUDA_ALLOC_CONF"
          ]
        }
      ],
      "source": [
        "trainer.train()"
      ]
    },
    {
      "cell_type": "markdown",
      "source": [
        "okay, so the problem seems to relate to the grad. And my model isnt training because it isnt passing grad of the parameters. Not really sure how pytorch works but I need to look into it.\n",
        "1. Possible solution: change the input to require gradient\n",
        "2. Check what's going on and why model is not trainiabel "
      ],
      "metadata": {
        "id": "JvGlspeyfRSG"
      }
    },
    {
      "cell_type": "code",
      "source": [
        "# Iterate through the named parameters\n",
        "for name, param in face_model.named_parameters():\n",
        "    # Check if the parameter is trainable (requires gradient)\n",
        "    if param.requires_grad:\n",
        "        print(name)"
      ],
      "metadata": {
        "id": "knfkjm7iy1Es"
      },
      "execution_count": null,
      "outputs": []
    },
    {
      "cell_type": "markdown",
      "metadata": {
        "id": "hn7b_7J4Wkuz"
      },
      "source": [
        "Unfreeze the model and train the whole thing"
      ]
    },
    {
      "cell_type": "code",
      "execution_count": null,
      "metadata": {
        "colab": {
          "base_uri": "https://localhost:8080/"
        },
        "id": "HR3RDbCXWn-h",
        "outputId": "c11e3d83-2687-477e-d374-d7826c8e7b91"
      },
      "outputs": [
        {
          "name": "stdout",
          "output_type": "stream",
          "text": [
            "The entire model is trainable\n"
          ]
        }
      ],
      "source": [
        "for i, param in enumerate(face_model.parameters()):\n",
        "  param.requires_grad = True\n",
        "face_model.to(DEVICE)\n",
        "\n",
        "# Check if the model is trainable\n",
        "trainable_params = any(param.requires_grad for param in model_transformer.parameters())\n",
        "\n",
        "if trainable_params:\n",
        "    print('The entire model is trainable')\n",
        "else:\n",
        "    print('The entire model is not trainable')\n",
        "\n",
        "\n",
        "metric_name = \"accuracy\"\n",
        "\n",
        "args = TrainingArguments(\n",
        "    output_dir=\"logs/faceshq_transformer/checkpoints\",\n",
        "    num_train_epochs=2,\n",
        "    per_device_train_batch_size=32,\n",
        "    per_device_eval_batch_size=32,\n",
        "    warmup_steps=500,\n",
        "    weight_decay=0.01,\n",
        "    logging_dir=\"logs/faceshq_transformer/logs\",\n",
        "    logging_steps=100,\n",
        "    evaluation_strategy=\"steps\",\n",
        "    eval_steps=100,\n",
        "    save_steps=100,\n",
        "    load_best_model_at_end=True,\n",
        "    metric_for_best_model=metric_name,\n",
        "    greater_is_better=True,\n",
        "    report_to=\"none\",\n",
        ")     \n",
        "\n",
        "metric = load_metric(\"accuracy\")\n",
        "\n",
        "def compute_metrics(eval_pred):\n",
        "    logits, labels = eval_pred\n",
        "    predictions = np.argmax(logits, axis=-1)\n",
        "    return metric.compute(predictions=predictions, references=labels)\n",
        "\n",
        "trainer = Trainer(\n",
        "    model=face_model,\n",
        "    args=args,\n",
        "    train_dataset=preprocessed_train,\n",
        "    eval_dataset=preprocessed_val,\n",
        "    compute_metrics=compute_metrics,\n",
        ")\n"
      ]
    },
    {
      "cell_type": "code",
      "execution_count": null,
      "metadata": {
        "colab": {
          "base_uri": "https://localhost:8080/",
          "height": 530
        },
        "id": "2opZcKOTdV_M",
        "outputId": "d239d225-cb75-41b0-d584-cff5254233d6"
      },
      "outputs": [
        {
          "name": "stderr",
          "output_type": "stream",
          "text": [
            "/usr/local/lib/python3.9/dist-packages/transformers/optimization.py:391: FutureWarning: This implementation of AdamW is deprecated and will be removed in a future version. Use the PyTorch implementation torch.optim.AdamW instead, or set `no_deprecation_warning=True` to disable this warning\n",
            "  warnings.warn(\n"
          ]
        },
        {
          "data": {
            "text/html": [
              "\n",
              "    <div>\n",
              "      \n",
              "      <progress value='252' max='1796' style='width:300px; height:20px; vertical-align: middle;'></progress>\n",
              "      [ 252/1796 02:47 < 17:16, 1.49 it/s, Epoch 0.28/2]\n",
              "    </div>\n",
              "    <table border=\"1\" class=\"dataframe\">\n",
              "  <thead>\n",
              " <tr style=\"text-align: left;\">\n",
              "      <th>Step</th>\n",
              "      <th>Training Loss</th>\n",
              "      <th>Validation Loss</th>\n",
              "      <th>Accuracy</th>\n",
              "    </tr>\n",
              "  </thead>\n",
              "  <tbody>\n",
              "    <tr>\n",
              "      <td>100</td>\n",
              "      <td>1.949200</td>\n",
              "      <td>1.950381</td>\n",
              "      <td>0.249373</td>\n",
              "    </tr>\n",
              "    <tr>\n",
              "      <td>200</td>\n",
              "      <td>1.948100</td>\n",
              "      <td>1.950381</td>\n",
              "      <td>0.249373</td>\n",
              "    </tr>\n",
              "  </tbody>\n",
              "</table><p>"
            ],
            "text/plain": [
              "<IPython.core.display.HTML object>"
            ]
          },
          "metadata": {},
          "output_type": "display_data"
        },
        {
          "ename": "KeyboardInterrupt",
          "evalue": "ignored",
          "output_type": "error",
          "traceback": [
            "\u001b[0;31m---------------------------------------------------------------------------\u001b[0m",
            "\u001b[0;31mKeyboardInterrupt\u001b[0m                         Traceback (most recent call last)",
            "\u001b[0;32m<ipython-input-60-3435b262f1ae>\u001b[0m in \u001b[0;36m<cell line: 1>\u001b[0;34m()\u001b[0m\n\u001b[0;32m----> 1\u001b[0;31m \u001b[0mtrainer\u001b[0m\u001b[0;34m.\u001b[0m\u001b[0mtrain\u001b[0m\u001b[0;34m(\u001b[0m\u001b[0;34m)\u001b[0m\u001b[0;34m\u001b[0m\u001b[0;34m\u001b[0m\u001b[0m\n\u001b[0m",
            "\u001b[0;32m/usr/local/lib/python3.9/dist-packages/transformers/trainer.py\u001b[0m in \u001b[0;36mtrain\u001b[0;34m(self, resume_from_checkpoint, trial, ignore_keys_for_eval, **kwargs)\u001b[0m\n\u001b[1;32m   1660\u001b[0m             \u001b[0mself\u001b[0m\u001b[0;34m.\u001b[0m\u001b[0m_inner_training_loop\u001b[0m\u001b[0;34m,\u001b[0m \u001b[0mself\u001b[0m\u001b[0;34m.\u001b[0m\u001b[0m_train_batch_size\u001b[0m\u001b[0;34m,\u001b[0m \u001b[0margs\u001b[0m\u001b[0;34m.\u001b[0m\u001b[0mauto_find_batch_size\u001b[0m\u001b[0;34m\u001b[0m\u001b[0;34m\u001b[0m\u001b[0m\n\u001b[1;32m   1661\u001b[0m         )\n\u001b[0;32m-> 1662\u001b[0;31m         return inner_training_loop(\n\u001b[0m\u001b[1;32m   1663\u001b[0m             \u001b[0margs\u001b[0m\u001b[0;34m=\u001b[0m\u001b[0margs\u001b[0m\u001b[0;34m,\u001b[0m\u001b[0;34m\u001b[0m\u001b[0;34m\u001b[0m\u001b[0m\n\u001b[1;32m   1664\u001b[0m             \u001b[0mresume_from_checkpoint\u001b[0m\u001b[0;34m=\u001b[0m\u001b[0mresume_from_checkpoint\u001b[0m\u001b[0;34m,\u001b[0m\u001b[0;34m\u001b[0m\u001b[0;34m\u001b[0m\u001b[0m\n",
            "\u001b[0;32m/usr/local/lib/python3.9/dist-packages/transformers/trainer.py\u001b[0m in \u001b[0;36m_inner_training_loop\u001b[0;34m(self, batch_size, args, resume_from_checkpoint, trial, ignore_keys_for_eval)\u001b[0m\n\u001b[1;32m   1929\u001b[0m                     \u001b[0mtr_loss_step\u001b[0m \u001b[0;34m=\u001b[0m \u001b[0mself\u001b[0m\u001b[0;34m.\u001b[0m\u001b[0mtraining_step\u001b[0m\u001b[0;34m(\u001b[0m\u001b[0mmodel\u001b[0m\u001b[0;34m,\u001b[0m \u001b[0minputs\u001b[0m\u001b[0;34m)\u001b[0m\u001b[0;34m\u001b[0m\u001b[0;34m\u001b[0m\u001b[0m\n\u001b[1;32m   1930\u001b[0m \u001b[0;34m\u001b[0m\u001b[0m\n\u001b[0;32m-> 1931\u001b[0;31m                 if (\n\u001b[0m\u001b[1;32m   1932\u001b[0m                     \u001b[0margs\u001b[0m\u001b[0;34m.\u001b[0m\u001b[0mlogging_nan_inf_filter\u001b[0m\u001b[0;34m\u001b[0m\u001b[0;34m\u001b[0m\u001b[0m\n\u001b[1;32m   1933\u001b[0m                     \u001b[0;32mand\u001b[0m \u001b[0;32mnot\u001b[0m \u001b[0mis_torch_tpu_available\u001b[0m\u001b[0;34m(\u001b[0m\u001b[0;34m)\u001b[0m\u001b[0;34m\u001b[0m\u001b[0;34m\u001b[0m\u001b[0m\n",
            "\u001b[0;31mKeyboardInterrupt\u001b[0m: "
          ]
        }
      ],
      "source": [
        "trainer.train()"
      ]
    },
    {
      "cell_type": "code",
      "execution_count": null,
      "metadata": {
        "colab": {
          "base_uri": "https://localhost:8080/"
        },
        "id": "0NGhmbNSbA5c",
        "outputId": "3198a0dd-c8c0-4b14-d5f6-92fe94268f0e"
      },
      "outputs": [
        {
          "data": {
            "text/plain": [
              "0"
            ]
          },
          "execution_count": 68,
          "metadata": {},
          "output_type": "execute_result"
        }
      ],
      "source": [
        "preprocessed_val[0]['label']"
      ]
    },
    {
      "cell_type": "code",
      "execution_count": null,
      "metadata": {
        "colab": {
          "base_uri": "https://localhost:8080/"
        },
        "id": "UzVpcjyBcE5G",
        "outputId": "195c6135-1807-4028-92a9-f821118b64e7"
      },
      "outputs": [
        {
          "data": {
            "text/plain": [
              "torch.Size([256])"
            ]
          },
          "execution_count": 77,
          "metadata": {},
          "output_type": "execute_result"
        }
      ],
      "source": [
        "torch.tensor(preprocessed_val[0]['index']).shape"
      ]
    },
    {
      "cell_type": "code",
      "execution_count": null,
      "metadata": {
        "colab": {
          "base_uri": "https://localhost:8080/",
          "height": 782
        },
        "id": "49w-mHIPa9NF",
        "outputId": "c019daa0-b490-408a-d097-003c7b9c09d8"
      },
      "outputs": [
        {
          "ename": "AssertionError",
          "evalue": "ignored",
          "output_type": "error",
          "traceback": [
            "\u001b[0;31m---------------------------------------------------------------------------\u001b[0m",
            "\u001b[0;31mAssertionError\u001b[0m                            Traceback (most recent call last)",
            "\u001b[0;32m<ipython-input-79-beb51de36dca>\u001b[0m in \u001b[0;36m<cell line: 1>\u001b[0;34m()\u001b[0m\n\u001b[0;32m----> 1\u001b[0;31m \u001b[0mface_model\u001b[0m\u001b[0;34m(\u001b[0m\u001b[0mtorch\u001b[0m\u001b[0;34m.\u001b[0m\u001b[0mtensor\u001b[0m\u001b[0;34m(\u001b[0m\u001b[0mpreprocessed_val\u001b[0m\u001b[0;34m[\u001b[0m\u001b[0;36m0\u001b[0m\u001b[0;34m]\u001b[0m\u001b[0;34m[\u001b[0m\u001b[0;34m'index'\u001b[0m\u001b[0;34m]\u001b[0m\u001b[0;34m)\u001b[0m\u001b[0;34m.\u001b[0m\u001b[0mto\u001b[0m\u001b[0;34m(\u001b[0m\u001b[0mDEVICE\u001b[0m\u001b[0;34m)\u001b[0m\u001b[0;34m,\u001b[0m \u001b[0;32mNone\u001b[0m\u001b[0;34m)\u001b[0m\u001b[0;34m\u001b[0m\u001b[0;34m\u001b[0m\u001b[0m\n\u001b[0m",
            "\u001b[0;32m/usr/local/lib/python3.9/dist-packages/torch/nn/modules/module.py\u001b[0m in \u001b[0;36m_call_impl\u001b[0;34m(self, *args, **kwargs)\u001b[0m\n\u001b[1;32m   1499\u001b[0m                 \u001b[0;32mor\u001b[0m \u001b[0m_global_backward_pre_hooks\u001b[0m \u001b[0;32mor\u001b[0m \u001b[0m_global_backward_hooks\u001b[0m\u001b[0;34m\u001b[0m\u001b[0;34m\u001b[0m\u001b[0m\n\u001b[1;32m   1500\u001b[0m                 or _global_forward_hooks or _global_forward_pre_hooks):\n\u001b[0;32m-> 1501\u001b[0;31m             \u001b[0;32mreturn\u001b[0m \u001b[0mforward_call\u001b[0m\u001b[0;34m(\u001b[0m\u001b[0;34m*\u001b[0m\u001b[0margs\u001b[0m\u001b[0;34m,\u001b[0m \u001b[0;34m**\u001b[0m\u001b[0mkwargs\u001b[0m\u001b[0;34m)\u001b[0m\u001b[0;34m\u001b[0m\u001b[0;34m\u001b[0m\u001b[0m\n\u001b[0m\u001b[1;32m   1502\u001b[0m         \u001b[0;31m# Do not call functions when jit is used\u001b[0m\u001b[0;34m\u001b[0m\u001b[0;34m\u001b[0m\u001b[0m\n\u001b[1;32m   1503\u001b[0m         \u001b[0mfull_backward_hooks\u001b[0m\u001b[0;34m,\u001b[0m \u001b[0mnon_full_backward_hooks\u001b[0m \u001b[0;34m=\u001b[0m \u001b[0;34m[\u001b[0m\u001b[0;34m]\u001b[0m\u001b[0;34m,\u001b[0m \u001b[0;34m[\u001b[0m\u001b[0;34m]\u001b[0m\u001b[0;34m\u001b[0m\u001b[0;34m\u001b[0m\u001b[0m\n",
            "\u001b[0;32m<ipython-input-54-08ff7a797885>\u001b[0m in \u001b[0;36mforward\u001b[0;34m(self, index, labels)\u001b[0m\n\u001b[1;32m     12\u001b[0m \u001b[0;34m\u001b[0m\u001b[0m\n\u001b[1;32m     13\u001b[0m     \u001b[0;32mdef\u001b[0m \u001b[0mforward\u001b[0m\u001b[0;34m(\u001b[0m\u001b[0mself\u001b[0m\u001b[0;34m,\u001b[0m \u001b[0mindex\u001b[0m\u001b[0;34m,\u001b[0m \u001b[0mlabels\u001b[0m\u001b[0;34m)\u001b[0m\u001b[0;34m:\u001b[0m\u001b[0;34m\u001b[0m\u001b[0;34m\u001b[0m\u001b[0m\n\u001b[0;32m---> 14\u001b[0;31m         \u001b[0mlogits\u001b[0m\u001b[0;34m,\u001b[0m \u001b[0m_\u001b[0m  \u001b[0;34m=\u001b[0m \u001b[0mself\u001b[0m\u001b[0;34m.\u001b[0m\u001b[0mtransformer\u001b[0m\u001b[0;34m(\u001b[0m\u001b[0mindex\u001b[0m\u001b[0;34m)\u001b[0m\u001b[0;34m\u001b[0m\u001b[0;34m\u001b[0m\u001b[0m\n\u001b[0m\u001b[1;32m     15\u001b[0m         \u001b[0mlogits\u001b[0m \u001b[0;34m=\u001b[0m \u001b[0mlogits\u001b[0m\u001b[0;34m[\u001b[0m\u001b[0;34m:\u001b[0m\u001b[0;34m,\u001b[0m \u001b[0;34m-\u001b[0m\u001b[0;36m1\u001b[0m\u001b[0;34m,\u001b[0m \u001b[0;34m:\u001b[0m\u001b[0;34m]\u001b[0m\u001b[0;34m\u001b[0m\u001b[0;34m\u001b[0m\u001b[0m\n\u001b[1;32m     16\u001b[0m         \u001b[0mlogits\u001b[0m \u001b[0;34m=\u001b[0m \u001b[0mself\u001b[0m\u001b[0;34m.\u001b[0m\u001b[0mclassifier1\u001b[0m\u001b[0;34m(\u001b[0m\u001b[0mlogits\u001b[0m\u001b[0;34m)\u001b[0m\u001b[0;34m\u001b[0m\u001b[0;34m\u001b[0m\u001b[0m\n",
            "\u001b[0;32m/usr/local/lib/python3.9/dist-packages/torch/nn/modules/module.py\u001b[0m in \u001b[0;36m_call_impl\u001b[0;34m(self, *args, **kwargs)\u001b[0m\n\u001b[1;32m   1499\u001b[0m                 \u001b[0;32mor\u001b[0m \u001b[0m_global_backward_pre_hooks\u001b[0m \u001b[0;32mor\u001b[0m \u001b[0m_global_backward_hooks\u001b[0m\u001b[0;34m\u001b[0m\u001b[0;34m\u001b[0m\u001b[0m\n\u001b[1;32m   1500\u001b[0m                 or _global_forward_hooks or _global_forward_pre_hooks):\n\u001b[0;32m-> 1501\u001b[0;31m             \u001b[0;32mreturn\u001b[0m \u001b[0mforward_call\u001b[0m\u001b[0;34m(\u001b[0m\u001b[0;34m*\u001b[0m\u001b[0margs\u001b[0m\u001b[0;34m,\u001b[0m \u001b[0;34m**\u001b[0m\u001b[0mkwargs\u001b[0m\u001b[0;34m)\u001b[0m\u001b[0;34m\u001b[0m\u001b[0;34m\u001b[0m\u001b[0m\n\u001b[0m\u001b[1;32m   1502\u001b[0m         \u001b[0;31m# Do not call functions when jit is used\u001b[0m\u001b[0;34m\u001b[0m\u001b[0;34m\u001b[0m\u001b[0m\n\u001b[1;32m   1503\u001b[0m         \u001b[0mfull_backward_hooks\u001b[0m\u001b[0;34m,\u001b[0m \u001b[0mnon_full_backward_hooks\u001b[0m \u001b[0;34m=\u001b[0m \u001b[0;34m[\u001b[0m\u001b[0;34m]\u001b[0m\u001b[0;34m,\u001b[0m \u001b[0;34m[\u001b[0m\u001b[0;34m]\u001b[0m\u001b[0;34m\u001b[0m\u001b[0;34m\u001b[0m\u001b[0m\n",
            "\u001b[0;32m/content/taming-transformers/taming/modules/transformer/mingpt.py\u001b[0m in \u001b[0;36mforward\u001b[0;34m(self, idx, embeddings, targets)\u001b[0m\n\u001b[1;32m    166\u001b[0m \u001b[0;34m\u001b[0m\u001b[0m\n\u001b[1;32m    167\u001b[0m         \u001b[0mt\u001b[0m \u001b[0;34m=\u001b[0m \u001b[0mtoken_embeddings\u001b[0m\u001b[0;34m.\u001b[0m\u001b[0mshape\u001b[0m\u001b[0;34m[\u001b[0m\u001b[0;36m1\u001b[0m\u001b[0;34m]\u001b[0m\u001b[0;34m\u001b[0m\u001b[0;34m\u001b[0m\u001b[0m\n\u001b[0;32m--> 168\u001b[0;31m         \u001b[0;32massert\u001b[0m \u001b[0mt\u001b[0m \u001b[0;34m<=\u001b[0m \u001b[0mself\u001b[0m\u001b[0;34m.\u001b[0m\u001b[0mblock_size\u001b[0m\u001b[0;34m,\u001b[0m \u001b[0;34m\"Cannot forward, model block size is exhausted.\"\u001b[0m\u001b[0;34m\u001b[0m\u001b[0;34m\u001b[0m\u001b[0m\n\u001b[0m\u001b[1;32m    169\u001b[0m         \u001b[0mposition_embeddings\u001b[0m \u001b[0;34m=\u001b[0m \u001b[0mself\u001b[0m\u001b[0;34m.\u001b[0m\u001b[0mpos_emb\u001b[0m\u001b[0;34m[\u001b[0m\u001b[0;34m:\u001b[0m\u001b[0;34m,\u001b[0m \u001b[0;34m:\u001b[0m\u001b[0mt\u001b[0m\u001b[0;34m,\u001b[0m \u001b[0;34m:\u001b[0m\u001b[0;34m]\u001b[0m \u001b[0;31m# each position maps to a (learnable) vector\u001b[0m\u001b[0;34m\u001b[0m\u001b[0;34m\u001b[0m\u001b[0m\n\u001b[1;32m    170\u001b[0m         \u001b[0mx\u001b[0m \u001b[0;34m=\u001b[0m \u001b[0mself\u001b[0m\u001b[0;34m.\u001b[0m\u001b[0mdrop\u001b[0m\u001b[0;34m(\u001b[0m\u001b[0mtoken_embeddings\u001b[0m \u001b[0;34m+\u001b[0m \u001b[0mposition_embeddings\u001b[0m\u001b[0;34m)\u001b[0m\u001b[0;34m\u001b[0m\u001b[0;34m\u001b[0m\u001b[0m\n",
            "\u001b[0;31mAssertionError\u001b[0m: Cannot forward, model block size is exhausted."
          ]
        }
      ],
      "source": [
        "face_model(torch.tensor(preprocessed_val[0]['index']).to(DEVICE), None)"
      ]
    },
    {
      "cell_type": "markdown",
      "metadata": {
        "id": "DRmnxmo3N9_x"
      },
      "source": [
        "There are some model size problem issues. The linear layer header does not match with the batch output of the transformer layer. See here:\n",
        "https://discuss.pytorch.org/t/valueerror-expected-input-batch-size-324-to-match-target-batch-size-4/24498/7\n",
        "\n",
        "\n",
        "Further digging find that it might due to its a decoder model, so that's why the output is 32(batch)*256(patch)*1024(codebook)\n",
        "\n",
        "https://github.com/huggingface/transformers/issues/12259\n"
      ]
    },
    {
      "cell_type": "code",
      "execution_count": null,
      "metadata": {
        "id": "PofTuP6yfqOD"
      },
      "outputs": [],
      "source": []
    },
    {
      "cell_type": "markdown",
      "metadata": {
        "id": "ojZpwnECfrH0"
      },
      "source": [
        "This is the index of one image, which is the input"
      ]
    },
    {
      "cell_type": "code",
      "execution_count": null,
      "metadata": {
        "colab": {
          "base_uri": "https://localhost:8080/"
        },
        "id": "Xg2eiutVfe07",
        "outputId": "0145b9da-77b2-4be2-ccfe-a4c501e93ec9"
      },
      "outputs": [
        {
          "data": {
            "text/plain": [
              "256"
            ]
          },
          "execution_count": 94,
          "metadata": {},
          "output_type": "execute_result"
        }
      ],
      "source": [
        "len(preprocessed_train['index'][0])"
      ]
    },
    {
      "cell_type": "markdown",
      "metadata": {
        "id": "3beT5LIxg8Og"
      },
      "source": [
        "One image is divdeded into 256 pieces of 16*16 patches. Then each 16*16 patch is represented by a codebook entry. It then feed into the transformer model. "
      ]
    },
    {
      "cell_type": "markdown",
      "metadata": {
        "id": "WTIfKTKwd_Zl"
      },
      "source": [
        "So change the output of transformer model to 256*1024 flattened layer should be the input of the header and able to train, but the accuracy is not doing well. The issue here is the decoder model is giving predictions of 256 *1024 (probably decoder only model). I have not yet chop off the head from the transformer model. It isnt training since the header output are logits already, and I am not really training."
      ]
    },
    {
      "cell_type": "markdown",
      "metadata": {
        "id": "HvkLyidLh256"
      },
      "source": [
        "Next steps:\n",
        "\n",
        "1. Learn a bit more pytorch and chop the head to be able to train the model\n",
        "\n",
        "2. Train an entirely new transformer based model with classification header (too resource consuming)"
      ]
    },
    {
      "cell_type": "markdown",
      "metadata": {
        "id": "2aEouH1-EFVM"
      },
      "source": [
        "###Retrain the model with freezed parameters except the head"
      ]
    },
    {
      "cell_type": "markdown",
      "metadata": {
        "id": "0APXGp0IEXvr"
      },
      "source": [
        "Initiate the model"
      ]
    },
    {
      "cell_type": "code",
      "execution_count": null,
      "metadata": {
        "id": "pmwIqRidEXvr"
      },
      "outputs": [],
      "source": [
        "modelFaceTransformer = Net2NetTransformer(**config.model.params)\n",
        "#Load checkpoints\n",
        "ckpt_path = \"logs/2020-11-13T21-41-45_faceshq_transformer/checkpoints/last.ckpt\"\n",
        "sd = torch.load(ckpt_path, map_location=\"cpu\")[\"state_dict\"]\n",
        "missing, unexpected = modelFaceTransformer.load_state_dict(sd, strict=False)\n",
        "modelFaceTransformer.cuda().eval()\n",
        "torch.set_grad_enabled(False)\n",
        "model_transformer = modelFaceTransformer.transformer\n",
        "new_head = nn.Sequential(\n",
        "    nn.Flatten(),\n",
        "    nn.Linear(1024*256, 256),\n",
        "    nn.ReLU(),\n",
        "    nn.Dropout(0.1),\n",
        "    nn.Linear(256, 64),\n",
        "    nn.ReLU(),\n",
        "    nn.Linear(64, 7),\n",
        "    nn.Softmax(dim=1)\n",
        ")\n",
        "model_transformer.head = new_head\n",
        "\n",
        "model_transformer.to(DEVICE)\n",
        "\n"
      ]
    },
    {
      "cell_type": "code",
      "execution_count": null,
      "metadata": {
        "colab": {
          "base_uri": "https://localhost:8080/"
        },
        "id": "GoTW5E4DJZIu",
        "outputId": "dbd5794d-87c9-4f09-de46-29e3f8a77cc1"
      },
      "outputs": [
        {
          "data": {
            "text/plain": [
              "modelTransformer(\n",
              "  (transformer): GPT(\n",
              "    (tok_emb): Embedding(1024, 1024)\n",
              "    (drop): Dropout(p=0.0, inplace=False)\n",
              "    (blocks): Sequential(\n",
              "      (0): Block(\n",
              "        (ln1): LayerNorm((1024,), eps=1e-05, elementwise_affine=True)\n",
              "        (ln2): LayerNorm((1024,), eps=1e-05, elementwise_affine=True)\n",
              "        (attn): CausalSelfAttention(\n",
              "          (key): Linear(in_features=1024, out_features=1024, bias=True)\n",
              "          (query): Linear(in_features=1024, out_features=1024, bias=True)\n",
              "          (value): Linear(in_features=1024, out_features=1024, bias=True)\n",
              "          (attn_drop): Dropout(p=0.0, inplace=False)\n",
              "          (resid_drop): Dropout(p=0.0, inplace=False)\n",
              "          (proj): Linear(in_features=1024, out_features=1024, bias=True)\n",
              "        )\n",
              "        (mlp): Sequential(\n",
              "          (0): Linear(in_features=1024, out_features=4096, bias=True)\n",
              "          (1): GELU(approximate='none')\n",
              "          (2): Linear(in_features=4096, out_features=1024, bias=True)\n",
              "          (3): Dropout(p=0.0, inplace=False)\n",
              "        )\n",
              "      )\n",
              "      (1): Block(\n",
              "        (ln1): LayerNorm((1024,), eps=1e-05, elementwise_affine=True)\n",
              "        (ln2): LayerNorm((1024,), eps=1e-05, elementwise_affine=True)\n",
              "        (attn): CausalSelfAttention(\n",
              "          (key): Linear(in_features=1024, out_features=1024, bias=True)\n",
              "          (query): Linear(in_features=1024, out_features=1024, bias=True)\n",
              "          (value): Linear(in_features=1024, out_features=1024, bias=True)\n",
              "          (attn_drop): Dropout(p=0.0, inplace=False)\n",
              "          (resid_drop): Dropout(p=0.0, inplace=False)\n",
              "          (proj): Linear(in_features=1024, out_features=1024, bias=True)\n",
              "        )\n",
              "        (mlp): Sequential(\n",
              "          (0): Linear(in_features=1024, out_features=4096, bias=True)\n",
              "          (1): GELU(approximate='none')\n",
              "          (2): Linear(in_features=4096, out_features=1024, bias=True)\n",
              "          (3): Dropout(p=0.0, inplace=False)\n",
              "        )\n",
              "      )\n",
              "      (2): Block(\n",
              "        (ln1): LayerNorm((1024,), eps=1e-05, elementwise_affine=True)\n",
              "        (ln2): LayerNorm((1024,), eps=1e-05, elementwise_affine=True)\n",
              "        (attn): CausalSelfAttention(\n",
              "          (key): Linear(in_features=1024, out_features=1024, bias=True)\n",
              "          (query): Linear(in_features=1024, out_features=1024, bias=True)\n",
              "          (value): Linear(in_features=1024, out_features=1024, bias=True)\n",
              "          (attn_drop): Dropout(p=0.0, inplace=False)\n",
              "          (resid_drop): Dropout(p=0.0, inplace=False)\n",
              "          (proj): Linear(in_features=1024, out_features=1024, bias=True)\n",
              "        )\n",
              "        (mlp): Sequential(\n",
              "          (0): Linear(in_features=1024, out_features=4096, bias=True)\n",
              "          (1): GELU(approximate='none')\n",
              "          (2): Linear(in_features=4096, out_features=1024, bias=True)\n",
              "          (3): Dropout(p=0.0, inplace=False)\n",
              "        )\n",
              "      )\n",
              "      (3): Block(\n",
              "        (ln1): LayerNorm((1024,), eps=1e-05, elementwise_affine=True)\n",
              "        (ln2): LayerNorm((1024,), eps=1e-05, elementwise_affine=True)\n",
              "        (attn): CausalSelfAttention(\n",
              "          (key): Linear(in_features=1024, out_features=1024, bias=True)\n",
              "          (query): Linear(in_features=1024, out_features=1024, bias=True)\n",
              "          (value): Linear(in_features=1024, out_features=1024, bias=True)\n",
              "          (attn_drop): Dropout(p=0.0, inplace=False)\n",
              "          (resid_drop): Dropout(p=0.0, inplace=False)\n",
              "          (proj): Linear(in_features=1024, out_features=1024, bias=True)\n",
              "        )\n",
              "        (mlp): Sequential(\n",
              "          (0): Linear(in_features=1024, out_features=4096, bias=True)\n",
              "          (1): GELU(approximate='none')\n",
              "          (2): Linear(in_features=4096, out_features=1024, bias=True)\n",
              "          (3): Dropout(p=0.0, inplace=False)\n",
              "        )\n",
              "      )\n",
              "      (4): Block(\n",
              "        (ln1): LayerNorm((1024,), eps=1e-05, elementwise_affine=True)\n",
              "        (ln2): LayerNorm((1024,), eps=1e-05, elementwise_affine=True)\n",
              "        (attn): CausalSelfAttention(\n",
              "          (key): Linear(in_features=1024, out_features=1024, bias=True)\n",
              "          (query): Linear(in_features=1024, out_features=1024, bias=True)\n",
              "          (value): Linear(in_features=1024, out_features=1024, bias=True)\n",
              "          (attn_drop): Dropout(p=0.0, inplace=False)\n",
              "          (resid_drop): Dropout(p=0.0, inplace=False)\n",
              "          (proj): Linear(in_features=1024, out_features=1024, bias=True)\n",
              "        )\n",
              "        (mlp): Sequential(\n",
              "          (0): Linear(in_features=1024, out_features=4096, bias=True)\n",
              "          (1): GELU(approximate='none')\n",
              "          (2): Linear(in_features=4096, out_features=1024, bias=True)\n",
              "          (3): Dropout(p=0.0, inplace=False)\n",
              "        )\n",
              "      )\n",
              "      (5): Block(\n",
              "        (ln1): LayerNorm((1024,), eps=1e-05, elementwise_affine=True)\n",
              "        (ln2): LayerNorm((1024,), eps=1e-05, elementwise_affine=True)\n",
              "        (attn): CausalSelfAttention(\n",
              "          (key): Linear(in_features=1024, out_features=1024, bias=True)\n",
              "          (query): Linear(in_features=1024, out_features=1024, bias=True)\n",
              "          (value): Linear(in_features=1024, out_features=1024, bias=True)\n",
              "          (attn_drop): Dropout(p=0.0, inplace=False)\n",
              "          (resid_drop): Dropout(p=0.0, inplace=False)\n",
              "          (proj): Linear(in_features=1024, out_features=1024, bias=True)\n",
              "        )\n",
              "        (mlp): Sequential(\n",
              "          (0): Linear(in_features=1024, out_features=4096, bias=True)\n",
              "          (1): GELU(approximate='none')\n",
              "          (2): Linear(in_features=4096, out_features=1024, bias=True)\n",
              "          (3): Dropout(p=0.0, inplace=False)\n",
              "        )\n",
              "      )\n",
              "      (6): Block(\n",
              "        (ln1): LayerNorm((1024,), eps=1e-05, elementwise_affine=True)\n",
              "        (ln2): LayerNorm((1024,), eps=1e-05, elementwise_affine=True)\n",
              "        (attn): CausalSelfAttention(\n",
              "          (key): Linear(in_features=1024, out_features=1024, bias=True)\n",
              "          (query): Linear(in_features=1024, out_features=1024, bias=True)\n",
              "          (value): Linear(in_features=1024, out_features=1024, bias=True)\n",
              "          (attn_drop): Dropout(p=0.0, inplace=False)\n",
              "          (resid_drop): Dropout(p=0.0, inplace=False)\n",
              "          (proj): Linear(in_features=1024, out_features=1024, bias=True)\n",
              "        )\n",
              "        (mlp): Sequential(\n",
              "          (0): Linear(in_features=1024, out_features=4096, bias=True)\n",
              "          (1): GELU(approximate='none')\n",
              "          (2): Linear(in_features=4096, out_features=1024, bias=True)\n",
              "          (3): Dropout(p=0.0, inplace=False)\n",
              "        )\n",
              "      )\n",
              "      (7): Block(\n",
              "        (ln1): LayerNorm((1024,), eps=1e-05, elementwise_affine=True)\n",
              "        (ln2): LayerNorm((1024,), eps=1e-05, elementwise_affine=True)\n",
              "        (attn): CausalSelfAttention(\n",
              "          (key): Linear(in_features=1024, out_features=1024, bias=True)\n",
              "          (query): Linear(in_features=1024, out_features=1024, bias=True)\n",
              "          (value): Linear(in_features=1024, out_features=1024, bias=True)\n",
              "          (attn_drop): Dropout(p=0.0, inplace=False)\n",
              "          (resid_drop): Dropout(p=0.0, inplace=False)\n",
              "          (proj): Linear(in_features=1024, out_features=1024, bias=True)\n",
              "        )\n",
              "        (mlp): Sequential(\n",
              "          (0): Linear(in_features=1024, out_features=4096, bias=True)\n",
              "          (1): GELU(approximate='none')\n",
              "          (2): Linear(in_features=4096, out_features=1024, bias=True)\n",
              "          (3): Dropout(p=0.0, inplace=False)\n",
              "        )\n",
              "      )\n",
              "      (8): Block(\n",
              "        (ln1): LayerNorm((1024,), eps=1e-05, elementwise_affine=True)\n",
              "        (ln2): LayerNorm((1024,), eps=1e-05, elementwise_affine=True)\n",
              "        (attn): CausalSelfAttention(\n",
              "          (key): Linear(in_features=1024, out_features=1024, bias=True)\n",
              "          (query): Linear(in_features=1024, out_features=1024, bias=True)\n",
              "          (value): Linear(in_features=1024, out_features=1024, bias=True)\n",
              "          (attn_drop): Dropout(p=0.0, inplace=False)\n",
              "          (resid_drop): Dropout(p=0.0, inplace=False)\n",
              "          (proj): Linear(in_features=1024, out_features=1024, bias=True)\n",
              "        )\n",
              "        (mlp): Sequential(\n",
              "          (0): Linear(in_features=1024, out_features=4096, bias=True)\n",
              "          (1): GELU(approximate='none')\n",
              "          (2): Linear(in_features=4096, out_features=1024, bias=True)\n",
              "          (3): Dropout(p=0.0, inplace=False)\n",
              "        )\n",
              "      )\n",
              "      (9): Block(\n",
              "        (ln1): LayerNorm((1024,), eps=1e-05, elementwise_affine=True)\n",
              "        (ln2): LayerNorm((1024,), eps=1e-05, elementwise_affine=True)\n",
              "        (attn): CausalSelfAttention(\n",
              "          (key): Linear(in_features=1024, out_features=1024, bias=True)\n",
              "          (query): Linear(in_features=1024, out_features=1024, bias=True)\n",
              "          (value): Linear(in_features=1024, out_features=1024, bias=True)\n",
              "          (attn_drop): Dropout(p=0.0, inplace=False)\n",
              "          (resid_drop): Dropout(p=0.0, inplace=False)\n",
              "          (proj): Linear(in_features=1024, out_features=1024, bias=True)\n",
              "        )\n",
              "        (mlp): Sequential(\n",
              "          (0): Linear(in_features=1024, out_features=4096, bias=True)\n",
              "          (1): GELU(approximate='none')\n",
              "          (2): Linear(in_features=4096, out_features=1024, bias=True)\n",
              "          (3): Dropout(p=0.0, inplace=False)\n",
              "        )\n",
              "      )\n",
              "      (10): Block(\n",
              "        (ln1): LayerNorm((1024,), eps=1e-05, elementwise_affine=True)\n",
              "        (ln2): LayerNorm((1024,), eps=1e-05, elementwise_affine=True)\n",
              "        (attn): CausalSelfAttention(\n",
              "          (key): Linear(in_features=1024, out_features=1024, bias=True)\n",
              "          (query): Linear(in_features=1024, out_features=1024, bias=True)\n",
              "          (value): Linear(in_features=1024, out_features=1024, bias=True)\n",
              "          (attn_drop): Dropout(p=0.0, inplace=False)\n",
              "          (resid_drop): Dropout(p=0.0, inplace=False)\n",
              "          (proj): Linear(in_features=1024, out_features=1024, bias=True)\n",
              "        )\n",
              "        (mlp): Sequential(\n",
              "          (0): Linear(in_features=1024, out_features=4096, bias=True)\n",
              "          (1): GELU(approximate='none')\n",
              "          (2): Linear(in_features=4096, out_features=1024, bias=True)\n",
              "          (3): Dropout(p=0.0, inplace=False)\n",
              "        )\n",
              "      )\n",
              "      (11): Block(\n",
              "        (ln1): LayerNorm((1024,), eps=1e-05, elementwise_affine=True)\n",
              "        (ln2): LayerNorm((1024,), eps=1e-05, elementwise_affine=True)\n",
              "        (attn): CausalSelfAttention(\n",
              "          (key): Linear(in_features=1024, out_features=1024, bias=True)\n",
              "          (query): Linear(in_features=1024, out_features=1024, bias=True)\n",
              "          (value): Linear(in_features=1024, out_features=1024, bias=True)\n",
              "          (attn_drop): Dropout(p=0.0, inplace=False)\n",
              "          (resid_drop): Dropout(p=0.0, inplace=False)\n",
              "          (proj): Linear(in_features=1024, out_features=1024, bias=True)\n",
              "        )\n",
              "        (mlp): Sequential(\n",
              "          (0): Linear(in_features=1024, out_features=4096, bias=True)\n",
              "          (1): GELU(approximate='none')\n",
              "          (2): Linear(in_features=4096, out_features=1024, bias=True)\n",
              "          (3): Dropout(p=0.0, inplace=False)\n",
              "        )\n",
              "      )\n",
              "      (12): Block(\n",
              "        (ln1): LayerNorm((1024,), eps=1e-05, elementwise_affine=True)\n",
              "        (ln2): LayerNorm((1024,), eps=1e-05, elementwise_affine=True)\n",
              "        (attn): CausalSelfAttention(\n",
              "          (key): Linear(in_features=1024, out_features=1024, bias=True)\n",
              "          (query): Linear(in_features=1024, out_features=1024, bias=True)\n",
              "          (value): Linear(in_features=1024, out_features=1024, bias=True)\n",
              "          (attn_drop): Dropout(p=0.0, inplace=False)\n",
              "          (resid_drop): Dropout(p=0.0, inplace=False)\n",
              "          (proj): Linear(in_features=1024, out_features=1024, bias=True)\n",
              "        )\n",
              "        (mlp): Sequential(\n",
              "          (0): Linear(in_features=1024, out_features=4096, bias=True)\n",
              "          (1): GELU(approximate='none')\n",
              "          (2): Linear(in_features=4096, out_features=1024, bias=True)\n",
              "          (3): Dropout(p=0.0, inplace=False)\n",
              "        )\n",
              "      )\n",
              "      (13): Block(\n",
              "        (ln1): LayerNorm((1024,), eps=1e-05, elementwise_affine=True)\n",
              "        (ln2): LayerNorm((1024,), eps=1e-05, elementwise_affine=True)\n",
              "        (attn): CausalSelfAttention(\n",
              "          (key): Linear(in_features=1024, out_features=1024, bias=True)\n",
              "          (query): Linear(in_features=1024, out_features=1024, bias=True)\n",
              "          (value): Linear(in_features=1024, out_features=1024, bias=True)\n",
              "          (attn_drop): Dropout(p=0.0, inplace=False)\n",
              "          (resid_drop): Dropout(p=0.0, inplace=False)\n",
              "          (proj): Linear(in_features=1024, out_features=1024, bias=True)\n",
              "        )\n",
              "        (mlp): Sequential(\n",
              "          (0): Linear(in_features=1024, out_features=4096, bias=True)\n",
              "          (1): GELU(approximate='none')\n",
              "          (2): Linear(in_features=4096, out_features=1024, bias=True)\n",
              "          (3): Dropout(p=0.0, inplace=False)\n",
              "        )\n",
              "      )\n",
              "      (14): Block(\n",
              "        (ln1): LayerNorm((1024,), eps=1e-05, elementwise_affine=True)\n",
              "        (ln2): LayerNorm((1024,), eps=1e-05, elementwise_affine=True)\n",
              "        (attn): CausalSelfAttention(\n",
              "          (key): Linear(in_features=1024, out_features=1024, bias=True)\n",
              "          (query): Linear(in_features=1024, out_features=1024, bias=True)\n",
              "          (value): Linear(in_features=1024, out_features=1024, bias=True)\n",
              "          (attn_drop): Dropout(p=0.0, inplace=False)\n",
              "          (resid_drop): Dropout(p=0.0, inplace=False)\n",
              "          (proj): Linear(in_features=1024, out_features=1024, bias=True)\n",
              "        )\n",
              "        (mlp): Sequential(\n",
              "          (0): Linear(in_features=1024, out_features=4096, bias=True)\n",
              "          (1): GELU(approximate='none')\n",
              "          (2): Linear(in_features=4096, out_features=1024, bias=True)\n",
              "          (3): Dropout(p=0.0, inplace=False)\n",
              "        )\n",
              "      )\n",
              "      (15): Block(\n",
              "        (ln1): LayerNorm((1024,), eps=1e-05, elementwise_affine=True)\n",
              "        (ln2): LayerNorm((1024,), eps=1e-05, elementwise_affine=True)\n",
              "        (attn): CausalSelfAttention(\n",
              "          (key): Linear(in_features=1024, out_features=1024, bias=True)\n",
              "          (query): Linear(in_features=1024, out_features=1024, bias=True)\n",
              "          (value): Linear(in_features=1024, out_features=1024, bias=True)\n",
              "          (attn_drop): Dropout(p=0.0, inplace=False)\n",
              "          (resid_drop): Dropout(p=0.0, inplace=False)\n",
              "          (proj): Linear(in_features=1024, out_features=1024, bias=True)\n",
              "        )\n",
              "        (mlp): Sequential(\n",
              "          (0): Linear(in_features=1024, out_features=4096, bias=True)\n",
              "          (1): GELU(approximate='none')\n",
              "          (2): Linear(in_features=4096, out_features=1024, bias=True)\n",
              "          (3): Dropout(p=0.0, inplace=False)\n",
              "        )\n",
              "      )\n",
              "      (16): Block(\n",
              "        (ln1): LayerNorm((1024,), eps=1e-05, elementwise_affine=True)\n",
              "        (ln2): LayerNorm((1024,), eps=1e-05, elementwise_affine=True)\n",
              "        (attn): CausalSelfAttention(\n",
              "          (key): Linear(in_features=1024, out_features=1024, bias=True)\n",
              "          (query): Linear(in_features=1024, out_features=1024, bias=True)\n",
              "          (value): Linear(in_features=1024, out_features=1024, bias=True)\n",
              "          (attn_drop): Dropout(p=0.0, inplace=False)\n",
              "          (resid_drop): Dropout(p=0.0, inplace=False)\n",
              "          (proj): Linear(in_features=1024, out_features=1024, bias=True)\n",
              "        )\n",
              "        (mlp): Sequential(\n",
              "          (0): Linear(in_features=1024, out_features=4096, bias=True)\n",
              "          (1): GELU(approximate='none')\n",
              "          (2): Linear(in_features=4096, out_features=1024, bias=True)\n",
              "          (3): Dropout(p=0.0, inplace=False)\n",
              "        )\n",
              "      )\n",
              "      (17): Block(\n",
              "        (ln1): LayerNorm((1024,), eps=1e-05, elementwise_affine=True)\n",
              "        (ln2): LayerNorm((1024,), eps=1e-05, elementwise_affine=True)\n",
              "        (attn): CausalSelfAttention(\n",
              "          (key): Linear(in_features=1024, out_features=1024, bias=True)\n",
              "          (query): Linear(in_features=1024, out_features=1024, bias=True)\n",
              "          (value): Linear(in_features=1024, out_features=1024, bias=True)\n",
              "          (attn_drop): Dropout(p=0.0, inplace=False)\n",
              "          (resid_drop): Dropout(p=0.0, inplace=False)\n",
              "          (proj): Linear(in_features=1024, out_features=1024, bias=True)\n",
              "        )\n",
              "        (mlp): Sequential(\n",
              "          (0): Linear(in_features=1024, out_features=4096, bias=True)\n",
              "          (1): GELU(approximate='none')\n",
              "          (2): Linear(in_features=4096, out_features=1024, bias=True)\n",
              "          (3): Dropout(p=0.0, inplace=False)\n",
              "        )\n",
              "      )\n",
              "      (18): Block(\n",
              "        (ln1): LayerNorm((1024,), eps=1e-05, elementwise_affine=True)\n",
              "        (ln2): LayerNorm((1024,), eps=1e-05, elementwise_affine=True)\n",
              "        (attn): CausalSelfAttention(\n",
              "          (key): Linear(in_features=1024, out_features=1024, bias=True)\n",
              "          (query): Linear(in_features=1024, out_features=1024, bias=True)\n",
              "          (value): Linear(in_features=1024, out_features=1024, bias=True)\n",
              "          (attn_drop): Dropout(p=0.0, inplace=False)\n",
              "          (resid_drop): Dropout(p=0.0, inplace=False)\n",
              "          (proj): Linear(in_features=1024, out_features=1024, bias=True)\n",
              "        )\n",
              "        (mlp): Sequential(\n",
              "          (0): Linear(in_features=1024, out_features=4096, bias=True)\n",
              "          (1): GELU(approximate='none')\n",
              "          (2): Linear(in_features=4096, out_features=1024, bias=True)\n",
              "          (3): Dropout(p=0.0, inplace=False)\n",
              "        )\n",
              "      )\n",
              "      (19): Block(\n",
              "        (ln1): LayerNorm((1024,), eps=1e-05, elementwise_affine=True)\n",
              "        (ln2): LayerNorm((1024,), eps=1e-05, elementwise_affine=True)\n",
              "        (attn): CausalSelfAttention(\n",
              "          (key): Linear(in_features=1024, out_features=1024, bias=True)\n",
              "          (query): Linear(in_features=1024, out_features=1024, bias=True)\n",
              "          (value): Linear(in_features=1024, out_features=1024, bias=True)\n",
              "          (attn_drop): Dropout(p=0.0, inplace=False)\n",
              "          (resid_drop): Dropout(p=0.0, inplace=False)\n",
              "          (proj): Linear(in_features=1024, out_features=1024, bias=True)\n",
              "        )\n",
              "        (mlp): Sequential(\n",
              "          (0): Linear(in_features=1024, out_features=4096, bias=True)\n",
              "          (1): GELU(approximate='none')\n",
              "          (2): Linear(in_features=4096, out_features=1024, bias=True)\n",
              "          (3): Dropout(p=0.0, inplace=False)\n",
              "        )\n",
              "      )\n",
              "      (20): Block(\n",
              "        (ln1): LayerNorm((1024,), eps=1e-05, elementwise_affine=True)\n",
              "        (ln2): LayerNorm((1024,), eps=1e-05, elementwise_affine=True)\n",
              "        (attn): CausalSelfAttention(\n",
              "          (key): Linear(in_features=1024, out_features=1024, bias=True)\n",
              "          (query): Linear(in_features=1024, out_features=1024, bias=True)\n",
              "          (value): Linear(in_features=1024, out_features=1024, bias=True)\n",
              "          (attn_drop): Dropout(p=0.0, inplace=False)\n",
              "          (resid_drop): Dropout(p=0.0, inplace=False)\n",
              "          (proj): Linear(in_features=1024, out_features=1024, bias=True)\n",
              "        )\n",
              "        (mlp): Sequential(\n",
              "          (0): Linear(in_features=1024, out_features=4096, bias=True)\n",
              "          (1): GELU(approximate='none')\n",
              "          (2): Linear(in_features=4096, out_features=1024, bias=True)\n",
              "          (3): Dropout(p=0.0, inplace=False)\n",
              "        )\n",
              "      )\n",
              "      (21): Block(\n",
              "        (ln1): LayerNorm((1024,), eps=1e-05, elementwise_affine=True)\n",
              "        (ln2): LayerNorm((1024,), eps=1e-05, elementwise_affine=True)\n",
              "        (attn): CausalSelfAttention(\n",
              "          (key): Linear(in_features=1024, out_features=1024, bias=True)\n",
              "          (query): Linear(in_features=1024, out_features=1024, bias=True)\n",
              "          (value): Linear(in_features=1024, out_features=1024, bias=True)\n",
              "          (attn_drop): Dropout(p=0.0, inplace=False)\n",
              "          (resid_drop): Dropout(p=0.0, inplace=False)\n",
              "          (proj): Linear(in_features=1024, out_features=1024, bias=True)\n",
              "        )\n",
              "        (mlp): Sequential(\n",
              "          (0): Linear(in_features=1024, out_features=4096, bias=True)\n",
              "          (1): GELU(approximate='none')\n",
              "          (2): Linear(in_features=4096, out_features=1024, bias=True)\n",
              "          (3): Dropout(p=0.0, inplace=False)\n",
              "        )\n",
              "      )\n",
              "      (22): Block(\n",
              "        (ln1): LayerNorm((1024,), eps=1e-05, elementwise_affine=True)\n",
              "        (ln2): LayerNorm((1024,), eps=1e-05, elementwise_affine=True)\n",
              "        (attn): CausalSelfAttention(\n",
              "          (key): Linear(in_features=1024, out_features=1024, bias=True)\n",
              "          (query): Linear(in_features=1024, out_features=1024, bias=True)\n",
              "          (value): Linear(in_features=1024, out_features=1024, bias=True)\n",
              "          (attn_drop): Dropout(p=0.0, inplace=False)\n",
              "          (resid_drop): Dropout(p=0.0, inplace=False)\n",
              "          (proj): Linear(in_features=1024, out_features=1024, bias=True)\n",
              "        )\n",
              "        (mlp): Sequential(\n",
              "          (0): Linear(in_features=1024, out_features=4096, bias=True)\n",
              "          (1): GELU(approximate='none')\n",
              "          (2): Linear(in_features=4096, out_features=1024, bias=True)\n",
              "          (3): Dropout(p=0.0, inplace=False)\n",
              "        )\n",
              "      )\n",
              "      (23): Block(\n",
              "        (ln1): LayerNorm((1024,), eps=1e-05, elementwise_affine=True)\n",
              "        (ln2): LayerNorm((1024,), eps=1e-05, elementwise_affine=True)\n",
              "        (attn): CausalSelfAttention(\n",
              "          (key): Linear(in_features=1024, out_features=1024, bias=True)\n",
              "          (query): Linear(in_features=1024, out_features=1024, bias=True)\n",
              "          (value): Linear(in_features=1024, out_features=1024, bias=True)\n",
              "          (attn_drop): Dropout(p=0.0, inplace=False)\n",
              "          (resid_drop): Dropout(p=0.0, inplace=False)\n",
              "          (proj): Linear(in_features=1024, out_features=1024, bias=True)\n",
              "        )\n",
              "        (mlp): Sequential(\n",
              "          (0): Linear(in_features=1024, out_features=4096, bias=True)\n",
              "          (1): GELU(approximate='none')\n",
              "          (2): Linear(in_features=4096, out_features=1024, bias=True)\n",
              "          (3): Dropout(p=0.0, inplace=False)\n",
              "        )\n",
              "      )\n",
              "    )\n",
              "    (ln_f): LayerNorm((1024,), eps=1e-05, elementwise_affine=True)\n",
              "    (head): Sequential(\n",
              "      (0): Flatten(start_dim=1, end_dim=-1)\n",
              "      (1): Linear(in_features=262144, out_features=256, bias=True)\n",
              "      (2): ReLU()\n",
              "      (3): Dropout(p=0.1, inplace=False)\n",
              "      (4): Linear(in_features=256, out_features=64, bias=True)\n",
              "      (5): ReLU()\n",
              "      (6): Linear(in_features=64, out_features=7, bias=True)\n",
              "      (7): Softmax(dim=1)\n",
              "    )\n",
              "  )\n",
              ")"
            ]
          },
          "execution_count": 97,
          "metadata": {},
          "output_type": "execute_result"
        }
      ],
      "source": [
        "class modelTransformer(nn.Module):\n",
        "    def __init__(self, model_transformer):\n",
        "        super(modelTransformer, self).__init__()\n",
        "        self.transformer = model_transformer\n",
        "\n",
        "    def forward(self, index, labels):\n",
        "        logits,_  = self.transformer(index)\n",
        "        # outputs = self.transformer.ln_f(outputs)\n",
        "        # logits = self.new_head(outputs)  # Pass through the new head\n",
        "\n",
        "        loss = None\n",
        "        if labels is not None:\n",
        "            loss_fct = nn.CrossEntropyLoss()\n",
        "            loss = loss_fct(logits.view(-1, 7), labels.view(-1))\n",
        "            loss = Variable(loss, requires_grad = True)\n",
        "        \n",
        "        return loss, logits\n",
        "\n",
        "face_model = modelTransformer(model_transformer)\n",
        "face_model.to(DEVICE)"
      ]
    },
    {
      "cell_type": "code",
      "execution_count": null,
      "metadata": {
        "id": "qy3CFb7sEXvs"
      },
      "outputs": [],
      "source": [
        "for param in face_model.parameters():\n",
        "    param.requires_grad = False\n"
      ]
    },
    {
      "cell_type": "code",
      "execution_count": null,
      "metadata": {
        "id": "oXssiJPAFVW7"
      },
      "outputs": [],
      "source": [
        "for param in face_model.transformer.head.parameters():\n",
        "    param.requires_grad = True"
      ]
    },
    {
      "cell_type": "code",
      "execution_count": null,
      "metadata": {
        "colab": {
          "base_uri": "https://localhost:8080/"
        },
        "id": "PjbBLTHFEXvs",
        "outputId": "01b92299-7c66-46c8-ea4e-300a12db988c"
      },
      "outputs": [
        {
          "name": "stdout",
          "output_type": "stream",
          "text": [
            "transformer.head.1.weight: Trainable\n",
            "transformer.head.1.bias: Trainable\n",
            "transformer.head.4.weight: Trainable\n",
            "transformer.head.4.bias: Trainable\n",
            "transformer.head.6.weight: Trainable\n",
            "transformer.head.6.bias: Trainable\n"
          ]
        }
      ],
      "source": [
        "for name, param in face_model.named_parameters():\n",
        "  if param.requires_grad:\n",
        "    print(f\"{name}: {'Trainable' if param.requires_grad else 'Not trainable'}\")"
      ]
    },
    {
      "cell_type": "code",
      "execution_count": null,
      "metadata": {
        "id": "Y5nyEc-DHH64"
      },
      "outputs": [],
      "source": [
        "metric = load_metric(\"accuracy\")\n",
        "\n",
        "def compute_metrics(eval_pred):\n",
        "    logits, labels = eval_pred\n",
        "    predictions = np.argmax(logits, axis=-1)\n",
        "    return metric.compute(predictions=predictions, references=labels)\n",
        "\n",
        "trainer = Trainer(\n",
        "    model=face_model,\n",
        "    args=args,\n",
        "    train_dataset=preprocessed_train,\n",
        "    eval_dataset=preprocessed_val,\n",
        "    compute_metrics=compute_metrics,\n",
        ")\n",
        "\n",
        "trainer.train()"
      ]
    },
    {
      "cell_type": "code",
      "execution_count": null,
      "metadata": {
        "id": "PetfG5asKWBU"
      },
      "outputs": [],
      "source": []
    },
    {
      "cell_type": "markdown",
      "metadata": {
        "id": "x82_uJCirydJ"
      },
      "source": [
        "#Bert for test"
      ]
    },
    {
      "cell_type": "code",
      "execution_count": null,
      "metadata": {
        "id": "p3pud57-AGaX"
      },
      "outputs": [],
      "source": []
    },
    {
      "cell_type": "code",
      "execution_count": null,
      "metadata": {
        "colab": {
          "base_uri": "https://localhost:8080/"
        },
        "id": "6GgCrl7_AG1d",
        "outputId": "16e4265b-8640-494f-b6c0-f806a6b89296"
      },
      "outputs": [
        {
          "name": "stdout",
          "output_type": "stream",
          "text": [
            "Mounted at /content/drive\n"
          ]
        }
      ],
      "source": [
        "from google.colab import drive\n",
        "drive.mount('/content/drive')"
      ]
    },
    {
      "cell_type": "code",
      "execution_count": null,
      "metadata": {
        "id": "wM_-2aUX3h8R"
      },
      "outputs": [],
      "source": [
        "!cp '/content/drive/MyDrive/Colab Notebooks/LatentTransformer/preprocessed_val_ds_facehq_index.pickle' /content\n",
        "!cp '/content/drive/MyDrive/Colab Notebooks/LatentTransformer/preprocessed_test_ds_facehq_index.pickle' /content\n",
        "!cp '/content/drive/MyDrive/Colab Notebooks/LatentTransformer/preprocessed_train_ds_facehq_index.pickle' /content\n"
      ]
    },
    {
      "cell_type": "code",
      "execution_count": null,
      "metadata": {
        "colab": {
          "base_uri": "https://localhost:8080/"
        },
        "id": "jJPAB18nrzwM",
        "outputId": "b25a25d4-e334-4645-896b-0f2772c2a9e3"
      },
      "outputs": [
        {
          "name": "stdout",
          "output_type": "stream",
          "text": [
            "  Installing build dependencies ... \u001b[?25l\u001b[?25hdone\n",
            "  Getting requirements to build wheel ... \u001b[?25l\u001b[?25hdone\n",
            "  Preparing metadata (pyproject.toml) ... \u001b[?25l\u001b[?25hdone\n",
            "\u001b[2K     \u001b[90m━━━━━━━━━━━━━━━━━━━━━━━━━━━━━━━━━━━━━━━\u001b[0m \u001b[32m110.5/110.5 KB\u001b[0m \u001b[31m9.9 MB/s\u001b[0m eta \u001b[36m0:00:00\u001b[0m\n",
            "\u001b[2K     \u001b[90m━━━━━━━━━━━━━━━━━━━━━━━━━━━━━━━━━━━━━━\u001b[0m \u001b[32m199.8/199.8 KB\u001b[0m \u001b[31m24.0 MB/s\u001b[0m eta \u001b[36m0:00:00\u001b[0m\n",
            "\u001b[2K     \u001b[90m━━━━━━━━━━━━━━━━━━━━━━━━━━━━━━━━━━━━━━━━\u001b[0m \u001b[32m1.0/1.0 MB\u001b[0m \u001b[31m69.3 MB/s\u001b[0m eta \u001b[36m0:00:00\u001b[0m\n",
            "\u001b[2K     \u001b[90m━━━━━━━━━━━━━━━━━━━━━━━━━━━━━━━━━━━━━━\u001b[0m \u001b[32m212.2/212.2 KB\u001b[0m \u001b[31m29.9 MB/s\u001b[0m eta \u001b[36m0:00:00\u001b[0m\n",
            "\u001b[2K     \u001b[90m━━━━━━━━━━━━━━━━━━━━━━━━━━━━━━━━━━━━━━\u001b[0m \u001b[32m132.9/132.9 KB\u001b[0m \u001b[31m20.5 MB/s\u001b[0m eta \u001b[36m0:00:00\u001b[0m\n",
            "\u001b[2K     \u001b[90m━━━━━━━━━━━━━━━━━━━━━━━━━━━━━━━━━━━━━━\u001b[0m \u001b[32m114.2/114.2 KB\u001b[0m \u001b[31m18.2 MB/s\u001b[0m eta \u001b[36m0:00:00\u001b[0m\n",
            "\u001b[2K     \u001b[90m━━━━━━━━━━━━━━━━━━━━━━━━━━━━━━━━━━━━━━\u001b[0m \u001b[32m264.6/264.6 KB\u001b[0m \u001b[31m35.5 MB/s\u001b[0m eta \u001b[36m0:00:00\u001b[0m\n",
            "\u001b[2K     \u001b[90m━━━━━━━━━━━━━━━━━━━━━━━━━━━━━━━━━━━━━━\u001b[0m \u001b[32m158.8/158.8 KB\u001b[0m \u001b[31m22.8 MB/s\u001b[0m eta \u001b[36m0:00:00\u001b[0m\n",
            "\u001b[?25h  Building wheel for datasets (pyproject.toml) ... \u001b[?25l\u001b[?25hdone\n",
            "  Installing build dependencies ... \u001b[?25l\u001b[?25hdone\n",
            "  Getting requirements to build wheel ... \u001b[?25l\u001b[?25hdone\n",
            "  Preparing metadata (pyproject.toml) ... \u001b[?25l\u001b[?25hdone\n",
            "\u001b[2K     \u001b[90m━━━━━━━━━━━━━━━━━━━━━━━━━━━━━━━━━━━━━━━━\u001b[0m \u001b[32m7.6/7.6 MB\u001b[0m \u001b[31m83.8 MB/s\u001b[0m eta \u001b[36m0:00:00\u001b[0m\n",
            "\u001b[?25h  Building wheel for transformers (pyproject.toml) ... \u001b[?25l\u001b[?25hdone\n"
          ]
        }
      ],
      "source": [
        "\n",
        "\n",
        "!pip install -q git+https://github.com/huggingface/datasets\n",
        "!pip install -q git+https://github.com/huggingface/transformers\n",
        "\n",
        "from transformers import BertTokenizer, BertModel, BertConfig, TFBertModel\n",
        "# Then what you need from tensorflow.keras\n",
        "from tensorflow.keras.layers import Input, Dropout, Dense\n",
        "from tensorflow.keras.models import Model\n",
        "from tensorflow.keras.optimizers import Adam\n",
        "from tensorflow.keras.callbacks import EarlyStopping\n",
        "from tensorflow.keras.initializers import TruncatedNormal\n",
        "from tensorflow.keras.losses import CategoricalCrossentropy\n",
        "from tensorflow.keras.metrics import CategoricalAccuracy\n",
        "from tensorflow.keras.utils import to_categorical\n",
        "\n",
        "# And pandas for data import + sklearn because you allways need sklearn\n",
        "import pandas as pd\n",
        "from sklearn.model_selection import train_test_split\n",
        "import matplotlib.pyplot as plt\n",
        "from PIL import Image\n",
        "import numpy as np\n",
        "import sys\n",
        "import torch\n",
        "\n",
        "from datasets import *\n",
        "# from transformers import ViTFeatureExtractor\n",
        "# from transformers import ViTModel\n",
        "# from transformers import TrainingArguments, Trainer\n",
        "# from transformers.modeling_outputs import SequenceClassifierOutput\n",
        "import numpy as np\n",
        "import pandas as pd \n",
        "import torch.nn as nn\n",
        "import pickle\n",
        "from matplotlib import pyplot as plt\n",
        "%matplotlib inline \n",
        "import seaborn as sns\n",
        "from sklearn.metrics import confusion_matrix"
      ]
    },
    {
      "cell_type": "code",
      "execution_count": null,
      "metadata": {
        "id": "5_SedABzyB39"
      },
      "outputs": [],
      "source": [
        "\n",
        "with open('/content/preprocessed_val_ds_facehq_index.pickle', 'rb') as handle:\n",
        "    preprocessed_val = pickle.load(handle)\n",
        "\n",
        "with open('/content/preprocessed_test_ds_facehq_index.pickle', 'rb') as handle:\n",
        "    preprocessed_test = pickle.load(handle)\n",
        "\n",
        "with open('/content/preprocessed_train_ds_facehq_index.pickle', 'rb') as handle:\n",
        "    preprocessed_train = pickle.load(handle)\n",
        "\n",
        "preprocessed_val=preprocessed_val.remove_columns('img')\n",
        "preprocessed_test=preprocessed_test.remove_columns('img')\n",
        "preprocessed_train=preprocessed_train.remove_columns('img')"
      ]
    },
    {
      "cell_type": "code",
      "execution_count": null,
      "metadata": {
        "colab": {
          "base_uri": "https://localhost:8080/",
          "height": 252,
          "referenced_widgets": [
            "c9ab45ccdb1944028d6672b51da4e6f4",
            "25acca205cfe4f1e8840fb5a6a0cf5b3",
            "78bcc9507ba44f8eacf9883d0cb45664",
            "a69457dae3ed40789b86f1edc478c854",
            "c1bdfde4b63a402293bb71478eb8c2c5",
            "691555224f6245c9af0ff0b8f79d1193",
            "1c916059b7be461da597c2f0e2340994",
            "396ec7cd9d994d1a8b5971157b11d615",
            "4944ebcedec84fbfbf25d3f622d33f1b",
            "fc3123252593411f81159105dbadcc59",
            "2c13b234bf354b52855a258de590d756",
            "475d843cdb574a26a9dcc404a0ce2a45",
            "3994caac3d954282bdbc3a32dddd1605",
            "8dbd6337b1cc4e8f975ec6589c2afdba",
            "d5025cafda74454e8d5c91b9cdb2afe5",
            "88ff8fa782cd439db58d86d2c0d0d3a0",
            "a8a8abcb1f0d4009a25d5aef8f72298b",
            "4499b80a8b3e4a3789fa109faf24762c",
            "d871e07ee3fe4feab3daee1f1fb43d76",
            "5a44807b1eed46e19e09de9b24f31648",
            "7dd632bcb612469a8e2fbf549c16b95c",
            "d252d532cb3641e49c66cbb686edcb1c",
            "7ed6052f9c78488c902ba89bd25fcf2b",
            "fc4cd581674d4fb98a565cc93e3a3a8b",
            "3e0de0b4d83f481f813230932abad951",
            "19f3d6e80f284b148e2b0db31d89ce4b",
            "dda595b63a8f4bc39e6d6e0179bb196d",
            "04972ecacd814384b5562d518ed89767",
            "54d6ce5c208b44bcaab48c34b731fec6",
            "2a006aec7dd446909cbc2f2ec37b925c",
            "7de400533b1844b8b3ea10032c778e1c",
            "e16626e7f74543eaabca8f0c4ecdd7b1",
            "5875544ec5dc4ec38fae8d33803e5bc9",
            "cf2b223ab3b84b4f94e95e1e21cba3c7",
            "8494f72cb2324bd486a97e62250aca6f",
            "ab35189b3e5a4c8abb6f97b3fc1c4e11",
            "0f56ff4202ee43499b30ed2d6dcffe18",
            "dfab22017a954b5782d0ee67677334ea",
            "270d4b86fc014b139782cadb1072fa8a",
            "97cffd71d21646249d93d565e59bc569",
            "009fe13b40164ed1b99fb6a3d8a99afc",
            "8d4c60eff6474e178ebbc8bdc8a14cf2",
            "939d873ad35c480187347bfd57bb02c2",
            "78c6ccb68598457491624d928b7c7d06"
          ]
        },
        "id": "tmrR6Rh0tF8Q",
        "outputId": "35b274e1-6f9e-44b9-c95b-ff39d50e0f1b"
      },
      "outputs": [
        {
          "data": {
            "application/vnd.jupyter.widget-view+json": {
              "model_id": "c9ab45ccdb1944028d6672b51da4e6f4",
              "version_major": 2,
              "version_minor": 0
            },
            "text/plain": [
              "Downloading (…)lve/main/config.json:   0%|          | 0.00/570 [00:00<?, ?B/s]"
            ]
          },
          "metadata": {},
          "output_type": "display_data"
        },
        {
          "data": {
            "application/vnd.jupyter.widget-view+json": {
              "model_id": "475d843cdb574a26a9dcc404a0ce2a45",
              "version_major": 2,
              "version_minor": 0
            },
            "text/plain": [
              "Downloading (…)solve/main/vocab.txt:   0%|          | 0.00/232k [00:00<?, ?B/s]"
            ]
          },
          "metadata": {},
          "output_type": "display_data"
        },
        {
          "data": {
            "application/vnd.jupyter.widget-view+json": {
              "model_id": "7ed6052f9c78488c902ba89bd25fcf2b",
              "version_major": 2,
              "version_minor": 0
            },
            "text/plain": [
              "Downloading (…)okenizer_config.json:   0%|          | 0.00/28.0 [00:00<?, ?B/s]"
            ]
          },
          "metadata": {},
          "output_type": "display_data"
        },
        {
          "data": {
            "application/vnd.jupyter.widget-view+json": {
              "model_id": "cf2b223ab3b84b4f94e95e1e21cba3c7",
              "version_major": 2,
              "version_minor": 0
            },
            "text/plain": [
              "Downloading tf_model.h5:   0%|          | 0.00/536M [00:00<?, ?B/s]"
            ]
          },
          "metadata": {},
          "output_type": "display_data"
        },
        {
          "name": "stderr",
          "output_type": "stream",
          "text": [
            "Some layers from the model checkpoint at bert-base-uncased were not used when initializing TFBertModel: ['mlm___cls', 'nsp___cls']\n",
            "- This IS expected if you are initializing TFBertModel from the checkpoint of a model trained on another task or with another architecture (e.g. initializing a BertForSequenceClassification model from a BertForPreTraining model).\n",
            "- This IS NOT expected if you are initializing TFBertModel from the checkpoint of a model that you expect to be exactly identical (initializing a BertForSequenceClassification model from a BertForSequenceClassification model).\n",
            "All the layers of TFBertModel were initialized from the model checkpoint at bert-base-uncased.\n",
            "If your task is similar to the task the model of the checkpoint was trained on, you can already use TFBertModel for predictions without further training.\n"
          ]
        }
      ],
      "source": [
        "# Name of the BERT model to use\n",
        "model_name = 'bert-base-uncased'\n",
        "# Max length of tokens\n",
        "max_length = 256\n",
        "# Load transformers config and set output_hidden_states to False\n",
        "config = BertConfig.from_pretrained(model_name)\n",
        "config.output_hidden_states = False\n",
        "# Load BERT tokenizer\n",
        "tokenizer = BertTokenizer.from_pretrained(pretrained_model_name_or_path = model_name, config = config)\n",
        "# Load the Transformers BERT model\n",
        "transformer_model = TFBertModel.from_pretrained(model_name, config = config)"
      ]
    },
    {
      "cell_type": "code",
      "execution_count": null,
      "metadata": {
        "colab": {
          "base_uri": "https://localhost:8080/"
        },
        "id": "Hjs_PafntV0c",
        "outputId": "c0b3066f-9ff9-4560-d741-7674a54036b1"
      },
      "outputs": [
        {
          "name": "stdout",
          "output_type": "stream",
          "text": [
            "Model: \"BERT_MultiLabel_MultiClass\"\n",
            "_________________________________________________________________\n",
            " Layer (type)                Output Shape              Param #   \n",
            "=================================================================\n",
            " index (InputLayer)          [(None, 256)]             0         \n",
            "                                                                 \n",
            " bert (TFBertMainLayer)      TFBaseModelOutputWithPoo  109482240 \n",
            "                             lingAndCrossAttentions(l            \n",
            "                             ast_hidden_state=(None,             \n",
            "                             256, 768),                          \n",
            "                              pooler_output=(None, 76            \n",
            "                             8),                                 \n",
            "                              past_key_values=None, h            \n",
            "                             idden_states=None, atten            \n",
            "                             tions=None, cross_attent            \n",
            "                             ions=None)                          \n",
            "                                                                 \n",
            " pooled_output (Dropout)     (None, 768)               0         \n",
            "                                                                 \n",
            " label (Dense)               (None, 7)                 5383      \n",
            "                                                                 \n",
            "=================================================================\n",
            "Total params: 109,487,623\n",
            "Trainable params: 109,487,623\n",
            "Non-trainable params: 0\n",
            "_________________________________________________________________\n"
          ]
        }
      ],
      "source": [
        "# Load the MainLayer\n",
        "bert = transformer_model.layers[0]\n",
        "# Build your model input\n",
        "input_ids = Input(shape=(max_length,), name='index', dtype='int64')\n",
        "# inputs = {'index': input_ids}\n",
        "# Load the Transformers BERT model as a layer in a Keras model\n",
        "bert_model = bert(input_ids)[1]\n",
        "dropout = Dropout(config.hidden_dropout_prob, name='pooled_output')\n",
        "pooled_output = dropout(bert_model, training=False)\n",
        "# Then build your model output\n",
        "label = Dense(units=7, kernel_initializer=TruncatedNormal(stddev=config.initializer_range), name='label')(pooled_output)\n",
        "\n",
        "# And combine it all in a model object\n",
        "model = Model(inputs=input_ids, outputs=label, name='BERT_MultiLabel_MultiClass')\n",
        "# Take a look at the model\n",
        "model.summary()"
      ]
    },
    {
      "cell_type": "code",
      "execution_count": null,
      "metadata": {
        "id": "VITWkH9GwNQl"
      },
      "outputs": [],
      "source": [
        "import tensorflow as tf\n"
      ]
    },
    {
      "cell_type": "code",
      "execution_count": null,
      "metadata": {
        "id": "uoE8E-iwuBmE"
      },
      "outputs": [],
      "source": [
        "### ------- Train the model ------- ###\n",
        "# Set an optimizer\n",
        "optimizer = tf.keras.optimizers.experimental.AdamW(\n",
        "    learning_rate=5e-06,\n",
        "    weight_decay = 0.01,\n",
        "    epsilon=1e-08,\n",
        "    clipnorm=1.0)\n",
        "# Set loss and metrics\n",
        "loss = {'label': CategoricalCrossentropy(from_logits = True)}\n",
        "metric = {'label': CategoricalAccuracy('accuracy')}\n",
        "# Compile the model\n",
        "model.compile(\n",
        "    optimizer = optimizer,\n",
        "    loss = loss, \n",
        "    metrics = metric)\n",
        "\n"
      ]
    },
    {
      "cell_type": "code",
      "execution_count": null,
      "metadata": {
        "id": "1DDCGhU8uPew"
      },
      "outputs": [],
      "source": [
        "from transformers.models import xglm\n",
        "# Ready output data for the model\n",
        "y = to_categorical(preprocessed_train['label'])\n",
        "\n",
        "x = np.array(preprocessed_train['index'])\n",
        "x = x.reshape(-1, 256)\n",
        "\n",
        "\n",
        "# y_val = to_categorical(preprocessed_val['label'])\n",
        "\n",
        "# x_val = np.array(preprocessed_val['index'])\n",
        "# x_val = x.reshape(-1, 256)"
      ]
    },
    {
      "cell_type": "code",
      "execution_count": null,
      "metadata": {
        "colab": {
          "base_uri": "https://localhost:8080/"
        },
        "id": "WWx5sJGGu5lH",
        "outputId": "d829ba4c-994c-4cfc-ffe0-a14825e36238"
      },
      "outputs": [
        {
          "name": "stdout",
          "output_type": "stream",
          "text": [
            "Epoch 1/6\n",
            "718/718 [==============================] - 210s 223ms/step - loss: 1.7917 - accuracy: 0.2513 - val_loss: 1.7846 - val_accuracy: 0.2541\n",
            "Epoch 2/6\n",
            "718/718 [==============================] - 157s 218ms/step - loss: 1.7831 - accuracy: 0.2550 - val_loss: 1.7776 - val_accuracy: 0.2567\n",
            "Epoch 3/6\n",
            "718/718 [==============================] - 156s 218ms/step - loss: 1.7796 - accuracy: 0.2561 - val_loss: 1.7789 - val_accuracy: 0.2614\n",
            "Epoch 4/6\n",
            "718/718 [==============================] - 157s 219ms/step - loss: 1.7752 - accuracy: 0.2598 - val_loss: 1.7817 - val_accuracy: 0.2557\n",
            "Epoch 5/6\n",
            "718/718 [==============================] - 158s 220ms/step - loss: 1.7716 - accuracy: 0.2603 - val_loss: 1.7722 - val_accuracy: 0.2640\n",
            "Epoch 6/6\n",
            "718/718 [==============================] - 158s 220ms/step - loss: 1.7686 - accuracy: 0.2636 - val_loss: 1.7719 - val_accuracy: 0.2689\n"
          ]
        }
      ],
      "source": [
        "\n",
        "hist = model.fit(\n",
        "    x,\n",
        "    y,\n",
        "    validation_split=0.2,\n",
        "    batch_size=32,\n",
        "    epochs=6, \n",
        "    verbose=1)"
      ]
    },
    {
      "cell_type": "code",
      "execution_count": null,
      "metadata": {
        "colab": {
          "base_uri": "https://localhost:8080/"
        },
        "id": "XnjSF-MwGEca",
        "outputId": "b8ae49d0-cd1f-4aae-ad2f-03afe522657f"
      },
      "outputs": [
        {
          "name": "stdout",
          "output_type": "stream",
          "text": [
            "Epoch 1/15\n",
            "718/718 [==============================] - 158s 220ms/step - loss: 1.7657 - accuracy: 0.2664 - val_loss: 1.7665 - val_accuracy: 0.2689\n",
            "Epoch 2/15\n",
            "718/718 [==============================] - 157s 218ms/step - loss: 1.7610 - accuracy: 0.2705 - val_loss: 1.7660 - val_accuracy: 0.2726\n",
            "Epoch 3/15\n",
            "718/718 [==============================] - 157s 219ms/step - loss: 1.7568 - accuracy: 0.2746 - val_loss: 1.7700 - val_accuracy: 0.2687\n",
            "Epoch 4/15\n",
            "718/718 [==============================] - 157s 218ms/step - loss: 1.7526 - accuracy: 0.2769 - val_loss: 1.7624 - val_accuracy: 0.2696\n",
            "Epoch 5/15\n",
            "718/718 [==============================] - 158s 220ms/step - loss: 1.7489 - accuracy: 0.2767 - val_loss: 1.7613 - val_accuracy: 0.2752\n",
            "Epoch 6/15\n",
            "718/718 [==============================] - 158s 220ms/step - loss: 1.7459 - accuracy: 0.2804 - val_loss: 1.7554 - val_accuracy: 0.2736\n",
            "Epoch 7/15\n",
            "718/718 [==============================] - 157s 219ms/step - loss: 1.7447 - accuracy: 0.2819 - val_loss: 1.7504 - val_accuracy: 0.2825\n",
            "Epoch 8/15\n",
            "718/718 [==============================] - 158s 220ms/step - loss: 1.7352 - accuracy: 0.2851 - val_loss: 1.7501 - val_accuracy: 0.2797\n",
            "Epoch 9/15\n",
            "718/718 [==============================] - 158s 220ms/step - loss: 1.7341 - accuracy: 0.2869 - val_loss: 1.7478 - val_accuracy: 0.2854\n",
            "Epoch 10/15\n",
            "718/718 [==============================] - 158s 220ms/step - loss: 1.7291 - accuracy: 0.2872 - val_loss: 1.7439 - val_accuracy: 0.2870\n",
            "Epoch 11/15\n",
            "718/718 [==============================] - 158s 220ms/step - loss: 1.7260 - accuracy: 0.2882 - val_loss: 1.7616 - val_accuracy: 0.2861\n",
            "Epoch 12/15\n",
            "718/718 [==============================] - 157s 219ms/step - loss: 1.7238 - accuracy: 0.2904 - val_loss: 1.7458 - val_accuracy: 0.2894\n",
            "Epoch 13/15\n",
            "718/718 [==============================] - 157s 218ms/step - loss: 1.7170 - accuracy: 0.2957 - val_loss: 1.7414 - val_accuracy: 0.2950\n",
            "Epoch 14/15\n",
            "718/718 [==============================] - 157s 218ms/step - loss: 1.7110 - accuracy: 0.2987 - val_loss: 1.7416 - val_accuracy: 0.2905\n",
            "Epoch 15/15\n",
            "718/718 [==============================] - 157s 218ms/step - loss: 1.7059 - accuracy: 0.3034 - val_loss: 1.7409 - val_accuracy: 0.2966\n"
          ]
        }
      ],
      "source": [
        "\n",
        "hist = model.fit(\n",
        "    x,\n",
        "    y,\n",
        "    validation_split=0.2,\n",
        "    batch_size=32,\n",
        "    epochs=15, \n",
        "    verbose=1)"
      ]
    },
    {
      "cell_type": "code",
      "execution_count": null,
      "metadata": {
        "colab": {
          "base_uri": "https://localhost:8080/"
        },
        "id": "07w3FKIKcgQG",
        "outputId": "63a5b888-4960-4e2e-f0f2-6cb38dc9d405"
      },
      "outputs": [
        {
          "name": "stdout",
          "output_type": "stream",
          "text": [
            "Epoch 1/15\n",
            "718/718 [==============================] - 156s 218ms/step - loss: 1.6963 - accuracy: 0.3045 - val_loss: 1.7229 - val_accuracy: 0.3048\n",
            "Epoch 2/15\n",
            "718/718 [==============================] - 156s 218ms/step - loss: 1.6859 - accuracy: 0.3159 - val_loss: 1.7171 - val_accuracy: 0.3063\n",
            "Epoch 3/15\n",
            "718/718 [==============================] - 157s 218ms/step - loss: 1.6756 - accuracy: 0.3223 - val_loss: 1.6997 - val_accuracy: 0.3133\n",
            "Epoch 4/15\n",
            "718/718 [==============================] - 156s 218ms/step - loss: 1.6623 - accuracy: 0.3275 - val_loss: 1.6912 - val_accuracy: 0.3292\n",
            "Epoch 5/15\n",
            "718/718 [==============================] - 156s 218ms/step - loss: 1.6476 - accuracy: 0.3420 - val_loss: 1.6664 - val_accuracy: 0.3300\n",
            "Epoch 6/15\n",
            "718/718 [==============================] - 156s 218ms/step - loss: 1.6336 - accuracy: 0.3466 - val_loss: 1.6682 - val_accuracy: 0.3420\n",
            "Epoch 7/15\n",
            "718/718 [==============================] - 156s 218ms/step - loss: 1.6182 - accuracy: 0.3546 - val_loss: 1.7057 - val_accuracy: 0.3400\n",
            "Epoch 8/15\n",
            "718/718 [==============================] - 156s 218ms/step - loss: 1.5998 - accuracy: 0.3684 - val_loss: 1.7174 - val_accuracy: 0.3412\n",
            "Epoch 9/15\n",
            "718/718 [==============================] - 156s 218ms/step - loss: 1.5831 - accuracy: 0.3756 - val_loss: 1.6835 - val_accuracy: 0.3466\n",
            "Epoch 10/15\n",
            "718/718 [==============================] - 156s 218ms/step - loss: 1.5704 - accuracy: 0.3834 - val_loss: 1.6415 - val_accuracy: 0.3689\n",
            "Epoch 11/15\n",
            "718/718 [==============================] - 156s 218ms/step - loss: 1.5544 - accuracy: 0.3936 - val_loss: 1.6107 - val_accuracy: 0.3732\n",
            "Epoch 12/15\n",
            "718/718 [==============================] - 156s 218ms/step - loss: 1.5367 - accuracy: 0.4012 - val_loss: 1.6151 - val_accuracy: 0.3790\n",
            "Epoch 13/15\n",
            "718/718 [==============================] - 156s 218ms/step - loss: 1.5223 - accuracy: 0.4100 - val_loss: 1.6645 - val_accuracy: 0.3793\n",
            "Epoch 14/15\n",
            "718/718 [==============================] - 156s 218ms/step - loss: 1.5122 - accuracy: 0.4159 - val_loss: 1.6231 - val_accuracy: 0.3870\n",
            "Epoch 15/15\n",
            "718/718 [==============================] - 156s 218ms/step - loss: 1.4993 - accuracy: 0.4179 - val_loss: 1.6210 - val_accuracy: 0.3837\n"
          ]
        }
      ],
      "source": [
        "\n",
        "hist = model.fit(\n",
        "    x,\n",
        "    y,\n",
        "    validation_split=0.2,\n",
        "    batch_size=32,\n",
        "    epochs=15, \n",
        "    verbose=1)"
      ]
    },
    {
      "cell_type": "code",
      "execution_count": null,
      "metadata": {
        "id": "KP940OEkjqwc"
      },
      "outputs": [],
      "source": [
        "model.save('BERT.h5')\n"
      ]
    },
    {
      "cell_type": "code",
      "execution_count": null,
      "metadata": {
        "id": "2vXx73XArN3G"
      },
      "outputs": [],
      "source": [
        "!cp '/content/BERT.h5' '/content/drive/MyDrive/Colab Notebooks/LatentTransformer/BERT/'"
      ]
    },
    {
      "cell_type": "code",
      "execution_count": null,
      "metadata": {
        "colab": {
          "base_uri": "https://localhost:8080/"
        },
        "id": "EUuPt2m1we14",
        "outputId": "905776ad-cbc1-42a7-fc5b-d0b65fed36dc"
      },
      "outputs": [
        {
          "name": "stdout",
          "output_type": "stream",
          "text": [
            "{'loss': [1.696305274963379, 1.6859034299850464, 1.6755746603012085, 1.662286639213562, 1.6475523710250854, 1.6335561275482178, 1.6182265281677246, 1.5998125076293945, 1.5830574035644531, 1.5704081058502197, 1.5543922185897827, 1.5367472171783447, 1.5222845077514648, 1.5122233629226685, 1.4993044137954712], 'accuracy': [0.30448034405708313, 0.31588801741600037, 0.32228851318359375, 0.3274698555469513, 0.34196892380714417, 0.34662777185440063, 0.35455217957496643, 0.36835458874702454, 0.37558236718177795, 0.3833761513233185, 0.3936082124710083, 0.4012278616428375, 0.4100230634212494, 0.4159446060657501, 0.41790395975112915], 'val_loss': [1.7229328155517578, 1.7170705795288086, 1.6996718645095825, 1.691162347793579, 1.6664109230041504, 1.6682058572769165, 1.7056617736816406, 1.717370867729187, 1.6835227012634277, 1.641510009765625, 1.6107310056686401, 1.6150884628295898, 1.6645325422286987, 1.6231123208999634, 1.6209826469421387], 'val_accuracy': [0.30477187037467957, 0.3063392639160156, 0.31330546736717224, 0.3291535973548889, 0.330024391412735, 0.34204110503196716, 0.3399512469768524, 0.3411703109741211, 0.34656915068626404, 0.36886101961135864, 0.3732149004936218, 0.37896203994750977, 0.37931033968925476, 0.38697317242622375, 0.38366422057151794]}\n"
          ]
        }
      ],
      "source": [
        "print(hist.history)"
      ]
    },
    {
      "cell_type": "code",
      "execution_count": null,
      "metadata": {
        "colab": {
          "base_uri": "https://localhost:8080/",
          "height": 295
        },
        "id": "zX56tpcQuTsY",
        "outputId": "6b66956f-c798-4940-c7eb-925c2b930ddd"
      },
      "outputs": [
        {
          "data": {
            "image/png": "[encoded data removed]",
            "text/plain": [
              "<Figure size 432x288 with 1 Axes>"
            ]
          },
          "metadata": {
            "needs_background": "light"
          },
          "output_type": "display_data"
        }
      ],
      "source": [
        "plt.plot(hist.history['accuracy'])\n",
        "plt.plot(hist.history['val_accuracy'])\n",
        "plt.title('model accuracy')\n",
        "plt.ylabel('accuracy')\n",
        "plt.xlabel('epoch')\n",
        "plt.legend(['train', 'val'], loc='upper left')\n",
        "plt.show()"
      ]
    },
    {
      "cell_type": "code",
      "execution_count": null,
      "metadata": {
        "id": "3TGAKKETdMey"
      },
      "outputs": [],
      "source": [
        "# ### ------- Train the model ------- ###\n",
        "# # Set an optimizer\n",
        "# optimizer = tf.keras.optimizers.experimental.AdamW(\n",
        "#     learning_rate=5e-06,\n",
        "#     weight_decay = 0.01,\n",
        "#     epsilon=1e-08,\n",
        "#     clipnorm=1.0)\n",
        "# # Set loss and metrics\n",
        "# loss = {'label': CategoricalCrossentropy(from_logits = True)}\n",
        "# metric = {'label': CategoricalAccuracy('accuracy')}"
      ]
    },
    {
      "cell_type": "code",
      "execution_count": null,
      "metadata": {
        "id": "b-FqXgredQLF"
      },
      "outputs": [],
      "source": [
        "# Ready output data for the model\n",
        "y = to_categorical(preprocessed_train['label'])\n",
        "\n",
        "x = np.array(preprocessed_train['index'])\n",
        "x = x.reshape(-1, 256)"
      ]
    },
    {
      "cell_type": "code",
      "execution_count": null,
      "metadata": {
        "id": "TPVqK775c1qg"
      },
      "outputs": [],
      "source": [
        "!mkdir checkpoint"
      ]
    },
    {
      "cell_type": "code",
      "execution_count": null,
      "metadata": {
        "id": "jBY35SoldYLm"
      },
      "outputs": [],
      "source": [
        "from tensorflow import keras\n"
      ]
    },
    {
      "cell_type": "code",
      "execution_count": null,
      "metadata": {
        "id": "PQXIVscwcPLw"
      },
      "outputs": [],
      "source": [
        "model = keras.models.load_model('/content/drive/MyDrive/Colab Notebooks/LatentTransformer/BERT/BERT.h5')"
      ]
    },
    {
      "cell_type": "code",
      "execution_count": null,
      "metadata": {
        "id": "Siv5lEm0_5C3"
      },
      "outputs": [],
      "source": [
        "EPOCHS = 30\n",
        "checkpoint_filepath = '/content/checkpoint/mymodel_{epoch}.h5'\n",
        "model_checkpoint_callback = keras.callbacks.ModelCheckpoint(\n",
        "    filepath=checkpoint_filepath,\n",
        "    save_weights_only=True,\n",
        "    monitor='val_accuracy',\n",
        "    mode='max',\n",
        "    save_best_only=True)\n",
        "\n"
      ]
    },
    {
      "cell_type": "code",
      "execution_count": null,
      "metadata": {
        "colab": {
          "base_uri": "https://localhost:8080/"
        },
        "id": "emipNxBydn8P",
        "outputId": "2bdc20f0-6664-4c2a-b811-201bbe477da6"
      },
      "outputs": [
        {
          "name": "stdout",
          "output_type": "stream",
          "text": [
            "Epoch 1/30\n",
            "718/718 [==============================] - 160s 223ms/step - loss: 1.4798 - accuracy: 0.4331 - val_loss: 1.5791 - val_accuracy: 0.3988\n",
            "Epoch 2/30\n",
            "718/718 [==============================] - 159s 222ms/step - loss: 1.4636 - accuracy: 0.4382 - val_loss: 1.5998 - val_accuracy: 0.3929\n",
            "Epoch 3/30\n",
            "718/718 [==============================] - 159s 222ms/step - loss: 1.4503 - accuracy: 0.4449 - val_loss: 1.6435 - val_accuracy: 0.3978\n",
            "Epoch 4/30\n",
            "718/718 [==============================] - 160s 223ms/step - loss: 1.4378 - accuracy: 0.4509 - val_loss: 1.5653 - val_accuracy: 0.4070\n",
            "Epoch 5/30\n",
            "718/718 [==============================] - 159s 222ms/step - loss: 1.4254 - accuracy: 0.4538 - val_loss: 1.5746 - val_accuracy: 0.4011\n",
            "Epoch 6/30\n",
            "718/718 [==============================] - 159s 222ms/step - loss: 1.4140 - accuracy: 0.4621 - val_loss: 1.6293 - val_accuracy: 0.3960\n",
            "Epoch 7/30\n",
            "718/718 [==============================] - 159s 222ms/step - loss: 1.3943 - accuracy: 0.4712 - val_loss: 1.6449 - val_accuracy: 0.4025\n",
            "Epoch 8/30\n",
            "718/718 [==============================] - 160s 223ms/step - loss: 1.3825 - accuracy: 0.4760 - val_loss: 1.5816 - val_accuracy: 0.4136\n",
            "Epoch 9/30\n",
            "718/718 [==============================] - 160s 223ms/step - loss: 1.3643 - accuracy: 0.4844 - val_loss: 1.5827 - val_accuracy: 0.4183\n",
            "Epoch 10/30\n",
            "718/718 [==============================] - 159s 222ms/step - loss: 1.3484 - accuracy: 0.4878 - val_loss: 1.6331 - val_accuracy: 0.4141\n",
            "Epoch 11/30\n",
            "718/718 [==============================] - 159s 222ms/step - loss: 1.3332 - accuracy: 0.4964 - val_loss: 1.6372 - val_accuracy: 0.4171\n",
            "Epoch 12/30\n",
            "718/718 [==============================] - 159s 222ms/step - loss: 1.3157 - accuracy: 0.5027 - val_loss: 1.6223 - val_accuracy: 0.4150\n",
            "Epoch 13/30\n",
            "718/718 [==============================] - 159s 222ms/step - loss: 1.2967 - accuracy: 0.5116 - val_loss: 1.7212 - val_accuracy: 0.4164\n",
            "Epoch 14/30\n",
            "718/718 [==============================] - 160s 223ms/step - loss: 1.2816 - accuracy: 0.5178 - val_loss: 1.5849 - val_accuracy: 0.4277\n",
            "Epoch 15/30\n",
            "718/718 [==============================] - 159s 222ms/step - loss: 1.2639 - accuracy: 0.5229 - val_loss: 1.6541 - val_accuracy: 0.4133\n",
            "Epoch 16/30\n",
            "718/718 [==============================] - 159s 222ms/step - loss: 1.2481 - accuracy: 0.5307 - val_loss: 1.6002 - val_accuracy: 0.4276\n",
            "Epoch 17/30\n",
            "718/718 [==============================] - 159s 222ms/step - loss: 1.2249 - accuracy: 0.5386 - val_loss: 1.6136 - val_accuracy: 0.4263\n",
            "Epoch 18/30\n",
            "718/718 [==============================] - 160s 223ms/step - loss: 1.2012 - accuracy: 0.5478 - val_loss: 1.6409 - val_accuracy: 0.4288\n",
            "Epoch 19/30\n",
            "718/718 [==============================] - 159s 222ms/step - loss: 1.1889 - accuracy: 0.5518 - val_loss: 1.6470 - val_accuracy: 0.4256\n",
            "Epoch 20/30\n",
            "718/718 [==============================] - 159s 222ms/step - loss: 1.1600 - accuracy: 0.5624 - val_loss: 1.6406 - val_accuracy: 0.4262\n",
            "Epoch 21/30\n",
            "718/718 [==============================] - 160s 223ms/step - loss: 1.1294 - accuracy: 0.5787 - val_loss: 1.6341 - val_accuracy: 0.4340\n",
            "Epoch 22/30\n",
            "718/718 [==============================] - 159s 222ms/step - loss: 1.1151 - accuracy: 0.5822 - val_loss: 1.7347 - val_accuracy: 0.4181\n",
            "Epoch 23/30\n",
            "718/718 [==============================] - 159s 222ms/step - loss: 1.0917 - accuracy: 0.5925 - val_loss: 1.6935 - val_accuracy: 0.4255\n",
            "Epoch 24/30\n",
            "718/718 [==============================] - 159s 222ms/step - loss: 1.0645 - accuracy: 0.6039 - val_loss: 1.6800 - val_accuracy: 0.4276\n",
            "Epoch 25/30\n",
            "718/718 [==============================] - 159s 222ms/step - loss: 1.0404 - accuracy: 0.6118 - val_loss: 1.7153 - val_accuracy: 0.4244\n",
            "Epoch 26/30\n",
            "718/718 [==============================] - 159s 222ms/step - loss: 1.0154 - accuracy: 0.6234 - val_loss: 1.7546 - val_accuracy: 0.4284\n",
            "Epoch 27/30\n",
            "718/718 [==============================] - 159s 222ms/step - loss: 0.9801 - accuracy: 0.6370 - val_loss: 1.7814 - val_accuracy: 0.4321\n",
            "Epoch 28/30\n",
            "718/718 [==============================] - 159s 222ms/step - loss: 0.9497 - accuracy: 0.6533 - val_loss: 1.7535 - val_accuracy: 0.4260\n",
            "Epoch 29/30\n",
            "718/718 [==============================] - 159s 222ms/step - loss: 0.9238 - accuracy: 0.6565 - val_loss: 1.7770 - val_accuracy: 0.4234\n",
            "Epoch 30/30\n",
            "718/718 [==============================] - 159s 222ms/step - loss: 0.8992 - accuracy: 0.6676 - val_loss: 1.8167 - val_accuracy: 0.4225\n"
          ]
        }
      ],
      "source": [
        "hist = model.fit(\n",
        "    x,\n",
        "    y,\n",
        "    validation_split=0.2,\n",
        "    batch_size=32,\n",
        "    epochs=EPOCHS, \n",
        "    verbose=1,\n",
        "    callbacks=[model_checkpoint_callback])"
      ]
    },
    {
      "cell_type": "code",
      "execution_count": null,
      "metadata": {
        "colab": {
          "base_uri": "https://localhost:8080/",
          "height": 295
        },
        "id": "YDyeNJzqd0Du",
        "outputId": "5c69c9cd-e4cb-4d81-a115-34293cecad58"
      },
      "outputs": [
        {
          "data": {
            "image/png": "[encoded data removed]",
            "text/plain": [
              "<Figure size 432x288 with 1 Axes>"
            ]
          },
          "metadata": {
            "needs_background": "light"
          },
          "output_type": "display_data"
        }
      ],
      "source": [
        "plt.plot(hist.history['accuracy'])\n",
        "plt.plot(hist.history['val_accuracy'])\n",
        "plt.title('model accuracy')\n",
        "plt.ylabel('accuracy')\n",
        "plt.xlabel('epoch')\n",
        "plt.legend(['train', 'val'], loc='upper left')\n",
        "plt.show()"
      ]
    },
    {
      "cell_type": "code",
      "execution_count": null,
      "metadata": {
        "id": "4tXSkxUSd2Pp"
      },
      "outputs": [],
      "source": [
        "model.save('BERT.h5')\n",
        "!cp '/content/BERT.h5' '/content/drive/MyDrive/Colab Notebooks/LatentTransformer/BERT/'"
      ]
    },
    {
      "cell_type": "code",
      "execution_count": null,
      "metadata": {
        "id": "j8LPetw0eApd"
      },
      "outputs": [],
      "source": [
        "!cp '/content/checkpoint/mymodel_21.h5' '/content/drive/MyDrive/Colab Notebooks/LatentTransformer/BERT/'"
      ]
    },
    {
      "cell_type": "code",
      "execution_count": null,
      "metadata": {
        "id": "GlVKjPDtwvex"
      },
      "outputs": [],
      "source": []
    }
  ],
  "metadata": {
    "accelerator": "GPU",
    "colab": {
      "machine_shape": "hm",
      "provenance": []
    },
    "gpuClass": "standard",
    "kernelspec": {
      "display_name": "Python 3",
      "name": "python3"
    },
    "language_info": {
      "name": "python"
    },
    "widgets": {
      "application/vnd.jupyter.widget-state+json": {
        "009fe13b40164ed1b99fb6a3d8a99afc": {
          "model_module": "@jupyter-widgets/base",
          "model_module_version": "1.2.0",
          "model_name": "LayoutModel",
          "state": {
            "_model_module": "@jupyter-widgets/base",
            "_model_module_version": "1.2.0",
            "_model_name": "LayoutModel",
            "_view_count": null,
            "_view_module": "@jupyter-widgets/base",
            "_view_module_version": "1.2.0",
            "_view_name": "LayoutView",
            "align_content": null,
            "align_items": null,
            "align_self": null,
            "border": null,
            "bottom": null,
            "display": null,
            "flex": null,
            "flex_flow": null,
            "grid_area": null,
            "grid_auto_columns": null,
            "grid_auto_flow": null,
            "grid_auto_rows": null,
            "grid_column": null,
            "grid_gap": null,
            "grid_row": null,
            "grid_template_areas": null,
            "grid_template_columns": null,
            "grid_template_rows": null,
            "height": null,
            "justify_content": null,
            "justify_items": null,
            "left": null,
            "margin": null,
            "max_height": null,
            "max_width": null,
            "min_height": null,
            "min_width": null,
            "object_fit": null,
            "object_position": null,
            "order": null,
            "overflow": null,
            "overflow_x": null,
            "overflow_y": null,
            "padding": null,
            "right": null,
            "top": null,
            "visibility": null,
            "width": null
          }
        },
        "04972ecacd814384b5562d518ed89767": {
          "model_module": "@jupyter-widgets/base",
          "model_module_version": "1.2.0",
          "model_name": "LayoutModel",
          "state": {
            "_model_module": "@jupyter-widgets/base",
            "_model_module_version": "1.2.0",
            "_model_name": "LayoutModel",
            "_view_count": null,
            "_view_module": "@jupyter-widgets/base",
            "_view_module_version": "1.2.0",
            "_view_name": "LayoutView",
            "align_content": null,
            "align_items": null,
            "align_self": null,
            "border": null,
            "bottom": null,
            "display": null,
            "flex": null,
            "flex_flow": null,
            "grid_area": null,
            "grid_auto_columns": null,
            "grid_auto_flow": null,
            "grid_auto_rows": null,
            "grid_column": null,
            "grid_gap": null,
            "grid_row": null,
            "grid_template_areas": null,
            "grid_template_columns": null,
            "grid_template_rows": null,
            "height": null,
            "justify_content": null,
            "justify_items": null,
            "left": null,
            "margin": null,
            "max_height": null,
            "max_width": null,
            "min_height": null,
            "min_width": null,
            "object_fit": null,
            "object_position": null,
            "order": null,
            "overflow": null,
            "overflow_x": null,
            "overflow_y": null,
            "padding": null,
            "right": null,
            "top": null,
            "visibility": null,
            "width": null
          }
        },
        "0f56ff4202ee43499b30ed2d6dcffe18": {
          "model_module": "@jupyter-widgets/controls",
          "model_module_version": "1.5.0",
          "model_name": "HTMLModel",
          "state": {
            "_dom_classes": [],
            "_model_module": "@jupyter-widgets/controls",
            "_model_module_version": "1.5.0",
            "_model_name": "HTMLModel",
            "_view_count": null,
            "_view_module": "@jupyter-widgets/controls",
            "_view_module_version": "1.5.0",
            "_view_name": "HTMLView",
            "description": "",
            "description_tooltip": null,
            "layout": "IPY_MODEL_939d873ad35c480187347bfd57bb02c2",
            "placeholder": "​",
            "style": "IPY_MODEL_78c6ccb68598457491624d928b7c7d06",
            "value": " 536M/536M [00:01&lt;00:00, 495MB/s]"
          }
        },
        "19f3d6e80f284b148e2b0db31d89ce4b": {
          "model_module": "@jupyter-widgets/controls",
          "model_module_version": "1.5.0",
          "model_name": "HTMLModel",
          "state": {
            "_dom_classes": [],
            "_model_module": "@jupyter-widgets/controls",
            "_model_module_version": "1.5.0",
            "_model_name": "HTMLModel",
            "_view_count": null,
            "_view_module": "@jupyter-widgets/controls",
            "_view_module_version": "1.5.0",
            "_view_name": "HTMLView",
            "description": "",
            "description_tooltip": null,
            "layout": "IPY_MODEL_e16626e7f74543eaabca8f0c4ecdd7b1",
            "placeholder": "​",
            "style": "IPY_MODEL_5875544ec5dc4ec38fae8d33803e5bc9",
            "value": " 28.0/28.0 [00:00&lt;00:00, 1.97kB/s]"
          }
        },
        "1c916059b7be461da597c2f0e2340994": {
          "model_module": "@jupyter-widgets/controls",
          "model_module_version": "1.5.0",
          "model_name": "DescriptionStyleModel",
          "state": {
            "_model_module": "@jupyter-widgets/controls",
            "_model_module_version": "1.5.0",
            "_model_name": "DescriptionStyleModel",
            "_view_count": null,
            "_view_module": "@jupyter-widgets/base",
            "_view_module_version": "1.2.0",
            "_view_name": "StyleView",
            "description_width": ""
          }
        },
        "25acca205cfe4f1e8840fb5a6a0cf5b3": {
          "model_module": "@jupyter-widgets/controls",
          "model_module_version": "1.5.0",
          "model_name": "HTMLModel",
          "state": {
            "_dom_classes": [],
            "_model_module": "@jupyter-widgets/controls",
            "_model_module_version": "1.5.0",
            "_model_name": "HTMLModel",
            "_view_count": null,
            "_view_module": "@jupyter-widgets/controls",
            "_view_module_version": "1.5.0",
            "_view_name": "HTMLView",
            "description": "",
            "description_tooltip": null,
            "layout": "IPY_MODEL_691555224f6245c9af0ff0b8f79d1193",
            "placeholder": "​",
            "style": "IPY_MODEL_1c916059b7be461da597c2f0e2340994",
            "value": "Downloading (…)lve/main/config.json: 100%"
          }
        },
        "270d4b86fc014b139782cadb1072fa8a": {
          "model_module": "@jupyter-widgets/base",
          "model_module_version": "1.2.0",
          "model_name": "LayoutModel",
          "state": {
            "_model_module": "@jupyter-widgets/base",
            "_model_module_version": "1.2.0",
            "_model_name": "LayoutModel",
            "_view_count": null,
            "_view_module": "@jupyter-widgets/base",
            "_view_module_version": "1.2.0",
            "_view_name": "LayoutView",
            "align_content": null,
            "align_items": null,
            "align_self": null,
            "border": null,
            "bottom": null,
            "display": null,
            "flex": null,
            "flex_flow": null,
            "grid_area": null,
            "grid_auto_columns": null,
            "grid_auto_flow": null,
            "grid_auto_rows": null,
            "grid_column": null,
            "grid_gap": null,
            "grid_row": null,
            "grid_template_areas": null,
            "grid_template_columns": null,
            "grid_template_rows": null,
            "height": null,
            "justify_content": null,
            "justify_items": null,
            "left": null,
            "margin": null,
            "max_height": null,
            "max_width": null,
            "min_height": null,
            "min_width": null,
            "object_fit": null,
            "object_position": null,
            "order": null,
            "overflow": null,
            "overflow_x": null,
            "overflow_y": null,
            "padding": null,
            "right": null,
            "top": null,
            "visibility": null,
            "width": null
          }
        },
        "2a006aec7dd446909cbc2f2ec37b925c": {
          "model_module": "@jupyter-widgets/base",
          "model_module_version": "1.2.0",
          "model_name": "LayoutModel",
          "state": {
            "_model_module": "@jupyter-widgets/base",
            "_model_module_version": "1.2.0",
            "_model_name": "LayoutModel",
            "_view_count": null,
            "_view_module": "@jupyter-widgets/base",
            "_view_module_version": "1.2.0",
            "_view_name": "LayoutView",
            "align_content": null,
            "align_items": null,
            "align_self": null,
            "border": null,
            "bottom": null,
            "display": null,
            "flex": null,
            "flex_flow": null,
            "grid_area": null,
            "grid_auto_columns": null,
            "grid_auto_flow": null,
            "grid_auto_rows": null,
            "grid_column": null,
            "grid_gap": null,
            "grid_row": null,
            "grid_template_areas": null,
            "grid_template_columns": null,
            "grid_template_rows": null,
            "height": null,
            "justify_content": null,
            "justify_items": null,
            "left": null,
            "margin": null,
            "max_height": null,
            "max_width": null,
            "min_height": null,
            "min_width": null,
            "object_fit": null,
            "object_position": null,
            "order": null,
            "overflow": null,
            "overflow_x": null,
            "overflow_y": null,
            "padding": null,
            "right": null,
            "top": null,
            "visibility": null,
            "width": null
          }
        },
        "2c13b234bf354b52855a258de590d756": {
          "model_module": "@jupyter-widgets/controls",
          "model_module_version": "1.5.0",
          "model_name": "DescriptionStyleModel",
          "state": {
            "_model_module": "@jupyter-widgets/controls",
            "_model_module_version": "1.5.0",
            "_model_name": "DescriptionStyleModel",
            "_view_count": null,
            "_view_module": "@jupyter-widgets/base",
            "_view_module_version": "1.2.0",
            "_view_name": "StyleView",
            "description_width": ""
          }
        },
        "396ec7cd9d994d1a8b5971157b11d615": {
          "model_module": "@jupyter-widgets/base",
          "model_module_version": "1.2.0",
          "model_name": "LayoutModel",
          "state": {
            "_model_module": "@jupyter-widgets/base",
            "_model_module_version": "1.2.0",
            "_model_name": "LayoutModel",
            "_view_count": null,
            "_view_module": "@jupyter-widgets/base",
            "_view_module_version": "1.2.0",
            "_view_name": "LayoutView",
            "align_content": null,
            "align_items": null,
            "align_self": null,
            "border": null,
            "bottom": null,
            "display": null,
            "flex": null,
            "flex_flow": null,
            "grid_area": null,
            "grid_auto_columns": null,
            "grid_auto_flow": null,
            "grid_auto_rows": null,
            "grid_column": null,
            "grid_gap": null,
            "grid_row": null,
            "grid_template_areas": null,
            "grid_template_columns": null,
            "grid_template_rows": null,
            "height": null,
            "justify_content": null,
            "justify_items": null,
            "left": null,
            "margin": null,
            "max_height": null,
            "max_width": null,
            "min_height": null,
            "min_width": null,
            "object_fit": null,
            "object_position": null,
            "order": null,
            "overflow": null,
            "overflow_x": null,
            "overflow_y": null,
            "padding": null,
            "right": null,
            "top": null,
            "visibility": null,
            "width": null
          }
        },
        "3994caac3d954282bdbc3a32dddd1605": {
          "model_module": "@jupyter-widgets/controls",
          "model_module_version": "1.5.0",
          "model_name": "HTMLModel",
          "state": {
            "_dom_classes": [],
            "_model_module": "@jupyter-widgets/controls",
            "_model_module_version": "1.5.0",
            "_model_name": "HTMLModel",
            "_view_count": null,
            "_view_module": "@jupyter-widgets/controls",
            "_view_module_version": "1.5.0",
            "_view_name": "HTMLView",
            "description": "",
            "description_tooltip": null,
            "layout": "IPY_MODEL_a8a8abcb1f0d4009a25d5aef8f72298b",
            "placeholder": "​",
            "style": "IPY_MODEL_4499b80a8b3e4a3789fa109faf24762c",
            "value": "Downloading (…)solve/main/vocab.txt: 100%"
          }
        },
        "3e0de0b4d83f481f813230932abad951": {
          "model_module": "@jupyter-widgets/controls",
          "model_module_version": "1.5.0",
          "model_name": "FloatProgressModel",
          "state": {
            "_dom_classes": [],
            "_model_module": "@jupyter-widgets/controls",
            "_model_module_version": "1.5.0",
            "_model_name": "FloatProgressModel",
            "_view_count": null,
            "_view_module": "@jupyter-widgets/controls",
            "_view_module_version": "1.5.0",
            "_view_name": "ProgressView",
            "bar_style": "success",
            "description": "",
            "description_tooltip": null,
            "layout": "IPY_MODEL_2a006aec7dd446909cbc2f2ec37b925c",
            "max": 28,
            "min": 0,
            "orientation": "horizontal",
            "style": "IPY_MODEL_7de400533b1844b8b3ea10032c778e1c",
            "value": 28
          }
        },
        "4499b80a8b3e4a3789fa109faf24762c": {
          "model_module": "@jupyter-widgets/controls",
          "model_module_version": "1.5.0",
          "model_name": "DescriptionStyleModel",
          "state": {
            "_model_module": "@jupyter-widgets/controls",
            "_model_module_version": "1.5.0",
            "_model_name": "DescriptionStyleModel",
            "_view_count": null,
            "_view_module": "@jupyter-widgets/base",
            "_view_module_version": "1.2.0",
            "_view_name": "StyleView",
            "description_width": ""
          }
        },
        "475d843cdb574a26a9dcc404a0ce2a45": {
          "model_module": "@jupyter-widgets/controls",
          "model_module_version": "1.5.0",
          "model_name": "HBoxModel",
          "state": {
            "_dom_classes": [],
            "_model_module": "@jupyter-widgets/controls",
            "_model_module_version": "1.5.0",
            "_model_name": "HBoxModel",
            "_view_count": null,
            "_view_module": "@jupyter-widgets/controls",
            "_view_module_version": "1.5.0",
            "_view_name": "HBoxView",
            "box_style": "",
            "children": [
              "IPY_MODEL_3994caac3d954282bdbc3a32dddd1605",
              "IPY_MODEL_8dbd6337b1cc4e8f975ec6589c2afdba",
              "IPY_MODEL_d5025cafda74454e8d5c91b9cdb2afe5"
            ],
            "layout": "IPY_MODEL_88ff8fa782cd439db58d86d2c0d0d3a0"
          }
        },
        "4944ebcedec84fbfbf25d3f622d33f1b": {
          "model_module": "@jupyter-widgets/controls",
          "model_module_version": "1.5.0",
          "model_name": "ProgressStyleModel",
          "state": {
            "_model_module": "@jupyter-widgets/controls",
            "_model_module_version": "1.5.0",
            "_model_name": "ProgressStyleModel",
            "_view_count": null,
            "_view_module": "@jupyter-widgets/base",
            "_view_module_version": "1.2.0",
            "_view_name": "StyleView",
            "bar_color": null,
            "description_width": ""
          }
        },
        "54d6ce5c208b44bcaab48c34b731fec6": {
          "model_module": "@jupyter-widgets/controls",
          "model_module_version": "1.5.0",
          "model_name": "DescriptionStyleModel",
          "state": {
            "_model_module": "@jupyter-widgets/controls",
            "_model_module_version": "1.5.0",
            "_model_name": "DescriptionStyleModel",
            "_view_count": null,
            "_view_module": "@jupyter-widgets/base",
            "_view_module_version": "1.2.0",
            "_view_name": "StyleView",
            "description_width": ""
          }
        },
        "5875544ec5dc4ec38fae8d33803e5bc9": {
          "model_module": "@jupyter-widgets/controls",
          "model_module_version": "1.5.0",
          "model_name": "DescriptionStyleModel",
          "state": {
            "_model_module": "@jupyter-widgets/controls",
            "_model_module_version": "1.5.0",
            "_model_name": "DescriptionStyleModel",
            "_view_count": null,
            "_view_module": "@jupyter-widgets/base",
            "_view_module_version": "1.2.0",
            "_view_name": "StyleView",
            "description_width": ""
          }
        },
        "5a44807b1eed46e19e09de9b24f31648": {
          "model_module": "@jupyter-widgets/controls",
          "model_module_version": "1.5.0",
          "model_name": "ProgressStyleModel",
          "state": {
            "_model_module": "@jupyter-widgets/controls",
            "_model_module_version": "1.5.0",
            "_model_name": "ProgressStyleModel",
            "_view_count": null,
            "_view_module": "@jupyter-widgets/base",
            "_view_module_version": "1.2.0",
            "_view_name": "StyleView",
            "bar_color": null,
            "description_width": ""
          }
        },
        "691555224f6245c9af0ff0b8f79d1193": {
          "model_module": "@jupyter-widgets/base",
          "model_module_version": "1.2.0",
          "model_name": "LayoutModel",
          "state": {
            "_model_module": "@jupyter-widgets/base",
            "_model_module_version": "1.2.0",
            "_model_name": "LayoutModel",
            "_view_count": null,
            "_view_module": "@jupyter-widgets/base",
            "_view_module_version": "1.2.0",
            "_view_name": "LayoutView",
            "align_content": null,
            "align_items": null,
            "align_self": null,
            "border": null,
            "bottom": null,
            "display": null,
            "flex": null,
            "flex_flow": null,
            "grid_area": null,
            "grid_auto_columns": null,
            "grid_auto_flow": null,
            "grid_auto_rows": null,
            "grid_column": null,
            "grid_gap": null,
            "grid_row": null,
            "grid_template_areas": null,
            "grid_template_columns": null,
            "grid_template_rows": null,
            "height": null,
            "justify_content": null,
            "justify_items": null,
            "left": null,
            "margin": null,
            "max_height": null,
            "max_width": null,
            "min_height": null,
            "min_width": null,
            "object_fit": null,
            "object_position": null,
            "order": null,
            "overflow": null,
            "overflow_x": null,
            "overflow_y": null,
            "padding": null,
            "right": null,
            "top": null,
            "visibility": null,
            "width": null
          }
        },
        "78bcc9507ba44f8eacf9883d0cb45664": {
          "model_module": "@jupyter-widgets/controls",
          "model_module_version": "1.5.0",
          "model_name": "FloatProgressModel",
          "state": {
            "_dom_classes": [],
            "_model_module": "@jupyter-widgets/controls",
            "_model_module_version": "1.5.0",
            "_model_name": "FloatProgressModel",
            "_view_count": null,
            "_view_module": "@jupyter-widgets/controls",
            "_view_module_version": "1.5.0",
            "_view_name": "ProgressView",
            "bar_style": "success",
            "description": "",
            "description_tooltip": null,
            "layout": "IPY_MODEL_396ec7cd9d994d1a8b5971157b11d615",
            "max": 570,
            "min": 0,
            "orientation": "horizontal",
            "style": "IPY_MODEL_4944ebcedec84fbfbf25d3f622d33f1b",
            "value": 570
          }
        },
        "78c6ccb68598457491624d928b7c7d06": {
          "model_module": "@jupyter-widgets/controls",
          "model_module_version": "1.5.0",
          "model_name": "DescriptionStyleModel",
          "state": {
            "_model_module": "@jupyter-widgets/controls",
            "_model_module_version": "1.5.0",
            "_model_name": "DescriptionStyleModel",
            "_view_count": null,
            "_view_module": "@jupyter-widgets/base",
            "_view_module_version": "1.2.0",
            "_view_name": "StyleView",
            "description_width": ""
          }
        },
        "7dd632bcb612469a8e2fbf549c16b95c": {
          "model_module": "@jupyter-widgets/base",
          "model_module_version": "1.2.0",
          "model_name": "LayoutModel",
          "state": {
            "_model_module": "@jupyter-widgets/base",
            "_model_module_version": "1.2.0",
            "_model_name": "LayoutModel",
            "_view_count": null,
            "_view_module": "@jupyter-widgets/base",
            "_view_module_version": "1.2.0",
            "_view_name": "LayoutView",
            "align_content": null,
            "align_items": null,
            "align_self": null,
            "border": null,
            "bottom": null,
            "display": null,
            "flex": null,
            "flex_flow": null,
            "grid_area": null,
            "grid_auto_columns": null,
            "grid_auto_flow": null,
            "grid_auto_rows": null,
            "grid_column": null,
            "grid_gap": null,
            "grid_row": null,
            "grid_template_areas": null,
            "grid_template_columns": null,
            "grid_template_rows": null,
            "height": null,
            "justify_content": null,
            "justify_items": null,
            "left": null,
            "margin": null,
            "max_height": null,
            "max_width": null,
            "min_height": null,
            "min_width": null,
            "object_fit": null,
            "object_position": null,
            "order": null,
            "overflow": null,
            "overflow_x": null,
            "overflow_y": null,
            "padding": null,
            "right": null,
            "top": null,
            "visibility": null,
            "width": null
          }
        },
        "7de400533b1844b8b3ea10032c778e1c": {
          "model_module": "@jupyter-widgets/controls",
          "model_module_version": "1.5.0",
          "model_name": "ProgressStyleModel",
          "state": {
            "_model_module": "@jupyter-widgets/controls",
            "_model_module_version": "1.5.0",
            "_model_name": "ProgressStyleModel",
            "_view_count": null,
            "_view_module": "@jupyter-widgets/base",
            "_view_module_version": "1.2.0",
            "_view_name": "StyleView",
            "bar_color": null,
            "description_width": ""
          }
        },
        "7ed6052f9c78488c902ba89bd25fcf2b": {
          "model_module": "@jupyter-widgets/controls",
          "model_module_version": "1.5.0",
          "model_name": "HBoxModel",
          "state": {
            "_dom_classes": [],
            "_model_module": "@jupyter-widgets/controls",
            "_model_module_version": "1.5.0",
            "_model_name": "HBoxModel",
            "_view_count": null,
            "_view_module": "@jupyter-widgets/controls",
            "_view_module_version": "1.5.0",
            "_view_name": "HBoxView",
            "box_style": "",
            "children": [
              "IPY_MODEL_fc4cd581674d4fb98a565cc93e3a3a8b",
              "IPY_MODEL_3e0de0b4d83f481f813230932abad951",
              "IPY_MODEL_19f3d6e80f284b148e2b0db31d89ce4b"
            ],
            "layout": "IPY_MODEL_dda595b63a8f4bc39e6d6e0179bb196d"
          }
        },
        "8494f72cb2324bd486a97e62250aca6f": {
          "model_module": "@jupyter-widgets/controls",
          "model_module_version": "1.5.0",
          "model_name": "HTMLModel",
          "state": {
            "_dom_classes": [],
            "_model_module": "@jupyter-widgets/controls",
            "_model_module_version": "1.5.0",
            "_model_name": "HTMLModel",
            "_view_count": null,
            "_view_module": "@jupyter-widgets/controls",
            "_view_module_version": "1.5.0",
            "_view_name": "HTMLView",
            "description": "",
            "description_tooltip": null,
            "layout": "IPY_MODEL_270d4b86fc014b139782cadb1072fa8a",
            "placeholder": "​",
            "style": "IPY_MODEL_97cffd71d21646249d93d565e59bc569",
            "value": "Downloading tf_model.h5: 100%"
          }
        },
        "88ff8fa782cd439db58d86d2c0d0d3a0": {
          "model_module": "@jupyter-widgets/base",
          "model_module_version": "1.2.0",
          "model_name": "LayoutModel",
          "state": {
            "_model_module": "@jupyter-widgets/base",
            "_model_module_version": "1.2.0",
            "_model_name": "LayoutModel",
            "_view_count": null,
            "_view_module": "@jupyter-widgets/base",
            "_view_module_version": "1.2.0",
            "_view_name": "LayoutView",
            "align_content": null,
            "align_items": null,
            "align_self": null,
            "border": null,
            "bottom": null,
            "display": null,
            "flex": null,
            "flex_flow": null,
            "grid_area": null,
            "grid_auto_columns": null,
            "grid_auto_flow": null,
            "grid_auto_rows": null,
            "grid_column": null,
            "grid_gap": null,
            "grid_row": null,
            "grid_template_areas": null,
            "grid_template_columns": null,
            "grid_template_rows": null,
            "height": null,
            "justify_content": null,
            "justify_items": null,
            "left": null,
            "margin": null,
            "max_height": null,
            "max_width": null,
            "min_height": null,
            "min_width": null,
            "object_fit": null,
            "object_position": null,
            "order": null,
            "overflow": null,
            "overflow_x": null,
            "overflow_y": null,
            "padding": null,
            "right": null,
            "top": null,
            "visibility": null,
            "width": null
          }
        },
        "8d4c60eff6474e178ebbc8bdc8a14cf2": {
          "model_module": "@jupyter-widgets/controls",
          "model_module_version": "1.5.0",
          "model_name": "ProgressStyleModel",
          "state": {
            "_model_module": "@jupyter-widgets/controls",
            "_model_module_version": "1.5.0",
            "_model_name": "ProgressStyleModel",
            "_view_count": null,
            "_view_module": "@jupyter-widgets/base",
            "_view_module_version": "1.2.0",
            "_view_name": "StyleView",
            "bar_color": null,
            "description_width": ""
          }
        },
        "8dbd6337b1cc4e8f975ec6589c2afdba": {
          "model_module": "@jupyter-widgets/controls",
          "model_module_version": "1.5.0",
          "model_name": "FloatProgressModel",
          "state": {
            "_dom_classes": [],
            "_model_module": "@jupyter-widgets/controls",
            "_model_module_version": "1.5.0",
            "_model_name": "FloatProgressModel",
            "_view_count": null,
            "_view_module": "@jupyter-widgets/controls",
            "_view_module_version": "1.5.0",
            "_view_name": "ProgressView",
            "bar_style": "success",
            "description": "",
            "description_tooltip": null,
            "layout": "IPY_MODEL_d871e07ee3fe4feab3daee1f1fb43d76",
            "max": 231508,
            "min": 0,
            "orientation": "horizontal",
            "style": "IPY_MODEL_5a44807b1eed46e19e09de9b24f31648",
            "value": 231508
          }
        },
        "939d873ad35c480187347bfd57bb02c2": {
          "model_module": "@jupyter-widgets/base",
          "model_module_version": "1.2.0",
          "model_name": "LayoutModel",
          "state": {
            "_model_module": "@jupyter-widgets/base",
            "_model_module_version": "1.2.0",
            "_model_name": "LayoutModel",
            "_view_count": null,
            "_view_module": "@jupyter-widgets/base",
            "_view_module_version": "1.2.0",
            "_view_name": "LayoutView",
            "align_content": null,
            "align_items": null,
            "align_self": null,
            "border": null,
            "bottom": null,
            "display": null,
            "flex": null,
            "flex_flow": null,
            "grid_area": null,
            "grid_auto_columns": null,
            "grid_auto_flow": null,
            "grid_auto_rows": null,
            "grid_column": null,
            "grid_gap": null,
            "grid_row": null,
            "grid_template_areas": null,
            "grid_template_columns": null,
            "grid_template_rows": null,
            "height": null,
            "justify_content": null,
            "justify_items": null,
            "left": null,
            "margin": null,
            "max_height": null,
            "max_width": null,
            "min_height": null,
            "min_width": null,
            "object_fit": null,
            "object_position": null,
            "order": null,
            "overflow": null,
            "overflow_x": null,
            "overflow_y": null,
            "padding": null,
            "right": null,
            "top": null,
            "visibility": null,
            "width": null
          }
        },
        "97cffd71d21646249d93d565e59bc569": {
          "model_module": "@jupyter-widgets/controls",
          "model_module_version": "1.5.0",
          "model_name": "DescriptionStyleModel",
          "state": {
            "_model_module": "@jupyter-widgets/controls",
            "_model_module_version": "1.5.0",
            "_model_name": "DescriptionStyleModel",
            "_view_count": null,
            "_view_module": "@jupyter-widgets/base",
            "_view_module_version": "1.2.0",
            "_view_name": "StyleView",
            "description_width": ""
          }
        },
        "a69457dae3ed40789b86f1edc478c854": {
          "model_module": "@jupyter-widgets/controls",
          "model_module_version": "1.5.0",
          "model_name": "HTMLModel",
          "state": {
            "_dom_classes": [],
            "_model_module": "@jupyter-widgets/controls",
            "_model_module_version": "1.5.0",
            "_model_name": "HTMLModel",
            "_view_count": null,
            "_view_module": "@jupyter-widgets/controls",
            "_view_module_version": "1.5.0",
            "_view_name": "HTMLView",
            "description": "",
            "description_tooltip": null,
            "layout": "IPY_MODEL_fc3123252593411f81159105dbadcc59",
            "placeholder": "​",
            "style": "IPY_MODEL_2c13b234bf354b52855a258de590d756",
            "value": " 570/570 [00:00&lt;00:00, 39.3kB/s]"
          }
        },
        "a8a8abcb1f0d4009a25d5aef8f72298b": {
          "model_module": "@jupyter-widgets/base",
          "model_module_version": "1.2.0",
          "model_name": "LayoutModel",
          "state": {
            "_model_module": "@jupyter-widgets/base",
            "_model_module_version": "1.2.0",
            "_model_name": "LayoutModel",
            "_view_count": null,
            "_view_module": "@jupyter-widgets/base",
            "_view_module_version": "1.2.0",
            "_view_name": "LayoutView",
            "align_content": null,
            "align_items": null,
            "align_self": null,
            "border": null,
            "bottom": null,
            "display": null,
            "flex": null,
            "flex_flow": null,
            "grid_area": null,
            "grid_auto_columns": null,
            "grid_auto_flow": null,
            "grid_auto_rows": null,
            "grid_column": null,
            "grid_gap": null,
            "grid_row": null,
            "grid_template_areas": null,
            "grid_template_columns": null,
            "grid_template_rows": null,
            "height": null,
            "justify_content": null,
            "justify_items": null,
            "left": null,
            "margin": null,
            "max_height": null,
            "max_width": null,
            "min_height": null,
            "min_width": null,
            "object_fit": null,
            "object_position": null,
            "order": null,
            "overflow": null,
            "overflow_x": null,
            "overflow_y": null,
            "padding": null,
            "right": null,
            "top": null,
            "visibility": null,
            "width": null
          }
        },
        "ab35189b3e5a4c8abb6f97b3fc1c4e11": {
          "model_module": "@jupyter-widgets/controls",
          "model_module_version": "1.5.0",
          "model_name": "FloatProgressModel",
          "state": {
            "_dom_classes": [],
            "_model_module": "@jupyter-widgets/controls",
            "_model_module_version": "1.5.0",
            "_model_name": "FloatProgressModel",
            "_view_count": null,
            "_view_module": "@jupyter-widgets/controls",
            "_view_module_version": "1.5.0",
            "_view_name": "ProgressView",
            "bar_style": "success",
            "description": "",
            "description_tooltip": null,
            "layout": "IPY_MODEL_009fe13b40164ed1b99fb6a3d8a99afc",
            "max": 536063208,
            "min": 0,
            "orientation": "horizontal",
            "style": "IPY_MODEL_8d4c60eff6474e178ebbc8bdc8a14cf2",
            "value": 536063208
          }
        },
        "c1bdfde4b63a402293bb71478eb8c2c5": {
          "model_module": "@jupyter-widgets/base",
          "model_module_version": "1.2.0",
          "model_name": "LayoutModel",
          "state": {
            "_model_module": "@jupyter-widgets/base",
            "_model_module_version": "1.2.0",
            "_model_name": "LayoutModel",
            "_view_count": null,
            "_view_module": "@jupyter-widgets/base",
            "_view_module_version": "1.2.0",
            "_view_name": "LayoutView",
            "align_content": null,
            "align_items": null,
            "align_self": null,
            "border": null,
            "bottom": null,
            "display": null,
            "flex": null,
            "flex_flow": null,
            "grid_area": null,
            "grid_auto_columns": null,
            "grid_auto_flow": null,
            "grid_auto_rows": null,
            "grid_column": null,
            "grid_gap": null,
            "grid_row": null,
            "grid_template_areas": null,
            "grid_template_columns": null,
            "grid_template_rows": null,
            "height": null,
            "justify_content": null,
            "justify_items": null,
            "left": null,
            "margin": null,
            "max_height": null,
            "max_width": null,
            "min_height": null,
            "min_width": null,
            "object_fit": null,
            "object_position": null,
            "order": null,
            "overflow": null,
            "overflow_x": null,
            "overflow_y": null,
            "padding": null,
            "right": null,
            "top": null,
            "visibility": null,
            "width": null
          }
        },
        "c9ab45ccdb1944028d6672b51da4e6f4": {
          "model_module": "@jupyter-widgets/controls",
          "model_module_version": "1.5.0",
          "model_name": "HBoxModel",
          "state": {
            "_dom_classes": [],
            "_model_module": "@jupyter-widgets/controls",
            "_model_module_version": "1.5.0",
            "_model_name": "HBoxModel",
            "_view_count": null,
            "_view_module": "@jupyter-widgets/controls",
            "_view_module_version": "1.5.0",
            "_view_name": "HBoxView",
            "box_style": "",
            "children": [
              "IPY_MODEL_25acca205cfe4f1e8840fb5a6a0cf5b3",
              "IPY_MODEL_78bcc9507ba44f8eacf9883d0cb45664",
              "IPY_MODEL_a69457dae3ed40789b86f1edc478c854"
            ],
            "layout": "IPY_MODEL_c1bdfde4b63a402293bb71478eb8c2c5"
          }
        },
        "cf2b223ab3b84b4f94e95e1e21cba3c7": {
          "model_module": "@jupyter-widgets/controls",
          "model_module_version": "1.5.0",
          "model_name": "HBoxModel",
          "state": {
            "_dom_classes": [],
            "_model_module": "@jupyter-widgets/controls",
            "_model_module_version": "1.5.0",
            "_model_name": "HBoxModel",
            "_view_count": null,
            "_view_module": "@jupyter-widgets/controls",
            "_view_module_version": "1.5.0",
            "_view_name": "HBoxView",
            "box_style": "",
            "children": [
              "IPY_MODEL_8494f72cb2324bd486a97e62250aca6f",
              "IPY_MODEL_ab35189b3e5a4c8abb6f97b3fc1c4e11",
              "IPY_MODEL_0f56ff4202ee43499b30ed2d6dcffe18"
            ],
            "layout": "IPY_MODEL_dfab22017a954b5782d0ee67677334ea"
          }
        },
        "d252d532cb3641e49c66cbb686edcb1c": {
          "model_module": "@jupyter-widgets/controls",
          "model_module_version": "1.5.0",
          "model_name": "DescriptionStyleModel",
          "state": {
            "_model_module": "@jupyter-widgets/controls",
            "_model_module_version": "1.5.0",
            "_model_name": "DescriptionStyleModel",
            "_view_count": null,
            "_view_module": "@jupyter-widgets/base",
            "_view_module_version": "1.2.0",
            "_view_name": "StyleView",
            "description_width": ""
          }
        },
        "d5025cafda74454e8d5c91b9cdb2afe5": {
          "model_module": "@jupyter-widgets/controls",
          "model_module_version": "1.5.0",
          "model_name": "HTMLModel",
          "state": {
            "_dom_classes": [],
            "_model_module": "@jupyter-widgets/controls",
            "_model_module_version": "1.5.0",
            "_model_name": "HTMLModel",
            "_view_count": null,
            "_view_module": "@jupyter-widgets/controls",
            "_view_module_version": "1.5.0",
            "_view_name": "HTMLView",
            "description": "",
            "description_tooltip": null,
            "layout": "IPY_MODEL_7dd632bcb612469a8e2fbf549c16b95c",
            "placeholder": "​",
            "style": "IPY_MODEL_d252d532cb3641e49c66cbb686edcb1c",
            "value": " 232k/232k [00:00&lt;00:00, 348kB/s]"
          }
        },
        "d871e07ee3fe4feab3daee1f1fb43d76": {
          "model_module": "@jupyter-widgets/base",
          "model_module_version": "1.2.0",
          "model_name": "LayoutModel",
          "state": {
            "_model_module": "@jupyter-widgets/base",
            "_model_module_version": "1.2.0",
            "_model_name": "LayoutModel",
            "_view_count": null,
            "_view_module": "@jupyter-widgets/base",
            "_view_module_version": "1.2.0",
            "_view_name": "LayoutView",
            "align_content": null,
            "align_items": null,
            "align_self": null,
            "border": null,
            "bottom": null,
            "display": null,
            "flex": null,
            "flex_flow": null,
            "grid_area": null,
            "grid_auto_columns": null,
            "grid_auto_flow": null,
            "grid_auto_rows": null,
            "grid_column": null,
            "grid_gap": null,
            "grid_row": null,
            "grid_template_areas": null,
            "grid_template_columns": null,
            "grid_template_rows": null,
            "height": null,
            "justify_content": null,
            "justify_items": null,
            "left": null,
            "margin": null,
            "max_height": null,
            "max_width": null,
            "min_height": null,
            "min_width": null,
            "object_fit": null,
            "object_position": null,
            "order": null,
            "overflow": null,
            "overflow_x": null,
            "overflow_y": null,
            "padding": null,
            "right": null,
            "top": null,
            "visibility": null,
            "width": null
          }
        },
        "dda595b63a8f4bc39e6d6e0179bb196d": {
          "model_module": "@jupyter-widgets/base",
          "model_module_version": "1.2.0",
          "model_name": "LayoutModel",
          "state": {
            "_model_module": "@jupyter-widgets/base",
            "_model_module_version": "1.2.0",
            "_model_name": "LayoutModel",
            "_view_count": null,
            "_view_module": "@jupyter-widgets/base",
            "_view_module_version": "1.2.0",
            "_view_name": "LayoutView",
            "align_content": null,
            "align_items": null,
            "align_self": null,
            "border": null,
            "bottom": null,
            "display": null,
            "flex": null,
            "flex_flow": null,
            "grid_area": null,
            "grid_auto_columns": null,
            "grid_auto_flow": null,
            "grid_auto_rows": null,
            "grid_column": null,
            "grid_gap": null,
            "grid_row": null,
            "grid_template_areas": null,
            "grid_template_columns": null,
            "grid_template_rows": null,
            "height": null,
            "justify_content": null,
            "justify_items": null,
            "left": null,
            "margin": null,
            "max_height": null,
            "max_width": null,
            "min_height": null,
            "min_width": null,
            "object_fit": null,
            "object_position": null,
            "order": null,
            "overflow": null,
            "overflow_x": null,
            "overflow_y": null,
            "padding": null,
            "right": null,
            "top": null,
            "visibility": null,
            "width": null
          }
        },
        "dfab22017a954b5782d0ee67677334ea": {
          "model_module": "@jupyter-widgets/base",
          "model_module_version": "1.2.0",
          "model_name": "LayoutModel",
          "state": {
            "_model_module": "@jupyter-widgets/base",
            "_model_module_version": "1.2.0",
            "_model_name": "LayoutModel",
            "_view_count": null,
            "_view_module": "@jupyter-widgets/base",
            "_view_module_version": "1.2.0",
            "_view_name": "LayoutView",
            "align_content": null,
            "align_items": null,
            "align_self": null,
            "border": null,
            "bottom": null,
            "display": null,
            "flex": null,
            "flex_flow": null,
            "grid_area": null,
            "grid_auto_columns": null,
            "grid_auto_flow": null,
            "grid_auto_rows": null,
            "grid_column": null,
            "grid_gap": null,
            "grid_row": null,
            "grid_template_areas": null,
            "grid_template_columns": null,
            "grid_template_rows": null,
            "height": null,
            "justify_content": null,
            "justify_items": null,
            "left": null,
            "margin": null,
            "max_height": null,
            "max_width": null,
            "min_height": null,
            "min_width": null,
            "object_fit": null,
            "object_position": null,
            "order": null,
            "overflow": null,
            "overflow_x": null,
            "overflow_y": null,
            "padding": null,
            "right": null,
            "top": null,
            "visibility": null,
            "width": null
          }
        },
        "e16626e7f74543eaabca8f0c4ecdd7b1": {
          "model_module": "@jupyter-widgets/base",
          "model_module_version": "1.2.0",
          "model_name": "LayoutModel",
          "state": {
            "_model_module": "@jupyter-widgets/base",
            "_model_module_version": "1.2.0",
            "_model_name": "LayoutModel",
            "_view_count": null,
            "_view_module": "@jupyter-widgets/base",
            "_view_module_version": "1.2.0",
            "_view_name": "LayoutView",
            "align_content": null,
            "align_items": null,
            "align_self": null,
            "border": null,
            "bottom": null,
            "display": null,
            "flex": null,
            "flex_flow": null,
            "grid_area": null,
            "grid_auto_columns": null,
            "grid_auto_flow": null,
            "grid_auto_rows": null,
            "grid_column": null,
            "grid_gap": null,
            "grid_row": null,
            "grid_template_areas": null,
            "grid_template_columns": null,
            "grid_template_rows": null,
            "height": null,
            "justify_content": null,
            "justify_items": null,
            "left": null,
            "margin": null,
            "max_height": null,
            "max_width": null,
            "min_height": null,
            "min_width": null,
            "object_fit": null,
            "object_position": null,
            "order": null,
            "overflow": null,
            "overflow_x": null,
            "overflow_y": null,
            "padding": null,
            "right": null,
            "top": null,
            "visibility": null,
            "width": null
          }
        },
        "fc3123252593411f81159105dbadcc59": {
          "model_module": "@jupyter-widgets/base",
          "model_module_version": "1.2.0",
          "model_name": "LayoutModel",
          "state": {
            "_model_module": "@jupyter-widgets/base",
            "_model_module_version": "1.2.0",
            "_model_name": "LayoutModel",
            "_view_count": null,
            "_view_module": "@jupyter-widgets/base",
            "_view_module_version": "1.2.0",
            "_view_name": "LayoutView",
            "align_content": null,
            "align_items": null,
            "align_self": null,
            "border": null,
            "bottom": null,
            "display": null,
            "flex": null,
            "flex_flow": null,
            "grid_area": null,
            "grid_auto_columns": null,
            "grid_auto_flow": null,
            "grid_auto_rows": null,
            "grid_column": null,
            "grid_gap": null,
            "grid_row": null,
            "grid_template_areas": null,
            "grid_template_columns": null,
            "grid_template_rows": null,
            "height": null,
            "justify_content": null,
            "justify_items": null,
            "left": null,
            "margin": null,
            "max_height": null,
            "max_width": null,
            "min_height": null,
            "min_width": null,
            "object_fit": null,
            "object_position": null,
            "order": null,
            "overflow": null,
            "overflow_x": null,
            "overflow_y": null,
            "padding": null,
            "right": null,
            "top": null,
            "visibility": null,
            "width": null
          }
        },
        "fc4cd581674d4fb98a565cc93e3a3a8b": {
          "model_module": "@jupyter-widgets/controls",
          "model_module_version": "1.5.0",
          "model_name": "HTMLModel",
          "state": {
            "_dom_classes": [],
            "_model_module": "@jupyter-widgets/controls",
            "_model_module_version": "1.5.0",
            "_model_name": "HTMLModel",
            "_view_count": null,
            "_view_module": "@jupyter-widgets/controls",
            "_view_module_version": "1.5.0",
            "_view_name": "HTMLView",
            "description": "",
            "description_tooltip": null,
            "layout": "IPY_MODEL_04972ecacd814384b5562d518ed89767",
            "placeholder": "​",
            "style": "IPY_MODEL_54d6ce5c208b44bcaab48c34b731fec6",
            "value": "Downloading (…)okenizer_config.json: 100%"
          }
        },
        "ccf8d9c4547f4568a22f944df86d7c6d": {
          "model_module": "@jupyter-widgets/controls",
          "model_name": "HBoxModel",
          "model_module_version": "1.5.0",
          "state": {
            "_dom_classes": [],
            "_model_module": "@jupyter-widgets/controls",
            "_model_module_version": "1.5.0",
            "_model_name": "HBoxModel",
            "_view_count": null,
            "_view_module": "@jupyter-widgets/controls",
            "_view_module_version": "1.5.0",
            "_view_name": "HBoxView",
            "box_style": "",
            "children": [
              "IPY_MODEL_c5aff078a4224627ade6f77115360f98",
              "IPY_MODEL_396673d4838942a092765fd48fbb35a9",
              "IPY_MODEL_9dc930a7cc444df895bf1c5a5bc87dae"
            ],
            "layout": "IPY_MODEL_6c60cb25adf54584b26b556922419fcb"
          }
        },
        "c5aff078a4224627ade6f77115360f98": {
          "model_module": "@jupyter-widgets/controls",
          "model_name": "HTMLModel",
          "model_module_version": "1.5.0",
          "state": {
            "_dom_classes": [],
            "_model_module": "@jupyter-widgets/controls",
            "_model_module_version": "1.5.0",
            "_model_name": "HTMLModel",
            "_view_count": null,
            "_view_module": "@jupyter-widgets/controls",
            "_view_module_version": "1.5.0",
            "_view_name": "HTMLView",
            "description": "",
            "description_tooltip": null,
            "layout": "IPY_MODEL_6f3fe23fd23046f393a2620365e9573b",
            "placeholder": "​",
            "style": "IPY_MODEL_d3f4e93f19744b26bde21235675971a1",
            "value": "Downloading builder script: "
          }
        },
        "396673d4838942a092765fd48fbb35a9": {
          "model_module": "@jupyter-widgets/controls",
          "model_name": "FloatProgressModel",
          "model_module_version": "1.5.0",
          "state": {
            "_dom_classes": [],
            "_model_module": "@jupyter-widgets/controls",
            "_model_module_version": "1.5.0",
            "_model_name": "FloatProgressModel",
            "_view_count": null,
            "_view_module": "@jupyter-widgets/controls",
            "_view_module_version": "1.5.0",
            "_view_name": "ProgressView",
            "bar_style": "success",
            "description": "",
            "description_tooltip": null,
            "layout": "IPY_MODEL_ad1eada06a75475fa628578410ca5e1a",
            "max": 1652,
            "min": 0,
            "orientation": "horizontal",
            "style": "IPY_MODEL_8c1754621ff2485b91b6db49ffaa8c31",
            "value": 1652
          }
        },
        "9dc930a7cc444df895bf1c5a5bc87dae": {
          "model_module": "@jupyter-widgets/controls",
          "model_name": "HTMLModel",
          "model_module_version": "1.5.0",
          "state": {
            "_dom_classes": [],
            "_model_module": "@jupyter-widgets/controls",
            "_model_module_version": "1.5.0",
            "_model_name": "HTMLModel",
            "_view_count": null,
            "_view_module": "@jupyter-widgets/controls",
            "_view_module_version": "1.5.0",
            "_view_name": "HTMLView",
            "description": "",
            "description_tooltip": null,
            "layout": "IPY_MODEL_51ce50612e394e09b5eaa63be12efe5f",
            "placeholder": "​",
            "style": "IPY_MODEL_2383f71aa877449880622eef2da0e476",
            "value": " 4.21k/? [00:00&lt;00:00, 267kB/s]"
          }
        },
        "6c60cb25adf54584b26b556922419fcb": {
          "model_module": "@jupyter-widgets/base",
          "model_name": "LayoutModel",
          "model_module_version": "1.2.0",
          "state": {
            "_model_module": "@jupyter-widgets/base",
            "_model_module_version": "1.2.0",
            "_model_name": "LayoutModel",
            "_view_count": null,
            "_view_module": "@jupyter-widgets/base",
            "_view_module_version": "1.2.0",
            "_view_name": "LayoutView",
            "align_content": null,
            "align_items": null,
            "align_self": null,
            "border": null,
            "bottom": null,
            "display": null,
            "flex": null,
            "flex_flow": null,
            "grid_area": null,
            "grid_auto_columns": null,
            "grid_auto_flow": null,
            "grid_auto_rows": null,
            "grid_column": null,
            "grid_gap": null,
            "grid_row": null,
            "grid_template_areas": null,
            "grid_template_columns": null,
            "grid_template_rows": null,
            "height": null,
            "justify_content": null,
            "justify_items": null,
            "left": null,
            "margin": null,
            "max_height": null,
            "max_width": null,
            "min_height": null,
            "min_width": null,
            "object_fit": null,
            "object_position": null,
            "order": null,
            "overflow": null,
            "overflow_x": null,
            "overflow_y": null,
            "padding": null,
            "right": null,
            "top": null,
            "visibility": null,
            "width": null
          }
        },
        "6f3fe23fd23046f393a2620365e9573b": {
          "model_module": "@jupyter-widgets/base",
          "model_name": "LayoutModel",
          "model_module_version": "1.2.0",
          "state": {
            "_model_module": "@jupyter-widgets/base",
            "_model_module_version": "1.2.0",
            "_model_name": "LayoutModel",
            "_view_count": null,
            "_view_module": "@jupyter-widgets/base",
            "_view_module_version": "1.2.0",
            "_view_name": "LayoutView",
            "align_content": null,
            "align_items": null,
            "align_self": null,
            "border": null,
            "bottom": null,
            "display": null,
            "flex": null,
            "flex_flow": null,
            "grid_area": null,
            "grid_auto_columns": null,
            "grid_auto_flow": null,
            "grid_auto_rows": null,
            "grid_column": null,
            "grid_gap": null,
            "grid_row": null,
            "grid_template_areas": null,
            "grid_template_columns": null,
            "grid_template_rows": null,
            "height": null,
            "justify_content": null,
            "justify_items": null,
            "left": null,
            "margin": null,
            "max_height": null,
            "max_width": null,
            "min_height": null,
            "min_width": null,
            "object_fit": null,
            "object_position": null,
            "order": null,
            "overflow": null,
            "overflow_x": null,
            "overflow_y": null,
            "padding": null,
            "right": null,
            "top": null,
            "visibility": null,
            "width": null
          }
        },
        "d3f4e93f19744b26bde21235675971a1": {
          "model_module": "@jupyter-widgets/controls",
          "model_name": "DescriptionStyleModel",
          "model_module_version": "1.5.0",
          "state": {
            "_model_module": "@jupyter-widgets/controls",
            "_model_module_version": "1.5.0",
            "_model_name": "DescriptionStyleModel",
            "_view_count": null,
            "_view_module": "@jupyter-widgets/base",
            "_view_module_version": "1.2.0",
            "_view_name": "StyleView",
            "description_width": ""
          }
        },
        "ad1eada06a75475fa628578410ca5e1a": {
          "model_module": "@jupyter-widgets/base",
          "model_name": "LayoutModel",
          "model_module_version": "1.2.0",
          "state": {
            "_model_module": "@jupyter-widgets/base",
            "_model_module_version": "1.2.0",
            "_model_name": "LayoutModel",
            "_view_count": null,
            "_view_module": "@jupyter-widgets/base",
            "_view_module_version": "1.2.0",
            "_view_name": "LayoutView",
            "align_content": null,
            "align_items": null,
            "align_self": null,
            "border": null,
            "bottom": null,
            "display": null,
            "flex": null,
            "flex_flow": null,
            "grid_area": null,
            "grid_auto_columns": null,
            "grid_auto_flow": null,
            "grid_auto_rows": null,
            "grid_column": null,
            "grid_gap": null,
            "grid_row": null,
            "grid_template_areas": null,
            "grid_template_columns": null,
            "grid_template_rows": null,
            "height": null,
            "justify_content": null,
            "justify_items": null,
            "left": null,
            "margin": null,
            "max_height": null,
            "max_width": null,
            "min_height": null,
            "min_width": null,
            "object_fit": null,
            "object_position": null,
            "order": null,
            "overflow": null,
            "overflow_x": null,
            "overflow_y": null,
            "padding": null,
            "right": null,
            "top": null,
            "visibility": null,
            "width": null
          }
        },
        "8c1754621ff2485b91b6db49ffaa8c31": {
          "model_module": "@jupyter-widgets/controls",
          "model_name": "ProgressStyleModel",
          "model_module_version": "1.5.0",
          "state": {
            "_model_module": "@jupyter-widgets/controls",
            "_model_module_version": "1.5.0",
            "_model_name": "ProgressStyleModel",
            "_view_count": null,
            "_view_module": "@jupyter-widgets/base",
            "_view_module_version": "1.2.0",
            "_view_name": "StyleView",
            "bar_color": null,
            "description_width": ""
          }
        },
        "51ce50612e394e09b5eaa63be12efe5f": {
          "model_module": "@jupyter-widgets/base",
          "model_name": "LayoutModel",
          "model_module_version": "1.2.0",
          "state": {
            "_model_module": "@jupyter-widgets/base",
            "_model_module_version": "1.2.0",
            "_model_name": "LayoutModel",
            "_view_count": null,
            "_view_module": "@jupyter-widgets/base",
            "_view_module_version": "1.2.0",
            "_view_name": "LayoutView",
            "align_content": null,
            "align_items": null,
            "align_self": null,
            "border": null,
            "bottom": null,
            "display": null,
            "flex": null,
            "flex_flow": null,
            "grid_area": null,
            "grid_auto_columns": null,
            "grid_auto_flow": null,
            "grid_auto_rows": null,
            "grid_column": null,
            "grid_gap": null,
            "grid_row": null,
            "grid_template_areas": null,
            "grid_template_columns": null,
            "grid_template_rows": null,
            "height": null,
            "justify_content": null,
            "justify_items": null,
            "left": null,
            "margin": null,
            "max_height": null,
            "max_width": null,
            "min_height": null,
            "min_width": null,
            "object_fit": null,
            "object_position": null,
            "order": null,
            "overflow": null,
            "overflow_x": null,
            "overflow_y": null,
            "padding": null,
            "right": null,
            "top": null,
            "visibility": null,
            "width": null
          }
        },
        "2383f71aa877449880622eef2da0e476": {
          "model_module": "@jupyter-widgets/controls",
          "model_name": "DescriptionStyleModel",
          "model_module_version": "1.5.0",
          "state": {
            "_model_module": "@jupyter-widgets/controls",
            "_model_module_version": "1.5.0",
            "_model_name": "DescriptionStyleModel",
            "_view_count": null,
            "_view_module": "@jupyter-widgets/base",
            "_view_module_version": "1.2.0",
            "_view_name": "StyleView",
            "description_width": ""
          }
        }
      }
    }
  },
  "nbformat": 4,
  "nbformat_minor": 0
}